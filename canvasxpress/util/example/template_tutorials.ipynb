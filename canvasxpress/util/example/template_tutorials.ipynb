{
 "cells": [
  {
   "cell_type": "markdown",
   "metadata": {
    "tags": []
   },
   "source": [
    "# Example: CanvasXpress @type@ Chart No. @index@\n",
    "\n",
    "This example page demonstrates how to, using the Python package, create a chart that matches the CanvasXpress online example located at:\n",
    "\n",
    "https://www.canvasxpress.org/examples/@type@-@index@.html\n",
    "\n",
    "This example is generated using the reproducible JSON obtained from the above page and the `canvasxpress.util.generator.generate_canvasxpress_code_from_json_file()` function.\n",
    "\n",
    "Everything required for the chart to render is included in the code below.  Simply run the code block."
   ]
  },
  {
   "cell_type": "code",
   "execution_count": null,
   "metadata": {},
   "outputs": [],
   "source": [
    "@example_code@"
   ]
  }
 ],
 "metadata": {
  "kernelspec": {
   "display_name": "Python 3",
   "language": "python",
   "name": "python3"
  },
  "language_info": {
   "codemirror_mode": {
    "name": "ipython",
    "version": 3
   },
   "file_extension": ".py",
   "mimetype": "text/x-python",
   "name": "python",
   "nbconvert_exporter": "python",
   "pygments_lexer": "ipython3",
   "version": "3.8.5"
  }
 },
 "nbformat": 4,
 "nbformat_minor": 4
}
