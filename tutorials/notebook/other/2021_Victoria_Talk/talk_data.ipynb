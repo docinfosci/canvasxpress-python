{
 "cells": [
  {
   "cell_type": "markdown",
   "id": "c0b2fabf-0b32-4722-b90d-ad1eb4e30a87",
   "metadata": {},
   "source": [
    "# 2021 July 14 Victoria Analytics Meetup Talk\n",
    "\n",
    "Welcome!  This document has been prepared for the 2021 July 14 Victoria Analytics Meetup Talk.  Topics address include:\n",
    "\n",
    "* CanvasXpress for Python\n",
    "* Providing charts with data in different formats\n",
    "* Chart configuration options in different formats\n",
    "* Chart Javascript functions"
   ]
  },
  {
   "cell_type": "code",
   "execution_count": 1,
   "id": "08cf48f8-9e67-49c9-ba2d-0519da6af919",
   "metadata": {},
   "outputs": [],
   "source": [
    "import os\n",
    "import json\n",
    "import pandas as pd\n",
    "\n",
    "# The essential CanvasXpress chart\n",
    "from canvasxpress.canvas import CanvasXpress\n",
    "\n",
    "# Data acquisition and reference assistance \n",
    "from canvasxpress.data.url import CXUrlData\n",
    "from canvasxpress.data.text import CXTextData\n",
    "from canvasxpress.data.keypair import CXJSONData\n",
    "from canvasxpress.data.matrix import CXDataframeData\n",
    "from canvasxpress.data.profile import CXStandardProfile\n",
    "\n",
    "# Configuration assistance\n",
    "from canvasxpress.config.collection import CXConfigs\n",
    "from canvasxpress.config.type import CXString, CXInt, CXBool, CXList, CXGraphType, CXGraphTypeOptions\n",
    "\n",
    "# Event definition assistance\n",
    "from canvasxpress.js.collection import CXEvents\n",
    "from canvasxpress.js.function import CXEvent\n",
    "\n",
    "# Visualization assistance\n",
    "from canvasxpress.render.jupyter import CXNoteBook"
   ]
  },
  {
   "cell_type": "markdown",
   "id": "6446c89b-326a-4f47-baae-e9159fd2bfd3",
   "metadata": {},
   "source": [
    "# Data and Formats for CanvasXpress Charts\n",
    "\n",
    "## The JSON Data Object\n",
    "\n",
    "CanvasXpress makes use of JSON data objects for describing chart data and annotations.  There are four significant kinds of JSON data objects:\n",
    "\n",
    "1. Standard\n",
    "2. Venn\n",
    "3. Network\n",
    "4. Genome\n",
    "\n",
    "The [CanvasXpress Documentation](https://www.canvasxpress.org/docs.html#data) provides an extensive discussion about each type, so today we will focus on the most common format.\n",
    "\n",
    "### The Standard (XYZ) Object\n",
    "\n",
    "Most charts make use of the Standard JSON data object.  It's structured as follows:\n",
    "\n",
    "```text\n",
    "{\n",
    "    \"y\": {\n",
    "        \"smps\": [Column Names as a list],\n",
    "        \"vars\": [Row names as a list],\n",
    "        \"data\": [\n",
    "            [per Row, one list item per Column]\n",
    "        ]\n",
    "    },\n",
    "    \"x\": {\n",
    "        \"Topic\": [List of annotations per Column]\n",
    "    },\n",
    "    \"z\": {\n",
    "        \"Topic\": [List of annotations per Row]\n",
    "    }\n",
    "}\n",
    "```\n",
    "\n",
    "The `y` attribute tracks the data core to the chart.  Data is matrix in nature, which each column representing a sample and each row representing a variable.  For example:\n",
    "\n",
    "```javascript\n",
    "{\n",
    "  \"y\": {\n",
    "      \"smps\": [\"Melting Point (C)\", \"Exploding Point (C)\"],\n",
    "      \"vars\": [\"Computer\", \"Phone\", \"Car\"],\n",
    "      \"data\": [\n",
    "       [200, 400],  // Computer\n",
    "       [100, 200],  // Phone\n",
    "       [500, 2000], // Car\n",
    "    ]\n",
    "  }\n",
    "}\n",
    "```\n",
    "\n",
    "The `x` and `z` attributes permit descriptions or supplemental values (AKA annotations) to be provided for the column or row perspectives, respectively.  As an example:\n",
    "\n",
    "```javascript\n",
    "{\n",
    "  \"y\": {\n",
    "    \"vars\": [ \"Variable1\" ],\n",
    "    \"smps\": [ \"Sample1\", \"Sample2\", \"Sample3\" ],\n",
    "    \"data\": [ [ 10, 20, 30 ] ]\n",
    "  },\n",
    "  \"x\": {\n",
    "    //          Sample1   Sample2   Sample3\n",
    "    \"Tissue\": [ \"Kidney\", \"Lung\",   \"Heart\" ],\n",
    "    \"Donor\":  [ \"D1\",     \"D1\",     \"D2\" ]\n",
    "  },\n",
    "  \"z\": {\n",
    "    //           Variable1\n",
    "    \"Symbol\":  [ \"AAA\" ],\n",
    "    \"Pathway\": [ \"P1\" ]\n",
    "  }\n",
    "}\n",
    "```"
   ]
  },
  {
   "cell_type": "markdown",
   "id": "c93a2864-e2de-4abd-9a4f-890be36a427f",
   "metadata": {},
   "source": [
    "# Native Data Wrangling\n",
    "\n",
    "CanvasXpress for Python can work with JSON-like data using a `dict` object, which will be automatically converted to JSON.  Using our Heatmap example, we have access to example data at the CanvasXpress site:"
   ]
  },
  {
   "cell_type": "code",
   "execution_count": 2,
   "id": "98a170a3-9f10-41d6-af06-9b15d20753ba",
   "metadata": {},
   "outputs": [
    {
     "data": {
      "text/html": [
       "<div>\n",
       "<style scoped>\n",
       "    .dataframe tbody tr th:only-of-type {\n",
       "        vertical-align: middle;\n",
       "    }\n",
       "\n",
       "    .dataframe tbody tr th {\n",
       "        vertical-align: top;\n",
       "    }\n",
       "\n",
       "    .dataframe thead th {\n",
       "        text-align: right;\n",
       "    }\n",
       "</style>\n",
       "<table border=\"1\" class=\"dataframe\">\n",
       "  <thead>\n",
       "    <tr style=\"text-align: right;\">\n",
       "      <th></th>\n",
       "      <th>S1</th>\n",
       "      <th>S2</th>\n",
       "      <th>S3</th>\n",
       "      <th>S4</th>\n",
       "      <th>S5</th>\n",
       "      <th>S6</th>\n",
       "      <th>S7</th>\n",
       "      <th>S8</th>\n",
       "      <th>S9</th>\n",
       "      <th>S10</th>\n",
       "      <th>...</th>\n",
       "      <th>S16</th>\n",
       "      <th>S17</th>\n",
       "      <th>S18</th>\n",
       "      <th>S19</th>\n",
       "      <th>S20</th>\n",
       "      <th>S21</th>\n",
       "      <th>S22</th>\n",
       "      <th>S23</th>\n",
       "      <th>S24</th>\n",
       "      <th>S25</th>\n",
       "    </tr>\n",
       "  </thead>\n",
       "  <tbody>\n",
       "    <tr>\n",
       "      <th>V1</th>\n",
       "      <td>0.784</td>\n",
       "      <td>1.036</td>\n",
       "      <td>-0.641</td>\n",
       "      <td>1.606</td>\n",
       "      <td>2.208</td>\n",
       "      <td>3.879</td>\n",
       "      <td>0.333</td>\n",
       "      <td>2.265</td>\n",
       "      <td>-1.550</td>\n",
       "      <td>1.678</td>\n",
       "      <td>...</td>\n",
       "      <td>1.013</td>\n",
       "      <td>0.928</td>\n",
       "      <td>0.812</td>\n",
       "      <td>0.072</td>\n",
       "      <td>3.564</td>\n",
       "      <td>0.470</td>\n",
       "      <td>1.836</td>\n",
       "      <td>0.351</td>\n",
       "      <td>3.139</td>\n",
       "      <td>-2.207</td>\n",
       "    </tr>\n",
       "    <tr>\n",
       "      <th>V2</th>\n",
       "      <td>0.222</td>\n",
       "      <td>0.716</td>\n",
       "      <td>0.993</td>\n",
       "      <td>-0.913</td>\n",
       "      <td>0.996</td>\n",
       "      <td>1.235</td>\n",
       "      <td>1.396</td>\n",
       "      <td>1.817</td>\n",
       "      <td>0.162</td>\n",
       "      <td>1.137</td>\n",
       "      <td>...</td>\n",
       "      <td>0.696</td>\n",
       "      <td>0.777</td>\n",
       "      <td>1.600</td>\n",
       "      <td>0.175</td>\n",
       "      <td>2.423</td>\n",
       "      <td>0.044</td>\n",
       "      <td>3.881</td>\n",
       "      <td>-0.757</td>\n",
       "      <td>1.486</td>\n",
       "      <td>0.010</td>\n",
       "    </tr>\n",
       "    <tr>\n",
       "      <th>V3</th>\n",
       "      <td>0.486</td>\n",
       "      <td>2.150</td>\n",
       "      <td>-0.069</td>\n",
       "      <td>-0.468</td>\n",
       "      <td>0.402</td>\n",
       "      <td>0.725</td>\n",
       "      <td>-1.697</td>\n",
       "      <td>0.653</td>\n",
       "      <td>0.101</td>\n",
       "      <td>2.852</td>\n",
       "      <td>...</td>\n",
       "      <td>2.511</td>\n",
       "      <td>0.070</td>\n",
       "      <td>0.244</td>\n",
       "      <td>-0.410</td>\n",
       "      <td>2.345</td>\n",
       "      <td>2.401</td>\n",
       "      <td>-0.033</td>\n",
       "      <td>0.951</td>\n",
       "      <td>2.053</td>\n",
       "      <td>0.725</td>\n",
       "    </tr>\n",
       "  </tbody>\n",
       "</table>\n",
       "<p>3 rows × 25 columns</p>\n",
       "</div>"
      ],
      "text/plain": [
       "       S1     S2     S3     S4     S5     S6     S7     S8     S9    S10  ...  \\\n",
       "V1  0.784  1.036 -0.641  1.606  2.208  3.879  0.333  2.265 -1.550  1.678  ...   \n",
       "V2  0.222  0.716  0.993 -0.913  0.996  1.235  1.396  1.817  0.162  1.137  ...   \n",
       "V3  0.486  2.150 -0.069 -0.468  0.402  0.725 -1.697  0.653  0.101  2.852  ...   \n",
       "\n",
       "      S16    S17    S18    S19    S20    S21    S22    S23    S24    S25  \n",
       "V1  1.013  0.928  0.812  0.072  3.564  0.470  1.836  0.351  3.139 -2.207  \n",
       "V2  0.696  0.777  1.600  0.175  2.423  0.044  3.881 -0.757  1.486  0.010  \n",
       "V3  2.511  0.070  0.244 -0.410  2.345  2.401 -0.033  0.951  2.053  0.725  \n",
       "\n",
       "[3 rows x 25 columns]"
      ]
     },
     "execution_count": 2,
     "metadata": {},
     "output_type": "execute_result"
    }
   ],
   "source": [
    "import pandas as pd\n",
    "\n",
    "y_data_url = \"https://www.canvasxpress.org/data/cX-heatmapR-dat.txt\"\n",
    "y_data = pd.read_csv(y_data_url, sep='\\t', index_col=0)\n",
    "y_data.head(3)"
   ]
  },
  {
   "cell_type": "code",
   "execution_count": 3,
   "id": "b92f0bfb-eb2c-4964-a08f-b7163047cb46",
   "metadata": {},
   "outputs": [
    {
     "data": {
      "text/html": [
       "<div>\n",
       "<style scoped>\n",
       "    .dataframe tbody tr th:only-of-type {\n",
       "        vertical-align: middle;\n",
       "    }\n",
       "\n",
       "    .dataframe tbody tr th {\n",
       "        vertical-align: top;\n",
       "    }\n",
       "\n",
       "    .dataframe thead th {\n",
       "        text-align: right;\n",
       "    }\n",
       "</style>\n",
       "<table border=\"1\" class=\"dataframe\">\n",
       "  <thead>\n",
       "    <tr style=\"text-align: right;\">\n",
       "      <th></th>\n",
       "      <th>Dose</th>\n",
       "      <th>Dose-Type</th>\n",
       "      <th>Site</th>\n",
       "      <th>Treatment</th>\n",
       "    </tr>\n",
       "  </thead>\n",
       "  <tbody>\n",
       "    <tr>\n",
       "      <th>S1</th>\n",
       "      <td>NaN</td>\n",
       "      <td>NaN</td>\n",
       "      <td>Site1</td>\n",
       "      <td>Control</td>\n",
       "    </tr>\n",
       "    <tr>\n",
       "      <th>S2</th>\n",
       "      <td>NaN</td>\n",
       "      <td>NaN</td>\n",
       "      <td>Site1</td>\n",
       "      <td>Control</td>\n",
       "    </tr>\n",
       "    <tr>\n",
       "      <th>S3</th>\n",
       "      <td>NaN</td>\n",
       "      <td>NaN</td>\n",
       "      <td>Site1</td>\n",
       "      <td>Control</td>\n",
       "    </tr>\n",
       "  </tbody>\n",
       "</table>\n",
       "</div>"
      ],
      "text/plain": [
       "    Dose Dose-Type   Site Treatment\n",
       "S1   NaN       NaN  Site1   Control\n",
       "S2   NaN       NaN  Site1   Control\n",
       "S3   NaN       NaN  Site1   Control"
      ]
     },
     "execution_count": 3,
     "metadata": {},
     "output_type": "execute_result"
    }
   ],
   "source": [
    "x_data_url = \"https://www.canvasxpress.org/data/cX-heatmapR-smp.txt\"\n",
    "x_data = pd.read_csv(x_data_url, sep='\\t', index_col=0)\n",
    "x_data.head(3)"
   ]
  },
  {
   "cell_type": "code",
   "execution_count": 4,
   "id": "1b1bf6ef-ef3e-45b4-b684-5283c561c729",
   "metadata": {},
   "outputs": [
    {
     "data": {
      "text/html": [
       "<div>\n",
       "<style scoped>\n",
       "    .dataframe tbody tr th:only-of-type {\n",
       "        vertical-align: middle;\n",
       "    }\n",
       "\n",
       "    .dataframe tbody tr th {\n",
       "        vertical-align: top;\n",
       "    }\n",
       "\n",
       "    .dataframe thead th {\n",
       "        text-align: right;\n",
       "    }\n",
       "</style>\n",
       "<table border=\"1\" class=\"dataframe\">\n",
       "  <thead>\n",
       "    <tr style=\"text-align: right;\">\n",
       "      <th></th>\n",
       "      <th>Sens</th>\n",
       "      <th>Type</th>\n",
       "    </tr>\n",
       "  </thead>\n",
       "  <tbody>\n",
       "    <tr>\n",
       "      <th>V1</th>\n",
       "      <td>1</td>\n",
       "      <td>Pro</td>\n",
       "    </tr>\n",
       "    <tr>\n",
       "      <th>V2</th>\n",
       "      <td>2</td>\n",
       "      <td>Tyr</td>\n",
       "    </tr>\n",
       "    <tr>\n",
       "      <th>V3</th>\n",
       "      <td>3</td>\n",
       "      <td>Pho</td>\n",
       "    </tr>\n",
       "  </tbody>\n",
       "</table>\n",
       "</div>"
      ],
      "text/plain": [
       "    Sens Type\n",
       "V1     1  Pro\n",
       "V2     2  Tyr\n",
       "V3     3  Pho"
      ]
     },
     "execution_count": 4,
     "metadata": {},
     "output_type": "execute_result"
    }
   ],
   "source": [
    "z_data_url = \"https://www.canvasxpress.org/data/cX-heatmapR-var.txt\"\n",
    "z_data = pd.read_csv(z_data_url, sep='\\t', index_col=0)\n",
    "z_data.head(3)"
   ]
  },
  {
   "cell_type": "markdown",
   "id": "112107ef-f67a-4d7f-88e9-124bd0483319",
   "metadata": {},
   "source": [
    "We can process the above tables into a Standard format JSON data structure:"
   ]
  },
  {
   "cell_type": "code",
   "execution_count": 5,
   "id": "e05870ac-c111-451c-9f2b-5ac873c23999",
   "metadata": {},
   "outputs": [
    {
     "data": {
      "text/html": [
       "\n",
       "        <iframe\n",
       "            width=\"525px\"\n",
       "            height=\"525px\"\n",
       "            src=\"heatmap_dict_data.html\"\n",
       "            frameborder=\"0\"\n",
       "            allowfullscreen\n",
       "        ></iframe>\n",
       "        "
      ],
      "text/plain": [
       "<IPython.lib.display.IFrame at 0x7f9022d04760>"
      ]
     },
     "metadata": {},
     "output_type": "display_data"
    }
   ],
   "source": [
    "hm_data = {\n",
    "    # Data\n",
    "    \"y\": {\n",
    "        # Samples, which can be considered the columns\n",
    "        \"smps\": y_data.columns.to_list(),\n",
    "        # Variables, which can be considered the index\n",
    "        \"vars\": y_data.index.tolist(),\n",
    "        # The data itself, split into rows per variable and ordered by samples\n",
    "        \"data\": y_data.values.tolist(),\n",
    "    },\n",
    "    # Sample annotations\n",
    "    \"x\": {col: x_data[col].to_list() for col in x_data.columns.to_list()},\n",
    "    # Variable annotations\n",
    "    \"z\": {col: z_data[col].to_list() for col in z_data.columns.to_list()}\n",
    "}\n",
    "\n",
    "hm_config = {\n",
    "    \"graphType\": \"Heatmap\",\n",
    "    \"title\": \"Overlays in Heatmap\",\n",
    "    \"colorSmpDendrogramBy\": \"Treatment\",\n",
    "    \"colorSpectrum\": [\"magenta\", \"blue\", \"black\", \"red\", \"gold\"],\n",
    "    \"colorSpectrumZeroValue\": 0,\n",
    "    \"heatmapIndicatorHeight\": 50,\n",
    "    \"heatmapIndicatorHistogram\": True,\n",
    "    \"heatmapIndicatorPosition\": \"topLeft\",\n",
    "    \"heatmapIndicatorWidth\": 60,\n",
    "    \"heatmapSmpSeparateBy\": \"Treatment\",\n",
    "    \"samplesClustered\": True,\n",
    "    \"smpOverlays\": [\"Treatment\", \"Site\"],\n",
    "    \"variablesClustered\": True\n",
    "}\n",
    "\n",
    "chart = CanvasXpress(\n",
    "    data=hm_data,\n",
    "    config=hm_config\n",
    ")\n",
    "\n",
    "view = CXNoteBook(chart)\n",
    "view.render(output_file=\"heatmap_dict_data\")"
   ]
  },
  {
   "cell_type": "markdown",
   "id": "6d5a5ce3-d4f4-42e3-bdf7-59bc66c71bb5",
   "metadata": {},
   "source": [
    "# Using Data Classes\n",
    "\n",
    "CanvasXpress for Python also includes a series of data classes."
   ]
  },
  {
   "cell_type": "markdown",
   "id": "71a2bf83-dc81-420c-b920-4f1c12427dd0",
   "metadata": {},
   "source": [
    "## Passing in a URL\n",
    "\n",
    "If the data is already structured we can use a URL to a Web location.  Let's assume that the `y` data on the Web is sufficient:"
   ]
  },
  {
   "cell_type": "code",
   "execution_count": 6,
   "id": "c70e7523-0cc9-4f37-b841-6dab188b2539",
   "metadata": {},
   "outputs": [
    {
     "data": {
      "text/html": [
       "\n",
       "        <iframe\n",
       "            width=\"525px\"\n",
       "            height=\"525px\"\n",
       "            src=\"heatmap_url_data.html\"\n",
       "            frameborder=\"0\"\n",
       "            allowfullscreen\n",
       "        ></iframe>\n",
       "        "
      ],
      "text/plain": [
       "<IPython.lib.display.IFrame at 0x7f9022bf2ac0>"
      ]
     },
     "metadata": {},
     "output_type": "display_data"
    }
   ],
   "source": [
    "chart = CanvasXpress(\n",
    "    data=CXUrlData(\"https://www.canvasxpress.org/data/cX-heatmapR-dat.txt\"),\n",
    "    config=hm_config\n",
    ")\n",
    "\n",
    "view = CXNoteBook(chart)\n",
    "view.render(output_file=\"heatmap_url_data\")"
   ]
  },
  {
   "cell_type": "markdown",
   "id": "90915248-23b2-4e27-a0ad-ccb204e7dc65",
   "metadata": {},
   "source": [
    "## Passing in raw JSON\n",
    "\n",
    "If the data is available as JSON then it can be passed in as Raw Text or as a CX JSON object, for which the latter will enable further data management as a dict:"
   ]
  },
  {
   "cell_type": "code",
   "execution_count": 7,
   "id": "86eb0179-f5ba-49d2-ae60-ee17274c7ab7",
   "metadata": {},
   "outputs": [
    {
     "data": {
      "text/html": [
       "\n",
       "        <iframe\n",
       "            width=\"525px\"\n",
       "            height=\"525px\"\n",
       "            src=\"heatmap_rawtext_data.html\"\n",
       "            frameborder=\"0\"\n",
       "            allowfullscreen\n",
       "        ></iframe>\n",
       "        "
      ],
      "text/plain": [
       "<IPython.lib.display.IFrame at 0x7f9022d04a60>"
      ]
     },
     "metadata": {},
     "output_type": "display_data"
    }
   ],
   "source": [
    "json_data_form = json.dumps(hm_data)\n",
    "\n",
    "chart = CanvasXpress(\n",
    "    data=CXTextData(json_data_form), # All processing and error handling is pushed to the JS tier\n",
    "    config=hm_config\n",
    ")\n",
    "\n",
    "view = CXNoteBook(chart)\n",
    "view.render(output_file=\"heatmap_rawtext_data\")"
   ]
  },
  {
   "cell_type": "markdown",
   "id": "0ce566ff-de3a-4c5a-9602-fd753e0ca1e6",
   "metadata": {},
   "source": [
    "# Passing in Evaluated JSON\n",
    "\n",
    "Here a JSON is first processed at the Python tier for immediate feedback in terms of structure, or the possibility of manipulation prior to execution."
   ]
  },
  {
   "cell_type": "code",
   "execution_count": 8,
   "id": "23bcbaa3-5691-4d1f-974d-8b52309b3f7c",
   "metadata": {},
   "outputs": [
    {
     "name": "stdout",
     "output_type": "stream",
     "text": [
      "['V1', 'V2', 'V3', 'V4', 'V5', 'V6', 'V7', 'V8', 'V9', 'V10', 'V11', 'V12', 'V13', 'V14', 'V15', 'V16', 'V17', 'V18', 'V19', 'V20', 'V21', 'V22', 'V23', 'V24', 'V25', 'V26', 'V27', 'V28', 'V29', 'V30', 'V31', 'V32', 'V33', 'V34', 'V35', 'V36', 'V37', 'V38', 'V39', 'V40']\n",
      "\n",
      "['touched - V1', 'touched - V2', 'touched - V3', 'touched - V4', 'touched - V5', 'touched - V6', 'touched - V7', 'touched - V8', 'touched - V9', 'touched - V10', 'touched - V11', 'touched - V12', 'touched - V13', 'touched - V14', 'touched - V15', 'touched - V16', 'touched - V17', 'touched - V18', 'touched - V19', 'touched - V20', 'touched - V21', 'touched - V22', 'touched - V23', 'touched - V24', 'touched - V25', 'touched - V26', 'touched - V27', 'touched - V28', 'touched - V29', 'touched - V30', 'touched - V31', 'touched - V32', 'touched - V33', 'touched - V34', 'touched - V35', 'touched - V36', 'touched - V37', 'touched - V38', 'touched - V39', 'touched - V40']\n"
     ]
    },
    {
     "data": {
      "text/html": [
       "\n",
       "        <iframe\n",
       "            width=\"525px\"\n",
       "            height=\"525px\"\n",
       "            src=\"heatmap_json_data.html\"\n",
       "            frameborder=\"0\"\n",
       "            allowfullscreen\n",
       "        ></iframe>\n",
       "        "
      ],
      "text/plain": [
       "<IPython.lib.display.IFrame at 0x7f9022bf2fd0>"
      ]
     },
     "metadata": {},
     "output_type": "display_data"
    }
   ],
   "source": [
    "json_data_form = json.dumps(hm_data, indent=2)\n",
    "\n",
    "cx_json_data = CXJSONData(json_data_form)\n",
    "print(cx_json_data.data['y']['vars'])\n",
    "\n",
    "print()\n",
    "\n",
    "cx_json_data.data['y']['vars'] = [\"touched - \" + value for value in cx_json_data.data['y']['vars']]\n",
    "print(cx_json_data.data['y']['vars'])\n",
    "\n",
    "chart = CanvasXpress(\n",
    "    data=cx_json_data,\n",
    "    config=hm_config\n",
    ")\n",
    "\n",
    "view = CXNoteBook(chart)\n",
    "view.render(output_file=\"heatmap_json_data\")"
   ]
  },
  {
   "cell_type": "markdown",
   "id": "d292e55c-1862-46f8-ba35-e91cbd821c42",
   "metadata": {},
   "source": [
    "## Passing in a Pandas DataFrame\n",
    "\n",
    "We can also work with DataFrames.  Assuming that we only loaded the data from the Web in `y` we could:"
   ]
  },
  {
   "cell_type": "code",
   "execution_count": 9,
   "id": "2e282789-02ab-40ad-801f-74028e24d20a",
   "metadata": {},
   "outputs": [
    {
     "data": {
      "text/html": [
       "<div>\n",
       "<style scoped>\n",
       "    .dataframe tbody tr th:only-of-type {\n",
       "        vertical-align: middle;\n",
       "    }\n",
       "\n",
       "    .dataframe tbody tr th {\n",
       "        vertical-align: top;\n",
       "    }\n",
       "\n",
       "    .dataframe thead th {\n",
       "        text-align: right;\n",
       "    }\n",
       "</style>\n",
       "<table border=\"1\" class=\"dataframe\">\n",
       "  <thead>\n",
       "    <tr style=\"text-align: right;\">\n",
       "      <th></th>\n",
       "      <th>S1</th>\n",
       "      <th>S2</th>\n",
       "      <th>S3</th>\n",
       "      <th>S4</th>\n",
       "      <th>S5</th>\n",
       "      <th>S6</th>\n",
       "      <th>S7</th>\n",
       "      <th>S8</th>\n",
       "      <th>S9</th>\n",
       "      <th>S10</th>\n",
       "      <th>...</th>\n",
       "      <th>S16</th>\n",
       "      <th>S17</th>\n",
       "      <th>S18</th>\n",
       "      <th>S19</th>\n",
       "      <th>S20</th>\n",
       "      <th>S21</th>\n",
       "      <th>S22</th>\n",
       "      <th>S23</th>\n",
       "      <th>S24</th>\n",
       "      <th>S25</th>\n",
       "    </tr>\n",
       "  </thead>\n",
       "  <tbody>\n",
       "    <tr>\n",
       "      <th>V1</th>\n",
       "      <td>0.784</td>\n",
       "      <td>1.036</td>\n",
       "      <td>-0.641</td>\n",
       "      <td>1.606</td>\n",
       "      <td>2.208</td>\n",
       "      <td>3.879</td>\n",
       "      <td>0.333</td>\n",
       "      <td>2.265</td>\n",
       "      <td>-1.550</td>\n",
       "      <td>1.678</td>\n",
       "      <td>...</td>\n",
       "      <td>1.013</td>\n",
       "      <td>0.928</td>\n",
       "      <td>0.812</td>\n",
       "      <td>0.072</td>\n",
       "      <td>3.564</td>\n",
       "      <td>0.470</td>\n",
       "      <td>1.836</td>\n",
       "      <td>0.351</td>\n",
       "      <td>3.139</td>\n",
       "      <td>-2.207</td>\n",
       "    </tr>\n",
       "    <tr>\n",
       "      <th>V2</th>\n",
       "      <td>0.222</td>\n",
       "      <td>0.716</td>\n",
       "      <td>0.993</td>\n",
       "      <td>-0.913</td>\n",
       "      <td>0.996</td>\n",
       "      <td>1.235</td>\n",
       "      <td>1.396</td>\n",
       "      <td>1.817</td>\n",
       "      <td>0.162</td>\n",
       "      <td>1.137</td>\n",
       "      <td>...</td>\n",
       "      <td>0.696</td>\n",
       "      <td>0.777</td>\n",
       "      <td>1.600</td>\n",
       "      <td>0.175</td>\n",
       "      <td>2.423</td>\n",
       "      <td>0.044</td>\n",
       "      <td>3.881</td>\n",
       "      <td>-0.757</td>\n",
       "      <td>1.486</td>\n",
       "      <td>0.010</td>\n",
       "    </tr>\n",
       "    <tr>\n",
       "      <th>V3</th>\n",
       "      <td>0.486</td>\n",
       "      <td>2.150</td>\n",
       "      <td>-0.069</td>\n",
       "      <td>-0.468</td>\n",
       "      <td>0.402</td>\n",
       "      <td>0.725</td>\n",
       "      <td>-1.697</td>\n",
       "      <td>0.653</td>\n",
       "      <td>0.101</td>\n",
       "      <td>2.852</td>\n",
       "      <td>...</td>\n",
       "      <td>2.511</td>\n",
       "      <td>0.070</td>\n",
       "      <td>0.244</td>\n",
       "      <td>-0.410</td>\n",
       "      <td>2.345</td>\n",
       "      <td>2.401</td>\n",
       "      <td>-0.033</td>\n",
       "      <td>0.951</td>\n",
       "      <td>2.053</td>\n",
       "      <td>0.725</td>\n",
       "    </tr>\n",
       "  </tbody>\n",
       "</table>\n",
       "<p>3 rows × 25 columns</p>\n",
       "</div>"
      ],
      "text/plain": [
       "       S1     S2     S3     S4     S5     S6     S7     S8     S9    S10  ...  \\\n",
       "V1  0.784  1.036 -0.641  1.606  2.208  3.879  0.333  2.265 -1.550  1.678  ...   \n",
       "V2  0.222  0.716  0.993 -0.913  0.996  1.235  1.396  1.817  0.162  1.137  ...   \n",
       "V3  0.486  2.150 -0.069 -0.468  0.402  0.725 -1.697  0.653  0.101  2.852  ...   \n",
       "\n",
       "      S16    S17    S18    S19    S20    S21    S22    S23    S24    S25  \n",
       "V1  1.013  0.928  0.812  0.072  3.564  0.470  1.836  0.351  3.139 -2.207  \n",
       "V2  0.696  0.777  1.600  0.175  2.423  0.044  3.881 -0.757  1.486  0.010  \n",
       "V3  2.511  0.070  0.244 -0.410  2.345  2.401 -0.033  0.951  2.053  0.725  \n",
       "\n",
       "[3 rows x 25 columns]"
      ]
     },
     "execution_count": 9,
     "metadata": {},
     "output_type": "execute_result"
    }
   ],
   "source": [
    "matrix_data = CXDataframeData(\n",
    "    pd.read_csv(\n",
    "        \"https://www.canvasxpress.org/data/cX-heatmapR-dat.txt\", \n",
    "        sep='\\t', \n",
    "        index_col=0\n",
    "    )\n",
    ")\n",
    "\n",
    "matrix_data.dataframe.head(3)"
   ]
  },
  {
   "cell_type": "code",
   "execution_count": 10,
   "id": "3e5c0475-189f-42bf-9a58-4063e9aa6150",
   "metadata": {},
   "outputs": [
    {
     "data": {
      "text/html": [
       "\n",
       "        <iframe\n",
       "            width=\"525px\"\n",
       "            height=\"525px\"\n",
       "            src=\"heatmap_matrix_data.html\"\n",
       "            frameborder=\"0\"\n",
       "            allowfullscreen\n",
       "        ></iframe>\n",
       "        "
      ],
      "text/plain": [
       "<IPython.lib.display.IFrame at 0x7f9022c62580>"
      ]
     },
     "metadata": {},
     "output_type": "display_data"
    }
   ],
   "source": [
    "chart = CanvasXpress(\n",
    "    data=matrix_data,\n",
    "    config=hm_config\n",
    ")\n",
    "\n",
    "view = CXNoteBook(chart)\n",
    "view.render(output_file=\"heatmap_matrix_data\")"
   ]
  },
  {
   "cell_type": "markdown",
   "id": "740f2bc6-212e-4913-bbf8-905824026a1f",
   "metadata": {},
   "source": [
    "# Working with Profiles\n",
    "\n",
    "Given the matrix example, we can add a data profile object to help out with annotations.  The `x` and `z` properties can accept `dict` or `DataFrame` values."
   ]
  },
  {
   "cell_type": "code",
   "execution_count": 11,
   "id": "9ddf5564-5c47-4608-950a-01c0fbfd48b7",
   "metadata": {},
   "outputs": [
    {
     "name": "stdout",
     "output_type": "stream",
     "text": [
      "X Values: \n",
      " {'Dose': [nan, nan, nan, nan, nan, 5.0, 5.0, 10.0, 10.0, 15.0, 15.0, 20.0, 20.0, 25.0, 25.0, 5.0, 5.0, 10.0, 10.0, 15.0, 15.0, 20.0, 20.0, 25.0, 25.0], 'Dose-Type': [nan, nan, nan, nan, nan, 'Dose1', 'Dose1', 'Dose2', 'Dose2', 'Dose3', 'Dose3', 'Dose4', 'Dose4', 'Dose5', 'Dose5', 'Dose1', 'Dose1', 'Dose2', 'Dose2', 'Dose3', 'Dose3', 'Dose4', 'Dose4', 'Dose5', 'Dose5'], 'Site': ['Site1', 'Site1', 'Site1', 'Site1', 'Site1', 'Site2', 'Site2', 'Site2', 'Site2', 'Site2', 'Site2', 'Site2', 'Site2', 'Site2', 'Site2', 'Site3', 'Site3', 'Site3', 'Site3', 'Site3', 'Site3', 'Site3', 'Site3', 'Site3', 'Site3'], 'Treatment': ['Control', 'Control', 'Control', 'Control', 'Control', 'TreatmentA', 'TreatmentB', 'TreatmentA', 'TreatmentB', 'TreatmentA', 'TreatmentB', 'TreatmentA', 'TreatmentB', 'TreatmentA', 'TreatmentB', 'TreatmentA', 'TreatmentB', 'TreatmentA', 'TreatmentB', 'TreatmentA', 'TreatmentB', 'TreatmentA', 'TreatmentB', 'TreatmentA', 'TreatmentB']} \n",
      "\n",
      "Y Values: \n",
      " {'Sens': [1, 2, 3, 4, 1, 2, 3, 4, 1, 2, 3, 4, 1, 2, 3, 4, 1, 2, 3, 4, 1, 2, 3, 4, 1, 2, 3, 4, 1, 2, 3, 4, 1, 2, 3, 4, 1, 2, 3, 4], 'Type': ['Pro', 'Tyr', 'Pho', 'Kin', 'Oth', 'Pro', 'Tyr', 'Pho', 'Kin', 'Oth', 'Pro', 'Tyr', 'Pho', 'Kin', 'Oth', 'Pro', 'Tyr', 'Pho', 'Kin', 'Oth', 'Pro', 'Tyr', 'Pho', 'Kin', 'Oth', 'Pro', 'Tyr', 'Pho', 'Kin', 'Oth', 'Pro', 'Tyr', 'Pho', 'Kin', 'Oth', 'Pro', 'Tyr', 'Pho', 'Kin', 'Oth']}\n"
     ]
    }
   ],
   "source": [
    "matrix_data.profile = CXStandardProfile()\n",
    "\n",
    "x_data_url = \"https://www.canvasxpress.org/data/cX-heatmapR-smp.txt\"\n",
    "x_data = pd.read_csv(x_data_url, sep='\\t', index_col=0)\n",
    "\n",
    "# Assign X to the dataframe itself, which will be properly converted\n",
    "matrix_data.profile.x = x_data\n",
    "\n",
    "z_data_url = \"https://www.canvasxpress.org/data/cX-heatmapR-var.txt\"\n",
    "z_data = pd.read_csv(z_data_url, sep='\\t', index_col=0)\n",
    "\n",
    "# Assign z to a prepared dict, which will be used as-is\n",
    "matrix_data.profile.z = {col: z_data[col].to_list() for col in z_data.columns.to_list()}\n",
    "\n",
    "print(\"X Values:\", '\\n', matrix_data.profile.x, '\\n')\n",
    "print(\"Y Values:\", '\\n', matrix_data.profile.z)"
   ]
  },
  {
   "cell_type": "code",
   "execution_count": 12,
   "id": "1f8f15df-6282-4758-a638-f40ad47964b8",
   "metadata": {},
   "outputs": [
    {
     "data": {
      "text/html": [
       "\n",
       "        <iframe\n",
       "            width=\"525px\"\n",
       "            height=\"525px\"\n",
       "            src=\"heatmap_matrix_xyz_data.html\"\n",
       "            frameborder=\"0\"\n",
       "            allowfullscreen\n",
       "        ></iframe>\n",
       "        "
      ],
      "text/plain": [
       "<IPython.lib.display.IFrame at 0x7f9022c62dc0>"
      ]
     },
     "metadata": {},
     "output_type": "display_data"
    }
   ],
   "source": [
    "chart = CanvasXpress(\n",
    "    data=matrix_data,\n",
    "    config=hm_config\n",
    ")\n",
    "\n",
    "view = CXNoteBook(chart)\n",
    "view.render(output_file=\"heatmap_matrix_xyz_data\")"
   ]
  },
  {
   "cell_type": "markdown",
   "id": "47c5ff61-2622-4fa5-9076-016533ff27f1",
   "metadata": {},
   "source": [
    "# Configuration Options\n",
    "\n",
    "## The Configuration Object\n",
    "\n",
    "CanvasXpress configurations are provided as key-pair values via a JSON object.  In the Python tier a `dict` is used for most configurations, but equivalents such as `list` and `tuple` can be used instead.  Advanced control is provided by `CXConfigs` and `CXType` objects."
   ]
  },
  {
   "cell_type": "markdown",
   "id": "d721fe03-7207-47b6-ad5f-87d6670fb294",
   "metadata": {},
   "source": [
    "## dict, list, and tuple\n",
    "\n",
    "Up until now, all of the examples have made use of `dict` objects to provide configuration options.  To recap for the heapmap:\n",
    "\n",
    "```python\n",
    "{\n",
    "    \"graphType\": \"Heatmap\",\n",
    "    \"title\": \"Overlays in Heatmap\",\n",
    "    \"colorSmpDendrogramBy\": \"Treatment\",\n",
    "    \"colorSpectrum\": [\"magenta\", \"blue\", \"black\", \"red\", \"gold\"],\n",
    "    \"colorSpectrumZeroValue\": 0,\n",
    "    \"heatmapIndicatorHeight\": 50,\n",
    "    \"heatmapIndicatorHistogram\": True,\n",
    "    \"heatmapIndicatorPosition\": \"topLeft\",\n",
    "    \"heatmapIndicatorWidth\": 60,\n",
    "    \"heatmapSmpSeparateBy\": \"Treatment\",\n",
    "    \"samplesClustered\": True,\n",
    "    \"smpOverlays\": [\"Treatment\", \"Site\"],\n",
    "    \"variablesClustered\": True\n",
    "}\n",
    "```\n",
    "\n",
    "All of the values are JSON compliant types.  Lists of `list` and `tuple` can also be used:\n",
    "\n",
    "```python\n",
    "# Brief list example:\n",
    "[\n",
    "    [\"graphType\", \"Heatmap\"],\n",
    "    [\"title\", \"Overlays in Heatmap\"],\n",
    "    ...\n",
    "]\n",
    "\n",
    "# Brief tuple example:\n",
    "[\n",
    "    (\"graphType\", \"Heatmap\"),\n",
    "    (\"title\", \"Overlays in Heatmap\"),\n",
    "    ...\n",
    "]\n",
    "```\n",
    "\n",
    "The most important use of lists and tuples are when multiple instances of the same attribute might need to be declated, such as with the `after_render` property and init parameter of the `CanvasXpress` object.  `after_render` accepts function names and their parmeter lists, and it is sometimes desireable to call a function repeatedly in the sequence.  The `setDimensions` function available in CanvasXpress for Javascript looks like this in Python:"
   ]
  },
  {
   "cell_type": "code",
   "execution_count": 13,
   "id": "e9746dcf-a277-4113-8682-08d5a65d49f8",
   "metadata": {},
   "outputs": [
    {
     "data": {
      "text/html": [
       "\n",
       "        <iframe\n",
       "            width=\"525px\"\n",
       "            height=\"525px\"\n",
       "            src=\"heatmap_after_render_example.html\"\n",
       "            frameborder=\"0\"\n",
       "            allowfullscreen\n",
       "        ></iframe>\n",
       "        "
      ],
      "text/plain": [
       "<IPython.lib.display.IFrame at 0x7f9022c45a90>"
      ]
     },
     "metadata": {},
     "output_type": "display_data"
    }
   ],
   "source": [
    "chart = CanvasXpress(\n",
    "    data=hm_data,\n",
    "    config=hm_config,\n",
    "    after_render=[\n",
    "        [\"setDimensions\", [300, 500, True]]\n",
    "    ]\n",
    ")\n",
    "\n",
    "view = CXNoteBook(chart)\n",
    "view.render(output_file=\"heatmap_after_render_example\")"
   ]
  },
  {
   "cell_type": "markdown",
   "id": "c120216d-0e1e-484f-843a-57c2af967bb3",
   "metadata": {},
   "source": [
    "## CXConfigs and CXType\n",
    "\n",
    "CanvasXpress internally converts the key-pair values into `CXType` objects, such as `CXString`.  These objects are usually straightforward, but they aid the Python tier in ensuring that conversions make sense in Javascript.  Some advanced types are provided for additional error checking and feedback at the Python tier, such as `CXRGBAColor`.  `CXConfigs` provides collection functionality, including comparison and merging; `CXType` provides key-pair functionality.\n",
    "\n",
    "Here is the heatmap rendered using `CXConfigs` and `CXTypes`:"
   ]
  },
  {
   "cell_type": "code",
   "execution_count": 14,
   "id": "2e2e8443-0640-48ef-aad6-87932e06c57e",
   "metadata": {},
   "outputs": [
    {
     "data": {
      "text/html": [
       "\n",
       "        <iframe\n",
       "            width=\"525px\"\n",
       "            height=\"525px\"\n",
       "            src=\"heatmap_cxconfigs_example.html\"\n",
       "            frameborder=\"0\"\n",
       "            allowfullscreen\n",
       "        ></iframe>\n",
       "        "
      ],
      "text/plain": [
       "<IPython.lib.display.IFrame at 0x7f9022c1a910>"
      ]
     },
     "metadata": {},
     "output_type": "display_data"
    }
   ],
   "source": [
    "hm_cx_config = CXConfigs(\n",
    "    CXList(\"colorSpectrum\", [\"magenta\", \"blue\", \"black\", \"red\", \"gold\"]),\n",
    "    CXInt(\"colorSpectrumZeroValue\", 0),\n",
    "    CXInt(\"heatmapIndicatorHeight\", 50),\n",
    "    CXBool(\"heatmapIndicatorHistogram\", True),\n",
    "    CXString(\"heatmapIndicatorPosition\", \"topLeft\"),\n",
    "    CXInt(\"heatmapIndicatorWidth\", 60),\n",
    "    CXString(\"heatmapSmpSeparateBy\", \"Treatment\"),\n",
    "    CXBool(\"samplesClustered\", True),\n",
    "    CXList(\"smpOverlays\", [\"Treatment\", \"Site\"]),\n",
    "    CXBool(\"variablesClustered\", True)\n",
    ")\n",
    "\n",
    "hm_cx_config.add(\n",
    "    CXGraphType(CXGraphTypeOptions.Heatmap)\n",
    ")\n",
    "\n",
    "hm_cx_config \\\n",
    "    .set_param(\"title\", \"Overlays in Heatmap\") \\\n",
    "    .set_param(\"colorSmpDendrogramBy\", \"Treatment\")\n",
    "\n",
    "chart = CanvasXpress(\n",
    "    data=hm_data,\n",
    "    config=hm_cx_config\n",
    ")\n",
    "\n",
    "view = CXNoteBook(chart)\n",
    "view.render(output_file=\"heatmap_cxconfigs_example\")"
   ]
  },
  {
   "cell_type": "markdown",
   "id": "0b73f82b-bf68-46c3-8a26-d4b556820f25",
   "metadata": {},
   "source": [
    "# Events\n",
    "\n",
    "CanvasXpress supports Javascript functions for enhanced chart functionality.  CanvasXpress for Python facilitates assignment of function code to Javascript events for each chart.\n",
    "\n",
    "## Event Format\n",
    "\n",
    "An event takes the following form:\n",
    "\n",
    "```javascript\n",
    "function(o, e, t) {\n",
    "    // Do something ...\n",
    "}\n",
    "```\n",
    "\n",
    "The parameters are as follows (at the time of the function's execution):\n",
    "\n",
    "* **o** represents the data for the portion of the chart under the mouse (e.g., {'y': 'data': ['a', ...], ...})\n",
    "* **e** represents the event object being invoked (e.g., a MouseEvent)\n",
    "* **t** represents the DOM object relevant to the event, such as the chart object\n",
    "\n",
    "## Working Example\n",
    "\n",
    "The Python package allows the body of each function to be declared as a `str` with the help of `CXEvents` and `CXEvent`.  Similar to the configuration classes, the former facilitates collection activities whereas the latter tracks specific data.  Here's an example:"
   ]
  },
  {
   "cell_type": "code",
   "execution_count": 15,
   "id": "75966a2f-7fe3-4d25-af1e-f7db3721fd91",
   "metadata": {},
   "outputs": [
    {
     "data": {
      "text/html": [
       "\n",
       "        <iframe\n",
       "            width=\"1025px\"\n",
       "            height=\"525px\"\n",
       "            src=\"heatmap_event_example.html\"\n",
       "            frameborder=\"0\"\n",
       "            allowfullscreen\n",
       "        ></iframe>\n",
       "        "
      ],
      "text/plain": [
       "<IPython.lib.display.IFrame at 0x7f905035c910>"
      ]
     },
     "metadata": {},
     "output_type": "display_data"
    }
   ],
   "source": [
    "chart_plain = CanvasXpress(\n",
    "    data=hm_data,\n",
    "    config=hm_config\n",
    ")\n",
    "\n",
    "js_mousemove_script = \"\"\"\n",
    "var selectionInfo = \\\n",
    "'<b>Custom Data Display</b>' + '<br>' \n",
    "+ 'var: ' + o.y.vars[0] + '<br>' \n",
    "+ 'smp: ' + o.y.smps[0] + '<br>' \n",
    "+ 'data: ' + o.y.data[0] + '<br>' \n",
    "+ 'dose: ' + o.x.Dose[0];\n",
    "\n",
    "t.showInfoSpan(e, selectionInfo);\n",
    "\"\"\"\n",
    "\n",
    "event_mousemove = CXEvent(\n",
    "    id=\"mousemove\",\n",
    "    script=js_mousemove_script\n",
    ")\n",
    "\n",
    "hm_cx_config.set_param(\"title\", \"Custom Event Edition\")\n",
    "\n",
    "chart_mousemove_event = CanvasXpress(\n",
    "    data=hm_data,\n",
    "    config=hm_cx_config,\n",
    "    events=CXEvents(\n",
    "        event_mousemove\n",
    "    )\n",
    ")\n",
    "\n",
    "view = CXNoteBook(chart_plain, chart_mousemove_event)\n",
    "view.render(columns=2, output_file=\"heatmap_event_example\")"
   ]
  },
  {
   "cell_type": "code",
   "execution_count": null,
   "id": "29ecacaa-1760-4785-8d9b-38cac8c6ad49",
   "metadata": {},
   "outputs": [],
   "source": []
  }
 ],
 "metadata": {
  "kernelspec": {
   "display_name": "Python 3",
   "language": "python",
   "name": "python3"
  },
  "language_info": {
   "codemirror_mode": {
    "name": "ipython",
    "version": 3
   },
   "file_extension": ".py",
   "mimetype": "text/x-python",
   "name": "python",
   "nbconvert_exporter": "python",
   "pygments_lexer": "ipython3",
   "version": "3.8.5"
  }
 },
 "nbformat": 4,
 "nbformat_minor": 5
}
