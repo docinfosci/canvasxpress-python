{
 "cells": [
  {
   "cell_type": "code",
   "execution_count": null,
   "id": "6d2e0926-d1b2-4161-9a86-f182284548c4",
   "metadata": {},
   "outputs": [],
   "source": [
    "# Import canvasxpress into the current IPython workspace.\n",
    "# Requires a Python 3.6 or later environment.\n",
    "\n",
    "# The sys package is required for host environment management.\n",
    "import sys\n",
    "\n",
    "# Install a specific edition of CanvasXpress for Python by indicating the version in quotes.\n",
    "# If installing a development edition from Test PyPI add the host as an extra index.\n",
    "!{sys.executable} -m pip install -U --extra-index-url https://test.pypi.org/simple/ \"canvasxpress==2021.6.14.dev160455\"\n",
    "    \n",
    "# Install the latest edition of CanvasXPress (official release) using the normal pip process.\n",
    "!{sys.executable} -m pip install -U canvasxpress\n",
    "\n",
    "# Confirm the installation by listing installed packages.\n",
    "!{sys.executable} -m pip list\n",
    "\n",
    "# Once installed the Jupyter Notebook kernel will likely need to be restarted."
   ]
  }
 ],
 "metadata": {
  "kernelspec": {
   "display_name": "Python 3",
   "language": "python",
   "name": "python3"
  },
  "language_info": {
   "codemirror_mode": {
    "name": "ipython",
    "version": 3
   },
   "file_extension": ".py",
   "mimetype": "text/x-python",
   "name": "python",
   "nbconvert_exporter": "python",
   "pygments_lexer": "ipython3",
   "version": "3.8.5"
  }
 },
 "nbformat": 4,
 "nbformat_minor": 5
}
