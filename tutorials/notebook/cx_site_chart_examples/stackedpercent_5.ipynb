{
 "cells": [
  {
   "cell_type": "markdown",
   "metadata": {
    "tags": []
   },
   "source": [
    "# Example: CanvasXpress stackedpercent Chart No. 5\n",
    "\n",
    "This example page demonstrates how to, using the Python package, create a chart that matches the CanvasXpress online example located at:\n",
    "\n",
    "https://www.canvasxpress.org/examples/stackedpercent-5.html\n",
    "\n",
    "This example is generated using the reproducible JSON obtained from the above page and the `canvasxpress.util.generator.generate_canvasxpress_code_from_json_file()` function.\n",
    "\n",
    "Everything required for the chart to render is included in the code below.  Simply run the code block."
   ]
  },
  {
   "cell_type": "code",
   "execution_count": null,
   "metadata": {},
   "outputs": [],
   "source": [
    "from canvasxpress.canvas import CanvasXpress 
from canvasxpress.js.collection import CXEvents 
from canvasxpress.render.jupyter import CXNoteBook 

cx = CanvasXpress(
    render_to="stackedpercent5",
    data={
        "y": {
            "vars": [
                "Females-in",
                "Females-out",
                "Males-in",
                "Males-out"
            ],
            "smps": [
                "Top 2 Roles",
                "Self Reliant",
                "Human",
                "Adult with Job",
                "Child",
                "No Magic"
            ],
            "data": [
                [
                    35,
                    33,
                    34,
                    18,
                    14,
                    50
                ],
                [
                    22,
                    24,
                    23,
                    39,
                    43,
                    7
                ],
                [
                    56,
                    43,
                    25,
                    34,
                    12,
                    47
                ],
                [
                    4,
                    17,
                    35,
                    26,
                    48,
                    13
                ]
            ]
        },
        "z": {
            "Gender": [
                "Female",
                "Female",
                "Male",
                "Male"
            ],
            "InOut": [
                "In",
                "Out",
                "In",
                "Out"
            ]
        },
        "x": {
            "Color": [
                "A",
                "B",
                "C",
                "D",
                "E",
                "F"
            ]
        }
    },
    config={
        "background": "rgb(63,149,180)",
        "backgroundType": "solid",
        "barPath": True,
        "barPathColor": "rgb(48,116,154)",
        "barPathTransparency": 1,
        "colorBy": "Color",
        "colors": [
            "rgb(255,190,179)",
            "rgb(251,153,134)",
            "rgb(244,112,96)",
            "rgb(230,68,72)",
            "rgb(210,41,63)",
            "rgb(173,18,58)"
        ],
        "fontName": "Waltograph",
        "fontsExternal": [
            {
                "name": "Waltograph",
                "url": "https://www.canvasxpress.org/assets/fonts/waltograph42.otf"
            }
        ],
        "graphOrientation": "horizontal",
        "graphType": "StackedPercent",
        "layoutBoxShow": False,
        "layoutLabelColor": "rgb(255,255,255)",
        "marginBottom": 50,
        "marginLeft": 50,
        "marginRight": 50,
        "marginTop": 50,
        "maxTextSize": 80,
        "objectBorderColor": "rgba(0,0,0,0.0)",
        "patternBy": "InOut",
        "patterns": [
            "solid",
            "stripeHorizontal",
            "hatchForward",
            "hatchReverse",
            "stripeVertical",
            "polkaDot"
        ],
        "segregateVariablesBy": [
            "Gender"
        ],
        "showLegend": False,
        "smpLabelFontColor": "rgb(255,255,255)",
        "smpLabelScaleFontFactor": 3,
        "title": "Fewer Role Models",
        "titleColor": "rgb(252,157,156)",
        "titleScaleFontFactor": 2.5,
        "widthFactor": 1.1,
        "xAxis2Show": False,
        "xAxisMajorTicks": False,
        "xAxisMinorTicks": False,
        "xAxisShow": False
    },
    width=500,
    height=500,
    events=CXEvents(),
    after_render=[
        [
            "setDimensions",
            [
                613,
                613,
                True
            ]
        ]
    ],
    other_init_params={
        "version": 35,
        "events": False,
        "info": False,
        "afterRenderInit": False,
        "noValidate": True
    }
)

display = CXNoteBook(cx) 
display.render("stackedpercent_5") 
"
   ]
  }
 ],
 "metadata": {
  "kernelspec": {
   "display_name": "Python 3",
   "language": "python",
   "name": "python3"
  },
  "language_info": {
   "codemirror_mode": {
    "name": "ipython",
    "version": 3
   },
   "file_extension": ".py",
   "mimetype": "text/x-python",
   "name": "python",
   "nbconvert_exporter": "python",
   "pygments_lexer": "ipython3",
   "version": "3.8.5"
  }
 },
 "nbformat": 4,
 "nbformat_minor": 4
}
