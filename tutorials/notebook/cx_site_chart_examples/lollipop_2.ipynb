{
 "cells": [
  {
   "cell_type": "markdown",
   "metadata": {
    "tags": []
   },
   "source": [
    "# Example: CanvasXpress lollipop Chart No. 2\n",
    "\n",
    "This example page demonstrates how to, using the Python package, create a chart that matches the CanvasXpress online example located at:\n",
    "\n",
    "https://www.canvasxpress.org/examples/lollipop-2.html\n",
    "\n",
    "This example is generated using the reproducible JSON obtained from the above page and the `canvasxpress.util.generator.generate_canvasxpress_code_from_json_file()` function.\n",
    "\n",
    "Everything required for the chart to render is included in the code below.  Simply run the code block."
   ]
  },
  {
   "cell_type": "code",
   "execution_count": null,
   "metadata": {},
   "outputs": [],
   "source": [
    "from canvasxpress.canvas import CanvasXpress 
from canvasxpress.js.collection import CXEvents 
from canvasxpress.render.jupyter import CXNoteBook 

cx = CanvasXpress(
    render_to="lollipop2",
    data={
        "y": {
            "vars": [
                "Var1"
            ],
            "smps": [
                "Engineering",
                "Biology",
                "Computer",
                "Psycology",
                "Education",
                "Health"
            ],
            "data": [
                [
                    -40,
                    -85,
                    -60,
                    50,
                    75,
                    100
                ]
            ]
        },
        "x": {
            "Color": [
                "A",
                "B",
                "C",
                "D",
                "E",
                "F"
            ]
        }
    },
    config={
        "backgroundType": "solid",
        "barLollipopFactor": 1.5,
        "barLollipopOpen": True,
        "barPath": True,
        "barPathColor": "rgb(225,225,225)",
        "barPathTransparency": 1,
        "barType": "lollipop",
        "colorBy": "Color",
        "colorScheme": "GGPlot",
        "graphType": "Bar",
        "marginBottom": 50,
        "marginLeft": 50,
        "marginRight": 50,
        "marginTop": 50,
        "maxTextSize": 80,
        "objectBorderColor": "rgba(0,0,0,0.0)",
        "setMaxX": 150,
        "setMinX": -150,
        "showDataValues": True,
        "showLegend": False,
        "smpLabelScaleFontFactor": 2,
        "title": "Occupations",
        "xAxis2Show": False,
        "xAxisMajorTicks": False,
        "xAxisMinorTicks": False,
        "xAxisShow": False
    },
    width=500,
    height=500,
    events=CXEvents(),
    after_render=[
        [
            "setDimensions",
            [
                613,
                613,
                True
            ]
        ]
    ],
    other_init_params={
        "version": 35,
        "events": False,
        "info": False,
        "afterRenderInit": False,
        "noValidate": True
    }
)

display = CXNoteBook(cx) 
display.render() 
"
   ]
  }
 ],
 "metadata": {
  "kernelspec": {
   "display_name": "Python 3",
   "language": "python",
   "name": "python3"
  },
  "language_info": {
   "codemirror_mode": {
    "name": "ipython",
    "version": 3
   },
   "file_extension": ".py",
   "mimetype": "text/x-python",
   "name": "python",
   "nbconvert_exporter": "python",
   "pygments_lexer": "ipython3",
   "version": "3.8.5"
  }
 },
 "nbformat": 4,
 "nbformat_minor": 4
}
