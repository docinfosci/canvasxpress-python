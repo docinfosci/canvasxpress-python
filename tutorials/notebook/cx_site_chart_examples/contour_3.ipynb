{
 "cells": [
  {
   "cell_type": "markdown",
   "metadata": {
    "tags": []
   },
   "source": [
    "# Example: CanvasXpress contour Chart No. 3\n",
    "\n",
    "This example page demonstrates how to, using the Python package, create a chart that matches the CanvasXpress online example located at:\n",
    "\n",
    "https://www.canvasxpress.org/examples/contour-3.html\n",
    "\n",
    "This example is generated using the reproducible JSON obtained from the above page and the `canvasxpress.util.generator.generate_canvasxpress_code_from_json_file()` function.\n",
    "\n",
    "Everything required for the chart to render is included in the code below.  Simply run the code block."
   ]
  },
  {
   "cell_type": "code",
   "execution_count": null,
   "metadata": {},
   "outputs": [],
   "source": [
    "from canvasxpress.canvas import CanvasXpress 
from canvasxpress.js.collection import CXEvents 
from canvasxpress.render.jupyter import CXNoteBook 

cx = CanvasXpress(
    render_to="contour3",
    data={
        "y": {
            "smps": [
                "s1",
                "s2",
                "s3"
            ],
            "vars": [
                "v1",
                "v2",
                "v3",
                "v4",
                "v5",
                "v6",
                "v7",
                "v8",
                "v9",
                "v10",
                "v11",
                "v12",
                "v13",
                "v14",
                "v15",
                "v16",
                "v17",
                "v18",
                "v19",
                "v20",
                "v21",
                "v22",
                "v23",
                "v24",
                "v25"
            ],
            "data": [
                [
                    0,
                    0,
                    10
                ],
                [
                    1,
                    0,
                    10.625
                ],
                [
                    2,
                    0,
                    12.5
                ],
                [
                    3,
                    0,
                    15.625
                ],
                [
                    4,
                    0,
                    20
                ],
                [
                    0,
                    1,
                    5.625
                ],
                [
                    1,
                    1,
                    6.25
                ],
                [
                    2,
                    1,
                    8.125
                ],
                [
                    3,
                    1,
                    11.25
                ],
                [
                    4,
                    1,
                    15.625
                ],
                [
                    0,
                    2,
                    2.5
                ],
                [
                    1,
                    2,
                    3.125
                ],
                [
                    2,
                    2,
                    5
                ],
                [
                    3,
                    2,
                    8.125
                ],
                [
                    4,
                    2,
                    12.5
                ],
                [
                    0,
                    3,
                    0.625
                ],
                [
                    1,
                    3,
                    1.25
                ],
                [
                    2,
                    3,
                    3.125
                ],
                [
                    3,
                    3,
                    6.25
                ],
                [
                    4,
                    3,
                    10.625
                ],
                [
                    0,
                    4,
                    0
                ],
                [
                    1,
                    4,
                    0.625
                ],
                [
                    2,
                    4,
                    2.5
                ],
                [
                    3,
                    4,
                    6.625
                ],
                [
                    4,
                    4,
                    10
                ]
            ]
        }
    },
    config={
        "graphType": "ScatterBubble2D",
        "showContourLevel": True,
        "title": "Basic Contour Plot"
    },
    width=500,
    height=500,
    events=CXEvents(),
    after_render=[
        [
            "setDimensions",
            [
                613,
                613,
                True
            ]
        ],
        [
            "createContour",
            []
        ]
    ],
    other_init_params={
        "version": 35,
        "events": False,
        "info": False,
        "afterRenderInit": False,
        "noValidate": True
    }
)

display = CXNoteBook(cx) 
display.render() 
"
   ]
  }
 ],
 "metadata": {
  "kernelspec": {
   "display_name": "Python 3",
   "language": "python",
   "name": "python3"
  },
  "language_info": {
   "codemirror_mode": {
    "name": "ipython",
    "version": 3
   },
   "file_extension": ".py",
   "mimetype": "text/x-python",
   "name": "python",
   "nbconvert_exporter": "python",
   "pygments_lexer": "ipython3",
   "version": "3.8.5"
  }
 },
 "nbformat": 4,
 "nbformat_minor": 4
}
