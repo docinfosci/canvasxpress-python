{
 "cells": [
  {
   "cell_type": "markdown",
   "metadata": {
    "tags": []
   },
   "source": [
    "# Example: CanvasXpress scatter Chart No. 21\n",
    "\n",
    "This example page demonstrates how to, using the Python package, create a chart that matches the CanvasXpress online example located at:\n",
    "\n",
    "https://www.canvasxpress.org/examples/scatter-21.html\n",
    "\n",
    "This example is generated using the reproducible JSON obtained from the above page and the `canvasxpress.util.generator.generate_canvasxpress_code_from_json_file()` function.\n",
    "\n",
    "Everything required for the chart to render is included in the code below.  Simply run the code block."
   ]
  },
  {
   "cell_type": "code",
   "execution_count": null,
   "metadata": {},
   "outputs": [],
   "source": [
    "from canvasxpress.canvas import CanvasXpress 
from canvasxpress.js.collection import CXEvents 
from canvasxpress.render.jupyter import CXNoteBook 

cx = CanvasXpress(
    render_to="scatter2d1",
    data={
        "y": {
            "smps": [
                "Alcohol",
                "Tobacco"
            ],
            "vars": [
                "North",
                "Yorkshire",
                "Northeast",
                "East Midlands",
                "West Midlands",
                "East Anglia",
                "Southeast",
                "Southwest",
                "Wales",
                "Scotland",
                "Northern Ireland"
            ],
            "data": [
                [
                    6.47,
                    4.03
                ],
                [
                    6.13,
                    3.76
                ],
                [
                    6.19,
                    3.77
                ],
                [
                    4.89,
                    3.34
                ],
                [
                    5.63,
                    3.47
                ],
                [
                    4.52,
                    2.92
                ],
                [
                    5.89,
                    3.2
                ],
                [
                    4.79,
                    2.71
                ],
                [
                    3.53,
                    3.53
                ],
                [
                    6.08,
                    4.51
                ],
                [
                    4.02,
                    4.56
                ]
            ]
        },
        "m": {
            "Name": "Alcohol Tobacco",
            "Description": "Average weekly household spending, in British pounds, on tobacco products and alcoholic beverages for each of the 11 regions of Great Britain.",
            "Reference": "Moore, David S., and George P. McCabe (1989). Introduction to the Practice of Statistics, p. 179. Original source : Family Expenditure Survey, Department of Employment, 1981 (British official statistics)"
        },
        "x": {
            "Description": [
                "Average weekly household spending on alcoholic beverages in pounds",
                "Average weekly household spending on tobacco products in pounds"
            ]
        }
    },
    config={
        "citation": "Moore, David S., and George P. McCabe (1989). Introduction to the Practice of Statistics, p. 179.",
        "decorations": {
            "marker": [
                {
                    "y": 0.18,
                    "text": "Maybe an Outlier?",
                    "variable": [
                        "Northern Ireland"
                    ],
                    "x": 0.45,
                    "sample": [
                        "Alcohol",
                        "Tobacco"
                    ],
                    "id": "scatter2d1-marker-0",
                    "vi": [
                        10
                    ],
                    "si": [
                        0,
                        1
                    ],
                    "vi2": False,
                    "si2": False,
                    "type": "line",
                    "b": [
                        69.15205078125,
                        58.2,
                        526.021923828125,
                        481.5
                    ],
                    "len": 122.5634765625,
                    "width": 15,
                    "tx": 186.0458116319444,
                    "ty": 108.99560439560452,
                    "tx2": False,
                    "ty2": False,
                    "curX": 305.86191650390623,
                    "curY": 144.87
                }
            ]
        },
        "graphType": "Scatter2D",
        "showTransition": False,
        "theme": "CanvasXpress",
        "title": "Average weekly household spending, in British pounds, on tobacco productsand alcoholic beverages for each of the 11 regions of Great Britain.",
        "xAxis": [
            "Alcohol"
        ],
        "yAxis": [
            "Tobacco"
        ]
    },
    width=500,
    height=500,
    events=CXEvents(),
    after_render=[
        [
            "setDimensions",
            [
                613,
                613,
                True
            ]
        ]
    ],
    other_init_params={
        "version": 35,
        "events": False,
        "info": False,
        "afterRenderInit": False,
        "noValidate": True
    }
)

display = CXNoteBook(cx) 
display.render("scatter_21") 
"
   ]
  }
 ],
 "metadata": {
  "kernelspec": {
   "display_name": "Python 3",
   "language": "python",
   "name": "python3"
  },
  "language_info": {
   "codemirror_mode": {
    "name": "ipython",
    "version": 3
   },
   "file_extension": ".py",
   "mimetype": "text/x-python",
   "name": "python",
   "nbconvert_exporter": "python",
   "pygments_lexer": "ipython3",
   "version": "3.8.5"
  }
 },
 "nbformat": 4,
 "nbformat_minor": 4
}
