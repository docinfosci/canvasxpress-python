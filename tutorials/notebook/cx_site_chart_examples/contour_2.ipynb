{
 "cells": [
  {
   "cell_type": "markdown",
   "metadata": {
    "tags": []
   },
   "source": [
    "# Example: CanvasXpress contour Chart No. 2\n",
    "\n",
    "This example page demonstrates how to, using the Python package, create a chart that matches the CanvasXpress online example located at:\n",
    "\n",
    "https://www.canvasxpress.org/examples/contour-2.html\n",
    "\n",
    "This example is generated using the reproducible JSON obtained from the above page and the `canvasxpress.util.generator.generate_canvasxpress_code_from_json_file()` function.\n",
    "\n",
    "Everything required for the chart to render is included in the code below.  Simply run the code block."
   ]
  },
  {
   "cell_type": "code",
   "execution_count": null,
   "metadata": {},
   "outputs": [],
   "source": [
    "from canvasxpress.canvas import CanvasXpress 
from canvasxpress.js.collection import CXEvents 
from canvasxpress.render.jupyter import CXNoteBook 

cx = CanvasXpress(
    render_to="contour2",
    data={
        "y": {
            "smps": [
                "s1",
                "s2",
                "s3",
                "s4",
                "s5"
            ],
            "vars": [
                "v1",
                "v2",
                "v3",
                "v4",
                "v5"
            ],
            "data": [
                [
                    20,
                    15.625,
                    12.5,
                    10.625,
                    10
                ],
                [
                    15.625,
                    11.25,
                    8.125,
                    6.25,
                    5.625
                ],
                [
                    12.5,
                    8.125,
                    5,
                    3.125,
                    2.5
                ],
                [
                    10.625,
                    6.25,
                    3.125,
                    1.25,
                    0.625
                ],
                [
                    10,
                    5.625,
                    2.5,
                    0.625,
                    0
                ]
            ]
        }
    },
    config={
        "contourType": "color",
        "graphType": "Heatmap",
        "heatmapCellBox": False,
        "showSampleNames": False,
        "showVariableNames": False,
        "title": "Basic Contour Plot"
    },
    width=500,
    height=500,
    events=CXEvents(),
    after_render=[
        [
            "setDimensions",
            [
                613,
                613,
                True
            ]
        ],
        [
            "createContour",
            []
        ],
        [
            "userEventsClick",
            [
                {
                    "x": {},
                    "y": {
                        "vars": [
                            "v1"
                        ],
                        "smps": [
                            "s5"
                        ],
                        "data": [
                            [
                                10
                            ]
                        ]
                    },
                    "z": {}
                },
                {
                    "srcElement": "contour2-events",
                    "target": "contour2-events",
                    "ac": {
                        "x": 31.015625,
                        "y": 581
                    },
                    "altKey": False,
                    "bubbles": True,
                    "button": 0,
                    "buttons": 0,
                    "cancelBubble": False,
                    "cancelable": True,
                    "clientX": 502,
                    "clientY": 958,
                    "ctrlKey": False,
                    "defaultPrevented": False,
                    "detail": 1,
                    "eventPhase": 0,
                    "isTrusted": True,
                    "layerX": 32,
                    "layerY": 582,
                    "metaKey": False,
                    "movementX": 0,
                    "movementY": 0,
                    "offsetX": 31,
                    "offsetY": 581,
                    "pageX": 502,
                    "pageY": 959,
                    "returnValue": True,
                    "screenX": 502,
                    "screenY": 958,
                    "shiftKey": False,
                    "timeStamp": 20545.700000000186,
                    "type": "click",
                    "which": 1,
                    "x": 502,
                    "y": 958,
                    "xMouseDown": False,
                    "yMouseDown": False
                },
                False,
                [
                    0,
                    4
                ]
            ]
        ]
    ],
    other_init_params={
        "version": 35,
        "events": False,
        "info": False,
        "afterRenderInit": False,
        "noValidate": True
    }
)

display = CXNoteBook(cx) 
display.render() 
"
   ]
  }
 ],
 "metadata": {
  "kernelspec": {
   "display_name": "Python 3",
   "language": "python",
   "name": "python3"
  },
  "language_info": {
   "codemirror_mode": {
    "name": "ipython",
    "version": 3
   },
   "file_extension": ".py",
   "mimetype": "text/x-python",
   "name": "python",
   "nbconvert_exporter": "python",
   "pygments_lexer": "ipython3",
   "version": "3.8.5"
  }
 },
 "nbformat": 4,
 "nbformat_minor": 4
}
