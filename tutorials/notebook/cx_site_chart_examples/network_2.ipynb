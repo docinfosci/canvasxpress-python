{
 "cells": [
  {
   "cell_type": "markdown",
   "metadata": {
    "tags": []
   },
   "source": [
    "# Example: CanvasXpress network Chart No. 2\n",
    "\n",
    "This example page demonstrates how to, using the Python package, create a chart that matches the CanvasXpress online example located at:\n",
    "\n",
    "https://www.canvasxpress.org/examples/network-2.html\n",
    "\n",
    "This example is generated using the reproducible JSON obtained from the above page and the `canvasxpress.util.generator.generate_canvasxpress_code_from_json_file()` function.\n",
    "\n",
    "Everything required for the chart to render is included in the code below.  Simply run the code block."
   ]
  },
  {
   "cell_type": "code",
   "execution_count": null,
   "metadata": {},
   "outputs": [],
   "source": [
    "from canvasxpress.canvas import CanvasXpress 
from canvasxpress.js.collection import CXEvents 
from canvasxpress.render.jupyter import CXNoteBook 

cx = CanvasXpress(
    render_to="network2",
    data={
        "nodes": [
            {
                "id": "Id0",
                "name": "Myriel",
                "group": 1,
                "layout": {
                    "angle": 0,
                    "children": [],
                    "displacement": {
                        "x": 0,
                        "y": 0,
                        "z": 0
                    },
                    "edges": [
                        {
                            "id1": "Id1",
                            "id2": "Id0",
                            "value": 1,
                            "layout": {
                                "length": -1,
                                "weight": 1,
                                "coeff": -1
                            },
                            "weight": 1
                        },
                        {
                            "id1": "Id2",
                            "id2": "Id0",
                            "value": 8,
                            "layout": {
                                "length": -1,
                                "weight": 1,
                                "coeff": -1
                            },
                            "weight": 1
                        },
                        {
                            "id1": "Id3",
                            "id2": "Id0",
                            "value": 10,
                            "layout": {
                                "length": -1,
                                "weight": 1,
                                "coeff": -1
                            },
                            "weight": 1
                        },
                        {
                            "id1": "Id4",
                            "id2": "Id0",
                            "value": 1,
                            "layout": {
                                "length": -1,
                                "weight": 1,
                                "coeff": -1
                            },
                            "weight": 1
                        },
                        {
                            "id1": "Id5",
                            "id2": "Id0",
                            "value": 1,
                            "layout": {
                                "length": -1,
                                "weight": 1,
                                "coeff": -1
                            },
                            "weight": 1
                        },
                        {
                            "id1": "Id6",
                            "id2": "Id0",
                            "value": 1,
                            "layout": {
                                "length": -1,
                                "weight": 1,
                                "coeff": -1
                            },
                            "weight": 1
                        },
                        {
                            "id1": "Id7",
                            "id2": "Id0",
                            "value": 1,
                            "layout": {
                                "length": -1,
                                "weight": 1,
                                "coeff": -1
                            },
                            "weight": 1
                        },
                        {
                            "id1": "Id8",
                            "id2": "Id0",
                            "value": 2,
                            "layout": {
                                "length": -1,
                                "weight": 1,
                                "coeff": -1
                            },
                            "weight": 1
                        },
                        {
                            "id1": "Id9",
                            "id2": "Id0",
                            "value": 1,
                            "layout": {
                                "length": -1,
                                "weight": 1,
                                "coeff": -1
                            },
                            "weight": 1
                        },
                        {
                            "id1": "Id11",
                            "id2": "Id0",
                            "value": 5,
                            "layout": {
                                "length": -1,
                                "weight": 1,
                                "coeff": -1
                            },
                            "weight": 1
                        }
                    ],
                    "force": {
                        "x": 2.600592304736766e-05,
                        "y": 5.6692233002010595e-06,
                        "z": 0
                    },
                    "hierarchy": False,
                    "lastPosition": {
                        "x": 0,
                        "y": 0,
                        "z": 0,
                        "r": 0,
                        "a": 0
                    },
                    "level": 0,
                    "mass": 4.333333333333334,
                    "metrics": {
                        "betweenness": -1,
                        "closeness": -1,
                        "degree": -1,
                        "eccentricity": -1
                    },
                    "neighbors": [],
                    "order": -1,
                    "parent": False,
                    "position": {
                        "x": -112.41035909709717,
                        "y": -89.25199257629134,
                        "z": 0
                    },
                    "prevPosition": {
                        "x": 1.5902777777777786,
                        "y": -3.218827160493827,
                        "z": 0
                    },
                    "radius": 0,
                    "velocity": {
                        "x": -0.0014315095696114046,
                        "y": 0.0031153579190675244,
                        "z": 0
                    }
                },
                "x": -112.38172890570495,
                "y": -89.31429973467269,
                "z": 0,
                "nodeEdges": 10,
                "community": 0,
                "communityColor": "rgb(254,41,108)"
            },
            {
                "id": "Id1",
                "name": "Napoleon",
                "group": 1,
                "layout": {
                    "angle": 0,
                    "children": [],
                    "displacement": {
                        "x": 0,
                        "y": 0,
                        "z": 0
                    },
                    "edges": [
                        {
                            "id1": "Id1",
                            "id2": "Id0",
                            "value": 1,
                            "layout": {
                                "length": -1,
                                "weight": 1,
                                "coeff": -1
                            },
                            "weight": 1
                        }
                    ],
                    "force": {
                        "x": 9.376676550752229e-07,
                        "y": 2.477045501115757e-06,
                        "z": 0
                    },
                    "hierarchy": False,
                    "lastPosition": {
                        "x": 0,
                        "y": 0,
                        "z": 0,
                        "r": 0,
                        "a": 0
                    },
                    "level": 0,
                    "mass": 1.3333333333333333,
                    "metrics": {
                        "betweenness": -1,
                        "closeness": -1,
                        "degree": -1,
                        "eccentricity": -1
                    },
                    "neighbors": [
                        "Id0"
                    ],
                    "order": -1,
                    "parent": False,
                    "position": {
                        "x": -106.48012192700655,
                        "y": -136.04851933784747,
                        "z": 0
                    },
                    "prevPosition": {
                        "x": 16.88641975308642,
                        "y": -4.194753086419755,
                        "z": 0
                    },
                    "radius": 0,
                    "velocity": {
                        "x": -0.005139256141937018,
                        "y": 0.0022390454443808345,
                        "z": 0
                    }
                },
                "x": -106.37733680416781,
                "y": -136.09330024673508,
                "z": 0,
                "nodeEdges": 1,
                "community": 0,
                "communityColor": "rgb(254,41,108)"
            },
            {
                "id": "Id2",
                "name": "Mlle. Baptistine",
                "group": 1,
                "layout": {
                    "angle": 0,
                    "children": [],
                    "displacement": {
                        "x": 0,
                        "y": 0,
                        "z": 0
                    },
                    "edges": [
                        {
                            "id1": "Id2",
                            "id2": "Id0",
                            "value": 8,
                            "layout": {
                                "length": -1,
                                "weight": 1,
                                "coeff": -1
                            },
                            "weight": 1
                        },
                        {
                            "id1": "Id3",
                            "id2": "Id2",
                            "value": 6,
                            "layout": {
                                "length": -1,
                                "weight": 1,
                                "coeff": -1
                            },
                            "weight": 1
                        },
                        {
                            "id1": "Id11",
                            "id2": "Id2",
                            "value": 3,
                            "layout": {
                                "length": -1,
                                "weight": 1,
                                "coeff": -1
                            },
                            "weight": 1
                        }
                    ],
                    "force": {
                        "x": 1.3850473609891903e-05,
                        "y": 1.4806029988424525e-05,
                        "z": 0
                    },
                    "hierarchy": False,
                    "lastPosition": {
                        "x": 0,
                        "y": 0,
                        "z": 0,
                        "r": 0,
                        "a": 0
                    },
                    "level": 0,
                    "mass": 2,
                    "metrics": {
                        "betweenness": -1,
                        "closeness": -1,
                        "degree": -1,
                        "eccentricity": -1
                    },
                    "neighbors": [
                        "Id0"
                    ],
                    "order": -1,
                    "parent": False,
                    "position": {
                        "x": -69.51566286458004,
                        "y": -71.0003019134867,
                        "z": 0
                    },
                    "prevPosition": {
                        "x": -1.8891975308641964,
                        "y": -0.21111111111111214,
                        "z": 0
                    },
                    "radius": 0,
                    "velocity": {
                        "x": -0.0003920757727319344,
                        "y": 0.0014049590878089527,
                        "z": 0
                    }
                },
                "x": -69.5078213491254,
                "y": -71.02840109524287,
                "z": 0,
                "nodeEdges": 3,
                "community": 1,
                "communityColor": "rgb(72,126,182)"
            },
            {
                "id": "Id3",
                "name": "Mme. Magloire",
                "group": 1,
                "layout": {
                    "angle": 0,
                    "children": [],
                    "displacement": {
                        "x": 0,
                        "y": 0,
                        "z": 0
                    },
                    "edges": [
                        {
                            "id1": "Id3",
                            "id2": "Id0",
                            "value": 10,
                            "layout": {
                                "length": -1,
                                "weight": 1,
                                "coeff": -1
                            },
                            "weight": 1
                        },
                        {
                            "id1": "Id3",
                            "id2": "Id2",
                            "value": 6,
                            "layout": {
                                "length": -1,
                                "weight": 1,
                                "coeff": -1
                            },
                            "weight": 1
                        },
                        {
                            "id1": "Id11",
                            "id2": "Id3",
                            "value": 3,
                            "layout": {
                                "length": -1,
                                "weight": 1,
                                "coeff": -1
                            },
                            "weight": 1
                        }
                    ],
                    "force": {
                        "x": 1.806340031676977e-05,
                        "y": 1.0162082369636477e-05,
                        "z": 0
                    },
                    "hierarchy": False,
                    "lastPosition": {
                        "x": 0,
                        "y": 0,
                        "z": 0,
                        "r": 0,
                        "a": 0
                    },
                    "level": 0,
                    "mass": 2,
                    "metrics": {
                        "betweenness": -1,
                        "closeness": -1,
                        "degree": -1,
                        "eccentricity": -1
                    },
                    "neighbors": [
                        "Id0",
                        "Id2"
                    ],
                    "order": -1,
                    "parent": False,
                    "position": {
                        "x": -85.53751836664804,
                        "y": -45.75705687675315,
                        "z": 0
                    },
                    "prevPosition": {
                        "x": 4.225077160493829,
                        "y": 7.4615740740740755,
                        "z": 0
                    },
                    "radius": 0,
                    "velocity": {
                        "x": -0.0003498852110396817,
                        "y": 0.0019326981593124973,
                        "z": 0
                    }
                },
                "x": -85.53052066242725,
                "y": -45.795710839939396,
                "z": 0,
                "nodeEdges": 3,
                "community": 1,
                "communityColor": "rgb(72,126,182)"
            },
            {
                "id": "Id4",
                "name": "Countess de Lo",
                "group": 1,
                "layout": {
                    "angle": 0,
                    "children": [],
                    "displacement": {
                        "x": 0,
                        "y": 0,
                        "z": 0
                    },
                    "edges": [
                        {
                            "id1": "Id4",
                            "id2": "Id0",
                            "value": 1,
                            "layout": {
                                "length": -1,
                                "weight": 1,
                                "coeff": -1
                            },
                            "weight": 1
                        }
                    ],
                    "force": {
                        "x": 1.2748328614406446e-05,
                        "y": 5.494085815889102e-06,
                        "z": 0
                    },
                    "hierarchy": False,
                    "lastPosition": {
                        "x": 0,
                        "y": 0,
                        "z": 0,
                        "r": 0,
                        "a": 0
                    },
                    "level": 0,
                    "mass": 1.3333333333333333,
                    "metrics": {
                        "betweenness": -1,
                        "closeness": -1,
                        "degree": -1,
                        "eccentricity": -1
                    },
                    "neighbors": [
                        "Id0"
                    ],
                    "order": -1,
                    "parent": False,
                    "position": {
                        "x": -156.5858850443374,
                        "y": -121.97870573964026,
                        "z": 0
                    },
                    "prevPosition": {
                        "x": -1.7737654320987648,
                        "y": -6.5771604938271615,
                        "z": 0
                    },
                    "radius": 0,
                    "velocity": {
                        "x": -0.005521554869852343,
                        "y": 0.001195057932424499,
                        "z": 0
                    }
                },
                "x": -156.47545394694035,
                "y": -122.00260689828875,
                "z": 0,
                "nodeEdges": 1,
                "community": 0,
                "communityColor": "rgb(254,41,108)"
            },
            {
                "id": "Id5",
                "name": "Geborand",
                "group": 1,
                "layout": {
                    "angle": 0,
                    "children": [],
                    "displacement": {
                        "x": 0,
                        "y": 0,
                        "z": 0
                    },
                    "edges": [
                        {
                            "id1": "Id5",
                            "id2": "Id0",
                            "value": 1,
                            "layout": {
                                "length": -1,
                                "weight": 1,
                                "coeff": -1
                            },
                            "weight": 1
                        }
                    ],
                    "force": {
                        "x": -2.2331986284703648e-06,
                        "y": -1.5141301651601033e-06,
                        "z": 0
                    },
                    "hierarchy": False,
                    "lastPosition": {
                        "x": 0,
                        "y": 0,
                        "z": 0,
                        "r": 0,
                        "a": 0
                    },
                    "level": 0,
                    "mass": 1.3333333333333333,
                    "metrics": {
                        "betweenness": -1,
                        "closeness": -1,
                        "degree": -1,
                        "eccentricity": -1
                    },
                    "neighbors": [
                        "Id0"
                    ],
                    "order": -1,
                    "parent": False,
                    "position": {
                        "x": -153.75461854128568,
                        "y": -67.36969979484802,
                        "z": 0
                    },
                    "prevPosition": {
                        "x": 15.339506172839506,
                        "y": 7.962037037037035,
                        "z": 0
                    },
                    "radius": 0,
                    "velocity": {
                        "x": -0.001284460193178254,
                        "y": 0.0030578618820082323,
                        "z": 0
                    }
                },
                "x": -153.7289293374221,
                "y": -67.43085703248818,
                "z": 0,
                "nodeEdges": 1,
                "community": 0,
                "communityColor": "rgb(254,41,108)"
            },
            {
                "id": "Id6",
                "name": "Champtercier",
                "group": 1,
                "layout": {
                    "angle": 0,
                    "children": [],
                    "displacement": {
                        "x": 0,
                        "y": 0,
                        "z": 0
                    },
                    "edges": [
                        {
                            "id1": "Id6",
                            "id2": "Id0",
                            "value": 1,
                            "layout": {
                                "length": -1,
                                "weight": 1,
                                "coeff": -1
                            },
                            "weight": 1
                        }
                    ],
                    "force": {
                        "x": -3.293608360039127e-06,
                        "y": -2.3053432245301493e-06,
                        "z": 0
                    },
                    "hierarchy": False,
                    "lastPosition": {
                        "x": 0,
                        "y": 0,
                        "z": 0,
                        "r": 0,
                        "a": 0
                    },
                    "level": 0,
                    "mass": 1.3333333333333333,
                    "metrics": {
                        "betweenness": -1,
                        "closeness": -1,
                        "degree": -1,
                        "eccentricity": -1
                    },
                    "neighbors": [
                        "Id0"
                    ],
                    "order": -1,
                    "parent": False,
                    "position": {
                        "x": -158.04089160105673,
                        "y": -103.76532215687146,
                        "z": 0
                    },
                    "prevPosition": {
                        "x": -7.584259259259259,
                        "y": -13.980246913580245,
                        "z": 0
                    },
                    "radius": 0,
                    "velocity": {
                        "x": 0.0021536264397007693,
                        "y": 0.0037295019664650353,
                        "z": 0
                    }
                },
                "x": -158.08396412985076,
                "y": -103.83991219620076,
                "z": 0,
                "nodeEdges": 1,
                "community": 0,
                "communityColor": "rgb(254,41,108)"
            },
            {
                "id": "Id7",
                "name": "Cravatte",
                "group": 1,
                "layout": {
                    "angle": 0,
                    "children": [],
                    "displacement": {
                        "x": 0,
                        "y": 0,
                        "z": 0
                    },
                    "edges": [
                        {
                            "id1": "Id7",
                            "id2": "Id0",
                            "value": 1,
                            "layout": {
                                "length": -1,
                                "weight": 1,
                                "coeff": -1
                            },
                            "weight": 1
                        }
                    ],
                    "force": {
                        "x": 2.4702460288683614e-06,
                        "y": -3.7378533141202864e-06,
                        "z": 0
                    },
                    "hierarchy": False,
                    "lastPosition": {
                        "x": 0,
                        "y": 0,
                        "z": 0,
                        "r": 0,
                        "a": 0
                    },
                    "level": 0,
                    "mass": 1.3333333333333333,
                    "metrics": {
                        "betweenness": -1,
                        "closeness": -1,
                        "degree": -1,
                        "eccentricity": -1
                    },
                    "neighbors": [
                        "Id0"
                    ],
                    "order": -1,
                    "parent": False,
                    "position": {
                        "x": -163.22596729816004,
                        "y": -86.04724287932775,
                        "z": 0
                    },
                    "prevPosition": {
                        "x": -8.767283950617283,
                        "y": -1.2929012345678998,
                        "z": 0
                    },
                    "radius": 0,
                    "velocity": {
                        "x": -0.00336210660076797,
                        "y": 0.0030244114710804787,
                        "z": 0
                    }
                },
                "x": -163.15872516614468,
                "y": -86.10773110874936,
                "z": 0,
                "nodeEdges": 1,
                "community": 0,
                "communityColor": "rgb(254,41,108)"
            },
            {
                "id": "Id8",
                "name": "Count",
                "group": 1,
                "layout": {
                    "angle": 0,
                    "children": [],
                    "displacement": {
                        "x": 0,
                        "y": 0,
                        "z": 0
                    },
                    "edges": [
                        {
                            "id1": "Id8",
                            "id2": "Id0",
                            "value": 2,
                            "layout": {
                                "length": -1,
                                "weight": 1,
                                "coeff": -1
                            },
                            "weight": 1
                        }
                    ],
                    "force": {
                        "x": 2.670739736422914e-07,
                        "y": -4.358468252920258e-06,
                        "z": 0
                    },
                    "hierarchy": False,
                    "lastPosition": {
                        "x": 0,
                        "y": 0,
                        "z": 0,
                        "r": 0,
                        "a": 0
                    },
                    "level": 0,
                    "mass": 1.3333333333333333,
                    "metrics": {
                        "betweenness": -1,
                        "closeness": -1,
                        "degree": -1,
                        "eccentricity": -1
                    },
                    "neighbors": [
                        "Id0"
                    ],
                    "order": -1,
                    "parent": False,
                    "position": {
                        "x": -139.3829580988106,
                        "y": -127.10003635675623,
                        "z": 0
                    },
                    "prevPosition": {
                        "x": -11.765123456790121,
                        "y": -20.19814814814815,
                        "z": 0
                    },
                    "radius": 0,
                    "velocity": {
                        "x": -0.0012291875306921635,
                        "y": 0.009583816862626132,
                        "z": 0
                    }
                },
                "x": -139.35837434819675,
                "y": -127.29171269400875,
                "z": 0,
                "nodeEdges": 1,
                "community": 0,
                "communityColor": "rgb(254,41,108)"
            },
            {
                "id": "Id9",
                "name": "Old Man",
                "group": 1,
                "layout": {
                    "angle": 0,
                    "children": [],
                    "displacement": {
                        "x": 0,
                        "y": 0,
                        "z": 0
                    },
                    "edges": [
                        {
                            "id1": "Id9",
                            "id2": "Id0",
                            "value": 1,
                            "layout": {
                                "length": -1,
                                "weight": 1,
                                "coeff": -1
                            },
                            "weight": 1
                        }
                    ],
                    "force": {
                        "x": 1.1500284959227447e-06,
                        "y": 7.466953043733585e-06,
                        "z": 0
                    },
                    "hierarchy": False,
                    "lastPosition": {
                        "x": 0,
                        "y": 0,
                        "z": 0,
                        "r": 0,
                        "a": 0
                    },
                    "level": 0,
                    "mass": 1.3333333333333333,
                    "metrics": {
                        "betweenness": -1,
                        "closeness": -1,
                        "degree": -1,
                        "eccentricity": -1
                    },
                    "neighbors": [
                        "Id0"
                    ],
                    "order": -1,
                    "parent": False,
                    "position": {
                        "x": -126.53346197040734,
                        "y": -140.15363204566322,
                        "z": 0
                    },
                    "prevPosition": {
                        "x": 10.533333333333335,
                        "y": -18.251543209876544,
                        "z": 0
                    },
                    "radius": 0,
                    "velocity": {
                        "x": -0.00679429733330735,
                        "y": 0.0023420138798419705,
                        "z": 0
                    }
                },
                "x": -126.3975760237412,
                "y": -140.20047232326004,
                "z": 0,
                "nodeEdges": 1,
                "community": 0,
                "communityColor": "rgb(254,41,108)"
            },
            {
                "id": "Id10",
                "name": "Labarre",
                "group": 2,
                "layout": {
                    "angle": 0,
                    "children": [],
                    "displacement": {
                        "x": 0,
                        "y": 0,
                        "z": 0
                    },
                    "edges": [
                        {
                            "id1": "Id11",
                            "id2": "Id10",
                            "value": 1,
                            "layout": {
                                "length": -1,
                                "weight": 1,
                                "coeff": -1
                            },
                            "weight": 1
                        }
                    ],
                    "force": {
                        "x": 2.535706319980579e-05,
                        "y": 1.8398162183411865e-07,
                        "z": 0
                    },
                    "hierarchy": False,
                    "lastPosition": {
                        "x": 0,
                        "y": 0,
                        "z": 0,
                        "r": 0,
                        "a": 0
                    },
                    "level": 0,
                    "mass": 1.3333333333333333,
                    "metrics": {
                        "betweenness": -1,
                        "closeness": -1,
                        "degree": -1,
                        "eccentricity": -1
                    },
                    "neighbors": [],
                    "order": -1,
                    "parent": False,
                    "position": {
                        "x": -42.909190341377055,
                        "y": -51.48454413922867,
                        "z": 0
                    },
                    "prevPosition": {
                        "x": 6.315586419753085,
                        "y": -9.123148148148148,
                        "z": 0
                    },
                    "radius": 0,
                    "velocity": {
                        "x": -0.002851801960030419,
                        "y": 0.0017008848838143261,
                        "z": 0
                    }
                },
                "x": -42.852154302176444,
                "y": -51.51856183690495,
                "z": 0,
                "nodeEdges": 1,
                "community": 1,
                "communityColor": "rgb(72,126,182)"
            },
            {
                "id": "Id11",
                "name": "Valjean",
                "group": 2,
                "layout": {
                    "angle": 0,
                    "children": [],
                    "displacement": {
                        "x": 0,
                        "y": 0,
                        "z": 0
                    },
                    "edges": [
                        {
                            "id1": "Id11",
                            "id2": "Id10",
                            "value": 1,
                            "layout": {
                                "length": -1,
                                "weight": 1,
                                "coeff": -1
                            },
                            "weight": 1
                        },
                        {
                            "id1": "Id11",
                            "id2": "Id3",
                            "value": 3,
                            "layout": {
                                "length": -1,
                                "weight": 1,
                                "coeff": -1
                            },
                            "weight": 1
                        },
                        {
                            "id1": "Id11",
                            "id2": "Id2",
                            "value": 3,
                            "layout": {
                                "length": -1,
                                "weight": 1,
                                "coeff": -1
                            },
                            "weight": 1
                        },
                        {
                            "id1": "Id11",
                            "id2": "Id0",
                            "value": 5,
                            "layout": {
                                "length": -1,
                                "weight": 1,
                                "coeff": -1
                            },
                            "weight": 1
                        },
                        {
                            "id1": "Id12",
                            "id2": "Id11",
                            "value": 1,
                            "layout": {
                                "length": -1,
                                "weight": 1,
                                "coeff": -1
                            },
                            "weight": 1
                        },
                        {
                            "id1": "Id13",
                            "id2": "Id11",
                            "value": 1,
                            "layout": {
                                "length": -1,
                                "weight": 1,
                                "coeff": -1
                            },
                            "weight": 1
                        },
                        {
                            "id1": "Id14",
                            "id2": "Id11",
                            "value": 1,
                            "layout": {
                                "length": -1,
                                "weight": 1,
                                "coeff": -1
                            },
                            "weight": 1
                        },
                        {
                            "id1": "Id15",
                            "id2": "Id11",
                            "value": 1,
                            "layout": {
                                "length": -1,
                                "weight": 1,
                                "coeff": -1
                            },
                            "weight": 1
                        },
                        {
                            "id1": "Id23",
                            "id2": "Id11",
                            "value": 9,
                            "layout": {
                                "length": -1,
                                "weight": 1,
                                "coeff": -1
                            },
                            "weight": 1
                        },
                        {
                            "id1": "Id24",
                            "id2": "Id11",
                            "value": 7,
                            "layout": {
                                "length": -1,
                                "weight": 1,
                                "coeff": -1
                            },
                            "weight": 1
                        },
                        {
                            "id1": "Id25",
                            "id2": "Id11",
                            "value": 12,
                            "layout": {
                                "length": -1,
                                "weight": 1,
                                "coeff": -1
                            },
                            "weight": 1
                        },
                        {
                            "id1": "Id26",
                            "id2": "Id11",
                            "value": 31,
                            "layout": {
                                "length": -1,
                                "weight": 1,
                                "coeff": -1
                            },
                            "weight": 1
                        },
                        {
                            "id1": "Id27",
                            "id2": "Id11",
                            "value": 17,
                            "layout": {
                                "length": -1,
                                "weight": 1,
                                "coeff": -1
                            },
                            "weight": 1
                        },
                        {
                            "id1": "Id28",
                            "id2": "Id11",
                            "value": 8,
                            "layout": {
                                "length": -1,
                                "weight": 1,
                                "coeff": -1
                            },
                            "weight": 1
                        },
                        {
                            "id1": "Id29",
                            "id2": "Id11",
                            "value": 2,
                            "layout": {
                                "length": -1,
                                "weight": 1,
                                "coeff": -1
                            },
                            "weight": 1
                        },
                        {
                            "id1": "Id31",
                            "id2": "Id11",
                            "value": 3,
                            "layout": {
                                "length": -1,
                                "weight": 1,
                                "coeff": -1
                            },
                            "weight": 1
                        },
                        {
                            "id1": "Id32",
                            "id2": "Id11",
                            "value": 1,
                            "layout": {
                                "length": -1,
                                "weight": 1,
                                "coeff": -1
                            },
                            "weight": 1
                        },
                        {
                            "id1": "Id33",
                            "id2": "Id11",
                            "value": 2,
                            "layout": {
                                "length": -1,
                                "weight": 1,
                                "coeff": -1
                            },
                            "weight": 1
                        },
                        {
                            "id1": "Id34",
                            "id2": "Id11",
                            "value": 3,
                            "layout": {
                                "length": -1,
                                "weight": 1,
                                "coeff": -1
                            },
                            "weight": 1
                        },
                        {
                            "id1": "Id35",
                            "id2": "Id11",
                            "value": 3,
                            "layout": {
                                "length": -1,
                                "weight": 1,
                                "coeff": -1
                            },
                            "weight": 1
                        },
                        {
                            "id1": "Id36",
                            "id2": "Id11",
                            "value": 2,
                            "layout": {
                                "length": -1,
                                "weight": 1,
                                "coeff": -1
                            },
                            "weight": 1
                        },
                        {
                            "id1": "Id37",
                            "id2": "Id11",
                            "value": 2,
                            "layout": {
                                "length": -1,
                                "weight": 1,
                                "coeff": -1
                            },
                            "weight": 1
                        },
                        {
                            "id1": "Id38",
                            "id2": "Id11",
                            "value": 2,
                            "layout": {
                                "length": -1,
                                "weight": 1,
                                "coeff": -1
                            },
                            "weight": 1
                        },
                        {
                            "id1": "Id43",
                            "id2": "Id11",
                            "value": 3,
                            "layout": {
                                "length": -1,
                                "weight": 1,
                                "coeff": -1
                            },
                            "weight": 1
                        },
                        {
                            "id1": "Id44",
                            "id2": "Id11",
                            "value": 1,
                            "layout": {
                                "length": -1,
                                "weight": 1,
                                "coeff": -1
                            },
                            "weight": 1
                        },
                        {
                            "id1": "Id48",
                            "id2": "Id11",
                            "value": 1,
                            "layout": {
                                "length": -1,
                                "weight": 1,
                                "coeff": -1
                            },
                            "weight": 1
                        },
                        {
                            "id1": "Id49",
                            "id2": "Id11",
                            "value": 2,
                            "layout": {
                                "length": -1,
                                "weight": 1,
                                "coeff": -1
                            },
                            "weight": 1
                        },
                        {
                            "id1": "Id51",
                            "id2": "Id11",
                            "value": 2,
                            "layout": {
                                "length": -1,
                                "weight": 1,
                                "coeff": -1
                            },
                            "weight": 1
                        },
                        {
                            "id1": "Id55",
                            "id2": "Id11",
                            "value": 19,
                            "layout": {
                                "length": -1,
                                "weight": 1,
                                "coeff": -1
                            },
                            "weight": 1
                        },
                        {
                            "id1": "Id58",
                            "id2": "Id11",
                            "value": 4,
                            "layout": {
                                "length": -1,
                                "weight": 1,
                                "coeff": -1
                            },
                            "weight": 1
                        },
                        {
                            "id1": "Id64",
                            "id2": "Id11",
                            "value": 1,
                            "layout": {
                                "length": -1,
                                "weight": 1,
                                "coeff": -1
                            },
                            "weight": 1
                        },
                        {
                            "id1": "Id68",
                            "id2": "Id11",
                            "value": 1,
                            "layout": {
                                "length": -1,
                                "weight": 1,
                                "coeff": -1
                            },
                            "weight": 1
                        },
                        {
                            "id1": "Id69",
                            "id2": "Id11",
                            "value": 1,
                            "layout": {
                                "length": -1,
                                "weight": 1,
                                "coeff": -1
                            },
                            "weight": 1
                        },
                        {
                            "id1": "Id70",
                            "id2": "Id11",
                            "value": 1,
                            "layout": {
                                "length": -1,
                                "weight": 1,
                                "coeff": -1
                            },
                            "weight": 1
                        },
                        {
                            "id1": "Id71",
                            "id2": "Id11",
                            "value": 1,
                            "layout": {
                                "length": -1,
                                "weight": 1,
                                "coeff": -1
                            },
                            "weight": 1
                        },
                        {
                            "id1": "Id72",
                            "id2": "Id11",
                            "value": 1,
                            "layout": {
                                "length": -1,
                                "weight": 1,
                                "coeff": -1
                            },
                            "weight": 1
                        }
                    ],
                    "force": {
                        "x": 0.00035416249717603026,
                        "y": -0.00015850175876249567,
                        "z": 0
                    },
                    "hierarchy": False,
                    "lastPosition": {
                        "x": 0,
                        "y": 0,
                        "z": 0,
                        "r": 0,
                        "a": 0
                    },
                    "level": 0,
                    "mass": 13,
                    "metrics": {
                        "betweenness": -1,
                        "closeness": -1,
                        "degree": -1,
                        "eccentricity": -1
                    },
                    "neighbors": [
                        "Id10",
                        "Id3"
                    ],
                    "order": -1,
                    "parent": False,
                    "position": {
                        "x": -5.634629929729023,
                        "y": -23.679707277974412,
                        "z": 0
                    },
                    "prevPosition": {
                        "x": 4.476967592592594,
                        "y": 1.6963734567901234,
                        "z": 0
                    },
                    "radius": 0,
                    "velocity": {
                        "x": 0.001590037897642093,
                        "y": 0.0009143726555191985,
                        "z": 0
                    }
                },
                "x": -5.666430687681864,
                "y": -23.697994731084798,
                "z": 0,
                "nodeEdges": 36,
                "community": 1,
                "communityColor": "rgb(72,126,182)"
            },
            {
                "id": "Id12",
                "name": "Marguerite",
                "group": 3,
                "layout": {
                    "angle": 0,
                    "children": [],
                    "displacement": {
                        "x": 0,
                        "y": 0,
                        "z": 0
                    },
                    "edges": [
                        {
                            "id1": "Id12",
                            "id2": "Id11",
                            "value": 1,
                            "layout": {
                                "length": -1,
                                "weight": 1,
                                "coeff": -1
                            },
                            "weight": 1
                        },
                        {
                            "id1": "Id23",
                            "id2": "Id12",
                            "value": 2,
                            "layout": {
                                "length": -1,
                                "weight": 1,
                                "coeff": -1
                            },
                            "weight": 1
                        }
                    ],
                    "force": {
                        "x": 9.193261208635672e-06,
                        "y": -2.6837523087594115e-05,
                        "z": 0
                    },
                    "hierarchy": False,
                    "lastPosition": {
                        "x": 0,
                        "y": 0,
                        "z": 0,
                        "r": 0,
                        "a": 0
                    },
                    "level": 0,
                    "mass": 1.6666666666666665,
                    "metrics": {
                        "betweenness": -1,
                        "closeness": -1,
                        "degree": -1,
                        "eccentricity": -1
                    },
                    "neighbors": [
                        "Id11"
                    ],
                    "order": -1,
                    "parent": False,
                    "position": {
                        "x": 45.1923816393218,
                        "y": -43.93451839673391,
                        "z": 0
                    },
                    "prevPosition": {
                        "x": 3.2042824074074083,
                        "y": 10.059027777777779,
                        "z": 0
                    },
                    "radius": 0,
                    "velocity": {
                        "x": 0.0022777723023699875,
                        "y": -0.0018653618798628315,
                        "z": 0
                    }
                },
                "x": 45.1468261932744,
                "y": -43.89721115913665,
                "z": 0,
                "nodeEdges": 2,
                "community": 1,
                "communityColor": "rgb(72,126,182)"
            },
            {
                "id": "Id13",
                "name": "Mme. de R",
                "group": 2,
                "layout": {
                    "angle": 0,
                    "children": [],
                    "displacement": {
                        "x": 0,
                        "y": 0,
                        "z": 0
                    },
                    "edges": [
                        {
                            "id1": "Id13",
                            "id2": "Id11",
                            "value": 1,
                            "layout": {
                                "length": -1,
                                "weight": 1,
                                "coeff": -1
                            },
                            "weight": 1
                        }
                    ],
                    "force": {
                        "x": 1.8977234523646913e-05,
                        "y": -2.295238646091418e-06,
                        "z": 0
                    },
                    "hierarchy": False,
                    "lastPosition": {
                        "x": 0,
                        "y": 0,
                        "z": 0,
                        "r": 0,
                        "a": 0
                    },
                    "level": 0,
                    "mass": 1.3333333333333333,
                    "metrics": {
                        "betweenness": -1,
                        "closeness": -1,
                        "degree": -1,
                        "eccentricity": -1
                    },
                    "neighbors": [
                        "Id11"
                    ],
                    "order": -1,
                    "parent": False,
                    "position": {
                        "x": -67.32787137079963,
                        "y": -13.805109469277435,
                        "z": 0
                    },
                    "prevPosition": {
                        "x": -8.867631172839506,
                        "y": 13.190817901234567,
                        "z": 0
                    },
                    "radius": 0,
                    "velocity": {
                        "x": -0.0008778179061824237,
                        "y": 0.0017864250433082549,
                        "z": 0
                    }
                },
                "x": -67.31031501267599,
                "y": -13.8408379701436,
                "z": 0,
                "nodeEdges": 1,
                "community": 1,
                "communityColor": "rgb(72,126,182)"
            },
            {
                "id": "Id14",
                "name": "Isabeau",
                "group": 2,
                "layout": {
                    "angle": 0,
                    "children": [],
                    "displacement": {
                        "x": 0,
                        "y": 0,
                        "z": 0
                    },
                    "edges": [
                        {
                            "id1": "Id14",
                            "id2": "Id11",
                            "value": 1,
                            "layout": {
                                "length": -1,
                                "weight": 1,
                                "coeff": -1
                            },
                            "weight": 1
                        }
                    ],
                    "force": {
                        "x": 1.6565878916581511e-06,
                        "y": -4.269401002394589e-06,
                        "z": 0
                    },
                    "hierarchy": False,
                    "lastPosition": {
                        "x": 0,
                        "y": 0,
                        "z": 0,
                        "r": 0,
                        "a": 0
                    },
                    "level": 0,
                    "mass": 1.3333333333333333,
                    "metrics": {
                        "betweenness": -1,
                        "closeness": -1,
                        "degree": -1,
                        "eccentricity": -1
                    },
                    "neighbors": [
                        "Id11"
                    ],
                    "order": -1,
                    "parent": False,
                    "position": {
                        "x": -61.32230951045241,
                        "y": -29.731234097975424,
                        "z": 0
                    },
                    "prevPosition": {
                        "x": -4.087692901234567,
                        "y": 11.396682098765432,
                        "z": 0
                    },
                    "radius": 0,
                    "velocity": {
                        "x": 0.0015556279757285713,
                        "y": 0.002613321235016339,
                        "z": 0
                    }
                },
                "x": -61.35342206996698,
                "y": -29.78350052267575,
                "z": 0,
                "nodeEdges": 1,
                "community": 1,
                "communityColor": "rgb(72,126,182)"
            },
            {
                "id": "Id15",
                "name": "Gervais",
                "group": 2,
                "layout": {
                    "angle": 0,
                    "children": [],
                    "displacement": {
                        "x": 0,
                        "y": 0,
                        "z": 0
                    },
                    "edges": [
                        {
                            "id1": "Id15",
                            "id2": "Id11",
                            "value": 1,
                            "layout": {
                                "length": -1,
                                "weight": 1,
                                "coeff": -1
                            },
                            "weight": 1
                        }
                    ],
                    "force": {
                        "x": 1.2615722972786347e-05,
                        "y": -1.655250072165118e-05,
                        "z": 0
                    },
                    "hierarchy": False,
                    "lastPosition": {
                        "x": 0,
                        "y": 0,
                        "z": 0,
                        "r": 0,
                        "a": 0
                    },
                    "level": 0,
                    "mass": 1.3333333333333333,
                    "metrics": {
                        "betweenness": -1,
                        "closeness": -1,
                        "degree": -1,
                        "eccentricity": -1
                    },
                    "neighbors": [
                        "Id11"
                    ],
                    "order": -1,
                    "parent": False,
                    "position": {
                        "x": 24.6059327704926,
                        "y": -67.99185572947262,
                        "z": 0
                    },
                    "prevPosition": {
                        "x": 12.655208333333338,
                        "y": 1.1210648148148152,
                        "z": 0
                    },
                    "radius": 0,
                    "velocity": {
                        "x": 0.00032234905597876284,
                        "y": 0.00457221571307145,
                        "z": 0
                    }
                },
                "x": 24.599485789373027,
                "y": -68.08330004373404,
                "z": 0,
                "nodeEdges": 1,
                "community": 1,
                "communityColor": "rgb(72,126,182)"
            },
            {
                "id": "Id16",
                "name": "Tholomyes",
                "group": 3,
                "layout": {
                    "angle": 0,
                    "children": [],
                    "displacement": {
                        "x": 0,
                        "y": 0,
                        "z": 0
                    },
                    "edges": [
                        {
                            "id1": "Id17",
                            "id2": "Id16",
                            "value": 4,
                            "layout": {
                                "length": -1,
                                "weight": 1,
                                "coeff": -1
                            },
                            "weight": 1
                        },
                        {
                            "id1": "Id18",
                            "id2": "Id16",
                            "value": 4,
                            "layout": {
                                "length": -1,
                                "weight": 1,
                                "coeff": -1
                            },
                            "weight": 1
                        },
                        {
                            "id1": "Id19",
                            "id2": "Id16",
                            "value": 4,
                            "layout": {
                                "length": -1,
                                "weight": 1,
                                "coeff": -1
                            },
                            "weight": 1
                        },
                        {
                            "id1": "Id20",
                            "id2": "Id16",
                            "value": 3,
                            "layout": {
                                "length": -1,
                                "weight": 1,
                                "coeff": -1
                            },
                            "weight": 1
                        },
                        {
                            "id1": "Id21",
                            "id2": "Id16",
                            "value": 3,
                            "layout": {
                                "length": -1,
                                "weight": 1,
                                "coeff": -1
                            },
                            "weight": 1
                        },
                        {
                            "id1": "Id22",
                            "id2": "Id16",
                            "value": 3,
                            "layout": {
                                "length": -1,
                                "weight": 1,
                                "coeff": -1
                            },
                            "weight": 1
                        },
                        {
                            "id1": "Id23",
                            "id2": "Id16",
                            "value": 3,
                            "layout": {
                                "length": -1,
                                "weight": 1,
                                "coeff": -1
                            },
                            "weight": 1
                        },
                        {
                            "id1": "Id26",
                            "id2": "Id16",
                            "value": 1,
                            "layout": {
                                "length": -1,
                                "weight": 1,
                                "coeff": -1
                            },
                            "weight": 1
                        },
                        {
                            "id1": "Id55",
                            "id2": "Id16",
                            "value": 1,
                            "layout": {
                                "length": -1,
                                "weight": 1,
                                "coeff": -1
                            },
                            "weight": 1
                        }
                    ],
                    "force": {
                        "x": 4.0012241584800635e-05,
                        "y": 7.186052586815282e-06,
                        "z": 0
                    },
                    "hierarchy": False,
                    "lastPosition": {
                        "x": 0,
                        "y": 0,
                        "z": 0,
                        "r": 0,
                        "a": 0
                    },
                    "level": 0,
                    "mass": 4,
                    "metrics": {
                        "betweenness": -1,
                        "closeness": -1,
                        "degree": -1,
                        "eccentricity": -1
                    },
                    "neighbors": [],
                    "order": -1,
                    "parent": False,
                    "position": {
                        "x": 101.54826402848234,
                        "y": -20.39430605249586,
                        "z": 0
                    },
                    "prevPosition": {
                        "x": 14.661882716049384,
                        "y": 3.7787037037037052,
                        "z": 0
                    },
                    "radius": 0,
                    "velocity": {
                        "x": 0.002582306889784949,
                        "y": -0.0039424424752873026,
                        "z": 0
                    }
                },
                "x": 101.49661789068664,
                "y": -20.315457202990114,
                "z": 0,
                "nodeEdges": 9,
                "community": 2,
                "communityColor": "rgb(167,206,49)"
            },
            {
                "id": "Id17",
                "name": "Listolier",
                "group": 3,
                "layout": {
                    "angle": 0,
                    "children": [],
                    "displacement": {
                        "x": 0,
                        "y": 0,
                        "z": 0
                    },
                    "edges": [
                        {
                            "id1": "Id17",
                            "id2": "Id16",
                            "value": 4,
                            "layout": {
                                "length": -1,
                                "weight": 1,
                                "coeff": -1
                            },
                            "weight": 1
                        },
                        {
                            "id1": "Id18",
                            "id2": "Id17",
                            "value": 4,
                            "layout": {
                                "length": -1,
                                "weight": 1,
                                "coeff": -1
                            },
                            "weight": 1
                        },
                        {
                            "id1": "Id19",
                            "id2": "Id17",
                            "value": 4,
                            "layout": {
                                "length": -1,
                                "weight": 1,
                                "coeff": -1
                            },
                            "weight": 1
                        },
                        {
                            "id1": "Id20",
                            "id2": "Id17",
                            "value": 3,
                            "layout": {
                                "length": -1,
                                "weight": 1,
                                "coeff": -1
                            },
                            "weight": 1
                        },
                        {
                            "id1": "Id21",
                            "id2": "Id17",
                            "value": 3,
                            "layout": {
                                "length": -1,
                                "weight": 1,
                                "coeff": -1
                            },
                            "weight": 1
                        },
                        {
                            "id1": "Id22",
                            "id2": "Id17",
                            "value": 3,
                            "layout": {
                                "length": -1,
                                "weight": 1,
                                "coeff": -1
                            },
                            "weight": 1
                        },
                        {
                            "id1": "Id23",
                            "id2": "Id17",
                            "value": 3,
                            "layout": {
                                "length": -1,
                                "weight": 1,
                                "coeff": -1
                            },
                            "weight": 1
                        }
                    ],
                    "force": {
                        "x": 1.363033650299706e-05,
                        "y": 7.1219844014610775e-06,
                        "z": 0
                    },
                    "hierarchy": False,
                    "lastPosition": {
                        "x": 0,
                        "y": 0,
                        "z": 0,
                        "r": 0,
                        "a": 0
                    },
                    "level": 0,
                    "mass": 3.3333333333333335,
                    "metrics": {
                        "betweenness": -1,
                        "closeness": -1,
                        "degree": -1,
                        "eccentricity": -1
                    },
                    "neighbors": [
                        "Id16"
                    ],
                    "order": -1,
                    "parent": False,
                    "position": {
                        "x": 130.33301859135085,
                        "y": -53.66104106838474,
                        "z": 0
                    },
                    "prevPosition": {
                        "x": 25.992592592592594,
                        "y": 20.318827160493832,
                        "z": 0
                    },
                    "radius": 0,
                    "velocity": {
                        "x": 0.001679300698990133,
                        "y": -0.0043514122589955045,
                        "z": 0
                    }
                },
                "x": 130.29943257737105,
                "y": -53.57401282320483,
                "z": 0,
                "nodeEdges": 7,
                "community": 2,
                "communityColor": "rgb(167,206,49)"
            },
            {
                "id": "Id18",
                "name": "Fameuil",
                "group": 3,
                "layout": {
                    "angle": 0,
                    "children": [],
                    "displacement": {
                        "x": 0,
                        "y": 0,
                        "z": 0
                    },
                    "edges": [
                        {
                            "id1": "Id18",
                            "id2": "Id16",
                            "value": 4,
                            "layout": {
                                "length": -1,
                                "weight": 1,
                                "coeff": -1
                            },
                            "weight": 1
                        },
                        {
                            "id1": "Id18",
                            "id2": "Id17",
                            "value": 4,
                            "layout": {
                                "length": -1,
                                "weight": 1,
                                "coeff": -1
                            },
                            "weight": 1
                        },
                        {
                            "id1": "Id19",
                            "id2": "Id18",
                            "value": 4,
                            "layout": {
                                "length": -1,
                                "weight": 1,
                                "coeff": -1
                            },
                            "weight": 1
                        },
                        {
                            "id1": "Id20",
                            "id2": "Id18",
                            "value": 3,
                            "layout": {
                                "length": -1,
                                "weight": 1,
                                "coeff": -1
                            },
                            "weight": 1
                        },
                        {
                            "id1": "Id21",
                            "id2": "Id18",
                            "value": 3,
                            "layout": {
                                "length": -1,
                                "weight": 1,
                                "coeff": -1
                            },
                            "weight": 1
                        },
                        {
                            "id1": "Id22",
                            "id2": "Id18",
                            "value": 3,
                            "layout": {
                                "length": -1,
                                "weight": 1,
                                "coeff": -1
                            },
                            "weight": 1
                        },
                        {
                            "id1": "Id23",
                            "id2": "Id18",
                            "value": 3,
                            "layout": {
                                "length": -1,
                                "weight": 1,
                                "coeff": -1
                            },
                            "weight": 1
                        }
                    ],
                    "force": {
                        "x": 1.613634511824294e-05,
                        "y": 5.2828004721214294e-06,
                        "z": 0
                    },
                    "hierarchy": False,
                    "lastPosition": {
                        "x": 0,
                        "y": 0,
                        "z": 0,
                        "r": 0,
                        "a": 0
                    },
                    "level": 0,
                    "mass": 3.3333333333333335,
                    "metrics": {
                        "betweenness": -1,
                        "closeness": -1,
                        "degree": -1,
                        "eccentricity": -1
                    },
                    "neighbors": [
                        "Id16",
                        "Id17"
                    ],
                    "order": -1,
                    "parent": False,
                    "position": {
                        "x": 158.4785058782355,
                        "y": -66.96418986136221,
                        "z": 0
                    },
                    "prevPosition": {
                        "x": 33.62307098765432,
                        "y": 18.202160493827165,
                        "z": 0
                    },
                    "radius": 0,
                    "velocity": {
                        "x": 0.001597791626818959,
                        "y": -0.004274822732944737,
                        "z": 0
                    }
                },
                "x": 158.44655004569913,
                "y": -66.87869340670332,
                "z": 0,
                "nodeEdges": 7,
                "community": 2,
                "communityColor": "rgb(167,206,49)"
            },
            {
                "id": "Id19",
                "name": "Blacheville",
                "group": 3,
                "layout": {
                    "angle": 0,
                    "children": [],
                    "displacement": {
                        "x": 0,
                        "y": 0,
                        "z": 0
                    },
                    "edges": [
                        {
                            "id1": "Id19",
                            "id2": "Id16",
                            "value": 4,
                            "layout": {
                                "length": -1,
                                "weight": 1,
                                "coeff": -1
                            },
                            "weight": 1
                        },
                        {
                            "id1": "Id19",
                            "id2": "Id17",
                            "value": 4,
                            "layout": {
                                "length": -1,
                                "weight": 1,
                                "coeff": -1
                            },
                            "weight": 1
                        },
                        {
                            "id1": "Id19",
                            "id2": "Id18",
                            "value": 4,
                            "layout": {
                                "length": -1,
                                "weight": 1,
                                "coeff": -1
                            },
                            "weight": 1
                        },
                        {
                            "id1": "Id20",
                            "id2": "Id19",
                            "value": 4,
                            "layout": {
                                "length": -1,
                                "weight": 1,
                                "coeff": -1
                            },
                            "weight": 1
                        },
                        {
                            "id1": "Id21",
                            "id2": "Id19",
                            "value": 3,
                            "layout": {
                                "length": -1,
                                "weight": 1,
                                "coeff": -1
                            },
                            "weight": 1
                        },
                        {
                            "id1": "Id22",
                            "id2": "Id19",
                            "value": 3,
                            "layout": {
                                "length": -1,
                                "weight": 1,
                                "coeff": -1
                            },
                            "weight": 1
                        },
                        {
                            "id1": "Id23",
                            "id2": "Id19",
                            "value": 3,
                            "layout": {
                                "length": -1,
                                "weight": 1,
                                "coeff": -1
                            },
                            "weight": 1
                        }
                    ],
                    "force": {
                        "x": 1.750622583283814e-05,
                        "y": 6.165557885196948e-06,
                        "z": 0
                    },
                    "hierarchy": False,
                    "lastPosition": {
                        "x": 0,
                        "y": 0,
                        "z": 0,
                        "r": 0,
                        "a": 0
                    },
                    "level": 0,
                    "mass": 3.3333333333333335,
                    "metrics": {
                        "betweenness": -1,
                        "closeness": -1,
                        "degree": -1,
                        "eccentricity": -1
                    },
                    "neighbors": [
                        "Id16",
                        "Id17"
                    ],
                    "order": -1,
                    "parent": False,
                    "position": {
                        "x": 140.43177683509543,
                        "y": -29.80910637669902,
                        "z": 0
                    },
                    "prevPosition": {
                        "x": 14.662268518518516,
                        "y": 27.778395061728396,
                        "z": 0
                    },
                    "radius": 0,
                    "velocity": {
                        "x": 0.0016341592212512131,
                        "y": -0.004174435765047113,
                        "z": 0
                    }
                },
                "x": 140.3990936506704,
                "y": -29.72561766139808,
                "z": 0,
                "nodeEdges": 7,
                "community": 2,
                "communityColor": "rgb(167,206,49)"
            },
            {
                "id": "Id20",
                "name": "Favourite",
                "group": 3,
                "layout": {
                    "angle": 0,
                    "children": [],
                    "displacement": {
                        "x": 0,
                        "y": 0,
                        "z": 0
                    },
                    "edges": [
                        {
                            "id1": "Id20",
                            "id2": "Id16",
                            "value": 3,
                            "layout": {
                                "length": -1,
                                "weight": 1,
                                "coeff": -1
                            },
                            "weight": 1
                        },
                        {
                            "id1": "Id20",
                            "id2": "Id17",
                            "value": 3,
                            "layout": {
                                "length": -1,
                                "weight": 1,
                                "coeff": -1
                            },
                            "weight": 1
                        },
                        {
                            "id1": "Id20",
                            "id2": "Id18",
                            "value": 3,
                            "layout": {
                                "length": -1,
                                "weight": 1,
                                "coeff": -1
                            },
                            "weight": 1
                        },
                        {
                            "id1": "Id20",
                            "id2": "Id19",
                            "value": 4,
                            "layout": {
                                "length": -1,
                                "weight": 1,
                                "coeff": -1
                            },
                            "weight": 1
                        },
                        {
                            "id1": "Id21",
                            "id2": "Id20",
                            "value": 5,
                            "layout": {
                                "length": -1,
                                "weight": 1,
                                "coeff": -1
                            },
                            "weight": 1
                        },
                        {
                            "id1": "Id22",
                            "id2": "Id20",
                            "value": 4,
                            "layout": {
                                "length": -1,
                                "weight": 1,
                                "coeff": -1
                            },
                            "weight": 1
                        },
                        {
                            "id1": "Id23",
                            "id2": "Id20",
                            "value": 4,
                            "layout": {
                                "length": -1,
                                "weight": 1,
                                "coeff": -1
                            },
                            "weight": 1
                        }
                    ],
                    "force": {
                        "x": 1.615410929454303e-05,
                        "y": 6.041566653295499e-06,
                        "z": 0
                    },
                    "hierarchy": False,
                    "lastPosition": {
                        "x": 0,
                        "y": 0,
                        "z": 0,
                        "r": 0,
                        "a": 0
                    },
                    "level": 0,
                    "mass": 3.3333333333333335,
                    "metrics": {
                        "betweenness": -1,
                        "closeness": -1,
                        "degree": -1,
                        "eccentricity": -1
                    },
                    "neighbors": [
                        "Id16",
                        "Id17"
                    ],
                    "order": -1,
                    "parent": False,
                    "position": {
                        "x": 160.9942256335826,
                        "y": -42.50141384402659,
                        "z": 0
                    },
                    "prevPosition": {
                        "x": 19.219984567901236,
                        "y": 11.095370370370372,
                        "z": 0
                    },
                    "radius": 0,
                    "velocity": {
                        "x": 0.0016084875039562782,
                        "y": -0.004215433109622852,
                        "z": 0
                    }
                },
                "x": 160.96205588350347,
                "y": -42.41710518183413,
                "z": 0,
                "nodeEdges": 7,
                "community": 2,
                "communityColor": "rgb(167,206,49)"
            },
            {
                "id": "Id21",
                "name": "Dahlia",
                "group": 3,
                "layout": {
                    "angle": 0,
                    "children": [],
                    "displacement": {
                        "x": 0,
                        "y": 0,
                        "z": 0
                    },
                    "edges": [
                        {
                            "id1": "Id21",
                            "id2": "Id16",
                            "value": 3,
                            "layout": {
                                "length": -1,
                                "weight": 1,
                                "coeff": -1
                            },
                            "weight": 1
                        },
                        {
                            "id1": "Id21",
                            "id2": "Id17",
                            "value": 3,
                            "layout": {
                                "length": -1,
                                "weight": 1,
                                "coeff": -1
                            },
                            "weight": 1
                        },
                        {
                            "id1": "Id21",
                            "id2": "Id18",
                            "value": 3,
                            "layout": {
                                "length": -1,
                                "weight": 1,
                                "coeff": -1
                            },
                            "weight": 1
                        },
                        {
                            "id1": "Id21",
                            "id2": "Id19",
                            "value": 3,
                            "layout": {
                                "length": -1,
                                "weight": 1,
                                "coeff": -1
                            },
                            "weight": 1
                        },
                        {
                            "id1": "Id21",
                            "id2": "Id20",
                            "value": 5,
                            "layout": {
                                "length": -1,
                                "weight": 1,
                                "coeff": -1
                            },
                            "weight": 1
                        },
                        {
                            "id1": "Id22",
                            "id2": "Id21",
                            "value": 4,
                            "layout": {
                                "length": -1,
                                "weight": 1,
                                "coeff": -1
                            },
                            "weight": 1
                        },
                        {
                            "id1": "Id23",
                            "id2": "Id21",
                            "value": 4,
                            "layout": {
                                "length": -1,
                                "weight": 1,
                                "coeff": -1
                            },
                            "weight": 1
                        }
                    ],
                    "force": {
                        "x": 1.5618634128376774e-05,
                        "y": 5.3945199083929585e-06,
                        "z": 0
                    },
                    "hierarchy": False,
                    "lastPosition": {
                        "x": 0,
                        "y": 0,
                        "z": 0,
                        "r": 0,
                        "a": 0
                    },
                    "level": 0,
                    "mass": 3.3333333333333335,
                    "metrics": {
                        "betweenness": -1,
                        "closeness": -1,
                        "degree": -1,
                        "eccentricity": -1
                    },
                    "neighbors": [
                        "Id16",
                        "Id17"
                    ],
                    "order": -1,
                    "parent": False,
                    "position": {
                        "x": 141.2187284195768,
                        "y": -84.4824152925927,
                        "z": 0
                    },
                    "prevPosition": {
                        "x": 10.407330246913581,
                        "y": 16.597530864197537,
                        "z": 0
                    },
                    "radius": 0,
                    "velocity": {
                        "x": 0.0014293324639871666,
                        "y": -0.004171582467419319,
                        "z": 0
                    }
                },
                "x": 141.19014177029706,
                "y": -84.39898364324432,
                "z": 0,
                "nodeEdges": 7,
                "community": 2,
                "communityColor": "rgb(167,206,49)"
            },
            {
                "id": "Id22",
                "name": "Zephine",
                "group": 3,
                "layout": {
                    "angle": 0,
                    "children": [],
                    "displacement": {
                        "x": 0,
                        "y": 0,
                        "z": 0
                    },
                    "edges": [
                        {
                            "id1": "Id22",
                            "id2": "Id16",
                            "value": 3,
                            "layout": {
                                "length": -1,
                                "weight": 1,
                                "coeff": -1
                            },
                            "weight": 1
                        },
                        {
                            "id1": "Id22",
                            "id2": "Id17",
                            "value": 3,
                            "layout": {
                                "length": -1,
                                "weight": 1,
                                "coeff": -1
                            },
                            "weight": 1
                        },
                        {
                            "id1": "Id22",
                            "id2": "Id18",
                            "value": 3,
                            "layout": {
                                "length": -1,
                                "weight": 1,
                                "coeff": -1
                            },
                            "weight": 1
                        },
                        {
                            "id1": "Id22",
                            "id2": "Id19",
                            "value": 3,
                            "layout": {
                                "length": -1,
                                "weight": 1,
                                "coeff": -1
                            },
                            "weight": 1
                        },
                        {
                            "id1": "Id22",
                            "id2": "Id20",
                            "value": 4,
                            "layout": {
                                "length": -1,
                                "weight": 1,
                                "coeff": -1
                            },
                            "weight": 1
                        },
                        {
                            "id1": "Id22",
                            "id2": "Id21",
                            "value": 4,
                            "layout": {
                                "length": -1,
                                "weight": 1,
                                "coeff": -1
                            },
                            "weight": 1
                        },
                        {
                            "id1": "Id23",
                            "id2": "Id22",
                            "value": 4,
                            "layout": {
                                "length": -1,
                                "weight": 1,
                                "coeff": -1
                            },
                            "weight": 1
                        }
                    ],
                    "force": {
                        "x": 1.6801638605414525e-05,
                        "y": 9.001872288590118e-06,
                        "z": 0
                    },
                    "hierarchy": False,
                    "lastPosition": {
                        "x": 0,
                        "y": 0,
                        "z": 0,
                        "r": 0,
                        "a": 0
                    },
                    "level": 0,
                    "mass": 3.3333333333333335,
                    "metrics": {
                        "betweenness": -1,
                        "closeness": -1,
                        "degree": -1,
                        "eccentricity": -1
                    },
                    "neighbors": [
                        "Id16",
                        "Id17"
                    ],
                    "order": -1,
                    "parent": False,
                    "position": {
                        "x": 118.46504054541784,
                        "y": -76.66328919267468,
                        "z": 0
                    },
                    "prevPosition": {
                        "x": 30.00208333333333,
                        "y": -0.6040123456790099,
                        "z": 0
                    },
                    "radius": 0,
                    "velocity": {
                        "x": 0.001322696505124947,
                        "y": -0.004338367381471579,
                        "z": 0
                    }
                },
                "x": 118.43858661531533,
                "y": -76.57652184504525,
                "z": 0,
                "nodeEdges": 7,
                "community": 2,
                "communityColor": "rgb(167,206,49)"
            },
            {
                "id": "Id23",
                "name": "Fantine",
                "group": 3,
                "layout": {
                    "angle": 0,
                    "children": [],
                    "displacement": {
                        "x": 0,
                        "y": 0,
                        "z": 0
                    },
                    "edges": [
                        {
                            "id1": "Id23",
                            "id2": "Id16",
                            "value": 3,
                            "layout": {
                                "length": -1,
                                "weight": 1,
                                "coeff": -1
                            },
                            "weight": 1
                        },
                        {
                            "id1": "Id23",
                            "id2": "Id17",
                            "value": 3,
                            "layout": {
                                "length": -1,
                                "weight": 1,
                                "coeff": -1
                            },
                            "weight": 1
                        },
                        {
                            "id1": "Id23",
                            "id2": "Id18",
                            "value": 3,
                            "layout": {
                                "length": -1,
                                "weight": 1,
                                "coeff": -1
                            },
                            "weight": 1
                        },
                        {
                            "id1": "Id23",
                            "id2": "Id19",
                            "value": 3,
                            "layout": {
                                "length": -1,
                                "weight": 1,
                                "coeff": -1
                            },
                            "weight": 1
                        },
                        {
                            "id1": "Id23",
                            "id2": "Id20",
                            "value": 4,
                            "layout": {
                                "length": -1,
                                "weight": 1,
                                "coeff": -1
                            },
                            "weight": 1
                        },
                        {
                            "id1": "Id23",
                            "id2": "Id21",
                            "value": 4,
                            "layout": {
                                "length": -1,
                                "weight": 1,
                                "coeff": -1
                            },
                            "weight": 1
                        },
                        {
                            "id1": "Id23",
                            "id2": "Id22",
                            "value": 4,
                            "layout": {
                                "length": -1,
                                "weight": 1,
                                "coeff": -1
                            },
                            "weight": 1
                        },
                        {
                            "id1": "Id23",
                            "id2": "Id12",
                            "value": 2,
                            "layout": {
                                "length": -1,
                                "weight": 1,
                                "coeff": -1
                            },
                            "weight": 1
                        },
                        {
                            "id1": "Id23",
                            "id2": "Id11",
                            "value": 9,
                            "layout": {
                                "length": -1,
                                "weight": 1,
                                "coeff": -1
                            },
                            "weight": 1
                        },
                        {
                            "id1": "Id24",
                            "id2": "Id23",
                            "value": 2,
                            "layout": {
                                "length": -1,
                                "weight": 1,
                                "coeff": -1
                            },
                            "weight": 1
                        },
                        {
                            "id1": "Id25",
                            "id2": "Id23",
                            "value": 1,
                            "layout": {
                                "length": -1,
                                "weight": 1,
                                "coeff": -1
                            },
                            "weight": 1
                        },
                        {
                            "id1": "Id27",
                            "id2": "Id23",
                            "value": 5,
                            "layout": {
                                "length": -1,
                                "weight": 1,
                                "coeff": -1
                            },
                            "weight": 1
                        },
                        {
                            "id1": "Id29",
                            "id2": "Id23",
                            "value": 1,
                            "layout": {
                                "length": -1,
                                "weight": 1,
                                "coeff": -1
                            },
                            "weight": 1
                        },
                        {
                            "id1": "Id30",
                            "id2": "Id23",
                            "value": 1,
                            "layout": {
                                "length": -1,
                                "weight": 1,
                                "coeff": -1
                            },
                            "weight": 1
                        },
                        {
                            "id1": "Id31",
                            "id2": "Id23",
                            "value": 2,
                            "layout": {
                                "length": -1,
                                "weight": 1,
                                "coeff": -1
                            },
                            "weight": 1
                        }
                    ],
                    "force": {
                        "x": 3.64492716485251e-06,
                        "y": 3.7314751930417334e-05,
                        "z": 0
                    },
                    "hierarchy": False,
                    "lastPosition": {
                        "x": 0,
                        "y": 0,
                        "z": 0,
                        "r": 0,
                        "a": 0
                    },
                    "level": 0,
                    "mass": 6,
                    "metrics": {
                        "betweenness": -1,
                        "closeness": -1,
                        "degree": -1,
                        "eccentricity": -1
                    },
                    "neighbors": [
                        "Id16",
                        "Id17"
                    ],
                    "order": -1,
                    "parent": False,
                    "position": {
                        "x": 85.98101358038474,
                        "y": -51.25500045030995,
                        "z": 0
                    },
                    "prevPosition": {
                        "x": 22.448688271604937,
                        "y": 17.26851851851852,
                        "z": 0
                    },
                    "radius": 0,
                    "velocity": {
                        "x": 0.002194228906583982,
                        "y": -0.003470257071013862,
                        "z": 0
                    }
                },
                "x": 85.93712900225306,
                "y": -51.185595308889674,
                "z": 0,
                "nodeEdges": 15,
                "community": 2,
                "communityColor": "rgb(167,206,49)"
            },
            {
                "id": "Id24",
                "name": "Mme. Thenardier",
                "group": 4,
                "layout": {
                    "angle": 0,
                    "children": [],
                    "displacement": {
                        "x": 0,
                        "y": 0,
                        "z": 0
                    },
                    "edges": [
                        {
                            "id1": "Id24",
                            "id2": "Id23",
                            "value": 2,
                            "layout": {
                                "length": -1,
                                "weight": 1,
                                "coeff": -1
                            },
                            "weight": 1
                        },
                        {
                            "id1": "Id24",
                            "id2": "Id11",
                            "value": 7,
                            "layout": {
                                "length": -1,
                                "weight": 1,
                                "coeff": -1
                            },
                            "weight": 1
                        },
                        {
                            "id1": "Id25",
                            "id2": "Id24",
                            "value": 13,
                            "layout": {
                                "length": -1,
                                "weight": 1,
                                "coeff": -1
                            },
                            "weight": 1
                        },
                        {
                            "id1": "Id26",
                            "id2": "Id24",
                            "value": 4,
                            "layout": {
                                "length": -1,
                                "weight": 1,
                                "coeff": -1
                            },
                            "weight": 1
                        },
                        {
                            "id1": "Id27",
                            "id2": "Id24",
                            "value": 1,
                            "layout": {
                                "length": -1,
                                "weight": 1,
                                "coeff": -1
                            },
                            "weight": 1
                        },
                        {
                            "id1": "Id41",
                            "id2": "Id24",
                            "value": 2,
                            "layout": {
                                "length": -1,
                                "weight": 1,
                                "coeff": -1
                            },
                            "weight": 1
                        },
                        {
                            "id1": "Id42",
                            "id2": "Id24",
                            "value": 1,
                            "layout": {
                                "length": -1,
                                "weight": 1,
                                "coeff": -1
                            },
                            "weight": 1
                        },
                        {
                            "id1": "Id50",
                            "id2": "Id24",
                            "value": 1,
                            "layout": {
                                "length": -1,
                                "weight": 1,
                                "coeff": -1
                            },
                            "weight": 1
                        },
                        {
                            "id1": "Id68",
                            "id2": "Id24",
                            "value": 1,
                            "layout": {
                                "length": -1,
                                "weight": 1,
                                "coeff": -1
                            },
                            "weight": 1
                        },
                        {
                            "id1": "Id69",
                            "id2": "Id24",
                            "value": 1,
                            "layout": {
                                "length": -1,
                                "weight": 1,
                                "coeff": -1
                            },
                            "weight": 1
                        },
                        {
                            "id1": "Id70",
                            "id2": "Id24",
                            "value": 1,
                            "layout": {
                                "length": -1,
                                "weight": 1,
                                "coeff": -1
                            },
                            "weight": 1
                        }
                    ],
                    "force": {
                        "x": -0.00020059542114729371,
                        "y": 9.107265038322057e-05,
                        "z": 0
                    },
                    "hierarchy": False,
                    "lastPosition": {
                        "x": 0,
                        "y": 0,
                        "z": 0,
                        "r": 0,
                        "a": 0
                    },
                    "level": 0,
                    "mass": 4.666666666666666,
                    "metrics": {
                        "betweenness": -1,
                        "closeness": -1,
                        "degree": -1,
                        "eccentricity": -1
                    },
                    "neighbors": [
                        "Id23",
                        "Id11"
                    ],
                    "order": -1,
                    "parent": False,
                    "position": {
                        "x": 62.1289432531355,
                        "y": -5.303360432433404,
                        "z": 0
                    },
                    "prevPosition": {
                        "x": -0.0061535493827165055,
                        "y": 16.09324845679012,
                        "z": 0
                    },
                    "radius": 0,
                    "velocity": {
                        "x": 0.012563027074924547,
                        "y": -0.00036991887432859076,
                        "z": 0
                    }
                },
                "x": 61.877682711637014,
                "y": -5.295962054946832,
                "z": 0,
                "nodeEdges": 11,
                "community": 3,
                "communityColor": "rgb(248,204,3)"
            },
            {
                "id": "Id25",
                "name": "Thenardier",
                "group": 4,
                "layout": {
                    "angle": 0,
                    "children": [],
                    "displacement": {
                        "x": 0,
                        "y": 0,
                        "z": 0
                    },
                    "edges": [
                        {
                            "id1": "Id25",
                            "id2": "Id24",
                            "value": 13,
                            "layout": {
                                "length": -1,
                                "weight": 1,
                                "coeff": -1
                            },
                            "weight": 1
                        },
                        {
                            "id1": "Id25",
                            "id2": "Id23",
                            "value": 1,
                            "layout": {
                                "length": -1,
                                "weight": 1,
                                "coeff": -1
                            },
                            "weight": 1
                        },
                        {
                            "id1": "Id25",
                            "id2": "Id11",
                            "value": 12,
                            "layout": {
                                "length": -1,
                                "weight": 1,
                                "coeff": -1
                            },
                            "weight": 1
                        },
                        {
                            "id1": "Id26",
                            "id2": "Id25",
                            "value": 1,
                            "layout": {
                                "length": -1,
                                "weight": 1,
                                "coeff": -1
                            },
                            "weight": 1
                        },
                        {
                            "id1": "Id27",
                            "id2": "Id25",
                            "value": 5,
                            "layout": {
                                "length": -1,
                                "weight": 1,
                                "coeff": -1
                            },
                            "weight": 1
                        },
                        {
                            "id1": "Id39",
                            "id2": "Id25",
                            "value": 1,
                            "layout": {
                                "length": -1,
                                "weight": 1,
                                "coeff": -1
                            },
                            "weight": 1
                        },
                        {
                            "id1": "Id40",
                            "id2": "Id25",
                            "value": 1,
                            "layout": {
                                "length": -1,
                                "weight": 1,
                                "coeff": -1
                            },
                            "weight": 1
                        },
                        {
                            "id1": "Id41",
                            "id2": "Id25",
                            "value": 3,
                            "layout": {
                                "length": -1,
                                "weight": 1,
                                "coeff": -1
                            },
                            "weight": 1
                        },
                        {
                            "id1": "Id42",
                            "id2": "Id25",
                            "value": 2,
                            "layout": {
                                "length": -1,
                                "weight": 1,
                                "coeff": -1
                            },
                            "weight": 1
                        },
                        {
                            "id1": "Id48",
                            "id2": "Id25",
                            "value": 1,
                            "layout": {
                                "length": -1,
                                "weight": 1,
                                "coeff": -1
                            },
                            "weight": 1
                        },
                        {
                            "id1": "Id55",
                            "id2": "Id25",
                            "value": 2,
                            "layout": {
                                "length": -1,
                                "weight": 1,
                                "coeff": -1
                            },
                            "weight": 1
                        },
                        {
                            "id1": "Id68",
                            "id2": "Id25",
                            "value": 5,
                            "layout": {
                                "length": -1,
                                "weight": 1,
                                "coeff": -1
                            },
                            "weight": 1
                        },
                        {
                            "id1": "Id69",
                            "id2": "Id25",
                            "value": 6,
                            "layout": {
                                "length": -1,
                                "weight": 1,
                                "coeff": -1
                            },
                            "weight": 1
                        },
                        {
                            "id1": "Id70",
                            "id2": "Id25",
                            "value": 4,
                            "layout": {
                                "length": -1,
                                "weight": 1,
                                "coeff": -1
                            },
                            "weight": 1
                        },
                        {
                            "id1": "Id71",
                            "id2": "Id25",
                            "value": 1,
                            "layout": {
                                "length": -1,
                                "weight": 1,
                                "coeff": -1
                            },
                            "weight": 1
                        },
                        {
                            "id1": "Id75",
                            "id2": "Id25",
                            "value": 3,
                            "layout": {
                                "length": -1,
                                "weight": 1,
                                "coeff": -1
                            },
                            "weight": 1
                        }
                    ],
                    "force": {
                        "x": -0.00019809539109497728,
                        "y": 5.589081119955269e-05,
                        "z": 0
                    },
                    "hierarchy": False,
                    "lastPosition": {
                        "x": 0,
                        "y": 0,
                        "z": 0,
                        "r": 0,
                        "a": 0
                    },
                    "level": 0,
                    "mass": 6.333333333333333,
                    "metrics": {
                        "betweenness": -1,
                        "closeness": -1,
                        "degree": -1,
                        "eccentricity": -1
                    },
                    "neighbors": [
                        "Id24",
                        "Id23"
                    ],
                    "order": -1,
                    "parent": False,
                    "position": {
                        "x": 37.06313588908286,
                        "y": 25.684515334761418,
                        "z": 0
                    },
                    "prevPosition": {
                        "x": 11.902594521604936,
                        "y": 19.3123649691358,
                        "z": 0
                    },
                    "radius": 0,
                    "velocity": {
                        "x": 0.000692458214557403,
                        "y": -0.00011358298315131184,
                        "z": 0
                    }
                },
                "x": 37.04928672479171,
                "y": 25.686786994424445,
                "z": 0,
                "nodeEdges": 16,
                "community": 3,
                "communityColor": "rgb(248,204,3)"
            },
            {
                "id": "Id26",
                "name": "Cosette",
                "group": 5,
                "layout": {
                    "angle": 0,
                    "children": [],
                    "displacement": {
                        "x": 0,
                        "y": 0,
                        "z": 0
                    },
                    "edges": [
                        {
                            "id1": "Id26",
                            "id2": "Id24",
                            "value": 4,
                            "layout": {
                                "length": -1,
                                "weight": 1,
                                "coeff": -1
                            },
                            "weight": 1
                        },
                        {
                            "id1": "Id26",
                            "id2": "Id11",
                            "value": 31,
                            "layout": {
                                "length": -1,
                                "weight": 1,
                                "coeff": -1
                            },
                            "weight": 1
                        },
                        {
                            "id1": "Id26",
                            "id2": "Id16",
                            "value": 1,
                            "layout": {
                                "length": -1,
                                "weight": 1,
                                "coeff": -1
                            },
                            "weight": 1
                        },
                        {
                            "id1": "Id26",
                            "id2": "Id25",
                            "value": 1,
                            "layout": {
                                "length": -1,
                                "weight": 1,
                                "coeff": -1
                            },
                            "weight": 1
                        },
                        {
                            "id1": "Id27",
                            "id2": "Id26",
                            "value": 1,
                            "layout": {
                                "length": -1,
                                "weight": 1,
                                "coeff": -1
                            },
                            "weight": 1
                        },
                        {
                            "id1": "Id43",
                            "id2": "Id26",
                            "value": 1,
                            "layout": {
                                "length": -1,
                                "weight": 1,
                                "coeff": -1
                            },
                            "weight": 1
                        },
                        {
                            "id1": "Id49",
                            "id2": "Id26",
                            "value": 3,
                            "layout": {
                                "length": -1,
                                "weight": 1,
                                "coeff": -1
                            },
                            "weight": 1
                        },
                        {
                            "id1": "Id51",
                            "id2": "Id26",
                            "value": 2,
                            "layout": {
                                "length": -1,
                                "weight": 1,
                                "coeff": -1
                            },
                            "weight": 1
                        },
                        {
                            "id1": "Id54",
                            "id2": "Id26",
                            "value": 1,
                            "layout": {
                                "length": -1,
                                "weight": 1,
                                "coeff": -1
                            },
                            "weight": 1
                        },
                        {
                            "id1": "Id55",
                            "id2": "Id26",
                            "value": 21,
                            "layout": {
                                "length": -1,
                                "weight": 1,
                                "coeff": -1
                            },
                            "weight": 1
                        },
                        {
                            "id1": "Id72",
                            "id2": "Id26",
                            "value": 2,
                            "layout": {
                                "length": -1,
                                "weight": 1,
                                "coeff": -1
                            },
                            "weight": 1
                        }
                    ],
                    "force": {
                        "x": 0.0002378283659962531,
                        "y": 0.00039720934425964936,
                        "z": 0
                    },
                    "hierarchy": False,
                    "lastPosition": {
                        "x": 0,
                        "y": 0,
                        "z": 0,
                        "r": 0,
                        "a": 0
                    },
                    "level": 0,
                    "mass": 4.666666666666666,
                    "metrics": {
                        "betweenness": -1,
                        "closeness": -1,
                        "degree": -1,
                        "eccentricity": -1
                    },
                    "neighbors": [
                        "Id24",
                        "Id11"
                    ],
                    "order": -1,
                    "parent": False,
                    "position": {
                        "x": -3.886696886821663,
                        "y": 19.855454488599648,
                        "z": 0
                    },
                    "prevPosition": {
                        "x": -0.7477719907407412,
                        "y": 19.95437885802469,
                        "z": 0
                    },
                    "radius": 0,
                    "velocity": {
                        "x": 0.004204802320258138,
                        "y": -0.010354350403084828,
                        "z": 0
                    }
                },
                "x": -3.970792933226826,
                "y": 20.062541496661343,
                "z": 0,
                "nodeEdges": 11,
                "community": 4,
                "communityColor": "rgb(255,140,2)"
            },
            {
                "id": "Id27",
                "name": "Javert",
                "group": 4,
                "layout": {
                    "angle": 0,
                    "children": [],
                    "displacement": {
                        "x": 0,
                        "y": 0,
                        "z": 0
                    },
                    "edges": [
                        {
                            "id1": "Id27",
                            "id2": "Id11",
                            "value": 17,
                            "layout": {
                                "length": -1,
                                "weight": 1,
                                "coeff": -1
                            },
                            "weight": 1
                        },
                        {
                            "id1": "Id27",
                            "id2": "Id23",
                            "value": 5,
                            "layout": {
                                "length": -1,
                                "weight": 1,
                                "coeff": -1
                            },
                            "weight": 1
                        },
                        {
                            "id1": "Id27",
                            "id2": "Id25",
                            "value": 5,
                            "layout": {
                                "length": -1,
                                "weight": 1,
                                "coeff": -1
                            },
                            "weight": 1
                        },
                        {
                            "id1": "Id27",
                            "id2": "Id24",
                            "value": 1,
                            "layout": {
                                "length": -1,
                                "weight": 1,
                                "coeff": -1
                            },
                            "weight": 1
                        },
                        {
                            "id1": "Id27",
                            "id2": "Id26",
                            "value": 1,
                            "layout": {
                                "length": -1,
                                "weight": 1,
                                "coeff": -1
                            },
                            "weight": 1
                        },
                        {
                            "id1": "Id28",
                            "id2": "Id27",
                            "value": 1,
                            "layout": {
                                "length": -1,
                                "weight": 1,
                                "coeff": -1
                            },
                            "weight": 1
                        },
                        {
                            "id1": "Id29",
                            "id2": "Id27",
                            "value": 1,
                            "layout": {
                                "length": -1,
                                "weight": 1,
                                "coeff": -1
                            },
                            "weight": 1
                        },
                        {
                            "id1": "Id31",
                            "id2": "Id27",
                            "value": 1,
                            "layout": {
                                "length": -1,
                                "weight": 1,
                                "coeff": -1
                            },
                            "weight": 1
                        },
                        {
                            "id1": "Id33",
                            "id2": "Id27",
                            "value": 1,
                            "layout": {
                                "length": -1,
                                "weight": 1,
                                "coeff": -1
                            },
                            "weight": 1
                        },
                        {
                            "id1": "Id43",
                            "id2": "Id27",
                            "value": 1,
                            "layout": {
                                "length": -1,
                                "weight": 1,
                                "coeff": -1
                            },
                            "weight": 1
                        },
                        {
                            "id1": "Id48",
                            "id2": "Id27",
                            "value": 1,
                            "layout": {
                                "length": -1,
                                "weight": 1,
                                "coeff": -1
                            },
                            "weight": 1
                        },
                        {
                            "id1": "Id58",
                            "id2": "Id27",
                            "value": 6,
                            "layout": {
                                "length": -1,
                                "weight": 1,
                                "coeff": -1
                            },
                            "weight": 1
                        },
                        {
                            "id1": "Id68",
                            "id2": "Id27",
                            "value": 1,
                            "layout": {
                                "length": -1,
                                "weight": 1,
                                "coeff": -1
                            },
                            "weight": 1
                        },
                        {
                            "id1": "Id69",
                            "id2": "Id27",
                            "value": 2,
                            "layout": {
                                "length": -1,
                                "weight": 1,
                                "coeff": -1
                            },
                            "weight": 1
                        },
                        {
                            "id1": "Id70",
                            "id2": "Id27",
                            "value": 1,
                            "layout": {
                                "length": -1,
                                "weight": 1,
                                "coeff": -1
                            },
                            "weight": 1
                        },
                        {
                            "id1": "Id71",
                            "id2": "Id27",
                            "value": 1,
                            "layout": {
                                "length": -1,
                                "weight": 1,
                                "coeff": -1
                            },
                            "weight": 1
                        },
                        {
                            "id1": "Id72",
                            "id2": "Id27",
                            "value": 1,
                            "layout": {
                                "length": -1,
                                "weight": 1,
                                "coeff": -1
                            },
                            "weight": 1
                        }
                    ],
                    "force": {
                        "x": -0.00012784741837277604,
                        "y": 3.690487740501576e-05,
                        "z": 0
                    },
                    "hierarchy": False,
                    "lastPosition": {
                        "x": 0,
                        "y": 0,
                        "z": 0,
                        "r": 0,
                        "a": 0
                    },
                    "level": 0,
                    "mass": 6.666666666666667,
                    "metrics": {
                        "betweenness": -1,
                        "closeness": -1,
                        "degree": -1,
                        "eccentricity": -1
                    },
                    "neighbors": [
                        "Id11",
                        "Id23"
                    ],
                    "order": -1,
                    "parent": False,
                    "position": {
                        "x": 32.15258509946182,
                        "y": -5.896974058197175,
                        "z": 0
                    },
                    "prevPosition": {
                        "x": 28.11143904320987,
                        "y": -2.1780478395061724,
                        "z": 0
                    },
                    "radius": 0,
                    "velocity": {
                        "x": 0.008069180752830503,
                        "y": -0.004476076591079196,
                        "z": 0
                    }
                },
                "x": 31.991201484405206,
                "y": -5.807452526375592,
                "z": 0,
                "nodeEdges": 17,
                "community": 3,
                "communityColor": "rgb(248,204,3)"
            },
            {
                "id": "Id28",
                "name": "Fauchelevent",
                "group": 0,
                "layout": {
                    "angle": 0,
                    "children": [],
                    "displacement": {
                        "x": 0,
                        "y": 0,
                        "z": 0
                    },
                    "edges": [
                        {
                            "id1": "Id28",
                            "id2": "Id11",
                            "value": 8,
                            "layout": {
                                "length": -1,
                                "weight": 1,
                                "coeff": -1
                            },
                            "weight": 1
                        },
                        {
                            "id1": "Id28",
                            "id2": "Id27",
                            "value": 1,
                            "layout": {
                                "length": -1,
                                "weight": 1,
                                "coeff": -1
                            },
                            "weight": 1
                        },
                        {
                            "id1": "Id44",
                            "id2": "Id28",
                            "value": 3,
                            "layout": {
                                "length": -1,
                                "weight": 1,
                                "coeff": -1
                            },
                            "weight": 1
                        },
                        {
                            "id1": "Id45",
                            "id2": "Id28",
                            "value": 2,
                            "layout": {
                                "length": -1,
                                "weight": 1,
                                "coeff": -1
                            },
                            "weight": 1
                        }
                    ],
                    "force": {
                        "x": 1.8151622262117806e-05,
                        "y": -2.542424565819476e-05,
                        "z": 0
                    },
                    "hierarchy": False,
                    "lastPosition": {
                        "x": 0,
                        "y": 0,
                        "z": 0,
                        "r": 0,
                        "a": 0
                    },
                    "level": 0,
                    "mass": 2.333333333333333,
                    "metrics": {
                        "betweenness": -1,
                        "closeness": -1,
                        "degree": -1,
                        "eccentricity": -1
                    },
                    "neighbors": [
                        "Id11",
                        "Id27"
                    ],
                    "order": -1,
                    "parent": False,
                    "position": {
                        "x": 40.82573550817794,
                        "y": -79.87766719824384,
                        "z": 0
                    },
                    "prevPosition": {
                        "x": 31.6486786265432,
                        "y": 1.3415702160493836,
                        "z": 0
                    },
                    "radius": 0,
                    "velocity": {
                        "x": -0.0011000941122080768,
                        "y": -0.0016390066287605318,
                        "z": 0
                    }
                },
                "x": 40.847737390422104,
                "y": -79.84488706566863,
                "z": 0,
                "nodeEdges": 4,
                "community": 5,
                "communityColor": "rgb(105,150,150)"
            },
            {
                "id": "Id29",
                "name": "Bamatabois",
                "group": 2,
                "layout": {
                    "angle": 0,
                    "children": [],
                    "displacement": {
                        "x": 0,
                        "y": 0,
                        "z": 0
                    },
                    "edges": [
                        {
                            "id1": "Id29",
                            "id2": "Id23",
                            "value": 1,
                            "layout": {
                                "length": -1,
                                "weight": 1,
                                "coeff": -1
                            },
                            "weight": 1
                        },
                        {
                            "id1": "Id29",
                            "id2": "Id27",
                            "value": 1,
                            "layout": {
                                "length": -1,
                                "weight": 1,
                                "coeff": -1
                            },
                            "weight": 1
                        },
                        {
                            "id1": "Id29",
                            "id2": "Id11",
                            "value": 2,
                            "layout": {
                                "length": -1,
                                "weight": 1,
                                "coeff": -1
                            },
                            "weight": 1
                        },
                        {
                            "id1": "Id34",
                            "id2": "Id29",
                            "value": 2,
                            "layout": {
                                "length": -1,
                                "weight": 1,
                                "coeff": -1
                            },
                            "weight": 1
                        },
                        {
                            "id1": "Id35",
                            "id2": "Id29",
                            "value": 2,
                            "layout": {
                                "length": -1,
                                "weight": 1,
                                "coeff": -1
                            },
                            "weight": 1
                        },
                        {
                            "id1": "Id36",
                            "id2": "Id29",
                            "value": 1,
                            "layout": {
                                "length": -1,
                                "weight": 1,
                                "coeff": -1
                            },
                            "weight": 1
                        },
                        {
                            "id1": "Id37",
                            "id2": "Id29",
                            "value": 1,
                            "layout": {
                                "length": -1,
                                "weight": 1,
                                "coeff": -1
                            },
                            "weight": 1
                        },
                        {
                            "id1": "Id38",
                            "id2": "Id29",
                            "value": 1,
                            "layout": {
                                "length": -1,
                                "weight": 1,
                                "coeff": -1
                            },
                            "weight": 1
                        }
                    ],
                    "force": {
                        "x": 2.1465458622464684e-05,
                        "y": -1.52239371213371e-05,
                        "z": 0
                    },
                    "hierarchy": False,
                    "lastPosition": {
                        "x": 0,
                        "y": 0,
                        "z": 0,
                        "r": 0,
                        "a": 0
                    },
                    "level": 0,
                    "mass": 3.6666666666666665,
                    "metrics": {
                        "betweenness": -1,
                        "closeness": -1,
                        "degree": -1,
                        "eccentricity": -1
                    },
                    "neighbors": [
                        "Id23",
                        "Id27"
                    ],
                    "order": -1,
                    "parent": False,
                    "position": {
                        "x": 7.175276375714736,
                        "y": -72.98364199820358,
                        "z": 0
                    },
                    "prevPosition": {
                        "x": 20.85892168209876,
                        "y": 0.11128472222222285,
                        "z": 0
                    },
                    "radius": 0,
                    "velocity": {
                        "x": 0.0021557607350009534,
                        "y": -0.0016785801691203417,
                        "z": 0
                    }
                },
                "x": 7.132161161014717,
                "y": -72.95007039482117,
                "z": 0,
                "nodeEdges": 8,
                "community": 6,
                "communityColor": "rgb(183,120,68)"
            },
            {
                "id": "Id30",
                "name": "Perpetue",
                "group": 3,
                "layout": {
                    "angle": 0,
                    "children": [],
                    "displacement": {
                        "x": 0,
                        "y": 0,
                        "z": 0
                    },
                    "edges": [
                        {
                            "id1": "Id30",
                            "id2": "Id23",
                            "value": 1,
                            "layout": {
                                "length": -1,
                                "weight": 1,
                                "coeff": -1
                            },
                            "weight": 1
                        },
                        {
                            "id1": "Id31",
                            "id2": "Id30",
                            "value": 2,
                            "layout": {
                                "length": -1,
                                "weight": 1,
                                "coeff": -1
                            },
                            "weight": 1
                        }
                    ],
                    "force": {
                        "x": 1.5677567286471127e-05,
                        "y": -1.0756405051524226e-05,
                        "z": 0
                    },
                    "hierarchy": False,
                    "lastPosition": {
                        "x": 0,
                        "y": 0,
                        "z": 0,
                        "r": 0,
                        "a": 0
                    },
                    "level": 0,
                    "mass": 1.6666666666666665,
                    "metrics": {
                        "betweenness": -1,
                        "closeness": -1,
                        "degree": -1,
                        "eccentricity": -1
                    },
                    "neighbors": [
                        "Id23"
                    ],
                    "order": -1,
                    "parent": False,
                    "position": {
                        "x": 82.14227866465654,
                        "y": -100.35336988357797,
                        "z": 0
                    },
                    "prevPosition": {
                        "x": 36.8815586419753,
                        "y": 15.003395061728398,
                        "z": 0
                    },
                    "radius": 0,
                    "velocity": {
                        "x": -0.0003169519044571999,
                        "y": -0.003361103107269949,
                        "z": 0
                    }
                },
                "x": 82.14861770274568,
                "y": -100.28614782143256,
                "z": 0,
                "nodeEdges": 2,
                "community": 7,
                "communityColor": "rgb(131,172,208)"
            },
            {
                "id": "Id31",
                "name": "Simplice",
                "group": 2,
                "layout": {
                    "angle": 0,
                    "children": [],
                    "displacement": {
                        "x": 0,
                        "y": 0,
                        "z": 0
                    },
                    "edges": [
                        {
                            "id1": "Id31",
                            "id2": "Id30",
                            "value": 2,
                            "layout": {
                                "length": -1,
                                "weight": 1,
                                "coeff": -1
                            },
                            "weight": 1
                        },
                        {
                            "id1": "Id31",
                            "id2": "Id11",
                            "value": 3,
                            "layout": {
                                "length": -1,
                                "weight": 1,
                                "coeff": -1
                            },
                            "weight": 1
                        },
                        {
                            "id1": "Id31",
                            "id2": "Id23",
                            "value": 2,
                            "layout": {
                                "length": -1,
                                "weight": 1,
                                "coeff": -1
                            },
                            "weight": 1
                        },
                        {
                            "id1": "Id31",
                            "id2": "Id27",
                            "value": 1,
                            "layout": {
                                "length": -1,
                                "weight": 1,
                                "coeff": -1
                            },
                            "weight": 1
                        }
                    ],
                    "force": {
                        "x": 2.7830196012866917e-05,
                        "y": -2.8195676109290038e-05,
                        "z": 0
                    },
                    "hierarchy": False,
                    "lastPosition": {
                        "x": 0,
                        "y": 0,
                        "z": 0,
                        "r": 0,
                        "a": 0
                    },
                    "level": 0,
                    "mass": 2.333333333333333,
                    "metrics": {
                        "betweenness": -1,
                        "closeness": -1,
                        "degree": -1,
                        "eccentricity": -1
                    },
                    "neighbors": [
                        "Id30",
                        "Id11"
                    ],
                    "order": -1,
                    "parent": False,
                    "position": {
                        "x": 51.24610832724403,
                        "y": -61.89697902492895,
                        "z": 0
                    },
                    "prevPosition": {
                        "x": 14.37355324074074,
                        "y": 4.549884259259258,
                        "z": 0
                    },
                    "radius": 0,
                    "velocity": {
                        "x": 0.0017934464871199388,
                        "y": -0.003065302956741508,
                        "z": 0
                    }
                },
                "x": 51.21023939750163,
                "y": -61.835672965794124,
                "z": 0,
                "nodeEdges": 4,
                "community": 7,
                "communityColor": "rgb(131,172,208)"
            },
            {
                "id": "Id32",
                "name": "Scaufflaire",
                "group": 2,
                "layout": {
                    "angle": 0,
                    "children": [],
                    "displacement": {
                        "x": 0,
                        "y": 0,
                        "z": 0
                    },
                    "edges": [
                        {
                            "id1": "Id32",
                            "id2": "Id11",
                            "value": 1,
                            "layout": {
                                "length": -1,
                                "weight": 1,
                                "coeff": -1
                            },
                            "weight": 1
                        }
                    ],
                    "force": {
                        "x": 2.8755040874132304e-05,
                        "y": 3.3058469009646096e-06,
                        "z": 0
                    },
                    "hierarchy": False,
                    "lastPosition": {
                        "x": 0,
                        "y": 0,
                        "z": 0,
                        "r": 0,
                        "a": 0
                    },
                    "level": 0,
                    "mass": 1.3333333333333333,
                    "metrics": {
                        "betweenness": -1,
                        "closeness": -1,
                        "degree": -1,
                        "eccentricity": -1
                    },
                    "neighbors": [
                        "Id11"
                    ],
                    "order": -1,
                    "parent": False,
                    "position": {
                        "x": -58.340487662976244,
                        "y": -46.165006934378475,
                        "z": 0
                    },
                    "prevPosition": {
                        "x": 14.284529320987659,
                        "y": -0.564429012345677,
                        "z": 0
                    },
                    "radius": 0,
                    "velocity": {
                        "x": -0.0028693564815795193,
                        "y": 0.001694729339104437,
                        "z": 0
                    }
                },
                "x": -58.28310053334465,
                "y": -46.198901521160565,
                "z": 0,
                "nodeEdges": 1,
                "community": 1,
                "communityColor": "rgb(72,126,182)"
            },
            {
                "id": "Id33",
                "name": "Woman 1",
                "group": 2,
                "layout": {
                    "angle": 0,
                    "children": [],
                    "displacement": {
                        "x": 0,
                        "y": 0,
                        "z": 0
                    },
                    "edges": [
                        {
                            "id1": "Id33",
                            "id2": "Id11",
                            "value": 2,
                            "layout": {
                                "length": -1,
                                "weight": 1,
                                "coeff": -1
                            },
                            "weight": 1
                        },
                        {
                            "id1": "Id33",
                            "id2": "Id27",
                            "value": 1,
                            "layout": {
                                "length": -1,
                                "weight": 1,
                                "coeff": -1
                            },
                            "weight": 1
                        }
                    ],
                    "force": {
                        "x": 8.62641346296815e-06,
                        "y": -2.1848555020350952e-05,
                        "z": 0
                    },
                    "hierarchy": False,
                    "lastPosition": {
                        "x": 0,
                        "y": 0,
                        "z": 0,
                        "r": 0,
                        "a": 0
                    },
                    "level": 0,
                    "mass": 1.6666666666666665,
                    "metrics": {
                        "betweenness": -1,
                        "closeness": -1,
                        "degree": -1,
                        "eccentricity": -1
                    },
                    "neighbors": [
                        "Id11",
                        "Id27"
                    ],
                    "order": -1,
                    "parent": False,
                    "position": {
                        "x": 24.73965723157572,
                        "y": -49.3090551460271,
                        "z": 0
                    },
                    "prevPosition": {
                        "x": 14.177999614197528,
                        "y": 10.55607638888889,
                        "z": 0
                    },
                    "radius": 0,
                    "velocity": {
                        "x": 0.0012036613320595899,
                        "y": 0.0005031133532684903,
                        "z": 0
                    }
                },
                "x": 24.715584004934527,
                "y": -49.31911741309247,
                "z": 0,
                "nodeEdges": 2,
                "community": 1,
                "communityColor": "rgb(72,126,182)"
            },
            {
                "id": "Id34",
                "name": "Judge",
                "group": 2,
                "layout": {
                    "angle": 0,
                    "children": [],
                    "displacement": {
                        "x": 0,
                        "y": 0,
                        "z": 0
                    },
                    "edges": [
                        {
                            "id1": "Id34",
                            "id2": "Id11",
                            "value": 3,
                            "layout": {
                                "length": -1,
                                "weight": 1,
                                "coeff": -1
                            },
                            "weight": 1
                        },
                        {
                            "id1": "Id34",
                            "id2": "Id29",
                            "value": 2,
                            "layout": {
                                "length": -1,
                                "weight": 1,
                                "coeff": -1
                            },
                            "weight": 1
                        },
                        {
                            "id1": "Id35",
                            "id2": "Id34",
                            "value": 3,
                            "layout": {
                                "length": -1,
                                "weight": 1,
                                "coeff": -1
                            },
                            "weight": 1
                        },
                        {
                            "id1": "Id36",
                            "id2": "Id34",
                            "value": 2,
                            "layout": {
                                "length": -1,
                                "weight": 1,
                                "coeff": -1
                            },
                            "weight": 1
                        },
                        {
                            "id1": "Id37",
                            "id2": "Id34",
                            "value": 2,
                            "layout": {
                                "length": -1,
                                "weight": 1,
                                "coeff": -1
                            },
                            "weight": 1
                        },
                        {
                            "id1": "Id38",
                            "id2": "Id34",
                            "value": 2,
                            "layout": {
                                "length": -1,
                                "weight": 1,
                                "coeff": -1
                            },
                            "weight": 1
                        }
                    ],
                    "force": {
                        "x": 1.7763379857663186e-05,
                        "y": 1.033085808371803e-06,
                        "z": 0
                    },
                    "hierarchy": False,
                    "lastPosition": {
                        "x": 0,
                        "y": 0,
                        "z": 0,
                        "r": 0,
                        "a": 0
                    },
                    "level": 0,
                    "mass": 3,
                    "metrics": {
                        "betweenness": -1,
                        "closeness": -1,
                        "degree": -1,
                        "eccentricity": -1
                    },
                    "neighbors": [
                        "Id11",
                        "Id29"
                    ],
                    "order": -1,
                    "parent": False,
                    "position": {
                        "x": -46.70803520979157,
                        "y": -96.57225011545925,
                        "z": 0
                    },
                    "prevPosition": {
                        "x": -3.6312837577160515,
                        "y": -0.6119116512345677,
                        "z": 0
                    },
                    "radius": 0,
                    "velocity": {
                        "x": -0.0011469500717656998,
                        "y": 0.004902814620299677,
                        "z": 0
                    }
                },
                "x": -46.685096208356256,
                "y": -96.67030640786525,
                "z": 0,
                "nodeEdges": 6,
                "community": 6,
                "communityColor": "rgb(183,120,68)"
            },
            {
                "id": "Id35",
                "name": "Champmathieu",
                "group": 2,
                "layout": {
                    "angle": 0,
                    "children": [],
                    "displacement": {
                        "x": 0,
                        "y": 0,
                        "z": 0
                    },
                    "edges": [
                        {
                            "id1": "Id35",
                            "id2": "Id11",
                            "value": 3,
                            "layout": {
                                "length": -1,
                                "weight": 1,
                                "coeff": -1
                            },
                            "weight": 1
                        },
                        {
                            "id1": "Id35",
                            "id2": "Id34",
                            "value": 3,
                            "layout": {
                                "length": -1,
                                "weight": 1,
                                "coeff": -1
                            },
                            "weight": 1
                        },
                        {
                            "id1": "Id35",
                            "id2": "Id29",
                            "value": 2,
                            "layout": {
                                "length": -1,
                                "weight": 1,
                                "coeff": -1
                            },
                            "weight": 1
                        },
                        {
                            "id1": "Id36",
                            "id2": "Id35",
                            "value": 2,
                            "layout": {
                                "length": -1,
                                "weight": 1,
                                "coeff": -1
                            },
                            "weight": 1
                        },
                        {
                            "id1": "Id37",
                            "id2": "Id35",
                            "value": 2,
                            "layout": {
                                "length": -1,
                                "weight": 1,
                                "coeff": -1
                            },
                            "weight": 1
                        },
                        {
                            "id1": "Id38",
                            "id2": "Id35",
                            "value": 2,
                            "layout": {
                                "length": -1,
                                "weight": 1,
                                "coeff": -1
                            },
                            "weight": 1
                        }
                    ],
                    "force": {
                        "x": -6.333717174223513e-07,
                        "y": 5.531622381090701e-06,
                        "z": 0
                    },
                    "hierarchy": False,
                    "lastPosition": {
                        "x": 0,
                        "y": 0,
                        "z": 0,
                        "r": 0,
                        "a": 0
                    },
                    "level": 0,
                    "mass": 3,
                    "metrics": {
                        "betweenness": -1,
                        "closeness": -1,
                        "degree": -1,
                        "eccentricity": -1
                    },
                    "neighbors": [
                        "Id11",
                        "Id34"
                    ],
                    "order": -1,
                    "parent": False,
                    "position": {
                        "x": -35.2487501141658,
                        "y": -73.4931338667021,
                        "z": 0
                    },
                    "prevPosition": {
                        "x": 16.1257740162037,
                        "y": 3.1212432484567927,
                        "z": 0
                    },
                    "radius": 0,
                    "velocity": {
                        "x": 0.00324042623615485,
                        "y": 0.002976120857486973,
                        "z": 0
                    }
                },
                "x": -35.3135586388889,
                "y": -73.55265628385183,
                "z": 0,
                "nodeEdges": 6,
                "community": 6,
                "communityColor": "rgb(183,120,68)"
            },
            {
                "id": "Id36",
                "name": "Brevet",
                "group": 2,
                "layout": {
                    "angle": 0,
                    "children": [],
                    "displacement": {
                        "x": 0,
                        "y": 0,
                        "z": 0
                    },
                    "edges": [
                        {
                            "id1": "Id36",
                            "id2": "Id34",
                            "value": 2,
                            "layout": {
                                "length": -1,
                                "weight": 1,
                                "coeff": -1
                            },
                            "weight": 1
                        },
                        {
                            "id1": "Id36",
                            "id2": "Id35",
                            "value": 2,
                            "layout": {
                                "length": -1,
                                "weight": 1,
                                "coeff": -1
                            },
                            "weight": 1
                        },
                        {
                            "id1": "Id36",
                            "id2": "Id11",
                            "value": 2,
                            "layout": {
                                "length": -1,
                                "weight": 1,
                                "coeff": -1
                            },
                            "weight": 1
                        },
                        {
                            "id1": "Id36",
                            "id2": "Id29",
                            "value": 1,
                            "layout": {
                                "length": -1,
                                "weight": 1,
                                "coeff": -1
                            },
                            "weight": 1
                        },
                        {
                            "id1": "Id37",
                            "id2": "Id36",
                            "value": 2,
                            "layout": {
                                "length": -1,
                                "weight": 1,
                                "coeff": -1
                            },
                            "weight": 1
                        },
                        {
                            "id1": "Id38",
                            "id2": "Id36",
                            "value": 2,
                            "layout": {
                                "length": -1,
                                "weight": 1,
                                "coeff": -1
                            },
                            "weight": 1
                        }
                    ],
                    "force": {
                        "x": 3.6378668097579968e-06,
                        "y": 1.9145036398607036e-05,
                        "z": 0
                    },
                    "hierarchy": False,
                    "lastPosition": {
                        "x": 0,
                        "y": 0,
                        "z": 0,
                        "r": 0,
                        "a": 0
                    },
                    "level": 0,
                    "mass": 3,
                    "metrics": {
                        "betweenness": -1,
                        "closeness": -1,
                        "degree": -1,
                        "eccentricity": -1
                    },
                    "neighbors": [
                        "Id34",
                        "Id35"
                    ],
                    "order": -1,
                    "parent": False,
                    "position": {
                        "x": -16.362772594344168,
                        "y": -89.4141629520364,
                        "z": 0
                    },
                    "prevPosition": {
                        "x": 19.248634018132712,
                        "y": 4.780283082561731,
                        "z": 0
                    },
                    "radius": 0,
                    "velocity": {
                        "x": 0.0005277373442468972,
                        "y": -7.626298897161555e-05,
                        "z": 0
                    }
                },
                "x": -16.373327341229107,
                "y": -89.41263769225698,
                "z": 0,
                "nodeEdges": 6,
                "community": 6,
                "communityColor": "rgb(183,120,68)"
            },
            {
                "id": "Id37",
                "name": "Chenildieu",
                "group": 2,
                "layout": {
                    "angle": 0,
                    "children": [],
                    "displacement": {
                        "x": 0,
                        "y": 0,
                        "z": 0
                    },
                    "edges": [
                        {
                            "id1": "Id37",
                            "id2": "Id34",
                            "value": 2,
                            "layout": {
                                "length": -1,
                                "weight": 1,
                                "coeff": -1
                            },
                            "weight": 1
                        },
                        {
                            "id1": "Id37",
                            "id2": "Id35",
                            "value": 2,
                            "layout": {
                                "length": -1,
                                "weight": 1,
                                "coeff": -1
                            },
                            "weight": 1
                        },
                        {
                            "id1": "Id37",
                            "id2": "Id36",
                            "value": 2,
                            "layout": {
                                "length": -1,
                                "weight": 1,
                                "coeff": -1
                            },
                            "weight": 1
                        },
                        {
                            "id1": "Id37",
                            "id2": "Id11",
                            "value": 2,
                            "layout": {
                                "length": -1,
                                "weight": 1,
                                "coeff": -1
                            },
                            "weight": 1
                        },
                        {
                            "id1": "Id37",
                            "id2": "Id29",
                            "value": 1,
                            "layout": {
                                "length": -1,
                                "weight": 1,
                                "coeff": -1
                            },
                            "weight": 1
                        },
                        {
                            "id1": "Id38",
                            "id2": "Id37",
                            "value": 2,
                            "layout": {
                                "length": -1,
                                "weight": 1,
                                "coeff": -1
                            },
                            "weight": 1
                        }
                    ],
                    "force": {
                        "x": 9.958603146065226e-06,
                        "y": 5.80320315320907e-06,
                        "z": 0
                    },
                    "hierarchy": False,
                    "lastPosition": {
                        "x": 0,
                        "y": 0,
                        "z": 0,
                        "r": 0,
                        "a": 0
                    },
                    "level": 0,
                    "mass": 3,
                    "metrics": {
                        "betweenness": -1,
                        "closeness": -1,
                        "degree": -1,
                        "eccentricity": -1
                    },
                    "neighbors": [
                        "Id34",
                        "Id35"
                    ],
                    "order": -1,
                    "parent": False,
                    "position": {
                        "x": -0.8647948694527599,
                        "y": -111.54211404075456,
                        "z": 0
                    },
                    "prevPosition": {
                        "x": 3.6211648823302447,
                        "y": -14.310149016203702,
                        "z": 0
                    },
                    "radius": 0,
                    "velocity": {
                        "x": -0.0024831066974510536,
                        "y": -0.0009833740973055785,
                        "z": 0
                    }
                },
                "x": -0.8151327355037388,
                "y": -111.52244655880844,
                "z": 0,
                "nodeEdges": 6,
                "community": 6,
                "communityColor": "rgb(183,120,68)"
            },
            {
                "id": "Id38",
                "name": "Cochepaille",
                "group": 2,
                "layout": {
                    "angle": 0,
                    "children": [],
                    "displacement": {
                        "x": 0,
                        "y": 0,
                        "z": 0
                    },
                    "edges": [
                        {
                            "id1": "Id38",
                            "id2": "Id34",
                            "value": 2,
                            "layout": {
                                "length": -1,
                                "weight": 1,
                                "coeff": -1
                            },
                            "weight": 1
                        },
                        {
                            "id1": "Id38",
                            "id2": "Id35",
                            "value": 2,
                            "layout": {
                                "length": -1,
                                "weight": 1,
                                "coeff": -1
                            },
                            "weight": 1
                        },
                        {
                            "id1": "Id38",
                            "id2": "Id36",
                            "value": 2,
                            "layout": {
                                "length": -1,
                                "weight": 1,
                                "coeff": -1
                            },
                            "weight": 1
                        },
                        {
                            "id1": "Id38",
                            "id2": "Id37",
                            "value": 2,
                            "layout": {
                                "length": -1,
                                "weight": 1,
                                "coeff": -1
                            },
                            "weight": 1
                        },
                        {
                            "id1": "Id38",
                            "id2": "Id11",
                            "value": 2,
                            "layout": {
                                "length": -1,
                                "weight": 1,
                                "coeff": -1
                            },
                            "weight": 1
                        },
                        {
                            "id1": "Id38",
                            "id2": "Id29",
                            "value": 1,
                            "layout": {
                                "length": -1,
                                "weight": 1,
                                "coeff": -1
                            },
                            "weight": 1
                        }
                    ],
                    "force": {
                        "x": 2.1536848661479584e-05,
                        "y": 7.90689586145036e-06,
                        "z": 0
                    },
                    "hierarchy": False,
                    "lastPosition": {
                        "x": 0,
                        "y": 0,
                        "z": 0,
                        "r": 0,
                        "a": 0
                    },
                    "level": 0,
                    "mass": 3,
                    "metrics": {
                        "betweenness": -1,
                        "closeness": -1,
                        "degree": -1,
                        "eccentricity": -1
                    },
                    "neighbors": [
                        "Id34",
                        "Id35"
                    ],
                    "order": -1,
                    "parent": False,
                    "position": {
                        "x": -27.535269005554753,
                        "y": -115.44021451819523,
                        "z": 0
                    },
                    "prevPosition": {
                        "x": -4.487785734953707,
                        "y": -15.659840374228393,
                        "z": 0
                    },
                    "radius": 0,
                    "velocity": {
                        "x": -0.003891036902578676,
                        "y": 0.002201913614816539,
                        "z": 0
                    }
                },
                "x": -27.457448267503178,
                "y": -115.48425279049157,
                "z": 0,
                "nodeEdges": 6,
                "community": 6,
                "communityColor": "rgb(183,120,68)"
            },
            {
                "id": "Id39",
                "name": "Pontmercy",
                "group": 4,
                "layout": {
                    "angle": 0,
                    "children": [],
                    "displacement": {
                        "x": 0,
                        "y": 0,
                        "z": 0
                    },
                    "edges": [
                        {
                            "id1": "Id39",
                            "id2": "Id25",
                            "value": 1,
                            "layout": {
                                "length": -1,
                                "weight": 1,
                                "coeff": -1
                            },
                            "weight": 1
                        },
                        {
                            "id1": "Id52",
                            "id2": "Id39",
                            "value": 1,
                            "layout": {
                                "length": -1,
                                "weight": 1,
                                "coeff": -1
                            },
                            "weight": 1
                        },
                        {
                            "id1": "Id55",
                            "id2": "Id39",
                            "value": 1,
                            "layout": {
                                "length": -1,
                                "weight": 1,
                                "coeff": -1
                            },
                            "weight": 1
                        }
                    ],
                    "force": {
                        "x": -4.656290931161211e-05,
                        "y": 4.218773257818123e-05,
                        "z": 0
                    },
                    "hierarchy": False,
                    "lastPosition": {
                        "x": 0,
                        "y": 0,
                        "z": 0,
                        "r": 0,
                        "a": 0
                    },
                    "level": 0,
                    "mass": 2,
                    "metrics": {
                        "betweenness": -1,
                        "closeness": -1,
                        "degree": -1,
                        "eccentricity": -1
                    },
                    "neighbors": [
                        "Id25"
                    ],
                    "order": -1,
                    "parent": False,
                    "position": {
                        "x": -37.458819728334944,
                        "y": 56.15533531308544,
                        "z": 0
                    },
                    "prevPosition": {
                        "x": 11.688242669753084,
                        "y": 7.233352623456788,
                        "z": 0
                    },
                    "radius": 0,
                    "velocity": {
                        "x": 0.0020535023300959146,
                        "y": -0.0008891617739203196,
                        "z": 0
                    }
                },
                "x": -37.49988977493686,
                "y": 56.17311854856384,
                "z": 0,
                "nodeEdges": 3,
                "community": 8,
                "communityColor": "rgb(194,224,118)"
            },
            {
                "id": "Id40",
                "name": "BoulaTruelle",
                "group": 6,
                "layout": {
                    "angle": 0,
                    "children": [],
                    "displacement": {
                        "x": 0,
                        "y": 0,
                        "z": 0
                    },
                    "edges": [
                        {
                            "id1": "Id40",
                            "id2": "Id25",
                            "value": 1,
                            "layout": {
                                "length": -1,
                                "weight": 1,
                                "coeff": -1
                            },
                            "weight": 1
                        }
                    ],
                    "force": {
                        "x": 0.0001393294260505079,
                        "y": 9.182522571773814e-05,
                        "z": 0
                    },
                    "hierarchy": False,
                    "lastPosition": {
                        "x": 0,
                        "y": 0,
                        "z": 0,
                        "r": 0,
                        "a": 0
                    },
                    "level": 0,
                    "mass": 1.3333333333333333,
                    "metrics": {
                        "betweenness": -1,
                        "closeness": -1,
                        "degree": -1,
                        "eccentricity": -1
                    },
                    "neighbors": [
                        "Id25"
                    ],
                    "order": -1,
                    "parent": False,
                    "position": {
                        "x": -4.1838957825925,
                        "y": 43.285990532247794,
                        "z": 0
                    },
                    "prevPosition": {
                        "x": 22.616329089506166,
                        "y": 21.365142746913577,
                        "z": 0
                    },
                    "radius": 0,
                    "velocity": {
                        "x": -0.04483097331448386,
                        "y": -0.0098515980757732,
                        "z": 0
                    }
                },
                "x": -3.2872763163028225,
                "y": 43.48302249376326,
                "z": 0,
                "nodeEdges": 1,
                "community": 3,
                "communityColor": "rgb(248,204,3)"
            },
            {
                "id": "Id41",
                "name": "Eponine",
                "group": 4,
                "layout": {
                    "angle": 0,
                    "children": [],
                    "displacement": {
                        "x": 0,
                        "y": 0,
                        "z": 0
                    },
                    "edges": [
                        {
                            "id1": "Id41",
                            "id2": "Id24",
                            "value": 2,
                            "layout": {
                                "length": -1,
                                "weight": 1,
                                "coeff": -1
                            },
                            "weight": 1
                        },
                        {
                            "id1": "Id41",
                            "id2": "Id25",
                            "value": 3,
                            "layout": {
                                "length": -1,
                                "weight": 1,
                                "coeff": -1
                            },
                            "weight": 1
                        },
                        {
                            "id1": "Id42",
                            "id2": "Id41",
                            "value": 2,
                            "layout": {
                                "length": -1,
                                "weight": 1,
                                "coeff": -1
                            },
                            "weight": 1
                        },
                        {
                            "id1": "Id55",
                            "id2": "Id41",
                            "value": 5,
                            "layout": {
                                "length": -1,
                                "weight": 1,
                                "coeff": -1
                            },
                            "weight": 1
                        },
                        {
                            "id1": "Id57",
                            "id2": "Id41",
                            "value": 1,
                            "layout": {
                                "length": -1,
                                "weight": 1,
                                "coeff": -1
                            },
                            "weight": 1
                        },
                        {
                            "id1": "Id62",
                            "id2": "Id41",
                            "value": 1,
                            "layout": {
                                "length": -1,
                                "weight": 1,
                                "coeff": -1
                            },
                            "weight": 1
                        },
                        {
                            "id1": "Id68",
                            "id2": "Id41",
                            "value": 1,
                            "layout": {
                                "length": -1,
                                "weight": 1,
                                "coeff": -1
                            },
                            "weight": 1
                        },
                        {
                            "id1": "Id69",
                            "id2": "Id41",
                            "value": 1,
                            "layout": {
                                "length": -1,
                                "weight": 1,
                                "coeff": -1
                            },
                            "weight": 1
                        },
                        {
                            "id1": "Id70",
                            "id2": "Id41",
                            "value": 1,
                            "layout": {
                                "length": -1,
                                "weight": 1,
                                "coeff": -1
                            },
                            "weight": 1
                        },
                        {
                            "id1": "Id71",
                            "id2": "Id41",
                            "value": 1,
                            "layout": {
                                "length": -1,
                                "weight": 1,
                                "coeff": -1
                            },
                            "weight": 1
                        },
                        {
                            "id1": "Id75",
                            "id2": "Id41",
                            "value": 1,
                            "layout": {
                                "length": -1,
                                "weight": 1,
                                "coeff": -1
                            },
                            "weight": 1
                        }
                    ],
                    "force": {
                        "x": -2.3540651903589333e-05,
                        "y": -6.131354805414407e-05,
                        "z": 0
                    },
                    "hierarchy": False,
                    "lastPosition": {
                        "x": 0,
                        "y": 0,
                        "z": 0,
                        "r": 0,
                        "a": 0
                    },
                    "level": 0,
                    "mass": 4.666666666666666,
                    "metrics": {
                        "betweenness": -1,
                        "closeness": -1,
                        "degree": -1,
                        "eccentricity": -1
                    },
                    "neighbors": [
                        "Id24",
                        "Id25"
                    ],
                    "order": -1,
                    "parent": False,
                    "position": {
                        "x": 65.03603561687714,
                        "y": 70.82472049740522,
                        "z": 0
                    },
                    "prevPosition": {
                        "x": 20.44189332561728,
                        "y": 4.961448688271602,
                        "z": 0
                    },
                    "radius": 0,
                    "velocity": {
                        "x": 0.00126179653096356,
                        "y": 0.0018991967669262425,
                        "z": 0
                    }
                },
                "x": 65.01079968625787,
                "y": 70.7867365620667,
                "z": 0,
                "nodeEdges": 11,
                "community": 3,
                "communityColor": "rgb(248,204,3)"
            },
            {
                "id": "Id42",
                "name": "Anzelma",
                "group": 4,
                "layout": {
                    "angle": 0,
                    "children": [],
                    "displacement": {
                        "x": 0,
                        "y": 0,
                        "z": 0
                    },
                    "edges": [
                        {
                            "id1": "Id42",
                            "id2": "Id41",
                            "value": 2,
                            "layout": {
                                "length": -1,
                                "weight": 1,
                                "coeff": -1
                            },
                            "weight": 1
                        },
                        {
                            "id1": "Id42",
                            "id2": "Id25",
                            "value": 2,
                            "layout": {
                                "length": -1,
                                "weight": 1,
                                "coeff": -1
                            },
                            "weight": 1
                        },
                        {
                            "id1": "Id42",
                            "id2": "Id24",
                            "value": 1,
                            "layout": {
                                "length": -1,
                                "weight": 1,
                                "coeff": -1
                            },
                            "weight": 1
                        }
                    ],
                    "force": {
                        "x": -1.7459404663014086e-05,
                        "y": -6.325032267431516e-06,
                        "z": 0
                    },
                    "hierarchy": False,
                    "lastPosition": {
                        "x": 0,
                        "y": 0,
                        "z": 0,
                        "r": 0,
                        "a": 0
                    },
                    "level": 0,
                    "mass": 2,
                    "metrics": {
                        "betweenness": -1,
                        "closeness": -1,
                        "degree": -1,
                        "eccentricity": -1
                    },
                    "neighbors": [
                        "Id41",
                        "Id25"
                    ],
                    "order": -1,
                    "parent": False,
                    "position": {
                        "x": 103.13110844593405,
                        "y": 28.752882335372593,
                        "z": 0
                    },
                    "prevPosition": {
                        "x": 22.408817997685176,
                        "y": 24.119931520061726,
                        "z": 0
                    },
                    "radius": 0,
                    "velocity": {
                        "x": 0.002836840813300278,
                        "y": 0.0006123690915211775,
                        "z": 0
                    }
                },
                "x": 103.07437162966804,
                "y": 28.74063495354217,
                "z": 0,
                "nodeEdges": 3,
                "community": 3,
                "communityColor": "rgb(248,204,3)"
            },
            {
                "id": "Id43",
                "name": "Woman 2",
                "group": 5,
                "layout": {
                    "angle": 0,
                    "children": [],
                    "displacement": {
                        "x": 0,
                        "y": 0,
                        "z": 0
                    },
                    "edges": [
                        {
                            "id1": "Id43",
                            "id2": "Id11",
                            "value": 3,
                            "layout": {
                                "length": -1,
                                "weight": 1,
                                "coeff": -1
                            },
                            "weight": 1
                        },
                        {
                            "id1": "Id43",
                            "id2": "Id26",
                            "value": 1,
                            "layout": {
                                "length": -1,
                                "weight": 1,
                                "coeff": -1
                            },
                            "weight": 1
                        },
                        {
                            "id1": "Id43",
                            "id2": "Id27",
                            "value": 1,
                            "layout": {
                                "length": -1,
                                "weight": 1,
                                "coeff": -1
                            },
                            "weight": 1
                        }
                    ],
                    "force": {
                        "x": 3.0958275942919757e-06,
                        "y": -6.195760094923272e-06,
                        "z": 0
                    },
                    "hierarchy": False,
                    "lastPosition": {
                        "x": 0,
                        "y": 0,
                        "z": 0,
                        "r": 0,
                        "a": 0
                    },
                    "level": 0,
                    "mass": 2,
                    "metrics": {
                        "betweenness": -1,
                        "closeness": -1,
                        "degree": -1,
                        "eccentricity": -1
                    },
                    "neighbors": [
                        "Id11",
                        "Id26"
                    ],
                    "order": -1,
                    "parent": False,
                    "position": {
                        "x": -33.718337981022785,
                        "y": 3.76670330222836,
                        "z": 0
                    },
                    "prevPosition": {
                        "x": 1.5848138503086417,
                        "y": 2.1624131944444436,
                        "z": 0
                    },
                    "radius": 0,
                    "velocity": {
                        "x": 0.0014257599840623294,
                        "y": -0.004905640773836151,
                        "z": 0
                    }
                },
                "x": -33.74685318070403,
                "y": 3.864816117705083,
                "z": 0,
                "nodeEdges": 3,
                "community": 4,
                "communityColor": "rgb(255,140,2)"
            },
            {
                "id": "Id44",
                "name": "Mother Innocent",
                "group": 0,
                "layout": {
                    "angle": 0,
                    "children": [],
                    "displacement": {
                        "x": 0,
                        "y": 0,
                        "z": 0
                    },
                    "edges": [
                        {
                            "id1": "Id44",
                            "id2": "Id28",
                            "value": 3,
                            "layout": {
                                "length": -1,
                                "weight": 1,
                                "coeff": -1
                            },
                            "weight": 1
                        },
                        {
                            "id1": "Id44",
                            "id2": "Id11",
                            "value": 1,
                            "layout": {
                                "length": -1,
                                "weight": 1,
                                "coeff": -1
                            },
                            "weight": 1
                        }
                    ],
                    "force": {
                        "x": 2.5871535005738723e-06,
                        "y": -4.51498198745506e-06,
                        "z": 0
                    },
                    "hierarchy": False,
                    "lastPosition": {
                        "x": 0,
                        "y": 0,
                        "z": 0,
                        "r": 0,
                        "a": 0
                    },
                    "level": 0,
                    "mass": 1.6666666666666665,
                    "metrics": {
                        "betweenness": -1,
                        "closeness": -1,
                        "degree": -1,
                        "eccentricity": -1
                    },
                    "neighbors": [
                        "Id28",
                        "Id11"
                    ],
                    "order": -1,
                    "parent": False,
                    "position": {
                        "x": 14.552996555272484,
                        "y": -94.36056222256072,
                        "z": 0
                    },
                    "prevPosition": {
                        "x": 13.451866319444441,
                        "y": -7.3825713734567895,
                        "z": 0
                    },
                    "radius": 0,
                    "velocity": {
                        "x": -0.001111984351713639,
                        "y": -0.001284871825738562,
                        "z": 0
                    }
                },
                "x": 14.575236242306756,
                "y": -94.33486478604594,
                "z": 0,
                "nodeEdges": 2,
                "community": 5,
                "communityColor": "rgb(105,150,150)"
            },
            {
                "id": "Id45",
                "name": "Gribier",
                "group": 0,
                "layout": {
                    "angle": 0,
                    "children": [],
                    "displacement": {
                        "x": 0,
                        "y": 0,
                        "z": 0
                    },
                    "edges": [
                        {
                            "id1": "Id45",
                            "id2": "Id28",
                            "value": 2,
                            "layout": {
                                "length": -1,
                                "weight": 1,
                                "coeff": -1
                            },
                            "weight": 1
                        }
                    ],
                    "force": {
                        "x": 7.1402936378927445e-06,
                        "y": -1.1289721198340028e-05,
                        "z": 0
                    },
                    "hierarchy": False,
                    "lastPosition": {
                        "x": 0,
                        "y": 0,
                        "z": 0,
                        "r": 0,
                        "a": 0
                    },
                    "level": 0,
                    "mass": 1.3333333333333333,
                    "metrics": {
                        "betweenness": -1,
                        "closeness": -1,
                        "degree": -1,
                        "eccentricity": -1
                    },
                    "neighbors": [
                        "Id28"
                    ],
                    "order": -1,
                    "parent": False,
                    "position": {
                        "x": 54.769262368565535,
                        "y": -131.91392002496667,
                        "z": 0
                    },
                    "prevPosition": {
                        "x": 40.002845293209866,
                        "y": 17.05329861111111,
                        "z": 0
                    },
                    "radius": 0,
                    "velocity": {
                        "x": -0.0037767614791740026,
                        "y": -0.0013502865881320613,
                        "z": 0
                    }
                },
                "x": 54.844797598149015,
                "y": -131.88691429320403,
                "z": 0,
                "nodeEdges": 1,
                "community": 5,
                "communityColor": "rgb(105,150,150)"
            },
            {
                "id": "Id46",
                "name": "Jondrette",
                "group": 7,
                "layout": {
                    "angle": 0,
                    "children": [],
                    "displacement": {
                        "x": 0,
                        "y": 0,
                        "z": 0
                    },
                    "edges": [
                        {
                            "id1": "Id47",
                            "id2": "Id46",
                            "value": 1,
                            "layout": {
                                "length": -1,
                                "weight": 1,
                                "coeff": -1
                            },
                            "weight": 1
                        }
                    ],
                    "force": {
                        "x": -4.589660637979373e-06,
                        "y": -1.4573127099299331e-05,
                        "z": 0
                    },
                    "hierarchy": False,
                    "lastPosition": {
                        "x": 0,
                        "y": 0,
                        "z": 0,
                        "r": 0,
                        "a": 0
                    },
                    "level": 0,
                    "mass": 1.3333333333333333,
                    "metrics": {
                        "betweenness": -1,
                        "closeness": -1,
                        "degree": -1,
                        "eccentricity": -1
                    },
                    "neighbors": [],
                    "order": -1,
                    "parent": False,
                    "position": {
                        "x": 169.99673740469498,
                        "y": 131.8321227540744,
                        "z": 0
                    },
                    "prevPosition": {
                        "x": 12.393364197530865,
                        "y": 0.2879629629629612,
                        "z": 0
                    },
                    "radius": 0,
                    "velocity": {
                        "x": -0.0053609583238174285,
                        "y": 0.020629902856654968,
                        "z": 0
                    }
                },
                "x": 170.10395657117132,
                "y": 131.4195246969413,
                "z": 0,
                "nodeEdges": 1,
                "community": 9,
                "communityColor": "rgb(250,220,90)"
            },
            {
                "id": "Id47",
                "name": "Mme. Burgon",
                "group": 7,
                "layout": {
                    "angle": 0,
                    "children": [],
                    "displacement": {
                        "x": 0,
                        "y": 0,
                        "z": 0
                    },
                    "edges": [
                        {
                            "id1": "Id47",
                            "id2": "Id46",
                            "value": 1,
                            "layout": {
                                "length": -1,
                                "weight": 1,
                                "coeff": -1
                            },
                            "weight": 1
                        },
                        {
                            "id1": "Id48",
                            "id2": "Id47",
                            "value": 2,
                            "layout": {
                                "length": -1,
                                "weight": 1,
                                "coeff": -1
                            },
                            "weight": 1
                        }
                    ],
                    "force": {
                        "x": -4.706638096887983e-06,
                        "y": -4.3031410173017745e-06,
                        "z": 0
                    },
                    "hierarchy": False,
                    "lastPosition": {
                        "x": 0,
                        "y": 0,
                        "z": 0,
                        "r": 0,
                        "a": 0
                    },
                    "level": 0,
                    "mass": 1.6666666666666665,
                    "metrics": {
                        "betweenness": -1,
                        "closeness": -1,
                        "degree": -1,
                        "eccentricity": -1
                    },
                    "neighbors": [
                        "Id46"
                    ],
                    "order": -1,
                    "parent": False,
                    "position": {
                        "x": 123.93194947845818,
                        "y": 119.13057263879568,
                        "z": 0
                    },
                    "prevPosition": {
                        "x": 28.34444444444445,
                        "y": 6.892901234567901,
                        "z": 0
                    },
                    "radius": 0,
                    "velocity": {
                        "x": -0.00330229778187223,
                        "y": 0.012881259552758303,
                        "z": 0
                    }
                },
                "x": 123.99799543409563,
                "y": 118.87294744774051,
                "z": 0,
                "nodeEdges": 2,
                "community": 9,
                "communityColor": "rgb(250,220,90)"
            },
            {
                "id": "Id48",
                "name": "Gavroche",
                "group": 8,
                "layout": {
                    "angle": 0,
                    "children": [],
                    "displacement": {
                        "x": 0,
                        "y": 0,
                        "z": 0
                    },
                    "edges": [
                        {
                            "id1": "Id48",
                            "id2": "Id47",
                            "value": 2,
                            "layout": {
                                "length": -1,
                                "weight": 1,
                                "coeff": -1
                            },
                            "weight": 1
                        },
                        {
                            "id1": "Id48",
                            "id2": "Id25",
                            "value": 1,
                            "layout": {
                                "length": -1,
                                "weight": 1,
                                "coeff": -1
                            },
                            "weight": 1
                        },
                        {
                            "id1": "Id48",
                            "id2": "Id27",
                            "value": 1,
                            "layout": {
                                "length": -1,
                                "weight": 1,
                                "coeff": -1
                            },
                            "weight": 1
                        },
                        {
                            "id1": "Id48",
                            "id2": "Id11",
                            "value": 1,
                            "layout": {
                                "length": -1,
                                "weight": 1,
                                "coeff": -1
                            },
                            "weight": 1
                        },
                        {
                            "id1": "Id55",
                            "id2": "Id48",
                            "value": 4,
                            "layout": {
                                "length": -1,
                                "weight": 1,
                                "coeff": -1
                            },
                            "weight": 1
                        },
                        {
                            "id1": "Id57",
                            "id2": "Id48",
                            "value": 1,
                            "layout": {
                                "length": -1,
                                "weight": 1,
                                "coeff": -1
                            },
                            "weight": 1
                        },
                        {
                            "id1": "Id58",
                            "id2": "Id48",
                            "value": 7,
                            "layout": {
                                "length": -1,
                                "weight": 1,
                                "coeff": -1
                            },
                            "weight": 1
                        },
                        {
                            "id1": "Id59",
                            "id2": "Id48",
                            "value": 6,
                            "layout": {
                                "length": -1,
                                "weight": 1,
                                "coeff": -1
                            },
                            "weight": 1
                        },
                        {
                            "id1": "Id60",
                            "id2": "Id48",
                            "value": 1,
                            "layout": {
                                "length": -1,
                                "weight": 1,
                                "coeff": -1
                            },
                            "weight": 1
                        },
                        {
                            "id1": "Id61",
                            "id2": "Id48",
                            "value": 2,
                            "layout": {
                                "length": -1,
                                "weight": 1,
                                "coeff": -1
                            },
                            "weight": 1
                        },
                        {
                            "id1": "Id62",
                            "id2": "Id48",
                            "value": 7,
                            "layout": {
                                "length": -1,
                                "weight": 1,
                                "coeff": -1
                            },
                            "weight": 1
                        },
                        {
                            "id1": "Id63",
                            "id2": "Id48",
                            "value": 5,
                            "layout": {
                                "length": -1,
                                "weight": 1,
                                "coeff": -1
                            },
                            "weight": 1
                        },
                        {
                            "id1": "Id64",
                            "id2": "Id48",
                            "value": 5,
                            "layout": {
                                "length": -1,
                                "weight": 1,
                                "coeff": -1
                            },
                            "weight": 1
                        },
                        {
                            "id1": "Id65",
                            "id2": "Id48",
                            "value": 3,
                            "layout": {
                                "length": -1,
                                "weight": 1,
                                "coeff": -1
                            },
                            "weight": 1
                        },
                        {
                            "id1": "Id66",
                            "id2": "Id48",
                            "value": 1,
                            "layout": {
                                "length": -1,
                                "weight": 1,
                                "coeff": -1
                            },
                            "weight": 1
                        },
                        {
                            "id1": "Id68",
                            "id2": "Id48",
                            "value": 1,
                            "layout": {
                                "length": -1,
                                "weight": 1,
                                "coeff": -1
                            },
                            "weight": 1
                        },
                        {
                            "id1": "Id69",
                            "id2": "Id48",
                            "value": 1,
                            "layout": {
                                "length": -1,
                                "weight": 1,
                                "coeff": -1
                            },
                            "weight": 1
                        },
                        {
                            "id1": "Id71",
                            "id2": "Id48",
                            "value": 1,
                            "layout": {
                                "length": -1,
                                "weight": 1,
                                "coeff": -1
                            },
                            "weight": 1
                        },
                        {
                            "id1": "Id73",
                            "id2": "Id48",
                            "value": 2,
                            "layout": {
                                "length": -1,
                                "weight": 1,
                                "coeff": -1
                            },
                            "weight": 1
                        },
                        {
                            "id1": "Id74",
                            "id2": "Id48",
                            "value": 2,
                            "layout": {
                                "length": -1,
                                "weight": 1,
                                "coeff": -1
                            },
                            "weight": 1
                        },
                        {
                            "id1": "Id75",
                            "id2": "Id48",
                            "value": 1,
                            "layout": {
                                "length": -1,
                                "weight": 1,
                                "coeff": -1
                            },
                            "weight": 1
                        },
                        {
                            "id1": "Id76",
                            "id2": "Id48",
                            "value": 1,
                            "layout": {
                                "length": -1,
                                "weight": 1,
                                "coeff": -1
                            },
                            "weight": 1
                        }
                    ],
                    "force": {
                        "x": 8.291321527162387e-05,
                        "y": 7.181404529117176e-05,
                        "z": 0
                    },
                    "hierarchy": False,
                    "lastPosition": {
                        "x": 0,
                        "y": 0,
                        "z": 0,
                        "r": 0,
                        "a": 0
                    },
                    "level": 0,
                    "mass": 8.333333333333332,
                    "metrics": {
                        "betweenness": -1,
                        "closeness": -1,
                        "degree": -1,
                        "eccentricity": -1
                    },
                    "neighbors": [
                        "Id47",
                        "Id25"
                    ],
                    "order": -1,
                    "parent": False,
                    "position": {
                        "x": 49.29800626460286,
                        "y": 97.45760382402625,
                        "z": 0
                    },
                    "prevPosition": {
                        "x": 38.26194540895062,
                        "y": 24.20973186728395,
                        "z": 0
                    },
                    "radius": 0,
                    "velocity": {
                        "x": -0.0018354947803880378,
                        "y": 1.0065672007348849e-05,
                        "z": 0
                    }
                },
                "x": 49.334716160210625,
                "y": 97.4574025105861,
                "z": 0,
                "nodeEdges": 22,
                "community": 10,
                "communityColor": "rgb(255,84,159)"
            },
            {
                "id": "Id49",
                "name": "Gillenormand",
                "group": 5,
                "layout": {
                    "angle": 0,
                    "children": [],
                    "displacement": {
                        "x": 0,
                        "y": 0,
                        "z": 0
                    },
                    "edges": [
                        {
                            "id1": "Id49",
                            "id2": "Id26",
                            "value": 3,
                            "layout": {
                                "length": -1,
                                "weight": 1,
                                "coeff": -1
                            },
                            "weight": 1
                        },
                        {
                            "id1": "Id49",
                            "id2": "Id11",
                            "value": 2,
                            "layout": {
                                "length": -1,
                                "weight": 1,
                                "coeff": -1
                            },
                            "weight": 1
                        },
                        {
                            "id1": "Id50",
                            "id2": "Id49",
                            "value": 1,
                            "layout": {
                                "length": -1,
                                "weight": 1,
                                "coeff": -1
                            },
                            "weight": 1
                        },
                        {
                            "id1": "Id51",
                            "id2": "Id49",
                            "value": 9,
                            "layout": {
                                "length": -1,
                                "weight": 1,
                                "coeff": -1
                            },
                            "weight": 1
                        },
                        {
                            "id1": "Id54",
                            "id2": "Id49",
                            "value": 1,
                            "layout": {
                                "length": -1,
                                "weight": 1,
                                "coeff": -1
                            },
                            "weight": 1
                        },
                        {
                            "id1": "Id55",
                            "id2": "Id49",
                            "value": 12,
                            "layout": {
                                "length": -1,
                                "weight": 1,
                                "coeff": -1
                            },
                            "weight": 1
                        },
                        {
                            "id1": "Id56",
                            "id2": "Id49",
                            "value": 1,
                            "layout": {
                                "length": -1,
                                "weight": 1,
                                "coeff": -1
                            },
                            "weight": 1
                        }
                    ],
                    "force": {
                        "x": -9.529070504600231e-05,
                        "y": 5.5895293351015604e-05,
                        "z": 0
                    },
                    "hierarchy": False,
                    "lastPosition": {
                        "x": 0,
                        "y": 0,
                        "z": 0,
                        "r": 0,
                        "a": 0
                    },
                    "level": 0,
                    "mass": 3.3333333333333335,
                    "metrics": {
                        "betweenness": -1,
                        "closeness": -1,
                        "degree": -1,
                        "eccentricity": -1
                    },
                    "neighbors": [
                        "Id26",
                        "Id11"
                    ],
                    "order": -1,
                    "parent": False,
                    "position": {
                        "x": -39.11201462702036,
                        "y": 31.31270848728469,
                        "z": 0
                    },
                    "prevPosition": {
                        "x": -9.402223186728396,
                        "y": 15.730931712962963,
                        "z": 0
                    },
                    "radius": 0,
                    "velocity": {
                        "x": 0.00906542510878649,
                        "y": -0.003954355079357953,
                        "z": 0
                    }
                },
                "x": -39.29332312919609,
                "y": 31.39179558887185,
                "z": 0,
                "nodeEdges": 7,
                "community": 4,
                "communityColor": "rgb(255,140,2)"
            },
            {
                "id": "Id50",
                "name": "Magnon",
                "group": 5,
                "layout": {
                    "angle": 0,
                    "children": [],
                    "displacement": {
                        "x": 0,
                        "y": 0,
                        "z": 0
                    },
                    "edges": [
                        {
                            "id1": "Id50",
                            "id2": "Id49",
                            "value": 1,
                            "layout": {
                                "length": -1,
                                "weight": 1,
                                "coeff": -1
                            },
                            "weight": 1
                        },
                        {
                            "id1": "Id50",
                            "id2": "Id24",
                            "value": 1,
                            "layout": {
                                "length": -1,
                                "weight": 1,
                                "coeff": -1
                            },
                            "weight": 1
                        }
                    ],
                    "force": {
                        "x": -0.000579167563110515,
                        "y": 1.904386867500763e-05,
                        "z": 0
                    },
                    "hierarchy": False,
                    "lastPosition": {
                        "x": 0,
                        "y": 0,
                        "z": 0,
                        "r": 0,
                        "a": 0
                    },
                    "level": 0,
                    "mass": 1.6666666666666665,
                    "metrics": {
                        "betweenness": -1,
                        "closeness": -1,
                        "degree": -1,
                        "eccentricity": -1
                    },
                    "neighbors": [
                        "Id49",
                        "Id24"
                    ],
                    "order": -1,
                    "parent": False,
                    "position": {
                        "x": 6.63272412637966,
                        "y": 4.244256968267172,
                        "z": 0
                    },
                    "prevPosition": {
                        "x": 11.47559558256173,
                        "y": 25.690176504629633,
                        "z": 0
                    },
                    "radius": 0,
                    "velocity": {
                        "x": 0.03706835360564208,
                        "y": 0.006946087889596006,
                        "z": 0
                    }
                },
                "x": 5.891357054266819,
                "y": 4.1053352104752525,
                "z": 0,
                "nodeEdges": 2,
                "community": 4,
                "communityColor": "rgb(255,140,2)"
            },
            {
                "id": "Id51",
                "name": "Mlle. Gillenormand",
                "group": 5,
                "layout": {
                    "angle": 0,
                    "children": [],
                    "displacement": {
                        "x": 0,
                        "y": 0,
                        "z": 0
                    },
                    "edges": [
                        {
                            "id1": "Id51",
                            "id2": "Id49",
                            "value": 9,
                            "layout": {
                                "length": -1,
                                "weight": 1,
                                "coeff": -1
                            },
                            "weight": 1
                        },
                        {
                            "id1": "Id51",
                            "id2": "Id26",
                            "value": 2,
                            "layout": {
                                "length": -1,
                                "weight": 1,
                                "coeff": -1
                            },
                            "weight": 1
                        },
                        {
                            "id1": "Id51",
                            "id2": "Id11",
                            "value": 2,
                            "layout": {
                                "length": -1,
                                "weight": 1,
                                "coeff": -1
                            },
                            "weight": 1
                        },
                        {
                            "id1": "Id52",
                            "id2": "Id51",
                            "value": 1,
                            "layout": {
                                "length": -1,
                                "weight": 1,
                                "coeff": -1
                            },
                            "weight": 1
                        },
                        {
                            "id1": "Id53",
                            "id2": "Id51",
                            "value": 1,
                            "layout": {
                                "length": -1,
                                "weight": 1,
                                "coeff": -1
                            },
                            "weight": 1
                        },
                        {
                            "id1": "Id54",
                            "id2": "Id51",
                            "value": 2,
                            "layout": {
                                "length": -1,
                                "weight": 1,
                                "coeff": -1
                            },
                            "weight": 1
                        },
                        {
                            "id1": "Id55",
                            "id2": "Id51",
                            "value": 6,
                            "layout": {
                                "length": -1,
                                "weight": 1,
                                "coeff": -1
                            },
                            "weight": 1
                        }
                    ],
                    "force": {
                        "x": 4.409763269521121e-05,
                        "y": -5.347779652861966e-05,
                        "z": 0
                    },
                    "hierarchy": False,
                    "lastPosition": {
                        "x": 0,
                        "y": 0,
                        "z": 0,
                        "r": 0,
                        "a": 0
                    },
                    "level": 0,
                    "mass": 3.3333333333333335,
                    "metrics": {
                        "betweenness": -1,
                        "closeness": -1,
                        "degree": -1,
                        "eccentricity": -1
                    },
                    "neighbors": [
                        "Id49",
                        "Id26"
                    ],
                    "order": -1,
                    "parent": False,
                    "position": {
                        "x": -67.19091034830164,
                        "y": 24.925327607925748,
                        "z": 0
                    },
                    "prevPosition": {
                        "x": 6.5143542631172835,
                        "y": 28.011791087962962,
                        "z": 0
                    },
                    "radius": 0,
                    "velocity": {
                        "x": 0.004521259829858133,
                        "y": -0.002186233117853727,
                        "z": 0
                    }
                },
                "x": -67.28133554489881,
                "y": 24.969052270282823,
                "z": 0,
                "nodeEdges": 7,
                "community": 4,
                "communityColor": "rgb(255,140,2)"
            },
            {
                "id": "Id52",
                "name": "Mme. Pontmercy",
                "group": 5,
                "layout": {
                    "angle": 0,
                    "children": [],
                    "displacement": {
                        "x": 0,
                        "y": 0,
                        "z": 0
                    },
                    "edges": [
                        {
                            "id1": "Id52",
                            "id2": "Id51",
                            "value": 1,
                            "layout": {
                                "length": -1,
                                "weight": 1,
                                "coeff": -1
                            },
                            "weight": 1
                        },
                        {
                            "id1": "Id52",
                            "id2": "Id39",
                            "value": 1,
                            "layout": {
                                "length": -1,
                                "weight": 1,
                                "coeff": -1
                            },
                            "weight": 1
                        }
                    ],
                    "force": {
                        "x": -1.832965185442296e-05,
                        "y": -1.9495846994488017e-06,
                        "z": 0
                    },
                    "hierarchy": False,
                    "lastPosition": {
                        "x": 0,
                        "y": 0,
                        "z": 0,
                        "r": 0,
                        "a": 0
                    },
                    "level": 0,
                    "mass": 1.6666666666666665,
                    "metrics": {
                        "betweenness": -1,
                        "closeness": -1,
                        "degree": -1,
                        "eccentricity": -1
                    },
                    "neighbors": [
                        "Id51",
                        "Id39"
                    ],
                    "order": -1,
                    "parent": False,
                    "position": {
                        "x": -94.73750724693936,
                        "y": 59.03206270326173,
                        "z": 0
                    },
                    "prevPosition": {
                        "x": 21.84095896026234,
                        "y": 34.81238667052469,
                        "z": 0
                    },
                    "radius": 0,
                    "velocity": {
                        "x": 0.0036434106662767817,
                        "y": -0.0013344577732341163,
                        "z": 0
                    }
                },
                "x": -94.8103754602649,
                "y": 59.05875185872641,
                "z": 0,
                "nodeEdges": 2,
                "community": 8,
                "communityColor": "rgb(194,224,118)"
            },
            {
                "id": "Id53",
                "name": "Mlle. Vaubois",
                "group": 5,
                "layout": {
                    "angle": 0,
                    "children": [],
                    "displacement": {
                        "x": 0,
                        "y": 0,
                        "z": 0
                    },
                    "edges": [
                        {
                            "id1": "Id53",
                            "id2": "Id51",
                            "value": 1,
                            "layout": {
                                "length": -1,
                                "weight": 1,
                                "coeff": -1
                            },
                            "weight": 1
                        }
                    ],
                    "force": {
                        "x": 8.881293318009284e-06,
                        "y": 4.778988473158998e-06,
                        "z": 0
                    },
                    "hierarchy": False,
                    "lastPosition": {
                        "x": 0,
                        "y": 0,
                        "z": 0,
                        "r": 0,
                        "a": 0
                    },
                    "level": 0,
                    "mass": 1.3333333333333333,
                    "metrics": {
                        "betweenness": -1,
                        "closeness": -1,
                        "degree": -1,
                        "eccentricity": -1
                    },
                    "neighbors": [
                        "Id51"
                    ],
                    "order": -1,
                    "parent": False,
                    "position": {
                        "x": -120.0691803962631,
                        "y": 27.940700078733776,
                        "z": 0
                    },
                    "prevPosition": {
                        "x": 14.589508584104934,
                        "y": 40.629692322530865,
                        "z": 0
                    },
                    "radius": 0,
                    "velocity": {
                        "x": 0.00351670945296856,
                        "y": -0.002220744539264596,
                        "z": 0
                    }
                },
                "x": -120.13951458532247,
                "y": 27.985114969519067,
                "z": 0,
                "nodeEdges": 1,
                "community": 4,
                "communityColor": "rgb(255,140,2)"
            },
            {
                "id": "Id54",
                "name": "Lt. Gillenormand",
                "group": 5,
                "layout": {
                    "angle": 0,
                    "children": [],
                    "displacement": {
                        "x": 0,
                        "y": 0,
                        "z": 0
                    },
                    "edges": [
                        {
                            "id1": "Id54",
                            "id2": "Id51",
                            "value": 2,
                            "layout": {
                                "length": -1,
                                "weight": 1,
                                "coeff": -1
                            },
                            "weight": 1
                        },
                        {
                            "id1": "Id54",
                            "id2": "Id49",
                            "value": 1,
                            "layout": {
                                "length": -1,
                                "weight": 1,
                                "coeff": -1
                            },
                            "weight": 1
                        },
                        {
                            "id1": "Id54",
                            "id2": "Id26",
                            "value": 1,
                            "layout": {
                                "length": -1,
                                "weight": 1,
                                "coeff": -1
                            },
                            "weight": 1
                        },
                        {
                            "id1": "Id55",
                            "id2": "Id54",
                            "value": 1,
                            "layout": {
                                "length": -1,
                                "weight": 1,
                                "coeff": -1
                            },
                            "weight": 1
                        }
                    ],
                    "force": {
                        "x": -3.1054557115292915e-05,
                        "y": -6.586274306668628e-06,
                        "z": 0
                    },
                    "hierarchy": False,
                    "lastPosition": {
                        "x": 0,
                        "y": 0,
                        "z": 0,
                        "r": 0,
                        "a": 0
                    },
                    "level": 0,
                    "mass": 2.333333333333333,
                    "metrics": {
                        "betweenness": -1,
                        "closeness": -1,
                        "degree": -1,
                        "eccentricity": -1
                    },
                    "neighbors": [
                        "Id51",
                        "Id49"
                    ],
                    "order": -1,
                    "parent": False,
                    "position": {
                        "x": -58.84271892370609,
                        "y": 58.679747967465715,
                        "z": 0
                    },
                    "prevPosition": {
                        "x": -0.7369900173611086,
                        "y": 10.769200906635803,
                        "z": 0
                    },
                    "radius": 0,
                    "velocity": {
                        "x": 0.003674233628551931,
                        "y": -0.0064846297823297734,
                        "z": 0
                    }
                },
                "x": -58.91620359627713,
                "y": 58.80944056311231,
                "z": 0,
                "nodeEdges": 4,
                "community": 4,
                "communityColor": "rgb(255,140,2)"
            },
            {
                "id": "Id55",
                "name": "Marius",
                "group": 8,
                "layout": {
                    "angle": 0,
                    "children": [],
                    "displacement": {
                        "x": 0,
                        "y": 0,
                        "z": 0
                    },
                    "edges": [
                        {
                            "id1": "Id55",
                            "id2": "Id51",
                            "value": 6,
                            "layout": {
                                "length": -1,
                                "weight": 1,
                                "coeff": -1
                            },
                            "weight": 1
                        },
                        {
                            "id1": "Id55",
                            "id2": "Id49",
                            "value": 12,
                            "layout": {
                                "length": -1,
                                "weight": 1,
                                "coeff": -1
                            },
                            "weight": 1
                        },
                        {
                            "id1": "Id55",
                            "id2": "Id39",
                            "value": 1,
                            "layout": {
                                "length": -1,
                                "weight": 1,
                                "coeff": -1
                            },
                            "weight": 1
                        },
                        {
                            "id1": "Id55",
                            "id2": "Id54",
                            "value": 1,
                            "layout": {
                                "length": -1,
                                "weight": 1,
                                "coeff": -1
                            },
                            "weight": 1
                        },
                        {
                            "id1": "Id55",
                            "id2": "Id26",
                            "value": 21,
                            "layout": {
                                "length": -1,
                                "weight": 1,
                                "coeff": -1
                            },
                            "weight": 1
                        },
                        {
                            "id1": "Id55",
                            "id2": "Id11",
                            "value": 19,
                            "layout": {
                                "length": -1,
                                "weight": 1,
                                "coeff": -1
                            },
                            "weight": 1
                        },
                        {
                            "id1": "Id55",
                            "id2": "Id16",
                            "value": 1,
                            "layout": {
                                "length": -1,
                                "weight": 1,
                                "coeff": -1
                            },
                            "weight": 1
                        },
                        {
                            "id1": "Id55",
                            "id2": "Id25",
                            "value": 2,
                            "layout": {
                                "length": -1,
                                "weight": 1,
                                "coeff": -1
                            },
                            "weight": 1
                        },
                        {
                            "id1": "Id55",
                            "id2": "Id41",
                            "value": 5,
                            "layout": {
                                "length": -1,
                                "weight": 1,
                                "coeff": -1
                            },
                            "weight": 1
                        },
                        {
                            "id1": "Id55",
                            "id2": "Id48",
                            "value": 4,
                            "layout": {
                                "length": -1,
                                "weight": 1,
                                "coeff": -1
                            },
                            "weight": 1
                        },
                        {
                            "id1": "Id56",
                            "id2": "Id55",
                            "value": 1,
                            "layout": {
                                "length": -1,
                                "weight": 1,
                                "coeff": -1
                            },
                            "weight": 1
                        },
                        {
                            "id1": "Id57",
                            "id2": "Id55",
                            "value": 1,
                            "layout": {
                                "length": -1,
                                "weight": 1,
                                "coeff": -1
                            },
                            "weight": 1
                        },
                        {
                            "id1": "Id58",
                            "id2": "Id55",
                            "value": 7,
                            "layout": {
                                "length": -1,
                                "weight": 1,
                                "coeff": -1
                            },
                            "weight": 1
                        },
                        {
                            "id1": "Id59",
                            "id2": "Id55",
                            "value": 5,
                            "layout": {
                                "length": -1,
                                "weight": 1,
                                "coeff": -1
                            },
                            "weight": 1
                        },
                        {
                            "id1": "Id61",
                            "id2": "Id55",
                            "value": 1,
                            "layout": {
                                "length": -1,
                                "weight": 1,
                                "coeff": -1
                            },
                            "weight": 1
                        },
                        {
                            "id1": "Id62",
                            "id2": "Id55",
                            "value": 9,
                            "layout": {
                                "length": -1,
                                "weight": 1,
                                "coeff": -1
                            },
                            "weight": 1
                        },
                        {
                            "id1": "Id63",
                            "id2": "Id55",
                            "value": 1,
                            "layout": {
                                "length": -1,
                                "weight": 1,
                                "coeff": -1
                            },
                            "weight": 1
                        },
                        {
                            "id1": "Id64",
                            "id2": "Id55",
                            "value": 5,
                            "layout": {
                                "length": -1,
                                "weight": 1,
                                "coeff": -1
                            },
                            "weight": 1
                        },
                        {
                            "id1": "Id65",
                            "id2": "Id55",
                            "value": 2,
                            "layout": {
                                "length": -1,
                                "weight": 1,
                                "coeff": -1
                            },
                            "weight": 1
                        }
                    ],
                    "force": {
                        "x": -1.83396699033056e-05,
                        "y": -2.6257780494032268e-05,
                        "z": 0
                    },
                    "hierarchy": False,
                    "lastPosition": {
                        "x": 0,
                        "y": 0,
                        "z": 0,
                        "r": 0,
                        "a": 0
                    },
                    "level": 0,
                    "mass": 7.333333333333333,
                    "metrics": {
                        "betweenness": -1,
                        "closeness": -1,
                        "degree": -1,
                        "eccentricity": -1
                    },
                    "neighbors": [
                        "Id51",
                        "Id49"
                    ],
                    "order": -1,
                    "parent": False,
                    "position": {
                        "x": -1.7934025945001388,
                        "y": 70.61043893756026,
                        "z": 0
                    },
                    "prevPosition": {
                        "x": -13.031125819830248,
                        "y": 35.0121021412037,
                        "z": 0
                    },
                    "radius": 0,
                    "velocity": {
                        "x": 0.004293250018378604,
                        "y": -0.00275485754005823,
                        "z": 0
                    }
                },
                "x": -1.8792675948677109,
                "y": 70.66553608836142,
                "z": 0,
                "nodeEdges": 19,
                "community": 4,
                "communityColor": "rgb(255,140,2)"
            },
            {
                "id": "Id56",
                "name": "Baroness T",
                "group": 5,
                "layout": {
                    "angle": 0,
                    "children": [],
                    "displacement": {
                        "x": 0,
                        "y": 0,
                        "z": 0
                    },
                    "edges": [
                        {
                            "id1": "Id56",
                            "id2": "Id49",
                            "value": 1,
                            "layout": {
                                "length": -1,
                                "weight": 1,
                                "coeff": -1
                            },
                            "weight": 1
                        },
                        {
                            "id1": "Id56",
                            "id2": "Id55",
                            "value": 1,
                            "layout": {
                                "length": -1,
                                "weight": 1,
                                "coeff": -1
                            },
                            "weight": 1
                        }
                    ],
                    "force": {
                        "x": -2.4527095232776408e-05,
                        "y": 1.863349695270522e-07,
                        "z": 0
                    },
                    "hierarchy": False,
                    "lastPosition": {
                        "x": 0,
                        "y": 0,
                        "z": 0,
                        "r": 0,
                        "a": 0
                    },
                    "level": 0,
                    "mass": 1.6666666666666665,
                    "metrics": {
                        "betweenness": -1,
                        "closeness": -1,
                        "degree": -1,
                        "eccentricity": -1
                    },
                    "neighbors": [
                        "Id49",
                        "Id55"
                    ],
                    "order": -1,
                    "parent": False,
                    "position": {
                        "x": -59.18373303191321,
                        "y": 80.95340023916452,
                        "z": 0
                    },
                    "prevPosition": {
                        "x": -7.579483145254631,
                        "y": 16.495899643132717,
                        "z": 0
                    },
                    "radius": 0,
                    "velocity": {
                        "x": 0.00559034295082186,
                        "y": -0.005143818650494585,
                        "z": 0
                    }
                },
                "x": -59.29553989092965,
                "y": 81.05627661217441,
                "z": 0,
                "nodeEdges": 2,
                "community": 4,
                "communityColor": "rgb(255,140,2)"
            },
            {
                "id": "Id57",
                "name": "Mabeuf",
                "group": 8,
                "layout": {
                    "angle": 0,
                    "children": [],
                    "displacement": {
                        "x": 0,
                        "y": 0,
                        "z": 0
                    },
                    "edges": [
                        {
                            "id1": "Id57",
                            "id2": "Id55",
                            "value": 1,
                            "layout": {
                                "length": -1,
                                "weight": 1,
                                "coeff": -1
                            },
                            "weight": 1
                        },
                        {
                            "id1": "Id57",
                            "id2": "Id41",
                            "value": 1,
                            "layout": {
                                "length": -1,
                                "weight": 1,
                                "coeff": -1
                            },
                            "weight": 1
                        },
                        {
                            "id1": "Id57",
                            "id2": "Id48",
                            "value": 1,
                            "layout": {
                                "length": -1,
                                "weight": 1,
                                "coeff": -1
                            },
                            "weight": 1
                        },
                        {
                            "id1": "Id58",
                            "id2": "Id57",
                            "value": 1,
                            "layout": {
                                "length": -1,
                                "weight": 1,
                                "coeff": -1
                            },
                            "weight": 1
                        },
                        {
                            "id1": "Id59",
                            "id2": "Id57",
                            "value": 2,
                            "layout": {
                                "length": -1,
                                "weight": 1,
                                "coeff": -1
                            },
                            "weight": 1
                        },
                        {
                            "id1": "Id61",
                            "id2": "Id57",
                            "value": 1,
                            "layout": {
                                "length": -1,
                                "weight": 1,
                                "coeff": -1
                            },
                            "weight": 1
                        },
                        {
                            "id1": "Id62",
                            "id2": "Id57",
                            "value": 2,
                            "layout": {
                                "length": -1,
                                "weight": 1,
                                "coeff": -1
                            },
                            "weight": 1
                        },
                        {
                            "id1": "Id63",
                            "id2": "Id57",
                            "value": 2,
                            "layout": {
                                "length": -1,
                                "weight": 1,
                                "coeff": -1
                            },
                            "weight": 1
                        },
                        {
                            "id1": "Id64",
                            "id2": "Id57",
                            "value": 1,
                            "layout": {
                                "length": -1,
                                "weight": 1,
                                "coeff": -1
                            },
                            "weight": 1
                        },
                        {
                            "id1": "Id65",
                            "id2": "Id57",
                            "value": 1,
                            "layout": {
                                "length": -1,
                                "weight": 1,
                                "coeff": -1
                            },
                            "weight": 1
                        },
                        {
                            "id1": "Id67",
                            "id2": "Id57",
                            "value": 3,
                            "layout": {
                                "length": -1,
                                "weight": 1,
                                "coeff": -1
                            },
                            "weight": 1
                        }
                    ],
                    "force": {
                        "x": -7.810446921905842e-05,
                        "y": -4.0477094704869515e-05,
                        "z": 0
                    },
                    "hierarchy": False,
                    "lastPosition": {
                        "x": 0,
                        "y": 0,
                        "z": 0,
                        "r": 0,
                        "a": 0
                    },
                    "level": 0,
                    "mass": 4.666666666666666,
                    "metrics": {
                        "betweenness": -1,
                        "closeness": -1,
                        "degree": -1,
                        "eccentricity": -1
                    },
                    "neighbors": [
                        "Id55",
                        "Id41"
                    ],
                    "order": -1,
                    "parent": False,
                    "position": {
                        "x": 30.34215194408948,
                        "y": 122.26525718604137,
                        "z": 0
                    },
                    "prevPosition": {
                        "x": 1.1965874565972214,
                        "y": 15.279985291280859,
                        "z": 0
                    },
                    "radius": 0,
                    "velocity": {
                        "x": 0.0009156639292334642,
                        "y": 0.0013088966759738905,
                        "z": 0
                    }
                },
                "x": 30.32383866550481,
                "y": 122.23907925252189,
                "z": 0,
                "nodeEdges": 11,
                "community": 10,
                "communityColor": "rgb(255,84,159)"
            },
            {
                "id": "Id58",
                "name": "Enjolras",
                "group": 8,
                "layout": {
                    "angle": 0,
                    "children": [],
                    "displacement": {
                        "x": 0,
                        "y": 0,
                        "z": 0
                    },
                    "edges": [
                        {
                            "id1": "Id58",
                            "id2": "Id55",
                            "value": 7,
                            "layout": {
                                "length": -1,
                                "weight": 1,
                                "coeff": -1
                            },
                            "weight": 1
                        },
                        {
                            "id1": "Id58",
                            "id2": "Id48",
                            "value": 7,
                            "layout": {
                                "length": -1,
                                "weight": 1,
                                "coeff": -1
                            },
                            "weight": 1
                        },
                        {
                            "id1": "Id58",
                            "id2": "Id27",
                            "value": 6,
                            "layout": {
                                "length": -1,
                                "weight": 1,
                                "coeff": -1
                            },
                            "weight": 1
                        },
                        {
                            "id1": "Id58",
                            "id2": "Id57",
                            "value": 1,
                            "layout": {
                                "length": -1,
                                "weight": 1,
                                "coeff": -1
                            },
                            "weight": 1
                        },
                        {
                            "id1": "Id58",
                            "id2": "Id11",
                            "value": 4,
                            "layout": {
                                "length": -1,
                                "weight": 1,
                                "coeff": -1
                            },
                            "weight": 1
                        },
                        {
                            "id1": "Id59",
                            "id2": "Id58",
                            "value": 15,
                            "layout": {
                                "length": -1,
                                "weight": 1,
                                "coeff": -1
                            },
                            "weight": 1
                        },
                        {
                            "id1": "Id60",
                            "id2": "Id58",
                            "value": 4,
                            "layout": {
                                "length": -1,
                                "weight": 1,
                                "coeff": -1
                            },
                            "weight": 1
                        },
                        {
                            "id1": "Id61",
                            "id2": "Id58",
                            "value": 6,
                            "layout": {
                                "length": -1,
                                "weight": 1,
                                "coeff": -1
                            },
                            "weight": 1
                        },
                        {
                            "id1": "Id62",
                            "id2": "Id58",
                            "value": 17,
                            "layout": {
                                "length": -1,
                                "weight": 1,
                                "coeff": -1
                            },
                            "weight": 1
                        },
                        {
                            "id1": "Id63",
                            "id2": "Id58",
                            "value": 4,
                            "layout": {
                                "length": -1,
                                "weight": 1,
                                "coeff": -1
                            },
                            "weight": 1
                        },
                        {
                            "id1": "Id64",
                            "id2": "Id58",
                            "value": 10,
                            "layout": {
                                "length": -1,
                                "weight": 1,
                                "coeff": -1
                            },
                            "weight": 1
                        },
                        {
                            "id1": "Id65",
                            "id2": "Id58",
                            "value": 5,
                            "layout": {
                                "length": -1,
                                "weight": 1,
                                "coeff": -1
                            },
                            "weight": 1
                        },
                        {
                            "id1": "Id66",
                            "id2": "Id58",
                            "value": 3,
                            "layout": {
                                "length": -1,
                                "weight": 1,
                                "coeff": -1
                            },
                            "weight": 1
                        },
                        {
                            "id1": "Id70",
                            "id2": "Id58",
                            "value": 1,
                            "layout": {
                                "length": -1,
                                "weight": 1,
                                "coeff": -1
                            },
                            "weight": 1
                        },
                        {
                            "id1": "Id76",
                            "id2": "Id58",
                            "value": 1,
                            "layout": {
                                "length": -1,
                                "weight": 1,
                                "coeff": -1
                            },
                            "weight": 1
                        }
                    ],
                    "force": {
                        "x": 4.145570771453468e-05,
                        "y": -7.63973410654378e-05,
                        "z": 0
                    },
                    "hierarchy": False,
                    "lastPosition": {
                        "x": 0,
                        "y": 0,
                        "z": 0,
                        "r": 0,
                        "a": 0
                    },
                    "level": 0,
                    "mass": 6,
                    "metrics": {
                        "betweenness": -1,
                        "closeness": -1,
                        "degree": -1,
                        "eccentricity": -1
                    },
                    "neighbors": [
                        "Id55",
                        "Id48"
                    ],
                    "order": -1,
                    "parent": False,
                    "position": {
                        "x": 15.136542692906445,
                        "y": 95.55105867437629,
                        "z": 0
                    },
                    "prevPosition": {
                        "x": 12.368033251350312,
                        "y": 34.36925033757716,
                        "z": 0
                    },
                    "radius": 0,
                    "velocity": {
                        "x": -0.001746718380184006,
                        "y": 0.0009753191782410788,
                        "z": 0
                    }
                },
                "x": 15.171477060510126,
                "y": 95.53155229081148,
                "z": 0,
                "nodeEdges": 15,
                "community": 10,
                "communityColor": "rgb(255,84,159)"
            },
            {
                "id": "Id59",
                "name": "Combeferre",
                "group": 8,
                "layout": {
                    "angle": 0,
                    "children": [],
                    "displacement": {
                        "x": 0,
                        "y": 0,
                        "z": 0
                    },
                    "edges": [
                        {
                            "id1": "Id59",
                            "id2": "Id58",
                            "value": 15,
                            "layout": {
                                "length": -1,
                                "weight": 1,
                                "coeff": -1
                            },
                            "weight": 1
                        },
                        {
                            "id1": "Id59",
                            "id2": "Id55",
                            "value": 5,
                            "layout": {
                                "length": -1,
                                "weight": 1,
                                "coeff": -1
                            },
                            "weight": 1
                        },
                        {
                            "id1": "Id59",
                            "id2": "Id48",
                            "value": 6,
                            "layout": {
                                "length": -1,
                                "weight": 1,
                                "coeff": -1
                            },
                            "weight": 1
                        },
                        {
                            "id1": "Id59",
                            "id2": "Id57",
                            "value": 2,
                            "layout": {
                                "length": -1,
                                "weight": 1,
                                "coeff": -1
                            },
                            "weight": 1
                        },
                        {
                            "id1": "Id60",
                            "id2": "Id59",
                            "value": 2,
                            "layout": {
                                "length": -1,
                                "weight": 1,
                                "coeff": -1
                            },
                            "weight": 1
                        },
                        {
                            "id1": "Id61",
                            "id2": "Id59",
                            "value": 5,
                            "layout": {
                                "length": -1,
                                "weight": 1,
                                "coeff": -1
                            },
                            "weight": 1
                        },
                        {
                            "id1": "Id62",
                            "id2": "Id59",
                            "value": 13,
                            "layout": {
                                "length": -1,
                                "weight": 1,
                                "coeff": -1
                            },
                            "weight": 1
                        },
                        {
                            "id1": "Id63",
                            "id2": "Id59",
                            "value": 5,
                            "layout": {
                                "length": -1,
                                "weight": 1,
                                "coeff": -1
                            },
                            "weight": 1
                        },
                        {
                            "id1": "Id64",
                            "id2": "Id59",
                            "value": 9,
                            "layout": {
                                "length": -1,
                                "weight": 1,
                                "coeff": -1
                            },
                            "weight": 1
                        },
                        {
                            "id1": "Id65",
                            "id2": "Id59",
                            "value": 5,
                            "layout": {
                                "length": -1,
                                "weight": 1,
                                "coeff": -1
                            },
                            "weight": 1
                        },
                        {
                            "id1": "Id66",
                            "id2": "Id59",
                            "value": 1,
                            "layout": {
                                "length": -1,
                                "weight": 1,
                                "coeff": -1
                            },
                            "weight": 1
                        }
                    ],
                    "force": {
                        "x": -3.62672535213996e-05,
                        "y": -2.723967525460405e-05,
                        "z": 0
                    },
                    "hierarchy": False,
                    "lastPosition": {
                        "x": 0,
                        "y": 0,
                        "z": 0,
                        "r": 0,
                        "a": 0
                    },
                    "level": 0,
                    "mass": 4.666666666666666,
                    "metrics": {
                        "betweenness": -1,
                        "closeness": -1,
                        "degree": -1,
                        "eccentricity": -1
                    },
                    "neighbors": [
                        "Id58",
                        "Id55"
                    ],
                    "order": -1,
                    "parent": False,
                    "position": {
                        "x": -0.6867597284188447,
                        "y": 150.95748542749976,
                        "z": 0
                    },
                    "prevPosition": {
                        "x": 14.534348777488425,
                        "y": 27.98820710358796,
                        "z": 0
                    },
                    "radius": 0,
                    "velocity": {
                        "x": -0.0015383193236300561,
                        "y": -0.001376978251857919,
                        "z": 0
                    }
                },
                "x": -0.6559933419462436,
                "y": 150.98502499253692,
                "z": 0,
                "nodeEdges": 11,
                "community": 10,
                "communityColor": "rgb(255,84,159)"
            },
            {
                "id": "Id60",
                "name": "Prouvaire",
                "group": 8,
                "layout": {
                    "angle": 0,
                    "children": [],
                    "displacement": {
                        "x": 0,
                        "y": 0,
                        "z": 0
                    },
                    "edges": [
                        {
                            "id1": "Id60",
                            "id2": "Id48",
                            "value": 1,
                            "layout": {
                                "length": -1,
                                "weight": 1,
                                "coeff": -1
                            },
                            "weight": 1
                        },
                        {
                            "id1": "Id60",
                            "id2": "Id58",
                            "value": 4,
                            "layout": {
                                "length": -1,
                                "weight": 1,
                                "coeff": -1
                            },
                            "weight": 1
                        },
                        {
                            "id1": "Id60",
                            "id2": "Id59",
                            "value": 2,
                            "layout": {
                                "length": -1,
                                "weight": 1,
                                "coeff": -1
                            },
                            "weight": 1
                        },
                        {
                            "id1": "Id61",
                            "id2": "Id60",
                            "value": 2,
                            "layout": {
                                "length": -1,
                                "weight": 1,
                                "coeff": -1
                            },
                            "weight": 1
                        },
                        {
                            "id1": "Id62",
                            "id2": "Id60",
                            "value": 3,
                            "layout": {
                                "length": -1,
                                "weight": 1,
                                "coeff": -1
                            },
                            "weight": 1
                        },
                        {
                            "id1": "Id63",
                            "id2": "Id60",
                            "value": 2,
                            "layout": {
                                "length": -1,
                                "weight": 1,
                                "coeff": -1
                            },
                            "weight": 1
                        },
                        {
                            "id1": "Id64",
                            "id2": "Id60",
                            "value": 2,
                            "layout": {
                                "length": -1,
                                "weight": 1,
                                "coeff": -1
                            },
                            "weight": 1
                        },
                        {
                            "id1": "Id65",
                            "id2": "Id60",
                            "value": 2,
                            "layout": {
                                "length": -1,
                                "weight": 1,
                                "coeff": -1
                            },
                            "weight": 1
                        },
                        {
                            "id1": "Id66",
                            "id2": "Id60",
                            "value": 1,
                            "layout": {
                                "length": -1,
                                "weight": 1,
                                "coeff": -1
                            },
                            "weight": 1
                        }
                    ],
                    "force": {
                        "x": -3.8085215237847712e-06,
                        "y": -3.6090500611655335e-05,
                        "z": 0
                    },
                    "hierarchy": False,
                    "lastPosition": {
                        "x": 0,
                        "y": 0,
                        "z": 0,
                        "r": 0,
                        "a": 0
                    },
                    "level": 0,
                    "mass": 4,
                    "metrics": {
                        "betweenness": -1,
                        "closeness": -1,
                        "degree": -1,
                        "eccentricity": -1
                    },
                    "neighbors": [
                        "Id48",
                        "Id58"
                    ],
                    "order": -1,
                    "parent": False,
                    "position": {
                        "x": 40.958553026028966,
                        "y": 166.14064171325867,
                        "z": 0
                    },
                    "prevPosition": {
                        "x": 39.2571189597801,
                        "y": 34.6447380160108,
                        "z": 0
                    },
                    "radius": 0,
                    "velocity": {
                        "x": -0.0036581016908388826,
                        "y": 0.001990429837353997,
                        "z": 0
                    }
                },
                "x": 41.031715059845745,
                "y": 166.10083311651158,
                "z": 0,
                "nodeEdges": 9,
                "community": 10,
                "communityColor": "rgb(255,84,159)"
            },
            {
                "id": "Id61",
                "name": "Feuilly",
                "group": 8,
                "layout": {
                    "angle": 0,
                    "children": [],
                    "displacement": {
                        "x": 0,
                        "y": 0,
                        "z": 0
                    },
                    "edges": [
                        {
                            "id1": "Id61",
                            "id2": "Id48",
                            "value": 2,
                            "layout": {
                                "length": -1,
                                "weight": 1,
                                "coeff": -1
                            },
                            "weight": 1
                        },
                        {
                            "id1": "Id61",
                            "id2": "Id58",
                            "value": 6,
                            "layout": {
                                "length": -1,
                                "weight": 1,
                                "coeff": -1
                            },
                            "weight": 1
                        },
                        {
                            "id1": "Id61",
                            "id2": "Id60",
                            "value": 2,
                            "layout": {
                                "length": -1,
                                "weight": 1,
                                "coeff": -1
                            },
                            "weight": 1
                        },
                        {
                            "id1": "Id61",
                            "id2": "Id59",
                            "value": 5,
                            "layout": {
                                "length": -1,
                                "weight": 1,
                                "coeff": -1
                            },
                            "weight": 1
                        },
                        {
                            "id1": "Id61",
                            "id2": "Id57",
                            "value": 1,
                            "layout": {
                                "length": -1,
                                "weight": 1,
                                "coeff": -1
                            },
                            "weight": 1
                        },
                        {
                            "id1": "Id61",
                            "id2": "Id55",
                            "value": 1,
                            "layout": {
                                "length": -1,
                                "weight": 1,
                                "coeff": -1
                            },
                            "weight": 1
                        },
                        {
                            "id1": "Id62",
                            "id2": "Id61",
                            "value": 6,
                            "layout": {
                                "length": -1,
                                "weight": 1,
                                "coeff": -1
                            },
                            "weight": 1
                        },
                        {
                            "id1": "Id63",
                            "id2": "Id61",
                            "value": 3,
                            "layout": {
                                "length": -1,
                                "weight": 1,
                                "coeff": -1
                            },
                            "weight": 1
                        },
                        {
                            "id1": "Id64",
                            "id2": "Id61",
                            "value": 6,
                            "layout": {
                                "length": -1,
                                "weight": 1,
                                "coeff": -1
                            },
                            "weight": 1
                        },
                        {
                            "id1": "Id65",
                            "id2": "Id61",
                            "value": 5,
                            "layout": {
                                "length": -1,
                                "weight": 1,
                                "coeff": -1
                            },
                            "weight": 1
                        },
                        {
                            "id1": "Id66",
                            "id2": "Id61",
                            "value": 1,
                            "layout": {
                                "length": -1,
                                "weight": 1,
                                "coeff": -1
                            },
                            "weight": 1
                        }
                    ],
                    "force": {
                        "x": -6.42601715305103e-05,
                        "y": -3.2974626800913107e-05,
                        "z": 0
                    },
                    "hierarchy": False,
                    "lastPosition": {
                        "x": 0,
                        "y": 0,
                        "z": 0,
                        "r": 0,
                        "a": 0
                    },
                    "level": 0,
                    "mass": 4.666666666666666,
                    "metrics": {
                        "betweenness": -1,
                        "closeness": -1,
                        "degree": -1,
                        "eccentricity": -1
                    },
                    "neighbors": [
                        "Id48",
                        "Id58"
                    ],
                    "order": -1,
                    "parent": False,
                    "position": {
                        "x": 49.09376522207891,
                        "y": 138.92086026009986,
                        "z": 0
                    },
                    "prevPosition": {
                        "x": 12.074094268422073,
                        "y": 33.332083695023144,
                        "z": 0
                    },
                    "radius": 0,
                    "velocity": {
                        "x": -0.0004756913717011077,
                        "y": 0.0018854279785395641,
                        "z": 0
                    }
                },
                "x": 49.10327904951293,
                "y": 138.88315170052906,
                "z": 0,
                "nodeEdges": 11,
                "community": 10,
                "communityColor": "rgb(255,84,159)"
            },
            {
                "id": "Id62",
                "name": "Courfeyrac",
                "group": 8,
                "layout": {
                    "angle": 0,
                    "children": [],
                    "displacement": {
                        "x": 0,
                        "y": 0,
                        "z": 0
                    },
                    "edges": [
                        {
                            "id1": "Id62",
                            "id2": "Id55",
                            "value": 9,
                            "layout": {
                                "length": -1,
                                "weight": 1,
                                "coeff": -1
                            },
                            "weight": 1
                        },
                        {
                            "id1": "Id62",
                            "id2": "Id58",
                            "value": 17,
                            "layout": {
                                "length": -1,
                                "weight": 1,
                                "coeff": -1
                            },
                            "weight": 1
                        },
                        {
                            "id1": "Id62",
                            "id2": "Id59",
                            "value": 13,
                            "layout": {
                                "length": -1,
                                "weight": 1,
                                "coeff": -1
                            },
                            "weight": 1
                        },
                        {
                            "id1": "Id62",
                            "id2": "Id48",
                            "value": 7,
                            "layout": {
                                "length": -1,
                                "weight": 1,
                                "coeff": -1
                            },
                            "weight": 1
                        },
                        {
                            "id1": "Id62",
                            "id2": "Id57",
                            "value": 2,
                            "layout": {
                                "length": -1,
                                "weight": 1,
                                "coeff": -1
                            },
                            "weight": 1
                        },
                        {
                            "id1": "Id62",
                            "id2": "Id41",
                            "value": 1,
                            "layout": {
                                "length": -1,
                                "weight": 1,
                                "coeff": -1
                            },
                            "weight": 1
                        },
                        {
                            "id1": "Id62",
                            "id2": "Id61",
                            "value": 6,
                            "layout": {
                                "length": -1,
                                "weight": 1,
                                "coeff": -1
                            },
                            "weight": 1
                        },
                        {
                            "id1": "Id62",
                            "id2": "Id60",
                            "value": 3,
                            "layout": {
                                "length": -1,
                                "weight": 1,
                                "coeff": -1
                            },
                            "weight": 1
                        },
                        {
                            "id1": "Id63",
                            "id2": "Id62",
                            "value": 6,
                            "layout": {
                                "length": -1,
                                "weight": 1,
                                "coeff": -1
                            },
                            "weight": 1
                        },
                        {
                            "id1": "Id64",
                            "id2": "Id62",
                            "value": 12,
                            "layout": {
                                "length": -1,
                                "weight": 1,
                                "coeff": -1
                            },
                            "weight": 1
                        },
                        {
                            "id1": "Id65",
                            "id2": "Id62",
                            "value": 5,
                            "layout": {
                                "length": -1,
                                "weight": 1,
                                "coeff": -1
                            },
                            "weight": 1
                        },
                        {
                            "id1": "Id66",
                            "id2": "Id62",
                            "value": 2,
                            "layout": {
                                "length": -1,
                                "weight": 1,
                                "coeff": -1
                            },
                            "weight": 1
                        },
                        {
                            "id1": "Id76",
                            "id2": "Id62",
                            "value": 1,
                            "layout": {
                                "length": -1,
                                "weight": 1,
                                "coeff": -1
                            },
                            "weight": 1
                        }
                    ],
                    "force": {
                        "x": -6.890684440402943e-05,
                        "y": -3.58052791368281e-05,
                        "z": 0
                    },
                    "hierarchy": False,
                    "lastPosition": {
                        "x": 0,
                        "y": 0,
                        "z": 0,
                        "r": 0,
                        "a": 0
                    },
                    "level": 0,
                    "mass": 5.333333333333333,
                    "metrics": {
                        "betweenness": -1,
                        "closeness": -1,
                        "degree": -1,
                        "eccentricity": -1
                    },
                    "neighbors": [
                        "Id55",
                        "Id58"
                    ],
                    "order": -1,
                    "parent": False,
                    "position": {
                        "x": 8.48975949741624,
                        "y": 126.73137410189555,
                        "z": 0
                    },
                    "prevPosition": {
                        "x": 17.429719147858798,
                        "y": 29.828021918402776,
                        "z": 0
                    },
                    "radius": 0,
                    "velocity": {
                        "x": 0.0001031768909310792,
                        "y": -0.0006084153266500631,
                        "z": 0
                    }
                },
                "x": 8.487695959597618,
                "y": 126.74354240842855,
                "z": 0,
                "nodeEdges": 13,
                "community": 10,
                "communityColor": "rgb(255,84,159)"
            },
            {
                "id": "Id63",
                "name": "Bahorel",
                "group": 8,
                "layout": {
                    "angle": 0,
                    "children": [],
                    "displacement": {
                        "x": 0,
                        "y": 0,
                        "z": 0
                    },
                    "edges": [
                        {
                            "id1": "Id63",
                            "id2": "Id59",
                            "value": 5,
                            "layout": {
                                "length": -1,
                                "weight": 1,
                                "coeff": -1
                            },
                            "weight": 1
                        },
                        {
                            "id1": "Id63",
                            "id2": "Id48",
                            "value": 5,
                            "layout": {
                                "length": -1,
                                "weight": 1,
                                "coeff": -1
                            },
                            "weight": 1
                        },
                        {
                            "id1": "Id63",
                            "id2": "Id62",
                            "value": 6,
                            "layout": {
                                "length": -1,
                                "weight": 1,
                                "coeff": -1
                            },
                            "weight": 1
                        },
                        {
                            "id1": "Id63",
                            "id2": "Id57",
                            "value": 2,
                            "layout": {
                                "length": -1,
                                "weight": 1,
                                "coeff": -1
                            },
                            "weight": 1
                        },
                        {
                            "id1": "Id63",
                            "id2": "Id58",
                            "value": 4,
                            "layout": {
                                "length": -1,
                                "weight": 1,
                                "coeff": -1
                            },
                            "weight": 1
                        },
                        {
                            "id1": "Id63",
                            "id2": "Id61",
                            "value": 3,
                            "layout": {
                                "length": -1,
                                "weight": 1,
                                "coeff": -1
                            },
                            "weight": 1
                        },
                        {
                            "id1": "Id63",
                            "id2": "Id60",
                            "value": 2,
                            "layout": {
                                "length": -1,
                                "weight": 1,
                                "coeff": -1
                            },
                            "weight": 1
                        },
                        {
                            "id1": "Id63",
                            "id2": "Id55",
                            "value": 1,
                            "layout": {
                                "length": -1,
                                "weight": 1,
                                "coeff": -1
                            },
                            "weight": 1
                        },
                        {
                            "id1": "Id64",
                            "id2": "Id63",
                            "value": 4,
                            "layout": {
                                "length": -1,
                                "weight": 1,
                                "coeff": -1
                            },
                            "weight": 1
                        },
                        {
                            "id1": "Id65",
                            "id2": "Id63",
                            "value": 5,
                            "layout": {
                                "length": -1,
                                "weight": 1,
                                "coeff": -1
                            },
                            "weight": 1
                        },
                        {
                            "id1": "Id66",
                            "id2": "Id63",
                            "value": 1,
                            "layout": {
                                "length": -1,
                                "weight": 1,
                                "coeff": -1
                            },
                            "weight": 1
                        },
                        {
                            "id1": "Id76",
                            "id2": "Id63",
                            "value": 1,
                            "layout": {
                                "length": -1,
                                "weight": 1,
                                "coeff": -1
                            },
                            "weight": 1
                        }
                    ],
                    "force": {
                        "x": -4.423811937923593e-05,
                        "y": -2.1730049007742062e-05,
                        "z": 0
                    },
                    "hierarchy": False,
                    "lastPosition": {
                        "x": 0,
                        "y": 0,
                        "z": 0,
                        "r": 0,
                        "a": 0
                    },
                    "level": 0,
                    "mass": 5,
                    "metrics": {
                        "betweenness": -1,
                        "closeness": -1,
                        "degree": -1,
                        "eccentricity": -1
                    },
                    "neighbors": [
                        "Id59",
                        "Id48"
                    ],
                    "order": -1,
                    "parent": False,
                    "position": {
                        "x": 23.228422192930736,
                        "y": 150.0850810538581,
                        "z": 0
                    },
                    "prevPosition": {
                        "x": 16.457869315441748,
                        "y": 21.182920102719905,
                        "z": 0
                    },
                    "radius": 0,
                    "velocity": {
                        "x": -0.0014515701309288954,
                        "y": 0.0002569848947497639,
                        "z": 0
                    }
                },
                "x": 23.257453595549315,
                "y": 150.0799413559631,
                "z": 0,
                "nodeEdges": 12,
                "community": 10,
                "communityColor": "rgb(255,84,159)"
            },
            {
                "id": "Id64",
                "name": "Bossuet",
                "group": 8,
                "layout": {
                    "angle": 0,
                    "children": [],
                    "displacement": {
                        "x": 0,
                        "y": 0,
                        "z": 0
                    },
                    "edges": [
                        {
                            "id1": "Id64",
                            "id2": "Id55",
                            "value": 5,
                            "layout": {
                                "length": -1,
                                "weight": 1,
                                "coeff": -1
                            },
                            "weight": 1
                        },
                        {
                            "id1": "Id64",
                            "id2": "Id62",
                            "value": 12,
                            "layout": {
                                "length": -1,
                                "weight": 1,
                                "coeff": -1
                            },
                            "weight": 1
                        },
                        {
                            "id1": "Id64",
                            "id2": "Id48",
                            "value": 5,
                            "layout": {
                                "length": -1,
                                "weight": 1,
                                "coeff": -1
                            },
                            "weight": 1
                        },
                        {
                            "id1": "Id64",
                            "id2": "Id63",
                            "value": 4,
                            "layout": {
                                "length": -1,
                                "weight": 1,
                                "coeff": -1
                            },
                            "weight": 1
                        },
                        {
                            "id1": "Id64",
                            "id2": "Id58",
                            "value": 10,
                            "layout": {
                                "length": -1,
                                "weight": 1,
                                "coeff": -1
                            },
                            "weight": 1
                        },
                        {
                            "id1": "Id64",
                            "id2": "Id61",
                            "value": 6,
                            "layout": {
                                "length": -1,
                                "weight": 1,
                                "coeff": -1
                            },
                            "weight": 1
                        },
                        {
                            "id1": "Id64",
                            "id2": "Id60",
                            "value": 2,
                            "layout": {
                                "length": -1,
                                "weight": 1,
                                "coeff": -1
                            },
                            "weight": 1
                        },
                        {
                            "id1": "Id64",
                            "id2": "Id59",
                            "value": 9,
                            "layout": {
                                "length": -1,
                                "weight": 1,
                                "coeff": -1
                            },
                            "weight": 1
                        },
                        {
                            "id1": "Id64",
                            "id2": "Id57",
                            "value": 1,
                            "layout": {
                                "length": -1,
                                "weight": 1,
                                "coeff": -1
                            },
                            "weight": 1
                        },
                        {
                            "id1": "Id64",
                            "id2": "Id11",
                            "value": 1,
                            "layout": {
                                "length": -1,
                                "weight": 1,
                                "coeff": -1
                            },
                            "weight": 1
                        },
                        {
                            "id1": "Id65",
                            "id2": "Id64",
                            "value": 7,
                            "layout": {
                                "length": -1,
                                "weight": 1,
                                "coeff": -1
                            },
                            "weight": 1
                        },
                        {
                            "id1": "Id66",
                            "id2": "Id64",
                            "value": 3,
                            "layout": {
                                "length": -1,
                                "weight": 1,
                                "coeff": -1
                            },
                            "weight": 1
                        },
                        {
                            "id1": "Id76",
                            "id2": "Id64",
                            "value": 1,
                            "layout": {
                                "length": -1,
                                "weight": 1,
                                "coeff": -1
                            },
                            "weight": 1
                        }
                    ],
                    "force": {
                        "x": 1.074452878844015e-06,
                        "y": -5.453655520891139e-05,
                        "z": 0
                    },
                    "hierarchy": False,
                    "lastPosition": {
                        "x": 0,
                        "y": 0,
                        "z": 0,
                        "r": 0,
                        "a": 0
                    },
                    "level": 0,
                    "mass": 5.333333333333333,
                    "metrics": {
                        "betweenness": -1,
                        "closeness": -1,
                        "degree": -1,
                        "eccentricity": -1
                    },
                    "neighbors": [
                        "Id55",
                        "Id62"
                    ],
                    "order": -1,
                    "parent": False,
                    "position": {
                        "x": -13.568201409007926,
                        "y": 108.70804391701421,
                        "z": 0
                    },
                    "prevPosition": {
                        "x": -0.3684502495659743,
                        "y": 19.413580548321754,
                        "z": 0
                    },
                    "radius": 0,
                    "velocity": {
                        "x": -0.0010786192619096895,
                        "y": -0.0009146650053100499,
                        "z": 0
                    }
                },
                "x": -13.546629023769732,
                "y": 108.7263372171204,
                "z": 0,
                "nodeEdges": 13,
                "community": 10,
                "communityColor": "rgb(255,84,159)"
            },
            {
                "id": "Id65",
                "name": "Joly",
                "group": 8,
                "layout": {
                    "angle": 0,
                    "children": [],
                    "displacement": {
                        "x": 0,
                        "y": 0,
                        "z": 0
                    },
                    "edges": [
                        {
                            "id1": "Id65",
                            "id2": "Id63",
                            "value": 5,
                            "layout": {
                                "length": -1,
                                "weight": 1,
                                "coeff": -1
                            },
                            "weight": 1
                        },
                        {
                            "id1": "Id65",
                            "id2": "Id64",
                            "value": 7,
                            "layout": {
                                "length": -1,
                                "weight": 1,
                                "coeff": -1
                            },
                            "weight": 1
                        },
                        {
                            "id1": "Id65",
                            "id2": "Id48",
                            "value": 3,
                            "layout": {
                                "length": -1,
                                "weight": 1,
                                "coeff": -1
                            },
                            "weight": 1
                        },
                        {
                            "id1": "Id65",
                            "id2": "Id62",
                            "value": 5,
                            "layout": {
                                "length": -1,
                                "weight": 1,
                                "coeff": -1
                            },
                            "weight": 1
                        },
                        {
                            "id1": "Id65",
                            "id2": "Id58",
                            "value": 5,
                            "layout": {
                                "length": -1,
                                "weight": 1,
                                "coeff": -1
                            },
                            "weight": 1
                        },
                        {
                            "id1": "Id65",
                            "id2": "Id61",
                            "value": 5,
                            "layout": {
                                "length": -1,
                                "weight": 1,
                                "coeff": -1
                            },
                            "weight": 1
                        },
                        {
                            "id1": "Id65",
                            "id2": "Id60",
                            "value": 2,
                            "layout": {
                                "length": -1,
                                "weight": 1,
                                "coeff": -1
                            },
                            "weight": 1
                        },
                        {
                            "id1": "Id65",
                            "id2": "Id59",
                            "value": 5,
                            "layout": {
                                "length": -1,
                                "weight": 1,
                                "coeff": -1
                            },
                            "weight": 1
                        },
                        {
                            "id1": "Id65",
                            "id2": "Id57",
                            "value": 1,
                            "layout": {
                                "length": -1,
                                "weight": 1,
                                "coeff": -1
                            },
                            "weight": 1
                        },
                        {
                            "id1": "Id65",
                            "id2": "Id55",
                            "value": 2,
                            "layout": {
                                "length": -1,
                                "weight": 1,
                                "coeff": -1
                            },
                            "weight": 1
                        },
                        {
                            "id1": "Id66",
                            "id2": "Id65",
                            "value": 2,
                            "layout": {
                                "length": -1,
                                "weight": 1,
                                "coeff": -1
                            },
                            "weight": 1
                        },
                        {
                            "id1": "Id76",
                            "id2": "Id65",
                            "value": 1,
                            "layout": {
                                "length": -1,
                                "weight": 1,
                                "coeff": -1
                            },
                            "weight": 1
                        }
                    ],
                    "force": {
                        "x": -3.621760459738589e-05,
                        "y": -2.0274436852332333e-05,
                        "z": 0
                    },
                    "hierarchy": False,
                    "lastPosition": {
                        "x": 0,
                        "y": 0,
                        "z": 0,
                        "r": 0,
                        "a": 0
                    },
                    "level": 0,
                    "mass": 5,
                    "metrics": {
                        "betweenness": -1,
                        "closeness": -1,
                        "degree": -1,
                        "eccentricity": -1
                    },
                    "neighbors": [
                        "Id63",
                        "Id64"
                    ],
                    "order": -1,
                    "parent": False,
                    "position": {
                        "x": -20.545887477448908,
                        "y": 135.34288207729642,
                        "z": 0
                    },
                    "prevPosition": {
                        "x": -3.631987997926309,
                        "y": 28.942077486014654,
                        "z": 0
                    },
                    "radius": 0,
                    "velocity": {
                        "x": -0.0011111199900909509,
                        "y": -0.0014844617781051474,
                        "z": 0
                    }
                },
                "x": -20.523665077647088,
                "y": 135.37257131285853,
                "z": 0,
                "nodeEdges": 12,
                "community": 10,
                "communityColor": "rgb(255,84,159)"
            },
            {
                "id": "Id66",
                "name": "Grantaire",
                "group": 8,
                "layout": {
                    "angle": 0,
                    "children": [],
                    "displacement": {
                        "x": 0,
                        "y": 0,
                        "z": 0
                    },
                    "edges": [
                        {
                            "id1": "Id66",
                            "id2": "Id64",
                            "value": 3,
                            "layout": {
                                "length": -1,
                                "weight": 1,
                                "coeff": -1
                            },
                            "weight": 1
                        },
                        {
                            "id1": "Id66",
                            "id2": "Id58",
                            "value": 3,
                            "layout": {
                                "length": -1,
                                "weight": 1,
                                "coeff": -1
                            },
                            "weight": 1
                        },
                        {
                            "id1": "Id66",
                            "id2": "Id59",
                            "value": 1,
                            "layout": {
                                "length": -1,
                                "weight": 1,
                                "coeff": -1
                            },
                            "weight": 1
                        },
                        {
                            "id1": "Id66",
                            "id2": "Id62",
                            "value": 2,
                            "layout": {
                                "length": -1,
                                "weight": 1,
                                "coeff": -1
                            },
                            "weight": 1
                        },
                        {
                            "id1": "Id66",
                            "id2": "Id65",
                            "value": 2,
                            "layout": {
                                "length": -1,
                                "weight": 1,
                                "coeff": -1
                            },
                            "weight": 1
                        },
                        {
                            "id1": "Id66",
                            "id2": "Id48",
                            "value": 1,
                            "layout": {
                                "length": -1,
                                "weight": 1,
                                "coeff": -1
                            },
                            "weight": 1
                        },
                        {
                            "id1": "Id66",
                            "id2": "Id63",
                            "value": 1,
                            "layout": {
                                "length": -1,
                                "weight": 1,
                                "coeff": -1
                            },
                            "weight": 1
                        },
                        {
                            "id1": "Id66",
                            "id2": "Id61",
                            "value": 1,
                            "layout": {
                                "length": -1,
                                "weight": 1,
                                "coeff": -1
                            },
                            "weight": 1
                        },
                        {
                            "id1": "Id66",
                            "id2": "Id60",
                            "value": 1,
                            "layout": {
                                "length": -1,
                                "weight": 1,
                                "coeff": -1
                            },
                            "weight": 1
                        },
                        {
                            "id1": "Id76",
                            "id2": "Id66",
                            "value": 1,
                            "layout": {
                                "length": -1,
                                "weight": 1,
                                "coeff": -1
                            },
                            "weight": 1
                        }
                    ],
                    "force": {
                        "x": 1.1885158260321188e-05,
                        "y": -1.8502200204075642e-05,
                        "z": 0
                    },
                    "hierarchy": False,
                    "lastPosition": {
                        "x": 0,
                        "y": 0,
                        "z": 0,
                        "r": 0,
                        "a": 0
                    },
                    "level": 0,
                    "mass": 4.333333333333334,
                    "metrics": {
                        "betweenness": -1,
                        "closeness": -1,
                        "degree": -1,
                        "eccentricity": -1
                    },
                    "neighbors": [
                        "Id64",
                        "Id58"
                    ],
                    "order": -1,
                    "parent": False,
                    "position": {
                        "x": 12.029007415497771,
                        "y": 175.96959949720502,
                        "z": 0
                    },
                    "prevPosition": {
                        "x": 15.84377298237365,
                        "y": 39.37073643060377,
                        "z": 0
                    },
                    "radius": 0,
                    "velocity": {
                        "x": -0.004389316083858817,
                        "y": -0.00024260890857702726,
                        "z": 0
                    }
                },
                "x": 12.116793737174948,
                "y": 175.97445167537657,
                "z": 0,
                "nodeEdges": 10,
                "community": 10,
                "communityColor": "rgb(255,84,159)"
            },
            {
                "id": "Id67",
                "name": "Mother Plutarch",
                "group": 9,
                "layout": {
                    "angle": 0,
                    "children": [],
                    "displacement": {
                        "x": 0,
                        "y": 0,
                        "z": 0
                    },
                    "edges": [
                        {
                            "id1": "Id67",
                            "id2": "Id57",
                            "value": 3,
                            "layout": {
                                "length": -1,
                                "weight": 1,
                                "coeff": -1
                            },
                            "weight": 1
                        }
                    ],
                    "force": {
                        "x": -3.9613351479513e-06,
                        "y": 4.644320319227568e-06,
                        "z": 0
                    },
                    "hierarchy": False,
                    "lastPosition": {
                        "x": 0,
                        "y": 0,
                        "z": 0,
                        "r": 0,
                        "a": 0
                    },
                    "level": 0,
                    "mass": 1.3333333333333333,
                    "metrics": {
                        "betweenness": -1,
                        "closeness": -1,
                        "degree": -1,
                        "eccentricity": -1
                    },
                    "neighbors": [
                        "Id57"
                    ],
                    "order": -1,
                    "parent": False,
                    "position": {
                        "x": -38.83768281816674,
                        "y": 160.7365029041858,
                        "z": 0
                    },
                    "prevPosition": {
                        "x": 8.968655357831793,
                        "y": 16.891096402391966,
                        "z": 0
                    },
                    "radius": 0,
                    "velocity": {
                        "x": -0.0004515113719603808,
                        "y": 0.003034703764631592,
                        "z": 0
                    }
                },
                "x": -38.828652590727536,
                "y": 160.67580882889317,
                "z": 0,
                "nodeEdges": 1,
                "community": 10,
                "communityColor": "rgb(255,84,159)"
            },
            {
                "id": "Id68",
                "name": "Gueulemer",
                "group": 4,
                "layout": {
                    "angle": 0,
                    "children": [],
                    "displacement": {
                        "x": 0,
                        "y": 0,
                        "z": 0
                    },
                    "edges": [
                        {
                            "id1": "Id68",
                            "id2": "Id25",
                            "value": 5,
                            "layout": {
                                "length": -1,
                                "weight": 1,
                                "coeff": -1
                            },
                            "weight": 1
                        },
                        {
                            "id1": "Id68",
                            "id2": "Id11",
                            "value": 1,
                            "layout": {
                                "length": -1,
                                "weight": 1,
                                "coeff": -1
                            },
                            "weight": 1
                        },
                        {
                            "id1": "Id68",
                            "id2": "Id24",
                            "value": 1,
                            "layout": {
                                "length": -1,
                                "weight": 1,
                                "coeff": -1
                            },
                            "weight": 1
                        },
                        {
                            "id1": "Id68",
                            "id2": "Id27",
                            "value": 1,
                            "layout": {
                                "length": -1,
                                "weight": 1,
                                "coeff": -1
                            },
                            "weight": 1
                        },
                        {
                            "id1": "Id68",
                            "id2": "Id48",
                            "value": 1,
                            "layout": {
                                "length": -1,
                                "weight": 1,
                                "coeff": -1
                            },
                            "weight": 1
                        },
                        {
                            "id1": "Id68",
                            "id2": "Id41",
                            "value": 1,
                            "layout": {
                                "length": -1,
                                "weight": 1,
                                "coeff": -1
                            },
                            "weight": 1
                        },
                        {
                            "id1": "Id69",
                            "id2": "Id68",
                            "value": 6,
                            "layout": {
                                "length": -1,
                                "weight": 1,
                                "coeff": -1
                            },
                            "weight": 1
                        },
                        {
                            "id1": "Id70",
                            "id2": "Id68",
                            "value": 4,
                            "layout": {
                                "length": -1,
                                "weight": 1,
                                "coeff": -1
                            },
                            "weight": 1
                        },
                        {
                            "id1": "Id71",
                            "id2": "Id68",
                            "value": 2,
                            "layout": {
                                "length": -1,
                                "weight": 1,
                                "coeff": -1
                            },
                            "weight": 1
                        },
                        {
                            "id1": "Id75",
                            "id2": "Id68",
                            "value": 3,
                            "layout": {
                                "length": -1,
                                "weight": 1,
                                "coeff": -1
                            },
                            "weight": 1
                        }
                    ],
                    "force": {
                        "x": 8.652057373369736e-05,
                        "y": -3.461023157146949e-06,
                        "z": 0
                    },
                    "hierarchy": False,
                    "lastPosition": {
                        "x": 0,
                        "y": 0,
                        "z": 0,
                        "r": 0,
                        "a": 0
                    },
                    "level": 0,
                    "mass": 4.333333333333334,
                    "metrics": {
                        "betweenness": -1,
                        "closeness": -1,
                        "degree": -1,
                        "eccentricity": -1
                    },
                    "neighbors": [
                        "Id25",
                        "Id11"
                    ],
                    "order": -1,
                    "parent": False,
                    "position": {
                        "x": 80.57118373703454,
                        "y": 38.23070322519795,
                        "z": 0
                    },
                    "prevPosition": {
                        "x": 18.741787229938268,
                        "y": 20.321344521604935,
                        "z": 0
                    },
                    "radius": 0,
                    "velocity": {
                        "x": 0.003940162458085796,
                        "y": -0.0016070170950103968,
                        "z": 0
                    }
                },
                "x": 80.49238048787282,
                "y": 38.26284356709816,
                "z": 0,
                "nodeEdges": 10,
                "community": 3,
                "communityColor": "rgb(248,204,3)"
            },
            {
                "id": "Id69",
                "name": "Babet",
                "group": 4,
                "layout": {
                    "angle": 0,
                    "children": [],
                    "displacement": {
                        "x": 0,
                        "y": 0,
                        "z": 0
                    },
                    "edges": [
                        {
                            "id1": "Id69",
                            "id2": "Id25",
                            "value": 6,
                            "layout": {
                                "length": -1,
                                "weight": 1,
                                "coeff": -1
                            },
                            "weight": 1
                        },
                        {
                            "id1": "Id69",
                            "id2": "Id68",
                            "value": 6,
                            "layout": {
                                "length": -1,
                                "weight": 1,
                                "coeff": -1
                            },
                            "weight": 1
                        },
                        {
                            "id1": "Id69",
                            "id2": "Id11",
                            "value": 1,
                            "layout": {
                                "length": -1,
                                "weight": 1,
                                "coeff": -1
                            },
                            "weight": 1
                        },
                        {
                            "id1": "Id69",
                            "id2": "Id24",
                            "value": 1,
                            "layout": {
                                "length": -1,
                                "weight": 1,
                                "coeff": -1
                            },
                            "weight": 1
                        },
                        {
                            "id1": "Id69",
                            "id2": "Id27",
                            "value": 2,
                            "layout": {
                                "length": -1,
                                "weight": 1,
                                "coeff": -1
                            },
                            "weight": 1
                        },
                        {
                            "id1": "Id69",
                            "id2": "Id48",
                            "value": 1,
                            "layout": {
                                "length": -1,
                                "weight": 1,
                                "coeff": -1
                            },
                            "weight": 1
                        },
                        {
                            "id1": "Id69",
                            "id2": "Id41",
                            "value": 1,
                            "layout": {
                                "length": -1,
                                "weight": 1,
                                "coeff": -1
                            },
                            "weight": 1
                        },
                        {
                            "id1": "Id70",
                            "id2": "Id69",
                            "value": 4,
                            "layout": {
                                "length": -1,
                                "weight": 1,
                                "coeff": -1
                            },
                            "weight": 1
                        },
                        {
                            "id1": "Id71",
                            "id2": "Id69",
                            "value": 2,
                            "layout": {
                                "length": -1,
                                "weight": 1,
                                "coeff": -1
                            },
                            "weight": 1
                        },
                        {
                            "id1": "Id75",
                            "id2": "Id69",
                            "value": 3,
                            "layout": {
                                "length": -1,
                                "weight": 1,
                                "coeff": -1
                            },
                            "weight": 1
                        }
                    ],
                    "force": {
                        "x": 9.32296133091216e-05,
                        "y": -5.865828872302672e-05,
                        "z": 0
                    },
                    "hierarchy": False,
                    "lastPosition": {
                        "x": 0,
                        "y": 0,
                        "z": 0,
                        "r": 0,
                        "a": 0
                    },
                    "level": 0,
                    "mass": 4.333333333333334,
                    "metrics": {
                        "betweenness": -1,
                        "closeness": -1,
                        "degree": -1,
                        "eccentricity": -1
                    },
                    "neighbors": [
                        "Id25",
                        "Id68"
                    ],
                    "order": -1,
                    "parent": False,
                    "position": {
                        "x": 72.67820962142787,
                        "y": 18.55418090124695,
                        "z": 0
                    },
                    "prevPosition": {
                        "x": 28.61709828317901,
                        "y": 17.358212770061726,
                        "z": 0
                    },
                    "radius": 0,
                    "velocity": {
                        "x": -0.011454845675104637,
                        "y": 0.006705307853803237,
                        "z": 0
                    }
                },
                "x": 72.90730653492996,
                "y": 18.420074744170886,
                "z": 0,
                "nodeEdges": 10,
                "community": 3,
                "communityColor": "rgb(248,204,3)"
            },
            {
                "id": "Id70",
                "name": "Claquesous",
                "group": 4,
                "layout": {
                    "angle": 0,
                    "children": [],
                    "displacement": {
                        "x": 0,
                        "y": 0,
                        "z": 0
                    },
                    "edges": [
                        {
                            "id1": "Id70",
                            "id2": "Id25",
                            "value": 4,
                            "layout": {
                                "length": -1,
                                "weight": 1,
                                "coeff": -1
                            },
                            "weight": 1
                        },
                        {
                            "id1": "Id70",
                            "id2": "Id69",
                            "value": 4,
                            "layout": {
                                "length": -1,
                                "weight": 1,
                                "coeff": -1
                            },
                            "weight": 1
                        },
                        {
                            "id1": "Id70",
                            "id2": "Id68",
                            "value": 4,
                            "layout": {
                                "length": -1,
                                "weight": 1,
                                "coeff": -1
                            },
                            "weight": 1
                        },
                        {
                            "id1": "Id70",
                            "id2": "Id11",
                            "value": 1,
                            "layout": {
                                "length": -1,
                                "weight": 1,
                                "coeff": -1
                            },
                            "weight": 1
                        },
                        {
                            "id1": "Id70",
                            "id2": "Id24",
                            "value": 1,
                            "layout": {
                                "length": -1,
                                "weight": 1,
                                "coeff": -1
                            },
                            "weight": 1
                        },
                        {
                            "id1": "Id70",
                            "id2": "Id27",
                            "value": 1,
                            "layout": {
                                "length": -1,
                                "weight": 1,
                                "coeff": -1
                            },
                            "weight": 1
                        },
                        {
                            "id1": "Id70",
                            "id2": "Id41",
                            "value": 1,
                            "layout": {
                                "length": -1,
                                "weight": 1,
                                "coeff": -1
                            },
                            "weight": 1
                        },
                        {
                            "id1": "Id70",
                            "id2": "Id58",
                            "value": 1,
                            "layout": {
                                "length": -1,
                                "weight": 1,
                                "coeff": -1
                            },
                            "weight": 1
                        },
                        {
                            "id1": "Id71",
                            "id2": "Id70",
                            "value": 2,
                            "layout": {
                                "length": -1,
                                "weight": 1,
                                "coeff": -1
                            },
                            "weight": 1
                        },
                        {
                            "id1": "Id75",
                            "id2": "Id70",
                            "value": 1,
                            "layout": {
                                "length": -1,
                                "weight": 1,
                                "coeff": -1
                            },
                            "weight": 1
                        }
                    ],
                    "force": {
                        "x": 0.00011895319378969413,
                        "y": -0.0003816066859849707,
                        "z": 0
                    },
                    "hierarchy": False,
                    "lastPosition": {
                        "x": 0,
                        "y": 0,
                        "z": 0,
                        "r": 0,
                        "a": 0
                    },
                    "level": 0,
                    "mass": 4.333333333333334,
                    "metrics": {
                        "betweenness": -1,
                        "closeness": -1,
                        "degree": -1,
                        "eccentricity": -1
                    },
                    "neighbors": [
                        "Id25",
                        "Id69"
                    ],
                    "order": -1,
                    "parent": False,
                    "position": {
                        "x": 55.79474563494038,
                        "y": 41.550650597353275,
                        "z": 0
                    },
                    "prevPosition": {
                        "x": 14.038395785108023,
                        "y": 6.230659239969135,
                        "z": 0
                    },
                    "radius": 0,
                    "velocity": {
                        "x": -0.0019349009493304192,
                        "y": 0.009156037292297433,
                        "z": 0
                    }
                },
                "x": 55.833443653926984,
                "y": 41.36752985150733,
                "z": 0,
                "nodeEdges": 10,
                "community": 3,
                "communityColor": "rgb(248,204,3)"
            },
            {
                "id": "Id71",
                "name": "Montparnasse",
                "group": 4,
                "layout": {
                    "angle": 0,
                    "children": [],
                    "displacement": {
                        "x": 0,
                        "y": 0,
                        "z": 0
                    },
                    "edges": [
                        {
                            "id1": "Id71",
                            "id2": "Id27",
                            "value": 1,
                            "layout": {
                                "length": -1,
                                "weight": 1,
                                "coeff": -1
                            },
                            "weight": 1
                        },
                        {
                            "id1": "Id71",
                            "id2": "Id69",
                            "value": 2,
                            "layout": {
                                "length": -1,
                                "weight": 1,
                                "coeff": -1
                            },
                            "weight": 1
                        },
                        {
                            "id1": "Id71",
                            "id2": "Id68",
                            "value": 2,
                            "layout": {
                                "length": -1,
                                "weight": 1,
                                "coeff": -1
                            },
                            "weight": 1
                        },
                        {
                            "id1": "Id71",
                            "id2": "Id70",
                            "value": 2,
                            "layout": {
                                "length": -1,
                                "weight": 1,
                                "coeff": -1
                            },
                            "weight": 1
                        },
                        {
                            "id1": "Id71",
                            "id2": "Id11",
                            "value": 1,
                            "layout": {
                                "length": -1,
                                "weight": 1,
                                "coeff": -1
                            },
                            "weight": 1
                        },
                        {
                            "id1": "Id71",
                            "id2": "Id48",
                            "value": 1,
                            "layout": {
                                "length": -1,
                                "weight": 1,
                                "coeff": -1
                            },
                            "weight": 1
                        },
                        {
                            "id1": "Id71",
                            "id2": "Id41",
                            "value": 1,
                            "layout": {
                                "length": -1,
                                "weight": 1,
                                "coeff": -1
                            },
                            "weight": 1
                        },
                        {
                            "id1": "Id71",
                            "id2": "Id25",
                            "value": 1,
                            "layout": {
                                "length": -1,
                                "weight": 1,
                                "coeff": -1
                            },
                            "weight": 1
                        },
                        {
                            "id1": "Id75",
                            "id2": "Id71",
                            "value": 1,
                            "layout": {
                                "length": -1,
                                "weight": 1,
                                "coeff": -1
                            },
                            "weight": 1
                        }
                    ],
                    "force": {
                        "x": 0.0003592095359845467,
                        "y": 0.0001180598183520426,
                        "z": 0
                    },
                    "hierarchy": False,
                    "lastPosition": {
                        "x": 0,
                        "y": 0,
                        "z": 0,
                        "r": 0,
                        "a": 0
                    },
                    "level": 0,
                    "mass": 4,
                    "metrics": {
                        "betweenness": -1,
                        "closeness": -1,
                        "degree": -1,
                        "eccentricity": -1
                    },
                    "neighbors": [
                        "Id27",
                        "Id69"
                    ],
                    "order": -1,
                    "parent": False,
                    "position": {
                        "x": 33.40767380106578,
                        "y": 51.209459996437644,
                        "z": 0
                    },
                    "prevPosition": {
                        "x": 16.811645206404314,
                        "y": 18.24687258873457,
                        "z": 0
                    },
                    "radius": 0,
                    "velocity": {
                        "x": -0.007206874434306401,
                        "y": -0.0023945218069935537,
                        "z": 0
                    }
                },
                "x": 33.55181128975191,
                "y": 51.25735043257752,
                "z": 0,
                "nodeEdges": 9,
                "community": 3,
                "communityColor": "rgb(248,204,3)"
            },
            {
                "id": "Id72",
                "name": "Toussaint",
                "group": 5,
                "layout": {
                    "angle": 0,
                    "children": [],
                    "displacement": {
                        "x": 0,
                        "y": 0,
                        "z": 0
                    },
                    "edges": [
                        {
                            "id1": "Id72",
                            "id2": "Id26",
                            "value": 2,
                            "layout": {
                                "length": -1,
                                "weight": 1,
                                "coeff": -1
                            },
                            "weight": 1
                        },
                        {
                            "id1": "Id72",
                            "id2": "Id27",
                            "value": 1,
                            "layout": {
                                "length": -1,
                                "weight": 1,
                                "coeff": -1
                            },
                            "weight": 1
                        },
                        {
                            "id1": "Id72",
                            "id2": "Id11",
                            "value": 1,
                            "layout": {
                                "length": -1,
                                "weight": 1,
                                "coeff": -1
                            },
                            "weight": 1
                        }
                    ],
                    "force": {
                        "x": 7.821106888088094e-05,
                        "y": -4.434915788439301e-05,
                        "z": 0
                    },
                    "hierarchy": False,
                    "lastPosition": {
                        "x": 0,
                        "y": 0,
                        "z": 0,
                        "r": 0,
                        "a": 0
                    },
                    "level": 0,
                    "mass": 2,
                    "metrics": {
                        "betweenness": -1,
                        "closeness": -1,
                        "degree": -1,
                        "eccentricity": -1
                    },
                    "neighbors": [
                        "Id26",
                        "Id27"
                    ],
                    "order": -1,
                    "parent": False,
                    "position": {
                        "x": -37.78047019686677,
                        "y": -13.789998078120504,
                        "z": 0
                    },
                    "prevPosition": {
                        "x": 26.094333526234564,
                        "y": 7.158227237654323,
                        "z": 0
                    },
                    "radius": 0,
                    "velocity": {
                        "x": 0.0019203302898892112,
                        "y": -0.006147278170061091,
                        "z": 0
                    }
                },
                "x": -37.818876802664555,
                "y": -13.667052514719282,
                "z": 0,
                "nodeEdges": 3,
                "community": 1,
                "communityColor": "rgb(72,126,182)"
            },
            {
                "id": "Id73",
                "name": "Child 1",
                "group": 10,
                "layout": {
                    "angle": 0,
                    "children": [],
                    "displacement": {
                        "x": 0,
                        "y": 0,
                        "z": 0
                    },
                    "edges": [
                        {
                            "id1": "Id73",
                            "id2": "Id48",
                            "value": 2,
                            "layout": {
                                "length": -1,
                                "weight": 1,
                                "coeff": -1
                            },
                            "weight": 1
                        },
                        {
                            "id1": "Id74",
                            "id2": "Id73",
                            "value": 3,
                            "layout": {
                                "length": -1,
                                "weight": 1,
                                "coeff": -1
                            },
                            "weight": 1
                        }
                    ],
                    "force": {
                        "x": 3.4572120717231425e-06,
                        "y": -1.709263329729982e-05,
                        "z": 0
                    },
                    "hierarchy": False,
                    "lastPosition": {
                        "x": 0,
                        "y": 0,
                        "z": 0,
                        "r": 0,
                        "a": 0
                    },
                    "level": 0,
                    "mass": 1.6666666666666665,
                    "metrics": {
                        "betweenness": -1,
                        "closeness": -1,
                        "degree": -1,
                        "eccentricity": -1
                    },
                    "neighbors": [
                        "Id48"
                    ],
                    "order": -1,
                    "parent": False,
                    "position": {
                        "x": 93.439391943779,
                        "y": 149.4997117731053,
                        "z": 0
                    },
                    "prevPosition": {
                        "x": 41.71364293981482,
                        "y": 18.056028163580244,
                        "z": 0
                    },
                    "radius": 0,
                    "velocity": {
                        "x": -0.0016426653204822082,
                        "y": -0.0005576691150153067,
                        "z": 0
                    }
                },
                "x": 93.47224525018865,
                "y": 149.5108651554056,
                "z": 0,
                "nodeEdges": 2,
                "community": 11,
                "communityColor": "rgb(255,175,84)"
            },
            {
                "id": "Id74",
                "name": "Child 2",
                "group": 10,
                "layout": {
                    "angle": 0,
                    "children": [],
                    "displacement": {
                        "x": 0,
                        "y": 0,
                        "z": 0
                    },
                    "edges": [
                        {
                            "id1": "Id74",
                            "id2": "Id48",
                            "value": 2,
                            "layout": {
                                "length": -1,
                                "weight": 1,
                                "coeff": -1
                            },
                            "weight": 1
                        },
                        {
                            "id1": "Id74",
                            "id2": "Id73",
                            "value": 3,
                            "layout": {
                                "length": -1,
                                "weight": 1,
                                "coeff": -1
                            },
                            "weight": 1
                        }
                    ],
                    "force": {
                        "x": 8.933051215451182e-06,
                        "y": -2.205035669059375e-05,
                        "z": 0
                    },
                    "hierarchy": False,
                    "lastPosition": {
                        "x": 0,
                        "y": 0,
                        "z": 0,
                        "r": 0,
                        "a": 0
                    },
                    "level": 0,
                    "mass": 1.6666666666666665,
                    "metrics": {
                        "betweenness": -1,
                        "closeness": -1,
                        "degree": -1,
                        "eccentricity": -1
                    },
                    "neighbors": [
                        "Id48",
                        "Id73"
                    ],
                    "order": -1,
                    "parent": False,
                    "position": {
                        "x": 102.62973397996052,
                        "y": 119.67611591993136,
                        "z": 0
                    },
                    "prevPosition": {
                        "x": 45.997207754629635,
                        "y": 8.296151620370367,
                        "z": 0
                    },
                    "radius": 0,
                    "velocity": {
                        "x": -0.0028601427752049068,
                        "y": -0.002810872055666221,
                        "z": 0
                    }
                },
                "x": 102.68693683546462,
                "y": 119.73233336104468,
                "z": 0,
                "nodeEdges": 2,
                "community": 11,
                "communityColor": "rgb(255,175,84)"
            },
            {
                "id": "Id75",
                "name": "Brujon",
                "group": 4,
                "layout": {
                    "angle": 0,
                    "children": [],
                    "displacement": {
                        "x": 0,
                        "y": 0,
                        "z": 0
                    },
                    "edges": [
                        {
                            "id1": "Id75",
                            "id2": "Id69",
                            "value": 3,
                            "layout": {
                                "length": -1,
                                "weight": 1,
                                "coeff": -1
                            },
                            "weight": 1
                        },
                        {
                            "id1": "Id75",
                            "id2": "Id68",
                            "value": 3,
                            "layout": {
                                "length": -1,
                                "weight": 1,
                                "coeff": -1
                            },
                            "weight": 1
                        },
                        {
                            "id1": "Id75",
                            "id2": "Id25",
                            "value": 3,
                            "layout": {
                                "length": -1,
                                "weight": 1,
                                "coeff": -1
                            },
                            "weight": 1
                        },
                        {
                            "id1": "Id75",
                            "id2": "Id48",
                            "value": 1,
                            "layout": {
                                "length": -1,
                                "weight": 1,
                                "coeff": -1
                            },
                            "weight": 1
                        },
                        {
                            "id1": "Id75",
                            "id2": "Id41",
                            "value": 1,
                            "layout": {
                                "length": -1,
                                "weight": 1,
                                "coeff": -1
                            },
                            "weight": 1
                        },
                        {
                            "id1": "Id75",
                            "id2": "Id70",
                            "value": 1,
                            "layout": {
                                "length": -1,
                                "weight": 1,
                                "coeff": -1
                            },
                            "weight": 1
                        },
                        {
                            "id1": "Id75",
                            "id2": "Id71",
                            "value": 1,
                            "layout": {
                                "length": -1,
                                "weight": 1,
                                "coeff": -1
                            },
                            "weight": 1
                        }
                    ],
                    "force": {
                        "x": 1.6420806630969113e-05,
                        "y": 2.0883836744430007e-05,
                        "z": 0
                    },
                    "hierarchy": False,
                    "lastPosition": {
                        "x": 0,
                        "y": 0,
                        "z": 0,
                        "r": 0,
                        "a": 0
                    },
                    "level": 0,
                    "mass": 3.3333333333333335,
                    "metrics": {
                        "betweenness": -1,
                        "closeness": -1,
                        "degree": -1,
                        "eccentricity": -1
                    },
                    "neighbors": [
                        "Id69",
                        "Id68"
                    ],
                    "order": -1,
                    "parent": False,
                    "position": {
                        "x": 95.31626077333945,
                        "y": 65.2611015434536,
                        "z": 0
                    },
                    "prevPosition": {
                        "x": 6.876202015817899,
                        "y": 9.505210744598763,
                        "z": 0
                    },
                    "radius": 0,
                    "velocity": {
                        "x": -0.0018137651036143343,
                        "y": 0.0016067301961943913,
                        "z": 0
                    }
                },
                "x": 95.35253607541173,
                "y": 65.22896693952971,
                "z": 0,
                "nodeEdges": 7,
                "community": 3,
                "communityColor": "rgb(248,204,3)"
            },
            {
                "id": "Id76",
                "name": "Mme. Hucheloup",
                "group": 8,
                "layout": {
                    "angle": 0,
                    "children": [],
                    "displacement": {
                        "x": 0,
                        "y": 0,
                        "z": 0
                    },
                    "edges": [
                        {
                            "id1": "Id76",
                            "id2": "Id64",
                            "value": 1,
                            "layout": {
                                "length": -1,
                                "weight": 1,
                                "coeff": -1
                            },
                            "weight": 1
                        },
                        {
                            "id1": "Id76",
                            "id2": "Id65",
                            "value": 1,
                            "layout": {
                                "length": -1,
                                "weight": 1,
                                "coeff": -1
                            },
                            "weight": 1
                        },
                        {
                            "id1": "Id76",
                            "id2": "Id66",
                            "value": 1,
                            "layout": {
                                "length": -1,
                                "weight": 1,
                                "coeff": -1
                            },
                            "weight": 1
                        },
                        {
                            "id1": "Id76",
                            "id2": "Id63",
                            "value": 1,
                            "layout": {
                                "length": -1,
                                "weight": 1,
                                "coeff": -1
                            },
                            "weight": 1
                        },
                        {
                            "id1": "Id76",
                            "id2": "Id62",
                            "value": 1,
                            "layout": {
                                "length": -1,
                                "weight": 1,
                                "coeff": -1
                            },
                            "weight": 1
                        },
                        {
                            "id1": "Id76",
                            "id2": "Id48",
                            "value": 1,
                            "layout": {
                                "length": -1,
                                "weight": 1,
                                "coeff": -1
                            },
                            "weight": 1
                        },
                        {
                            "id1": "Id76",
                            "id2": "Id58",
                            "value": 1,
                            "layout": {
                                "length": -1,
                                "weight": 1,
                                "coeff": -1
                            },
                            "weight": 1
                        }
                    ],
                    "force": {
                        "x": 1.0647857745938209e-05,
                        "y": 1.7521775327593303e-05,
                        "z": 0
                    },
                    "hierarchy": False,
                    "lastPosition": {
                        "x": 0,
                        "y": 0,
                        "z": 0,
                        "r": 0,
                        "a": 0
                    },
                    "level": 0,
                    "mass": 3.3333333333333335,
                    "metrics": {
                        "betweenness": -1,
                        "closeness": -1,
                        "degree": -1,
                        "eccentricity": -1
                    },
                    "neighbors": [
                        "Id64",
                        "Id65"
                    ],
                    "order": -1,
                    "parent": False,
                    "position": {
                        "x": -18.433681193300227,
                        "y": 162.8013191532625,
                        "z": 0
                    },
                    "prevPosition": {
                        "x": 10.791293221932868,
                        "y": 19.641717906057096,
                        "z": 0
                    },
                    "radius": 0,
                    "velocity": {
                        "x": -0.002626441645076724,
                        "y": -0.00233819187450484,
                        "z": 0
                    }
                },
                "x": -18.381152360398694,
                "y": 162.8480829907526,
                "z": 0,
                "nodeEdges": 7,
                "community": 10,
                "communityColor": "rgb(255,84,159)"
            }
        ],
        "edges": [
            {
                "id1": "Id1",
                "id2": "Id0",
                "value": 1
            },
            {
                "id1": "Id2",
                "id2": "Id0",
                "value": 8
            },
            {
                "id1": "Id3",
                "id2": "Id0",
                "value": 10
            },
            {
                "id1": "Id3",
                "id2": "Id2",
                "value": 6
            },
            {
                "id1": "Id4",
                "id2": "Id0",
                "value": 1
            },
            {
                "id1": "Id5",
                "id2": "Id0",
                "value": 1
            },
            {
                "id1": "Id6",
                "id2": "Id0",
                "value": 1
            },
            {
                "id1": "Id7",
                "id2": "Id0",
                "value": 1
            },
            {
                "id1": "Id8",
                "id2": "Id0",
                "value": 2
            },
            {
                "id1": "Id9",
                "id2": "Id0",
                "value": 1
            },
            {
                "id1": "Id11",
                "id2": "Id10",
                "value": 1
            },
            {
                "id1": "Id11",
                "id2": "Id3",
                "value": 3
            },
            {
                "id1": "Id11",
                "id2": "Id2",
                "value": 3
            },
            {
                "id1": "Id11",
                "id2": "Id0",
                "value": 5
            },
            {
                "id1": "Id12",
                "id2": "Id11",
                "value": 1
            },
            {
                "id1": "Id13",
                "id2": "Id11",
                "value": 1
            },
            {
                "id1": "Id14",
                "id2": "Id11",
                "value": 1
            },
            {
                "id1": "Id15",
                "id2": "Id11",
                "value": 1
            },
            {
                "id1": "Id17",
                "id2": "Id16",
                "value": 4
            },
            {
                "id1": "Id18",
                "id2": "Id16",
                "value": 4
            },
            {
                "id1": "Id18",
                "id2": "Id17",
                "value": 4
            },
            {
                "id1": "Id19",
                "id2": "Id16",
                "value": 4
            },
            {
                "id1": "Id19",
                "id2": "Id17",
                "value": 4
            },
            {
                "id1": "Id19",
                "id2": "Id18",
                "value": 4
            },
            {
                "id1": "Id20",
                "id2": "Id16",
                "value": 3
            },
            {
                "id1": "Id20",
                "id2": "Id17",
                "value": 3
            },
            {
                "id1": "Id20",
                "id2": "Id18",
                "value": 3
            },
            {
                "id1": "Id20",
                "id2": "Id19",
                "value": 4
            },
            {
                "id1": "Id21",
                "id2": "Id16",
                "value": 3
            },
            {
                "id1": "Id21",
                "id2": "Id17",
                "value": 3
            },
            {
                "id1": "Id21",
                "id2": "Id18",
                "value": 3
            },
            {
                "id1": "Id21",
                "id2": "Id19",
                "value": 3
            },
            {
                "id1": "Id21",
                "id2": "Id20",
                "value": 5
            },
            {
                "id1": "Id22",
                "id2": "Id16",
                "value": 3
            },
            {
                "id1": "Id22",
                "id2": "Id17",
                "value": 3
            },
            {
                "id1": "Id22",
                "id2": "Id18",
                "value": 3
            },
            {
                "id1": "Id22",
                "id2": "Id19",
                "value": 3
            },
            {
                "id1": "Id22",
                "id2": "Id20",
                "value": 4
            },
            {
                "id1": "Id22",
                "id2": "Id21",
                "value": 4
            },
            {
                "id1": "Id23",
                "id2": "Id16",
                "value": 3
            },
            {
                "id1": "Id23",
                "id2": "Id17",
                "value": 3
            },
            {
                "id1": "Id23",
                "id2": "Id18",
                "value": 3
            },
            {
                "id1": "Id23",
                "id2": "Id19",
                "value": 3
            },
            {
                "id1": "Id23",
                "id2": "Id20",
                "value": 4
            },
            {
                "id1": "Id23",
                "id2": "Id21",
                "value": 4
            },
            {
                "id1": "Id23",
                "id2": "Id22",
                "value": 4
            },
            {
                "id1": "Id23",
                "id2": "Id12",
                "value": 2
            },
            {
                "id1": "Id23",
                "id2": "Id11",
                "value": 9
            },
            {
                "id1": "Id24",
                "id2": "Id23",
                "value": 2
            },
            {
                "id1": "Id24",
                "id2": "Id11",
                "value": 7
            },
            {
                "id1": "Id25",
                "id2": "Id24",
                "value": 13
            },
            {
                "id1": "Id25",
                "id2": "Id23",
                "value": 1
            },
            {
                "id1": "Id25",
                "id2": "Id11",
                "value": 12
            },
            {
                "id1": "Id26",
                "id2": "Id24",
                "value": 4
            },
            {
                "id1": "Id26",
                "id2": "Id11",
                "value": 31
            },
            {
                "id1": "Id26",
                "id2": "Id16",
                "value": 1
            },
            {
                "id1": "Id26",
                "id2": "Id25",
                "value": 1
            },
            {
                "id1": "Id27",
                "id2": "Id11",
                "value": 17
            },
            {
                "id1": "Id27",
                "id2": "Id23",
                "value": 5
            },
            {
                "id1": "Id27",
                "id2": "Id25",
                "value": 5
            },
            {
                "id1": "Id27",
                "id2": "Id24",
                "value": 1
            },
            {
                "id1": "Id27",
                "id2": "Id26",
                "value": 1
            },
            {
                "id1": "Id28",
                "id2": "Id11",
                "value": 8
            },
            {
                "id1": "Id28",
                "id2": "Id27",
                "value": 1
            },
            {
                "id1": "Id29",
                "id2": "Id23",
                "value": 1
            },
            {
                "id1": "Id29",
                "id2": "Id27",
                "value": 1
            },
            {
                "id1": "Id29",
                "id2": "Id11",
                "value": 2
            },
            {
                "id1": "Id30",
                "id2": "Id23",
                "value": 1
            },
            {
                "id1": "Id31",
                "id2": "Id30",
                "value": 2
            },
            {
                "id1": "Id31",
                "id2": "Id11",
                "value": 3
            },
            {
                "id1": "Id31",
                "id2": "Id23",
                "value": 2
            },
            {
                "id1": "Id31",
                "id2": "Id27",
                "value": 1
            },
            {
                "id1": "Id32",
                "id2": "Id11",
                "value": 1
            },
            {
                "id1": "Id33",
                "id2": "Id11",
                "value": 2
            },
            {
                "id1": "Id33",
                "id2": "Id27",
                "value": 1
            },
            {
                "id1": "Id34",
                "id2": "Id11",
                "value": 3
            },
            {
                "id1": "Id34",
                "id2": "Id29",
                "value": 2
            },
            {
                "id1": "Id35",
                "id2": "Id11",
                "value": 3
            },
            {
                "id1": "Id35",
                "id2": "Id34",
                "value": 3
            },
            {
                "id1": "Id35",
                "id2": "Id29",
                "value": 2
            },
            {
                "id1": "Id36",
                "id2": "Id34",
                "value": 2
            },
            {
                "id1": "Id36",
                "id2": "Id35",
                "value": 2
            },
            {
                "id1": "Id36",
                "id2": "Id11",
                "value": 2
            },
            {
                "id1": "Id36",
                "id2": "Id29",
                "value": 1
            },
            {
                "id1": "Id37",
                "id2": "Id34",
                "value": 2
            },
            {
                "id1": "Id37",
                "id2": "Id35",
                "value": 2
            },
            {
                "id1": "Id37",
                "id2": "Id36",
                "value": 2
            },
            {
                "id1": "Id37",
                "id2": "Id11",
                "value": 2
            },
            {
                "id1": "Id37",
                "id2": "Id29",
                "value": 1
            },
            {
                "id1": "Id38",
                "id2": "Id34",
                "value": 2
            },
            {
                "id1": "Id38",
                "id2": "Id35",
                "value": 2
            },
            {
                "id1": "Id38",
                "id2": "Id36",
                "value": 2
            },
            {
                "id1": "Id38",
                "id2": "Id37",
                "value": 2
            },
            {
                "id1": "Id38",
                "id2": "Id11",
                "value": 2
            },
            {
                "id1": "Id38",
                "id2": "Id29",
                "value": 1
            },
            {
                "id1": "Id39",
                "id2": "Id25",
                "value": 1
            },
            {
                "id1": "Id40",
                "id2": "Id25",
                "value": 1
            },
            {
                "id1": "Id41",
                "id2": "Id24",
                "value": 2
            },
            {
                "id1": "Id41",
                "id2": "Id25",
                "value": 3
            },
            {
                "id1": "Id42",
                "id2": "Id41",
                "value": 2
            },
            {
                "id1": "Id42",
                "id2": "Id25",
                "value": 2
            },
            {
                "id1": "Id42",
                "id2": "Id24",
                "value": 1
            },
            {
                "id1": "Id43",
                "id2": "Id11",
                "value": 3
            },
            {
                "id1": "Id43",
                "id2": "Id26",
                "value": 1
            },
            {
                "id1": "Id43",
                "id2": "Id27",
                "value": 1
            },
            {
                "id1": "Id44",
                "id2": "Id28",
                "value": 3
            },
            {
                "id1": "Id44",
                "id2": "Id11",
                "value": 1
            },
            {
                "id1": "Id45",
                "id2": "Id28",
                "value": 2
            },
            {
                "id1": "Id47",
                "id2": "Id46",
                "value": 1
            },
            {
                "id1": "Id48",
                "id2": "Id47",
                "value": 2
            },
            {
                "id1": "Id48",
                "id2": "Id25",
                "value": 1
            },
            {
                "id1": "Id48",
                "id2": "Id27",
                "value": 1
            },
            {
                "id1": "Id48",
                "id2": "Id11",
                "value": 1
            },
            {
                "id1": "Id49",
                "id2": "Id26",
                "value": 3
            },
            {
                "id1": "Id49",
                "id2": "Id11",
                "value": 2
            },
            {
                "id1": "Id50",
                "id2": "Id49",
                "value": 1
            },
            {
                "id1": "Id50",
                "id2": "Id24",
                "value": 1
            },
            {
                "id1": "Id51",
                "id2": "Id49",
                "value": 9
            },
            {
                "id1": "Id51",
                "id2": "Id26",
                "value": 2
            },
            {
                "id1": "Id51",
                "id2": "Id11",
                "value": 2
            },
            {
                "id1": "Id52",
                "id2": "Id51",
                "value": 1
            },
            {
                "id1": "Id52",
                "id2": "Id39",
                "value": 1
            },
            {
                "id1": "Id53",
                "id2": "Id51",
                "value": 1
            },
            {
                "id1": "Id54",
                "id2": "Id51",
                "value": 2
            },
            {
                "id1": "Id54",
                "id2": "Id49",
                "value": 1
            },
            {
                "id1": "Id54",
                "id2": "Id26",
                "value": 1
            },
            {
                "id1": "Id55",
                "id2": "Id51",
                "value": 6
            },
            {
                "id1": "Id55",
                "id2": "Id49",
                "value": 12
            },
            {
                "id1": "Id55",
                "id2": "Id39",
                "value": 1
            },
            {
                "id1": "Id55",
                "id2": "Id54",
                "value": 1
            },
            {
                "id1": "Id55",
                "id2": "Id26",
                "value": 21
            },
            {
                "id1": "Id55",
                "id2": "Id11",
                "value": 19
            },
            {
                "id1": "Id55",
                "id2": "Id16",
                "value": 1
            },
            {
                "id1": "Id55",
                "id2": "Id25",
                "value": 2
            },
            {
                "id1": "Id55",
                "id2": "Id41",
                "value": 5
            },
            {
                "id1": "Id55",
                "id2": "Id48",
                "value": 4
            },
            {
                "id1": "Id56",
                "id2": "Id49",
                "value": 1
            },
            {
                "id1": "Id56",
                "id2": "Id55",
                "value": 1
            },
            {
                "id1": "Id57",
                "id2": "Id55",
                "value": 1
            },
            {
                "id1": "Id57",
                "id2": "Id41",
                "value": 1
            },
            {
                "id1": "Id57",
                "id2": "Id48",
                "value": 1
            },
            {
                "id1": "Id58",
                "id2": "Id55",
                "value": 7
            },
            {
                "id1": "Id58",
                "id2": "Id48",
                "value": 7
            },
            {
                "id1": "Id58",
                "id2": "Id27",
                "value": 6
            },
            {
                "id1": "Id58",
                "id2": "Id57",
                "value": 1
            },
            {
                "id1": "Id58",
                "id2": "Id11",
                "value": 4
            },
            {
                "id1": "Id59",
                "id2": "Id58",
                "value": 15
            },
            {
                "id1": "Id59",
                "id2": "Id55",
                "value": 5
            },
            {
                "id1": "Id59",
                "id2": "Id48",
                "value": 6
            },
            {
                "id1": "Id59",
                "id2": "Id57",
                "value": 2
            },
            {
                "id1": "Id60",
                "id2": "Id48",
                "value": 1
            },
            {
                "id1": "Id60",
                "id2": "Id58",
                "value": 4
            },
            {
                "id1": "Id60",
                "id2": "Id59",
                "value": 2
            },
            {
                "id1": "Id61",
                "id2": "Id48",
                "value": 2
            },
            {
                "id1": "Id61",
                "id2": "Id58",
                "value": 6
            },
            {
                "id1": "Id61",
                "id2": "Id60",
                "value": 2
            },
            {
                "id1": "Id61",
                "id2": "Id59",
                "value": 5
            },
            {
                "id1": "Id61",
                "id2": "Id57",
                "value": 1
            },
            {
                "id1": "Id61",
                "id2": "Id55",
                "value": 1
            },
            {
                "id1": "Id62",
                "id2": "Id55",
                "value": 9
            },
            {
                "id1": "Id62",
                "id2": "Id58",
                "value": 17
            },
            {
                "id1": "Id62",
                "id2": "Id59",
                "value": 13
            },
            {
                "id1": "Id62",
                "id2": "Id48",
                "value": 7
            },
            {
                "id1": "Id62",
                "id2": "Id57",
                "value": 2
            },
            {
                "id1": "Id62",
                "id2": "Id41",
                "value": 1
            },
            {
                "id1": "Id62",
                "id2": "Id61",
                "value": 6
            },
            {
                "id1": "Id62",
                "id2": "Id60",
                "value": 3
            },
            {
                "id1": "Id63",
                "id2": "Id59",
                "value": 5
            },
            {
                "id1": "Id63",
                "id2": "Id48",
                "value": 5
            },
            {
                "id1": "Id63",
                "id2": "Id62",
                "value": 6
            },
            {
                "id1": "Id63",
                "id2": "Id57",
                "value": 2
            },
            {
                "id1": "Id63",
                "id2": "Id58",
                "value": 4
            },
            {
                "id1": "Id63",
                "id2": "Id61",
                "value": 3
            },
            {
                "id1": "Id63",
                "id2": "Id60",
                "value": 2
            },
            {
                "id1": "Id63",
                "id2": "Id55",
                "value": 1
            },
            {
                "id1": "Id64",
                "id2": "Id55",
                "value": 5
            },
            {
                "id1": "Id64",
                "id2": "Id62",
                "value": 12
            },
            {
                "id1": "Id64",
                "id2": "Id48",
                "value": 5
            },
            {
                "id1": "Id64",
                "id2": "Id63",
                "value": 4
            },
            {
                "id1": "Id64",
                "id2": "Id58",
                "value": 10
            },
            {
                "id1": "Id64",
                "id2": "Id61",
                "value": 6
            },
            {
                "id1": "Id64",
                "id2": "Id60",
                "value": 2
            },
            {
                "id1": "Id64",
                "id2": "Id59",
                "value": 9
            },
            {
                "id1": "Id64",
                "id2": "Id57",
                "value": 1
            },
            {
                "id1": "Id64",
                "id2": "Id11",
                "value": 1
            },
            {
                "id1": "Id65",
                "id2": "Id63",
                "value": 5
            },
            {
                "id1": "Id65",
                "id2": "Id64",
                "value": 7
            },
            {
                "id1": "Id65",
                "id2": "Id48",
                "value": 3
            },
            {
                "id1": "Id65",
                "id2": "Id62",
                "value": 5
            },
            {
                "id1": "Id65",
                "id2": "Id58",
                "value": 5
            },
            {
                "id1": "Id65",
                "id2": "Id61",
                "value": 5
            },
            {
                "id1": "Id65",
                "id2": "Id60",
                "value": 2
            },
            {
                "id1": "Id65",
                "id2": "Id59",
                "value": 5
            },
            {
                "id1": "Id65",
                "id2": "Id57",
                "value": 1
            },
            {
                "id1": "Id65",
                "id2": "Id55",
                "value": 2
            },
            {
                "id1": "Id66",
                "id2": "Id64",
                "value": 3
            },
            {
                "id1": "Id66",
                "id2": "Id58",
                "value": 3
            },
            {
                "id1": "Id66",
                "id2": "Id59",
                "value": 1
            },
            {
                "id1": "Id66",
                "id2": "Id62",
                "value": 2
            },
            {
                "id1": "Id66",
                "id2": "Id65",
                "value": 2
            },
            {
                "id1": "Id66",
                "id2": "Id48",
                "value": 1
            },
            {
                "id1": "Id66",
                "id2": "Id63",
                "value": 1
            },
            {
                "id1": "Id66",
                "id2": "Id61",
                "value": 1
            },
            {
                "id1": "Id66",
                "id2": "Id60",
                "value": 1
            },
            {
                "id1": "Id67",
                "id2": "Id57",
                "value": 3
            },
            {
                "id1": "Id68",
                "id2": "Id25",
                "value": 5
            },
            {
                "id1": "Id68",
                "id2": "Id11",
                "value": 1
            },
            {
                "id1": "Id68",
                "id2": "Id24",
                "value": 1
            },
            {
                "id1": "Id68",
                "id2": "Id27",
                "value": 1
            },
            {
                "id1": "Id68",
                "id2": "Id48",
                "value": 1
            },
            {
                "id1": "Id68",
                "id2": "Id41",
                "value": 1
            },
            {
                "id1": "Id69",
                "id2": "Id25",
                "value": 6
            },
            {
                "id1": "Id69",
                "id2": "Id68",
                "value": 6
            },
            {
                "id1": "Id69",
                "id2": "Id11",
                "value": 1
            },
            {
                "id1": "Id69",
                "id2": "Id24",
                "value": 1
            },
            {
                "id1": "Id69",
                "id2": "Id27",
                "value": 2
            },
            {
                "id1": "Id69",
                "id2": "Id48",
                "value": 1
            },
            {
                "id1": "Id69",
                "id2": "Id41",
                "value": 1
            },
            {
                "id1": "Id70",
                "id2": "Id25",
                "value": 4
            },
            {
                "id1": "Id70",
                "id2": "Id69",
                "value": 4
            },
            {
                "id1": "Id70",
                "id2": "Id68",
                "value": 4
            },
            {
                "id1": "Id70",
                "id2": "Id11",
                "value": 1
            },
            {
                "id1": "Id70",
                "id2": "Id24",
                "value": 1
            },
            {
                "id1": "Id70",
                "id2": "Id27",
                "value": 1
            },
            {
                "id1": "Id70",
                "id2": "Id41",
                "value": 1
            },
            {
                "id1": "Id70",
                "id2": "Id58",
                "value": 1
            },
            {
                "id1": "Id71",
                "id2": "Id27",
                "value": 1
            },
            {
                "id1": "Id71",
                "id2": "Id69",
                "value": 2
            },
            {
                "id1": "Id71",
                "id2": "Id68",
                "value": 2
            },
            {
                "id1": "Id71",
                "id2": "Id70",
                "value": 2
            },
            {
                "id1": "Id71",
                "id2": "Id11",
                "value": 1
            },
            {
                "id1": "Id71",
                "id2": "Id48",
                "value": 1
            },
            {
                "id1": "Id71",
                "id2": "Id41",
                "value": 1
            },
            {
                "id1": "Id71",
                "id2": "Id25",
                "value": 1
            },
            {
                "id1": "Id72",
                "id2": "Id26",
                "value": 2
            },
            {
                "id1": "Id72",
                "id2": "Id27",
                "value": 1
            },
            {
                "id1": "Id72",
                "id2": "Id11",
                "value": 1
            },
            {
                "id1": "Id73",
                "id2": "Id48",
                "value": 2
            },
            {
                "id1": "Id74",
                "id2": "Id48",
                "value": 2
            },
            {
                "id1": "Id74",
                "id2": "Id73",
                "value": 3
            },
            {
                "id1": "Id75",
                "id2": "Id69",
                "value": 3
            },
            {
                "id1": "Id75",
                "id2": "Id68",
                "value": 3
            },
            {
                "id1": "Id75",
                "id2": "Id25",
                "value": 3
            },
            {
                "id1": "Id75",
                "id2": "Id48",
                "value": 1
            },
            {
                "id1": "Id75",
                "id2": "Id41",
                "value": 1
            },
            {
                "id1": "Id75",
                "id2": "Id70",
                "value": 1
            },
            {
                "id1": "Id75",
                "id2": "Id71",
                "value": 1
            },
            {
                "id1": "Id76",
                "id2": "Id64",
                "value": 1
            },
            {
                "id1": "Id76",
                "id2": "Id65",
                "value": 1
            },
            {
                "id1": "Id76",
                "id2": "Id66",
                "value": 1
            },
            {
                "id1": "Id76",
                "id2": "Id63",
                "value": 1
            },
            {
                "id1": "Id76",
                "id2": "Id62",
                "value": 1
            },
            {
                "id1": "Id76",
                "id2": "Id48",
                "value": 1
            },
            {
                "id1": "Id76",
                "id2": "Id58",
                "value": 1
            }
        ],
        "m": {
            "Name": "Les Miserables",
            "Description": "Coappearance network of characters in the novel Les Miserables",
            "Reference": "D. E. Knuth, The Stanford GraphBase: A Platform for Combinatorial Computing, Addison-Wesley, Reading, MA (1993)."
        },
        "nodeIndices": {
            "Id0": 0,
            "Id1": 1,
            "Id2": 2,
            "Id3": 3,
            "Id4": 4,
            "Id5": 5,
            "Id6": 6,
            "Id7": 7,
            "Id8": 8,
            "Id9": 9,
            "Id10": 10,
            "Id11": 11,
            "Id12": 12,
            "Id13": 13,
            "Id14": 14,
            "Id15": 15,
            "Id16": 16,
            "Id17": 17,
            "Id18": 18,
            "Id19": 19,
            "Id20": 20,
            "Id21": 21,
            "Id22": 22,
            "Id23": 23,
            "Id24": 24,
            "Id25": 25,
            "Id26": 26,
            "Id27": 27,
            "Id28": 28,
            "Id29": 29,
            "Id30": 30,
            "Id31": 31,
            "Id32": 32,
            "Id33": 33,
            "Id34": 34,
            "Id35": 35,
            "Id36": 36,
            "Id37": 37,
            "Id38": 38,
            "Id39": 39,
            "Id40": 40,
            "Id41": 41,
            "Id42": 42,
            "Id43": 43,
            "Id44": 44,
            "Id45": 45,
            "Id46": 46,
            "Id47": 47,
            "Id48": 48,
            "Id49": 49,
            "Id50": 50,
            "Id51": 51,
            "Id52": 52,
            "Id53": 53,
            "Id54": 54,
            "Id55": 55,
            "Id56": 56,
            "Id57": 57,
            "Id58": 58,
            "Id59": 59,
            "Id60": 60,
            "Id61": 61,
            "Id62": 62,
            "Id63": 63,
            "Id64": 64,
            "Id65": 65,
            "Id66": 66,
            "Id67": 67,
            "Id68": 68,
            "Id69": 69,
            "Id70": 70,
            "Id71": 71,
            "Id72": 72,
            "Id73": 73,
            "Id74": 74,
            "Id75": 75,
            "Id76": 76
        }
    },
    config={
        "colorNodeBy": "group",
        "colorSpectrum": [
            "purple",
            "blue",
            "cyan",
            "green",
            "yellow",
            "orange",
            "red"
        ],
        "graphType": "Network",
        "networkLayoutType": "forceDirected",
        "showAnimation": True,
        "title": "Les Miserable",
        "useBarnesHutSimulation": True,
        "calculateLayout": False
    },
    width=500,
    height=500,
    events=CXEvents(),
    after_render=[
        [
            "setDimensions",
            [
                613,
                613,
                True
            ]
        ]
    ],
    other_init_params={
        "version": 35,
        "events": False,
        "info": False,
        "afterRenderInit": False,
        "noValidate": True
    }
)

display = CXNoteBook(cx) 
display.render("network_2") 
"
   ]
  }
 ],
 "metadata": {
  "kernelspec": {
   "display_name": "Python 3",
   "language": "python",
   "name": "python3"
  },
  "language_info": {
   "codemirror_mode": {
    "name": "ipython",
    "version": 3
   },
   "file_extension": ".py",
   "mimetype": "text/x-python",
   "name": "python",
   "nbconvert_exporter": "python",
   "pygments_lexer": "ipython3",
   "version": "3.8.5"
  }
 },
 "nbformat": 4,
 "nbformat_minor": 4
}
