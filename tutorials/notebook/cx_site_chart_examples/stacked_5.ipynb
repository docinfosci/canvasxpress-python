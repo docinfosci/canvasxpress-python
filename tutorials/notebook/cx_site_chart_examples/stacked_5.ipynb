{
 "cells": [
  {
   "cell_type": "markdown",
   "metadata": {
    "tags": []
   },
   "source": [
    "# Example: CanvasXpress stacked Chart No. 5\n",
    "\n",
    "This example page demonstrates how to, using the Python package, create a chart that matches the CanvasXpress online example located at:\n",
    "\n",
    "https://www.canvasxpress.org/examples/stacked-5.html\n",
    "\n",
    "This example is generated using the reproducible JSON obtained from the above page and the `canvasxpress.util.generator.generate_canvasxpress_code_from_json_file()` function.\n",
    "\n",
    "Everything required for the chart to render is included in the code below.  Simply run the code block."
   ]
  },
  {
   "cell_type": "code",
   "execution_count": null,
   "metadata": {},
   "outputs": [],
   "source": [
    "from canvasxpress.canvas import CanvasXpress 
from canvasxpress.js.collection import CXEvents 
from canvasxpress.render.jupyter import CXNoteBook 

cx = CanvasXpress(
    render_to="stacked5",
    data={
        "y": {
            "vars": [
                "Pants on Fire",
                "False",
                "Mostly False",
                "Half True",
                "Mostly True",
                "True"
            ],
            "smps": [
                "Big Fat Liar",
                "Two-Faced",
                "Honest Abe"
            ],
            "data": [
                [
                    -35,
                    -20,
                    -5
                ],
                [
                    -25,
                    -20,
                    -10
                ],
                [
                    -15,
                    -10,
                    -10
                ],
                [
                    10,
                    10,
                    15
                ],
                [
                    10,
                    20,
                    25
                ],
                [
                    5,
                    20,
                    35
                ]
            ]
        }
    },
    config={
        "axisAlgorithm": "wilkinson",
        "colorScheme": "CanvasXpress",
        "graphOrientation": "horizontal",
        "graphType": "Stacked",
        "legendColumns": 3,
        "legendPosition": "bottom",
        "marginRight": 20,
        "showDataValues": True,
        "title": "Diverging Stacked Graph",
        "xAxisTickFormat": "%s%%"
    },
    width=500,
    height=500,
    events=CXEvents(),
    after_render=[
        [
            "setDimensions",
            [
                613,
                613,
                True
            ]
        ]
    ],
    other_init_params={
        "version": 35,
        "events": False,
        "info": False,
        "afterRenderInit": False,
        "noValidate": True
    }
)

display = CXNoteBook(cx) 
display.render("stacked_5") 
"
   ]
  }
 ],
 "metadata": {
  "kernelspec": {
   "display_name": "Python 3",
   "language": "python",
   "name": "python3"
  },
  "language_info": {
   "codemirror_mode": {
    "name": "ipython",
    "version": 3
   },
   "file_extension": ".py",
   "mimetype": "text/x-python",
   "name": "python",
   "nbconvert_exporter": "python",
   "pygments_lexer": "ipython3",
   "version": "3.8.5"
  }
 },
 "nbformat": 4,
 "nbformat_minor": 4
}
