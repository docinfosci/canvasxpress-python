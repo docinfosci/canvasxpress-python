{
 "cells": [
  {
   "cell_type": "markdown",
   "metadata": {
    "tags": []
   },
   "source": [
    "# Example: CanvasXpress scatter Chart No. 29\n",
    "\n",
    "This example page demonstrates how to, using the Python package, create a chart that matches the CanvasXpress online example located at:\n",
    "\n",
    "https://www.canvasxpress.org/examples/scatter-29.html\n",
    "\n",
    "This example is generated using the reproducible JSON obtained from the above page and the `canvasxpress.util.generator.generate_canvasxpress_code_from_json_file()` function.\n",
    "\n",
    "Everything required for the chart to render is included in the code below.  Simply run the code block."
   ]
  },
  {
   "cell_type": "code",
   "execution_count": null,
   "metadata": {},
   "outputs": [],
   "source": [
    "from canvasxpress.canvas import CanvasXpress 
from canvasxpress.js.collection import CXEvents 
from canvasxpress.render.jupyter import CXNoteBook 

cx = CanvasXpress(
    render_to="scatter2d9",
    data={
        "y": {
            "smps": [
                "Mortality",
                "Temperature"
            ],
            "vars": [
                "s1",
                "s2",
                "s3",
                "s4",
                "s5",
                "s6",
                "s7",
                "s8",
                "s9",
                "s10",
                "s11",
                "s12",
                "s13",
                "s14",
                "s15",
                "s16"
            ],
            "data": [
                [
                    102.5,
                    51.3
                ],
                [
                    104.5,
                    49.9
                ],
                [
                    100.4,
                    50
                ],
                [
                    95.9,
                    49.2
                ],
                [
                    87,
                    48.5
                ],
                [
                    95,
                    47.8
                ],
                [
                    88.6,
                    47.3
                ],
                [
                    89.2,
                    45.1
                ],
                [
                    78.9,
                    46.3
                ],
                [
                    84.6,
                    42.1
                ],
                [
                    81.7,
                    44.2
                ],
                [
                    72.2,
                    43.5
                ],
                [
                    65.1,
                    42.3
                ],
                [
                    68.1,
                    40.2
                ],
                [
                    67.3,
                    31.8
                ],
                [
                    52.5,
                    34
                ]
            ]
        },
        "m": {
            "Name": "Breast Cancer",
            "Description": "Data contains the mean annual temperature (in degrees F) and Mortality Index for neoplasms of the female breast. Data were taken from certain regions of Great Britain, Norway, and Sweden.",
            "Reference": "Velleman, P. F. and Hoaglin, D. C. (1981). Applications, Basics, and Computing of Exploratory Data Analysis. Belmont. CA: Wadsworth, Inc., pp. 127-134."
        },
        "x": {
            "Description": [
                "Mortality index for neoplasms of the female breast",
                "Mean annual temperature (in degrees F)"
            ]
        }
    },
    config={
        "backgroundType": "window",
        "backgroundWindow": "rgb(238,238,238)",
        "citation": "Velleman, P. F. and Hoaglin, D. C. (1981).Applications, Basics, and Computing of Exploratory Data Analysis. Belmont. CA: Wadsworth, Inc., pp. 127-134.",
        "colors": [
            "rgba(64,64,64,0.5)"
        ],
        "decorationsBackgroundColor": "rgb(238,238,238)",
        "decorationsBoxColor": "rgb(0,0,0)",
        "decorationsPosition": "bottomRight",
        "graphType": "Scatter2D",
        "legendBackgroundColor": "rgba(0,0,0,0.0)",
        "legendInside": True,
        "plotBox": False,
        "showDecorations": True,
        "showTransition": False,
        "theme": "CanvasXpress",
        "title": "Mean annual temperature (in degrees F) and Mortality Index for neoplasms of the female breast.",
        "xAxis": [
            "Mortality"
        ],
        "xAxisTickColor": "rgb(255,255,255)",
        "yAxis": [
            "Temperature"
        ],
        "yAxisTickColor": "rgb(255,255,255)"
    },
    width=500,
    height=500,
    events=CXEvents(),
    after_render=[
        [
            "setDimensions",
            [
                613,
                613,
                True
            ]
        ],
        [
            "addRegressionLine",
            [
                False,
                "red",
                null
            ]
        ]
    ],
    other_init_params={
        "version": 35,
        "events": False,
        "info": False,
        "afterRenderInit": False,
        "noValidate": True
    }
)

display = CXNoteBook(cx) 
display.render() 
"
   ]
  }
 ],
 "metadata": {
  "kernelspec": {
   "display_name": "Python 3",
   "language": "python",
   "name": "python3"
  },
  "language_info": {
   "codemirror_mode": {
    "name": "ipython",
    "version": 3
   },
   "file_extension": ".py",
   "mimetype": "text/x-python",
   "name": "python",
   "nbconvert_exporter": "python",
   "pygments_lexer": "ipython3",
   "version": "3.8.5"
  }
 },
 "nbformat": 4,
 "nbformat_minor": 4
}
