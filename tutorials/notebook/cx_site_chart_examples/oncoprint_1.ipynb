{
 "cells": [
  {
   "cell_type": "markdown",
   "metadata": {
    "tags": []
   },
   "source": [
    "# Example: CanvasXpress oncoprint Chart No. 1\n",
    "\n",
    "This example page demonstrates how to, using the Python package, create a chart that matches the CanvasXpress online example located at:\n",
    "\n",
    "https://www.canvasxpress.org/examples/oncoprint-1.html\n",
    "\n",
    "This example is generated using the reproducible JSON obtained from the above page and the `canvasxpress.util.generator.generate_canvasxpress_code_from_json_file()` function.\n",
    "\n",
    "Everything required for the chart to render is included in the code below.  Simply run the code block."
   ]
  },
  {
   "cell_type": "code",
   "execution_count": null,
   "metadata": {},
   "outputs": [],
   "source": [
    "from canvasxpress.canvas import CanvasXpress 
from canvasxpress.js.collection import CXEvents 
from canvasxpress.render.jupyter import CXNoteBook 

cx = CanvasXpress(
    render_to="oncoprint1",
    data={
        "y": {
            "smps": [
                "V1",
                "V2",
                "V3"
            ],
            "vars": [
                "S1",
                "S2",
                "S3",
                "S4",
                "S5",
                "S6",
                "S7",
                "S8",
                "S9"
            ],
            "data": [
                [
                    3.1,
                    3.5,
                    4
                ],
                [
                    3,
                    7.4,
                    4.1
                ],
                [
                    2.8,
                    3.1,
                    3.3
                ],
                [
                    2.3,
                    2.4,
                    2.1
                ],
                [
                    4.9,
                    6.1,
                    6.1
                ],
                [
                    1.9,
                    2.1,
                    0.1
                ],
                [
                    2.2,
                    1.9,
                    2.1
                ],
                [
                    1.7,
                    2.1,
                    0.2
                ],
                [
                    0.2,
                    4.9,
                    3.9
                ]
            ],
            "data2": [
                [
                    "",
                    "",
                    "Amplification"
                ],
                [
                    "",
                    "Amplification",
                    ""
                ],
                [
                    "",
                    "",
                    ""
                ],
                [
                    "",
                    "",
                    ""
                ],
                [
                    "",
                    "Amplification",
                    "Amplification"
                ],
                [
                    "",
                    "",
                    ""
                ],
                [
                    "",
                    "",
                    ""
                ],
                [
                    "",
                    "",
                    "Deletion"
                ],
                [
                    "Deletion",
                    "Amplification",
                    ""
                ]
            ],
            "data3": [
                [
                    "",
                    "",
                    "Missence"
                ],
                [
                    "",
                    "",
                    "Truncating"
                ],
                [
                    "Nonsense",
                    "",
                    ""
                ],
                [
                    "",
                    "Missence",
                    ""
                ],
                [
                    "",
                    "Truncating",
                    ""
                ],
                [
                    "",
                    "Nonsense",
                    ""
                ],
                [
                    "",
                    "",
                    ""
                ],
                [
                    "Missence",
                    "",
                    ""
                ],
                [
                    "",
                    "",
                    ""
                ]
            ],
            "data4": [
                [
                    "",
                    "A",
                    ""
                ],
                [
                    "",
                    "A",
                    ""
                ],
                [
                    "",
                    "A",
                    ""
                ],
                [
                    "",
                    "A",
                    ""
                ],
                [
                    "",
                    "B",
                    ""
                ],
                [
                    "",
                    "B",
                    ""
                ],
                [
                    "",
                    "",
                    "B"
                ],
                [
                    "",
                    "",
                    "B"
                ],
                [
                    "B",
                    "",
                    ""
                ]
            ]
        },
        "z": {
            "Factor": [
                "Lev:1",
                "Lev:2",
                "Lev:1",
                "Lev:2",
                "Lev:1",
                "Lev:2",
                "Lev:1",
                "Lev:2",
                "Lev:1"
            ]
        },
        "x": {
            "Annt1": [
                "Desc:1",
                "Desc:2",
                "Desc:1"
            ],
            "Annt2": [
                23,
                34,
                52
            ],
            "Annt3": [
                12,
                14,
                34
            ],
            "Annt4": [
                8,
                14,
                14
            ],
            "Annt5": [
                17,
                9,
                18
            ]
        }
    },
    config={
        "graphType": "Heatmap",
        "oncoprintCNA": "data2",
        "oncoprintMUT": "data3",
        "showTransition": False
    },
    width=500,
    height=500,
    events=CXEvents(),
    after_render=[
        [
            "setDimensions",
            [
                613,
                613,
                True
            ]
        ]
    ],
    other_init_params={
        "version": 35,
        "events": False,
        "info": False,
        "afterRenderInit": False,
        "noValidate": True
    }
)

display = CXNoteBook(cx) 
display.render() 
"
   ]
  }
 ],
 "metadata": {
  "kernelspec": {
   "display_name": "Python 3",
   "language": "python",
   "name": "python3"
  },
  "language_info": {
   "codemirror_mode": {
    "name": "ipython",
    "version": 3
   },
   "file_extension": ".py",
   "mimetype": "text/x-python",
   "name": "python",
   "nbconvert_exporter": "python",
   "pygments_lexer": "ipython3",
   "version": "3.8.5"
  }
 },
 "nbformat": 4,
 "nbformat_minor": 4
}
