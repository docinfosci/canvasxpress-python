{
 "cells": [
  {
   "cell_type": "markdown",
   "metadata": {
    "tags": []
   },
   "source": [
    "# Example: CanvasXpress bar Chart No. 13\n",
    "\n",
    "This example page demonstrates how to, using the Python package, create a chart that matches the CanvasXpress online example located at:\n",
    "\n",
    "https://www.canvasxpress.org/examples/bar-13.html\n",
    "\n",
    "This example is generated using the reproducible JSON obtained from the above page and the `canvasxpress.util.generator.generate_canvasxpress_code_from_json_file()` function.\n",
    "\n",
    "Everything required for the chart to render is included in the code below.  Simply run the code block."
   ]
  },
  {
   "cell_type": "code",
   "execution_count": null,
   "metadata": {},
   "outputs": [],
   "source": [
    "from canvasxpress.canvas import CanvasXpress 
from canvasxpress.js.collection import CXEvents 
from canvasxpress.render.jupyter import CXNoteBook 

cx = CanvasXpress(
    render_to="bar13",
    data={
        "y": {
            "vars": [
                "high",
                "start",
                "end"
            ],
            "smps": [
                "S1",
                "S2",
                "S3",
                "S4",
                "S5",
                "S6",
                "S7",
                "S8",
                "S9",
                "S10",
                "S11",
                "S12",
                "S13",
                "S14",
                "S15"
            ],
            "data": [
                [
                    8.3,
                    12.6,
                    12.6,
                    12.5,
                    12.5,
                    12.5,
                    13.5,
                    13.5,
                    14,
                    14,
                    9.5,
                    11.5,
                    7.2,
                    17,
                    18.5
                ],
                [
                    6,
                    2.5,
                    9.5,
                    3.5,
                    6.5,
                    10.5,
                    7,
                    11.5,
                    2.5,
                    6,
                    1,
                    4.5,
                    1.2,
                    10.5,
                    6.5
                ],
                [
                    null,
                    7,
                    null,
                    4.5,
                    8.5,
                    null,
                    10,
                    null,
                    3.5,
                    null,
                    9.5,
                    11.5,
                    null,
                    17,
                    13.5
                ]
            ]
        },
        "x": {
            "Subject": [
                "S1",
                "S2",
                "S2",
                "S3",
                "S3",
                "S3",
                "S4",
                "S4",
                "S5",
                "S5",
                "S6",
                "S7",
                "S8",
                "S9",
                "S10"
            ],
            "Stage": [
                "Stage4",
                "Stage2",
                "Stage2",
                "Stage1",
                "Stage1",
                "Stage1",
                "Stage4",
                "Stage4",
                "Stage3",
                "Stage3",
                "Stage1",
                "Stage3",
                "Stage2",
                "Stage2",
                "Stage1"
            ],
            "High Cap": [
                "Arrow",
                "Arrow",
                "Arrow",
                "Arrow",
                "Arrow",
                "Arrow",
                "Arrow",
                "Arrow",
                "Arrow",
                "Arrow",
                null,
                null,
                "Arrow",
                null,
                "Arrow"
            ],
            "Status": [
                "Partial Response",
                "Partial Response",
                "Partial Response",
                "Complete Response",
                "Complete Response",
                "Partial Response",
                "Partial Response",
                "Partial Response",
                "Partial Response",
                "Partial Response",
                "Complete Response",
                "Complete Response",
                "Complete Response",
                "Complete Response",
                "Complete Response"
            ],
            "Response": [
                20,
                10,
                10,
                -15,
                -15,
                -15,
                -20,
                -20,
                -22,
                -22,
                -25,
                -30,
                -42,
                -45,
                -50
            ],
            "Durable": [
                False,
                False,
                False,
                True,
                False,
                False,
                False,
                False,
                True,
                False,
                True,
                True,
                False,
                True,
                True
            ]
        }
    },
    config={
        "barType": "swimmer",
        "colorBy": "Stage",
        "graphOrientation": "vertical",
        "graphType": "Bar",
        "groupingFactors": [
            "Subject"
        ],
        "objectBorderColor": False,
        "objectColorTransparency": 0.5,
        "smpOverlayProperties": {
            "Durable": {
                "position": "bottom",
                "type": "Boolean",
                "color": "rgb(215,25,28)",
                "spectrum": [
                    "rgb(69,117,180)",
                    "rgb(145,191,219)",
                    "rgb(224,243,248)",
                    "rgb(255,255,191)",
                    "rgb(254,224,144)",
                    "rgb(252,141,89)",
                    "rgb(215,48,39)"
                ],
                "scheme": "CanvasXpress",
                "showLegend": True,
                "showName": True,
                "showBox": True,
                "rotate": False
            },
            "Response": {
                "position": "bottom",
                "thickness": 100,
                "type": "Bar",
                "color": "rgb(253,174,97)",
                "spectrum": [
                    "rgb(69,117,180)",
                    "rgb(145,191,219)",
                    "rgb(224,243,248)",
                    "rgb(255,255,191)",
                    "rgb(254,224,144)",
                    "rgb(252,141,89)",
                    "rgb(215,48,39)"
                ],
                "scheme": "CanvasXpress",
                "showLegend": True,
                "showName": True,
                "showBox": True,
                "rotate": False
            }
        },
        "smpOverlays": [
            "Durable",
            "Response"
        ],
        "swimDurable": "Durable",
        "swimEnd": "end",
        "swimHigh": "high",
        "swimHighCap": "High Cap",
        "swimStart": "start",
        "swimStatus": "Status",
        "theme": "CanvasXpress",
        "title": "Tumor Response with Duration by Stage and Month",
        "xAxisTitle": "Duration of Treatment in Months"
    },
    width=500,
    height=500,
    events=CXEvents(),
    after_render=[
        [
            "setDimensions",
            [
                613,
                613,
                True
            ]
        ]
    ],
    other_init_params={
        "version": 35,
        "events": False,
        "info": False,
        "afterRenderInit": False,
        "noValidate": True
    }
)

display = CXNoteBook(cx) 
display.render() 
"
   ]
  }
 ],
 "metadata": {
  "kernelspec": {
   "display_name": "Python 3",
   "language": "python",
   "name": "python3"
  },
  "language_info": {
   "codemirror_mode": {
    "name": "ipython",
    "version": 3
   },
   "file_extension": ".py",
   "mimetype": "text/x-python",
   "name": "python",
   "nbconvert_exporter": "python",
   "pygments_lexer": "ipython3",
   "version": "3.8.5"
  }
 },
 "nbformat": 4,
 "nbformat_minor": 4
}
