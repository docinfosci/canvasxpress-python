{
 "cells": [
  {
   "cell_type": "markdown",
   "metadata": {
    "tags": []
   },
   "source": [
    "# Example: CanvasXpress sunburst Chart No. 2\n",
    "\n",
    "This example page demonstrates how to, using the Python package, create a chart that matches the CanvasXpress online example located at:\n",
    "\n",
    "https://www.canvasxpress.org/examples/sunburst-2.html\n",
    "\n",
    "This example is generated using the reproducible JSON obtained from the above page and the `canvasxpress.util.generator.generate_canvasxpress_code_from_json_file()` function.\n",
    "\n",
    "Everything required for the chart to render is included in the code below.  Simply run the code block."
   ]
  },
  {
   "cell_type": "code",
   "execution_count": null,
   "metadata": {},
   "outputs": [],
   "source": [
    "from canvasxpress.canvas import CanvasXpress 
from canvasxpress.js.collection import CXEvents 
from canvasxpress.render.jupyter import CXNoteBook 

cx = CanvasXpress(
    render_to="sunburst2",
    data={
        "x": {
            "Quarter": [
                "1st",
                "1st",
                "1st",
                "1st",
                "1st",
                "1st",
                "2nd",
                "2nd",
                "2nd",
                "3rd",
                "3rd",
                "3rd",
                "4th",
                "4th",
                "4th"
            ],
            "Month": [
                "Jan",
                "Feb",
                "Feb",
                "Feb",
                "Feb",
                "Mar",
                "Apr",
                "May",
                "Jun",
                "Jul",
                "Aug",
                "Sep",
                "Oct",
                "Nov",
                "Dec"
            ],
            "Week": [
                null,
                "Week 1",
                "Week 2",
                "Week 3",
                "Week 4",
                null,
                null,
                null,
                null,
                null,
                null,
                null,
                null,
                null,
                null
            ],
            "Color": [
                "red",
                "blue",
                "green",
                "grey",
                "red",
                "blue",
                "green",
                "grey",
                "red",
                "blue",
                "green",
                "grey",
                "red",
                "blue",
                "green"
            ]
        },
        "y": {
            "vars": [
                "Sales"
            ],
            "smps": [
                "Sales1",
                "Sales2",
                "Sales3",
                "Sales4",
                "Sales5",
                "Sales6",
                "Sales7",
                "Sales8",
                "Sales9",
                "Sales10",
                "Sales11",
                "Sales12",
                "Sales13",
                "Sales14",
                "Sales15"
            ],
            "data": [
                [
                    3.5,
                    1.2,
                    0.8,
                    0.6,
                    0.5,
                    1.7,
                    1.1,
                    0.8,
                    0.3,
                    0.7,
                    0.6,
                    0.1,
                    0.5,
                    0.4,
                    0.3
                ]
            ]
        }
    },
    config={
        "circularArc": 360,
        "circularRotate": 0,
        "circularType": "sunburst",
        "colorBy": "Month",
        "colorScheme": "RdYlBu",
        "graphType": "Circular",
        "hierarchy": [
            "Quarter",
            "Month",
            "Week"
        ],
        "showTransition": False,
        "title": "Simple Sunburst Colored by Category"
    },
    width=500,
    height=500,
    events=CXEvents(),
    after_render=[
        [
            "setDimensions",
            [
                613,
                613,
                True
            ]
        ]
    ],
    other_init_params={
        "version": 35,
        "events": False,
        "info": False,
        "afterRenderInit": False,
        "noValidate": True
    }
)

display = CXNoteBook(cx) 
display.render() 
"
   ]
  }
 ],
 "metadata": {
  "kernelspec": {
   "display_name": "Python 3",
   "language": "python",
   "name": "python3"
  },
  "language_info": {
   "codemirror_mode": {
    "name": "ipython",
    "version": 3
   },
   "file_extension": ".py",
   "mimetype": "text/x-python",
   "name": "python",
   "nbconvert_exporter": "python",
   "pygments_lexer": "ipython3",
   "version": "3.8.5"
  }
 },
 "nbformat": 4,
 "nbformat_minor": 4
}
