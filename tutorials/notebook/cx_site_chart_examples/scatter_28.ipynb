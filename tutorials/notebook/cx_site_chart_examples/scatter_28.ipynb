{
 "cells": [
  {
   "cell_type": "markdown",
   "metadata": {
    "tags": []
   },
   "source": [
    "# Example: CanvasXpress scatter Chart No. 28\n",
    "\n",
    "This example page demonstrates how to, using the Python package, create a chart that matches the CanvasXpress online example located at:\n",
    "\n",
    "https://www.canvasxpress.org/examples/scatter-28.html\n",
    "\n",
    "This example is generated using the reproducible JSON obtained from the above page and the `canvasxpress.util.generator.generate_canvasxpress_code_from_json_file()` function.\n",
    "\n",
    "Everything required for the chart to render is included in the code below.  Simply run the code block."
   ]
  },
  {
   "cell_type": "code",
   "execution_count": null,
   "metadata": {},
   "outputs": [],
   "source": [
    "from canvasxpress.canvas import CanvasXpress 
from canvasxpress.js.collection import CXEvents 
from canvasxpress.render.jupyter import CXNoteBook 

cx = CanvasXpress(
    render_to="scatter2d8",
    data={
        "y": {
            "smps": [
                "Age",
                "Height"
            ],
            "vars": [
                "s1",
                "s2",
                "s3",
                "s4",
                "s5",
                "s6",
                "s7",
                "s8",
                "s9",
                "s10",
                "s11",
                "s12"
            ],
            "data": [
                [
                    18,
                    76.1
                ],
                [
                    19,
                    77
                ],
                [
                    20,
                    78.1
                ],
                [
                    21,
                    78.2
                ],
                [
                    22,
                    78.8
                ],
                [
                    23,
                    79.7
                ],
                [
                    24,
                    79.9
                ],
                [
                    25,
                    81.1
                ],
                [
                    26,
                    81.2
                ],
                [
                    27,
                    81.8
                ],
                [
                    28,
                    82.8
                ],
                [
                    29,
                    83.5
                ]
            ]
        },
        "m": {
            "Name": "Age Height",
            "Description": "Mean heights of a group of children in Kalama, an Egyptian village that is the site of a study of nutrition in developing countries. The data were obtained by measuring the heights of all 161 children in the village each month over several years.",
            "Reference": "Moore, David S., and George P. McCabe (1989). Introduction to the Practice of Statistics, p. 118"
        },
        "x": {
            "Description": [
                "Age in months",
                "Mean height in centimeters for children at this age"
            ]
        }
    },
    config={
        "citation": "Moore, David S., and George P. McCabe (1989)",
        "citationScaleFontFactor": 0.75,
        "graphType": "Scatter2D",
        "theme": "CanvasXpress",
        "title": "Mean heights of a group of children in Kalama",
        "xAxis": [
            "Age"
        ],
        "yAxis": [
            "Height"
        ]
    },
    width=500,
    height=500,
    events=CXEvents(),
    after_render=[
        [
            "setDimensions",
            [
                613,
                613,
                True
            ]
        ],
        [
            "addRegressionLine",
            [
                null,
                null,
                null
            ]
        ]
    ],
    other_init_params={
        "version": 35,
        "events": False,
        "info": False,
        "afterRenderInit": False,
        "noValidate": True
    }
)

display = CXNoteBook(cx) 
display.render() 
"
   ]
  }
 ],
 "metadata": {
  "kernelspec": {
   "display_name": "Python 3",
   "language": "python",
   "name": "python3"
  },
  "language_info": {
   "codemirror_mode": {
    "name": "ipython",
    "version": 3
   },
   "file_extension": ".py",
   "mimetype": "text/x-python",
   "name": "python",
   "nbconvert_exporter": "python",
   "pygments_lexer": "ipython3",
   "version": "3.8.5"
  }
 },
 "nbformat": 4,
 "nbformat_minor": 4
}
