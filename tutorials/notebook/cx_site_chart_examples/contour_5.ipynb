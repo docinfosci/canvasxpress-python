{
 "cells": [
  {
   "cell_type": "markdown",
   "metadata": {
    "tags": []
   },
   "source": [
    "# Example: CanvasXpress contour Chart No. 5\n",
    "\n",
    "This example page demonstrates how to, using the Python package, create a chart that matches the CanvasXpress online example located at:\n",
    "\n",
    "https://www.canvasxpress.org/examples/contour-5.html\n",
    "\n",
    "This example is generated using the reproducible JSON obtained from the above page and the `canvasxpress.util.generator.generate_canvasxpress_code_from_json_file()` function.\n",
    "\n",
    "Everything required for the chart to render is included in the code below.  Simply run the code block."
   ]
  },
  {
   "cell_type": "code",
   "execution_count": null,
   "metadata": {},
   "outputs": [],
   "source": [
    "from canvasxpress.canvas import CanvasXpress 
from canvasxpress.js.collection import CXEvents 
from canvasxpress.render.jupyter import CXNoteBook 

cx = CanvasXpress(
    render_to="contour5",
    data={
        "y": {
            "smps": [
                "s1",
                "s2",
                "s3",
                "s4",
                "s5",
                "s6",
                "s7"
            ],
            "vars": [
                "v1",
                "v2",
                "v3",
                "v4",
                "v5",
                "v6",
                "v7",
                "v8"
            ],
            "data": [
                [
                    2,
                    4,
                    7,
                    12,
                    13,
                    14,
                    15
                ],
                [
                    16,
                    3,
                    1,
                    6,
                    11,
                    12,
                    13
                ],
                [
                    16,
                    17,
                    4,
                    2,
                    7,
                    7,
                    11
                ],
                [
                    14,
                    17,
                    18,
                    5,
                    3,
                    8,
                    8
                ],
                [
                    13,
                    15,
                    18,
                    19,
                    7,
                    4,
                    10
                ],
                [
                    9,
                    16,
                    18,
                    20,
                    19,
                    9,
                    10
                ],
                [
                    5,
                    27,
                    23,
                    21,
                    21,
                    21,
                    11
                ],
                [
                    14,
                    17,
                    26,
                    25,
                    24,
                    23,
                    2
                ]
            ]
        }
    },
    config={
        "contourLevelStep": 2,
        "contourType": "color",
        "graphType": "Heatmap",
        "heatmapCellBox": False,
        "lineType": "spline",
        "showContourLevel": False,
        "showSampleNames": False,
        "showVariableNames": False
    },
    width=500,
    height=500,
    events=CXEvents(),
    after_render=[
        [
            "setDimensions",
            [
                350,
                613,
                True
            ]
        ],
        [
            "createContour",
            []
        ],
        [
            "userEventsClick",
            [
                {
                    "x": {},
                    "y": {
                        "vars": [
                            "v1"
                        ],
                        "smps": [
                            "s7"
                        ],
                        "data": [
                            [
                                15
                            ]
                        ]
                    },
                    "z": {}
                },
                {
                    "srcElement": "contour5-events",
                    "target": "contour5-events",
                    "ac": {
                        "x": 17.515625,
                        "y": 581
                    },
                    "altKey": False,
                    "bubbles": True,
                    "button": 0,
                    "buttons": 0,
                    "cancelBubble": False,
                    "cancelable": True,
                    "clientX": 620,
                    "clientY": 958,
                    "ctrlKey": False,
                    "defaultPrevented": False,
                    "detail": 1,
                    "eventPhase": 0,
                    "isTrusted": True,
                    "layerX": 18,
                    "layerY": 582,
                    "metaKey": False,
                    "movementX": 0,
                    "movementY": 0,
                    "offsetX": 18,
                    "offsetY": 581,
                    "pageX": 620,
                    "pageY": 959,
                    "returnValue": True,
                    "screenX": 620,
                    "screenY": 958,
                    "shiftKey": False,
                    "timeStamp": 20854.299999999814,
                    "type": "click",
                    "which": 1,
                    "x": 620,
                    "y": 958,
                    "xMouseDown": False,
                    "yMouseDown": False
                },
                False,
                [
                    0,
                    6
                ]
            ]
        ]
    ],
    other_init_params={
        "version": 35,
        "events": False,
        "info": False,
        "afterRenderInit": False,
        "noValidate": True
    }
)

display = CXNoteBook(cx) 
display.render() 
"
   ]
  }
 ],
 "metadata": {
  "kernelspec": {
   "display_name": "Python 3",
   "language": "python",
   "name": "python3"
  },
  "language_info": {
   "codemirror_mode": {
    "name": "ipython",
    "version": 3
   },
   "file_extension": ".py",
   "mimetype": "text/x-python",
   "name": "python",
   "nbconvert_exporter": "python",
   "pygments_lexer": "ipython3",
   "version": "3.8.5"
  }
 },
 "nbformat": 4,
 "nbformat_minor": 4
}
