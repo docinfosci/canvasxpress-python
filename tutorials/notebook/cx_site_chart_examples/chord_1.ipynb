{
 "cells": [
  {
   "cell_type": "markdown",
   "metadata": {
    "tags": []
   },
   "source": [
    "# Example: CanvasXpress chord Chart No. 1\n",
    "\n",
    "This example page demonstrates how to, using the Python package, create a chart that matches the CanvasXpress online example located at:\n",
    "\n",
    "https://www.canvasxpress.org/examples/chord-1.html\n",
    "\n",
    "This example is generated using the reproducible JSON obtained from the above page and the `canvasxpress.util.generator.generate_canvasxpress_code_from_json_file()` function.\n",
    "\n",
    "Everything required for the chart to render is included in the code below.  Simply run the code block."
   ]
  },
  {
   "cell_type": "code",
   "execution_count": null,
   "metadata": {},
   "outputs": [],
   "source": [
    "from canvasxpress.canvas import CanvasXpress 
from canvasxpress.js.collection import CXEvents 
from canvasxpress.render.jupyter import CXNoteBook 

cx = CanvasXpress(
    render_to="chord1",
    data={
        "y": {
            "vars": [
                "A",
                "B",
                "C",
                "D"
            ],
            "smps": [
                "A",
                "B",
                "C",
                "D"
            ],
            "data": [
                [
                    11975,
                    5871,
                    8916,
                    2868
                ],
                [
                    1951,
                    10048,
                    2060,
                    6171
                ],
                [
                    8010,
                    16145,
                    8090,
                    8045
                ],
                [
                    1013,
                    990,
                    940,
                    6907
                ]
            ]
        }
    },
    config={
        "circularArc": 360,
        "circularRotate": 0,
        "circularType": "chord",
        "colors": [
            "#000000",
            "#FFDD89",
            "#957244",
            "#F26223"
        ],
        "graphType": "Circular",
        "higlightGreyOut": True,
        "rAxisTickFormat": [
            "%sK",
            " / 1000"
        ],
        "showTransition": False,
        "title": "Simple Chord Graph",
        "transitionStep": 50,
        "transitionTime": 1500
    },
    width=500,
    height=500,
    events=CXEvents(),
    after_render=[
        [
            "setDimensions",
            [
                613,
                613,
                True
            ]
        ]
    ],
    other_init_params={
        "version": 35,
        "events": False,
        "info": False,
        "afterRenderInit": False,
        "noValidate": True
    }
)

display = CXNoteBook(cx) 
display.render("chord_1") 
"
   ]
  }
 ],
 "metadata": {
  "kernelspec": {
   "display_name": "Python 3",
   "language": "python",
   "name": "python3"
  },
  "language_info": {
   "codemirror_mode": {
    "name": "ipython",
    "version": 3
   },
   "file_extension": ".py",
   "mimetype": "text/x-python",
   "name": "python",
   "nbconvert_exporter": "python",
   "pygments_lexer": "ipython3",
   "version": "3.8.5"
  }
 },
 "nbformat": 4,
 "nbformat_minor": 4
}
