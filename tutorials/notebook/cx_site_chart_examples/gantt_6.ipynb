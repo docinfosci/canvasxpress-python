{
 "cells": [
  {
   "cell_type": "markdown",
   "metadata": {
    "tags": []
   },
   "source": [
    "# Example: CanvasXpress gantt Chart No. 6\n",
    "\n",
    "This example page demonstrates how to, using the Python package, create a chart that matches the CanvasXpress online example located at:\n",
    "\n",
    "https://www.canvasxpress.org/examples/gantt-6.html\n",
    "\n",
    "This example is generated using the reproducible JSON obtained from the above page and the `canvasxpress.util.generator.generate_canvasxpress_code_from_json_file()` function.\n",
    "\n",
    "Everything required for the chart to render is included in the code below.  Simply run the code block."
   ]
  },
  {
   "cell_type": "code",
   "execution_count": null,
   "metadata": {},
   "outputs": [],
   "source": [
    "from canvasxpress.canvas import CanvasXpress 
from canvasxpress.js.collection import CXEvents 
from canvasxpress.render.jupyter import CXNoteBook 

cx = CanvasXpress(
    render_to="gantt6",
    data={
        "y": {
            "vars": [
                "Start",
                "End",
                "Milestone"
            ],
            "smps": [
                "S01",
                "S02",
                "S03",
                "S04",
                "S05",
                "S06",
                "S07",
                "S08",
                "S09",
                "S10",
                "S11",
                "S12"
            ],
            "data": [
                [
                    20140221,
                    20140521,
                    20140821,
                    20141121,
                    20150221,
                    20150521,
                    20140821,
                    20141121,
                    20150221,
                    20150521,
                    20150821,
                    20151121
                ],
                [
                    20140520,
                    20140820,
                    20141120,
                    20150220,
                    20150520,
                    20150820,
                    20141120,
                    20150220,
                    20150520,
                    20150820,
                    20151120,
                    20160220
                ],
                [
                    null,
                    null,
                    null,
                    20150101,
                    null,
                    null,
                    null,
                    null,
                    null,
                    20150725,
                    null,
                    null
                ]
            ]
        },
        "x": {
            "Clinical Trial": [
                "CT001",
                "CT002",
                "CT003",
                "CT004",
                "CT005",
                "CT006",
                "CT001",
                "CT002",
                "CT003",
                "CT004",
                "CT005",
                "CT006"
            ],
            "Indication": [
                "Lung",
                "Liver",
                "Breast",
                "Skin",
                "Lung",
                "Lung",
                "Breast",
                "Pancreas",
                "Stomach",
                "Breast",
                "Skin",
                "Lung"
            ],
            "Completion": [
                0.2,
                0.6,
                1,
                0.4,
                0.3,
                0.4,
                0.25,
                1,
                0.8,
                0.9,
                0.6,
                0.3
            ],
            "Dependencies": [
                null,
                null,
                null,
                null,
                null,
                null,
                "S01",
                "S02",
                "S03",
                null,
                null,
                null
            ],
            "DependencyEnd": [
                null,
                null,
                null,
                null,
                null,
                null,
                "arrow",
                "square",
                "round",
                null,
                null,
                null
            ],
            "DependencyColor": [
                null,
                null,
                null,
                null,
                null,
                null,
                "blue",
                "red",
                "black",
                null,
                null,
                null
            ],
            "DependencyThickness": [
                null,
                null,
                null,
                null,
                null,
                null,
                1,
                2,
                3,
                null,
                null,
                null
            ]
        }
    },
    config={
        "blockContrast": True,
        "colorBy": "Clinical Trial",
        "ganttCompletion": "Completion",
        "ganttDependency": "Dependencies",
        "ganttDependencyColor": "DependencyColor",
        "ganttDependencyEnd": "DependencyEnd",
        "ganttDependencyThickness": "DependencyThickness",
        "ganttEnd": "End",
        "ganttStart": "Start",
        "graphType": "Gantt",
        "groupingFactors": [
            "Clinical Trial"
        ],
        "patternBy": "Indication",
        "theme": "CanvasXpress"
    },
    width=500,
    height=500,
    events=CXEvents(),
    after_render=[
        [
            "setDimensions",
            [
                613,
                613,
                True
            ]
        ]
    ],
    other_init_params={
        "version": 35,
        "events": False,
        "info": False,
        "afterRenderInit": False,
        "noValidate": True
    }
)

display = CXNoteBook(cx) 
display.render() 
"
   ]
  }
 ],
 "metadata": {
  "kernelspec": {
   "display_name": "Python 3",
   "language": "python",
   "name": "python3"
  },
  "language_info": {
   "codemirror_mode": {
    "name": "ipython",
    "version": 3
   },
   "file_extension": ".py",
   "mimetype": "text/x-python",
   "name": "python",
   "nbconvert_exporter": "python",
   "pygments_lexer": "ipython3",
   "version": "3.8.5"
  }
 },
 "nbformat": 4,
 "nbformat_minor": 4
}
