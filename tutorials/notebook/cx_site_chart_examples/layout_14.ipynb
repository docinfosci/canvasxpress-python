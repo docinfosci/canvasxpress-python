{
 "cells": [
  {
   "cell_type": "markdown",
   "metadata": {
    "tags": []
   },
   "source": [
    "# Example: CanvasXpress layout Chart No. 14\n",
    "\n",
    "This example page demonstrates how to, using the Python package, create a chart that matches the CanvasXpress online example located at:\n",
    "\n",
    "https://www.canvasxpress.org/examples/layout-14.html\n",
    "\n",
    "This example is generated using the reproducible JSON obtained from the above page and the `canvasxpress.util.generator.generate_canvasxpress_code_from_json_file()` function.\n",
    "\n",
    "Everything required for the chart to render is included in the code below.  Simply run the code block."
   ]
  },
  {
   "cell_type": "code",
   "execution_count": null,
   "metadata": {},
   "outputs": [],
   "source": [
    "from canvasxpress.canvas import CanvasXpress 
from canvasxpress.js.collection import CXEvents 
from canvasxpress.render.jupyter import CXNoteBook 

cx = CanvasXpress(
    render_to="layout14",
    data={
        "y": {
            "vars": [
                "Duration",
                "Discontinued",
                "Response",
                "Baseline"
            ],
            "data": [
                [
                    4.8,
                    33.9,
                    40.1,
                    6.9,
                    28.8,
                    40.5,
                    31.2,
                    40,
                    41.8,
                    29.7,
                    1.5,
                    10,
                    45.5,
                    14.9,
                    26.7,
                    29.9,
                    5.6,
                    10.7,
                    25.9,
                    20.8
                ],
                [
                    null,
                    null,
                    null,
                    null,
                    null,
                    35.5,
                    null,
                    35,
                    null,
                    null,
                    null,
                    5,
                    null,
                    null,
                    21.7,
                    null,
                    0.6,
                    null,
                    null,
                    null
                ],
                [
                    29.3,
                    23,
                    19.6,
                    14,
                    5.2,
                    -1.4,
                    -2.8,
                    -6.9,
                    -6.9,
                    -7.1,
                    -13.2,
                    -13.9,
                    -14.5,
                    -16.6,
                    -27.2,
                    -33.9,
                    -43.5,
                    -43.7,
                    -51.4,
                    -52.6
                ],
                [
                    192.7,
                    175.1,
                    93.2,
                    172,
                    121.4,
                    77.1,
                    33.7,
                    73.6,
                    188.6,
                    122.8,
                    80.8,
                    32.5,
                    183.4,
                    87.2,
                    43.5,
                    46.6,
                    115.4,
                    99.9,
                    180.5,
                    130.3
                ]
            ],
            "smps": [
                "smp1",
                "smp2",
                "smp3",
                "smp4",
                "smp5",
                "smp6",
                "smp7",
                "smp8",
                "smp9",
                "smp10",
                "smp11",
                "smp12",
                "smp13",
                "smp14",
                "smp15",
                "smp16",
                "smp17",
                "smp18",
                "smp19",
                "smp20"
            ]
        },
        "x": {
            "Drug": [
                "4 mg",
                "2 mg",
                "3 F6 mg",
                "4 mg",
                "3 F6 mg",
                "3 F6 mg",
                "2 mg",
                "2 mg",
                "2 mg",
                "2 mg",
                "1 mg",
                "4 F6 mg",
                "3 F6 mg",
                "4 F6 mg",
                "3 F6 mg",
                "2 mg",
                "2 mg",
                "1 mg",
                "3 F6 mg",
                "4 mg"
            ],
            "Code": [
                "FL",
                "DLBCL",
                "DLBCL",
                "FL",
                "FL",
                "DLBCL",
                "DLBCL",
                "DLBCL",
                "DLBCL",
                "DLBCL",
                "FL",
                "FL",
                "FL",
                "DLBCL",
                "FL",
                "DLBCL",
                "DLBCL",
                "DLBCL",
                "FL",
                "DLBCL"
            ]
        },
        "z": {
            "Panel": [
                1,
                1,
                2,
                3
            ]
        }
    },
    config={
        "graphOrientation": "vertical",
        "graphType": "Bar",
        "layoutAdjust": True,
        "layoutConfig": [
            {
                "axisCoordinate": True,
                "graphType": "BarLine",
                "showDataValues": True,
                "xAxis2": [
                    "Discontinued"
                ],
                "xAxisTitle": "Duration of Treatment",
                "xAxis": [
                    "Duration"
                ]
            },
            {
                "showLegend": True,
                "showLegendTitle": False,
                "legendInside": True,
                "legendPosition": "bottomLeft",
                "xAxisTitle": "Change from Baseline (%)",
                "colorBy": "Drug",
                "legendColumns": 5
            },
            {
                "barLollipopFactor": 1,
                "barLollipopOpen": True,
                "xAxisTitle": "Baseline (mm)",
                "barType": "lollipop"
            }
        ],
        "layoutLabelShow": False,
        "layoutTopology": "3X1",
        "showLegend": False,
        "theme": "CanvasXpress",
        "title": "Tumor Response and Duration by Subject Id",
        "xAxis2Show": False
    },
    width=500,
    height=500,
    events=CXEvents(),
    after_render=[
        [
            "setDimensions",
            [
                613,
                613,
                True
            ]
        ],
        [
            "segregate",
            [
                "Variables",
                [
                    "Panel"
                ],
                null,
                null
            ]
        ]
    ],
    other_init_params={
        "version": 35,
        "events": False,
        "info": False,
        "afterRenderInit": False,
        "noValidate": True
    }
)

display = CXNoteBook(cx) 
display.render() 
"
   ]
  }
 ],
 "metadata": {
  "kernelspec": {
   "display_name": "Python 3",
   "language": "python",
   "name": "python3"
  },
  "language_info": {
   "codemirror_mode": {
    "name": "ipython",
    "version": 3
   },
   "file_extension": ".py",
   "mimetype": "text/x-python",
   "name": "python",
   "nbconvert_exporter": "python",
   "pygments_lexer": "ipython3",
   "version": "3.8.5"
  }
 },
 "nbformat": 4,
 "nbformat_minor": 4
}
