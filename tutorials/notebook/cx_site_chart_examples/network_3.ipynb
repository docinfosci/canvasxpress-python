{
 "cells": [
  {
   "cell_type": "markdown",
   "metadata": {
    "tags": []
   },
   "source": [
    "# Example: CanvasXpress network Chart No. 3\n",
    "\n",
    "This example page demonstrates how to, using the Python package, create a chart that matches the CanvasXpress online example located at:\n",
    "\n",
    "https://www.canvasxpress.org/examples/network-3.html\n",
    "\n",
    "This example is generated using the reproducible JSON obtained from the above page and the `canvasxpress.util.generator.generate_canvasxpress_code_from_json_file()` function.\n",
    "\n",
    "Everything required for the chart to render is included in the code below.  Simply run the code block."
   ]
  },
  {
   "cell_type": "code",
   "execution_count": null,
   "metadata": {},
   "outputs": [],
   "source": [
    "from canvasxpress.canvas import CanvasXpress 
from canvasxpress.js.collection import CXEvents 
from canvasxpress.render.jupyter import CXNoteBook 

cx = CanvasXpress(
    render_to="network3",
    data={
        "nodes": [
            {
                "id": "Id0",
                "name": "Myriel",
                "group": 1,
                "layout": {
                    "angle": 0,
                    "children": [],
                    "displacement": {
                        "x": 0,
                        "y": 0,
                        "z": 0
                    },
                    "edges": [
                        {
                            "id1": "Id1",
                            "id2": "Id0",
                            "value": 1,
                            "layout": {
                                "length": -1,
                                "weight": 1,
                                "coeff": -1
                            },
                            "weight": 1
                        },
                        {
                            "id1": "Id2",
                            "id2": "Id0",
                            "value": 8,
                            "layout": {
                                "length": -1,
                                "weight": 1,
                                "coeff": -1
                            },
                            "weight": 1
                        },
                        {
                            "id1": "Id3",
                            "id2": "Id0",
                            "value": 10,
                            "layout": {
                                "length": -1,
                                "weight": 1,
                                "coeff": -1
                            },
                            "weight": 1
                        },
                        {
                            "id1": "Id4",
                            "id2": "Id0",
                            "value": 1,
                            "layout": {
                                "length": -1,
                                "weight": 1,
                                "coeff": -1
                            },
                            "weight": 1
                        },
                        {
                            "id1": "Id5",
                            "id2": "Id0",
                            "value": 1,
                            "layout": {
                                "length": -1,
                                "weight": 1,
                                "coeff": -1
                            },
                            "weight": 1
                        },
                        {
                            "id1": "Id6",
                            "id2": "Id0",
                            "value": 1,
                            "layout": {
                                "length": -1,
                                "weight": 1,
                                "coeff": -1
                            },
                            "weight": 1
                        },
                        {
                            "id1": "Id7",
                            "id2": "Id0",
                            "value": 1,
                            "layout": {
                                "length": -1,
                                "weight": 1,
                                "coeff": -1
                            },
                            "weight": 1
                        },
                        {
                            "id1": "Id8",
                            "id2": "Id0",
                            "value": 2,
                            "layout": {
                                "length": -1,
                                "weight": 1,
                                "coeff": -1
                            },
                            "weight": 1
                        },
                        {
                            "id1": "Id9",
                            "id2": "Id0",
                            "value": 1,
                            "layout": {
                                "length": -1,
                                "weight": 1,
                                "coeff": -1
                            },
                            "weight": 1
                        },
                        {
                            "id1": "Id11",
                            "id2": "Id0",
                            "value": 5,
                            "layout": {
                                "length": -1,
                                "weight": 1,
                                "coeff": -1
                            },
                            "weight": 1
                        }
                    ],
                    "force": {
                        "x": 0,
                        "y": 0,
                        "z": 0
                    },
                    "hierarchy": False,
                    "lastPosition": {
                        "x": 724.4937950473595,
                        "y": 1153.1397461937459,
                        "z": 0,
                        "r": 233.976806640625,
                        "a": 2.763709020336803
                    },
                    "level": 0,
                    "mass": 4.333333333333334,
                    "metrics": {
                        "betweenness": -1,
                        "closeness": -1,
                        "degree": -1,
                        "eccentricity": -1
                    },
                    "neighbors": [],
                    "order": -1,
                    "parent": False,
                    "position": {
                        "x": 467.6814697765605,
                        "y": 229.0584942033673,
                        "z": 0
                    },
                    "prevPosition": {
                        "x": 0,
                        "y": 0,
                        "z": 0
                    },
                    "radius": 0,
                    "velocity": {
                        "x": 0,
                        "y": 0,
                        "z": 0
                    }
                },
                "nodeEdges": 10,
                "radius": 233.976806640625,
                "angle": 2.763709020336803,
                "x": 724.4937950473595,
                "y": 1153.1397461937459,
                "z": 0,
                "community": 0,
                "communityColor": "rgb(254,41,108)"
            },
            {
                "id": "Id1",
                "name": "Napoleon",
                "group": 1,
                "layout": {
                    "angle": 0,
                    "children": [],
                    "displacement": {
                        "x": 0,
                        "y": 0,
                        "z": 0
                    },
                    "edges": [
                        {
                            "id1": "Id1",
                            "id2": "Id0",
                            "value": 1,
                            "layout": {
                                "length": -1,
                                "weight": 1,
                                "coeff": -1
                            },
                            "weight": 1
                        }
                    ],
                    "force": {
                        "x": 0,
                        "y": 0,
                        "z": 0
                    },
                    "hierarchy": False,
                    "lastPosition": {
                        "x": 758.8454741861742,
                        "y": 1150.2099789781046,
                        "z": 0,
                        "r": 233.976806640625,
                        "a": 6.985919414339349
                    },
                    "level": 0,
                    "mass": 1.3333333333333333,
                    "metrics": {
                        "betweenness": -1,
                        "closeness": -1,
                        "degree": -1,
                        "eccentricity": -1
                    },
                    "neighbors": [
                        "Id0"
                    ],
                    "order": -1,
                    "parent": False,
                    "position": {
                        "x": 466.2165861687398,
                        "y": 246.23433377277462,
                        "z": 0
                    },
                    "prevPosition": {
                        "x": 0,
                        "y": 0,
                        "z": 0
                    },
                    "radius": 0,
                    "velocity": {
                        "x": 0,
                        "y": 0,
                        "z": 0
                    }
                },
                "nodeEdges": 1,
                "radius": 233.976806640625,
                "angle": 6.985919414339349,
                "x": 758.8454741861742,
                "y": 1150.2099789781046,
                "z": 0,
                "community": 0,
                "communityColor": "rgb(254,41,108)"
            },
            {
                "id": "Id2",
                "name": "Mlle. Baptistine",
                "group": 1,
                "layout": {
                    "angle": 0,
                    "children": [],
                    "displacement": {
                        "x": 0,
                        "y": 0,
                        "z": 0
                    },
                    "edges": [
                        {
                            "id1": "Id2",
                            "id2": "Id0",
                            "value": 8,
                            "layout": {
                                "length": -1,
                                "weight": 1,
                                "coeff": -1
                            },
                            "weight": 1
                        },
                        {
                            "id1": "Id3",
                            "id2": "Id2",
                            "value": 6,
                            "layout": {
                                "length": -1,
                                "weight": 1,
                                "coeff": -1
                            },
                            "weight": 1
                        },
                        {
                            "id1": "Id11",
                            "id2": "Id2",
                            "value": 3,
                            "layout": {
                                "length": -1,
                                "weight": 1,
                                "coeff": -1
                            },
                            "weight": 1
                        }
                    ],
                    "force": {
                        "x": 0,
                        "y": 0,
                        "z": 0
                    },
                    "hierarchy": False,
                    "lastPosition": {
                        "x": 784.1574082632741,
                        "y": 1146.4030874107125,
                        "z": 0,
                        "r": 233.976806640625,
                        "a": 10.120333937937328
                    },
                    "level": 0,
                    "mass": 2,
                    "metrics": {
                        "betweenness": -1,
                        "closeness": -1,
                        "degree": -1,
                        "eccentricity": -1
                    },
                    "neighbors": [
                        "Id0"
                    ],
                    "order": -1,
                    "parent": False,
                    "position": {
                        "x": 464.31314038504377,
                        "y": 258.89030081132455,
                        "z": 0
                    },
                    "prevPosition": {
                        "x": 0,
                        "y": 0,
                        "z": 0
                    },
                    "radius": 0,
                    "velocity": {
                        "x": 0,
                        "y": 0,
                        "z": 0
                    }
                },
                "nodeEdges": 3,
                "radius": 233.976806640625,
                "angle": 10.120333937937328,
                "x": 784.1574082632741,
                "y": 1146.4030874107125,
                "z": 0,
                "community": 1,
                "communityColor": "rgb(72,126,182)"
            },
            {
                "id": "Id3",
                "name": "Mme. Magloire",
                "group": 1,
                "layout": {
                    "angle": 0,
                    "children": [],
                    "displacement": {
                        "x": 0,
                        "y": 0,
                        "z": 0
                    },
                    "edges": [
                        {
                            "id1": "Id3",
                            "id2": "Id0",
                            "value": 10,
                            "layout": {
                                "length": -1,
                                "weight": 1,
                                "coeff": -1
                            },
                            "weight": 1
                        },
                        {
                            "id1": "Id3",
                            "id2": "Id2",
                            "value": 6,
                            "layout": {
                                "length": -1,
                                "weight": 1,
                                "coeff": -1
                            },
                            "weight": 1
                        },
                        {
                            "id1": "Id11",
                            "id2": "Id3",
                            "value": 3,
                            "layout": {
                                "length": -1,
                                "weight": 1,
                                "coeff": -1
                            },
                            "weight": 1
                        }
                    ],
                    "force": {
                        "x": 0,
                        "y": 0,
                        "z": 0
                    },
                    "hierarchy": False,
                    "lastPosition": {
                        "x": 810.950914426378,
                        "y": 1140.8074639056067,
                        "z": 0,
                        "r": 233.976806640625,
                        "a": 13.472160237801804
                    },
                    "level": 0,
                    "mass": 2,
                    "metrics": {
                        "betweenness": -1,
                        "closeness": -1,
                        "degree": -1,
                        "eccentricity": -1
                    },
                    "neighbors": [
                        "Id0",
                        "Id2"
                    ],
                    "order": -1,
                    "parent": False,
                    "position": {
                        "x": 461.5153286324909,
                        "y": 272.2870538928765,
                        "z": 0
                    },
                    "prevPosition": {
                        "x": 0,
                        "y": 0,
                        "z": 0
                    },
                    "radius": 0,
                    "velocity": {
                        "x": 0,
                        "y": 0,
                        "z": 0
                    }
                },
                "nodeEdges": 3,
                "radius": 233.976806640625,
                "angle": 13.472160237801804,
                "x": 810.950914426378,
                "y": 1140.8074639056067,
                "z": 0,
                "community": 1,
                "communityColor": "rgb(72,126,182)"
            },
            {
                "id": "Id4",
                "name": "Countess de Lo",
                "group": 1,
                "layout": {
                    "angle": 0,
                    "children": [],
                    "displacement": {
                        "x": 0,
                        "y": 0,
                        "z": 0
                    },
                    "edges": [
                        {
                            "id1": "Id4",
                            "id2": "Id0",
                            "value": 1,
                            "layout": {
                                "length": -1,
                                "weight": 1,
                                "coeff": -1
                            },
                            "weight": 1
                        }
                    ],
                    "force": {
                        "x": 0,
                        "y": 0,
                        "z": 0
                    },
                    "hierarchy": False,
                    "lastPosition": {
                        "x": 835.6707830906972,
                        "y": 1134.1655874126163,
                        "z": 0,
                        "r": 233.976806640625,
                        "a": 16.60657476139978
                    },
                    "level": 0,
                    "mass": 1.3333333333333333,
                    "metrics": {
                        "betweenness": -1,
                        "closeness": -1,
                        "degree": -1,
                        "eccentricity": -1
                    },
                    "neighbors": [
                        "Id0"
                    ],
                    "order": -1,
                    "parent": False,
                    "position": {
                        "x": 458.1943903859957,
                        "y": 284.6469882250361,
                        "z": 0
                    },
                    "prevPosition": {
                        "x": 0,
                        "y": 0,
                        "z": 0
                    },
                    "radius": 0,
                    "velocity": {
                        "x": 0,
                        "y": 0,
                        "z": 0
                    }
                },
                "nodeEdges": 1,
                "radius": 233.976806640625,
                "angle": 16.60657476139978,
                "x": 835.6707830906972,
                "y": 1134.1655874126163,
                "z": 0,
                "community": 0,
                "communityColor": "rgb(254,41,108)"
            },
            {
                "id": "Id5",
                "name": "Geborand",
                "group": 1,
                "layout": {
                    "angle": 0,
                    "children": [],
                    "displacement": {
                        "x": 0,
                        "y": 0,
                        "z": 0
                    },
                    "edges": [
                        {
                            "id1": "Id5",
                            "id2": "Id0",
                            "value": 1,
                            "layout": {
                                "length": -1,
                                "weight": 1,
                                "coeff": -1
                            },
                            "weight": 1
                        }
                    ],
                    "force": {
                        "x": 0,
                        "y": 0,
                        "z": 0
                    },
                    "hierarchy": False,
                    "lastPosition": {
                        "x": 858.318052672651,
                        "y": 1126.7785947345433,
                        "z": 0,
                        "r": 233.976806640625,
                        "a": 19.523577508731268
                    },
                    "level": 0,
                    "mass": 1.3333333333333333,
                    "metrics": {
                        "betweenness": -1,
                        "closeness": -1,
                        "degree": -1,
                        "eccentricity": -1
                    },
                    "neighbors": [
                        "Id0"
                    ],
                    "order": -1,
                    "parent": False,
                    "position": {
                        "x": 454.50089404695916,
                        "y": 295.97062301601306,
                        "z": 0
                    },
                    "prevPosition": {
                        "x": 0,
                        "y": 0,
                        "z": 0
                    },
                    "radius": 0,
                    "velocity": {
                        "x": 0,
                        "y": 0,
                        "z": 0
                    }
                },
                "nodeEdges": 1,
                "radius": 233.976806640625,
                "angle": 19.523577508731268,
                "x": 858.318052672651,
                "y": 1126.7785947345433,
                "z": 0,
                "community": 0,
                "communityColor": "rgb(254,41,108)"
            },
            {
                "id": "Id6",
                "name": "Champtercier",
                "group": 1,
                "layout": {
                    "angle": 0,
                    "children": [],
                    "displacement": {
                        "x": 0,
                        "y": 0,
                        "z": 0
                    },
                    "edges": [
                        {
                            "id1": "Id6",
                            "id2": "Id0",
                            "value": 1,
                            "layout": {
                                "length": -1,
                                "weight": 1,
                                "coeff": -1
                            },
                            "weight": 1
                        }
                    ],
                    "force": {
                        "x": 0,
                        "y": 0,
                        "z": 0
                    },
                    "hierarchy": False,
                    "lastPosition": {
                        "x": 880.5600592041958,
                        "y": 1118.2486694245354,
                        "z": 0,
                        "r": 233.976806640625,
                        "a": 22.440580256062752
                    },
                    "level": 0,
                    "mass": 1.3333333333333333,
                    "metrics": {
                        "betweenness": -1,
                        "closeness": -1,
                        "degree": -1,
                        "eccentricity": -1
                    },
                    "neighbors": [
                        "Id0"
                    ],
                    "order": -1,
                    "parent": False,
                    "position": {
                        "x": 450.2359313919552,
                        "y": 307.09162628178547,
                        "z": 0
                    },
                    "prevPosition": {
                        "x": 0,
                        "y": 0,
                        "z": 0
                    },
                    "radius": 0,
                    "velocity": {
                        "x": 0,
                        "y": 0,
                        "z": 0
                    }
                },
                "nodeEdges": 1,
                "radius": 233.976806640625,
                "angle": 22.440580256062752,
                "x": 880.5600592041958,
                "y": 1118.2486694245354,
                "z": 0,
                "community": 0,
                "communityColor": "rgb(254,41,108)"
            },
            {
                "id": "Id7",
                "name": "Cravatte",
                "group": 1,
                "layout": {
                    "angle": 0,
                    "children": [],
                    "displacement": {
                        "x": 0,
                        "y": 0,
                        "z": 0
                    },
                    "edges": [
                        {
                            "id1": "Id7",
                            "id2": "Id0",
                            "value": 1,
                            "layout": {
                                "length": -1,
                                "weight": 1,
                                "coeff": -1
                            },
                            "weight": 1
                        }
                    ],
                    "force": {
                        "x": 0,
                        "y": 0,
                        "z": 0
                    },
                    "hierarchy": False,
                    "lastPosition": {
                        "x": 902.3391647298511,
                        "y": 1108.5979159386168,
                        "z": 0,
                        "r": 233.976806640625,
                        "a": 25.35758300339424
                    },
                    "level": 0,
                    "mass": 1.3333333333333333,
                    "metrics": {
                        "betweenness": -1,
                        "closeness": -1,
                        "degree": -1,
                        "eccentricity": -1
                    },
                    "neighbors": [
                        "Id0"
                    ],
                    "order": -1,
                    "parent": False,
                    "position": {
                        "x": 445.4105546489959,
                        "y": 317.98117904461304,
                        "z": 0
                    },
                    "prevPosition": {
                        "x": 0,
                        "y": 0,
                        "z": 0
                    },
                    "radius": 0,
                    "velocity": {
                        "x": 0,
                        "y": 0,
                        "z": 0
                    }
                },
                "nodeEdges": 1,
                "radius": 233.976806640625,
                "angle": 25.35758300339424,
                "x": 902.3391647298511,
                "y": 1108.5979159386168,
                "z": 0,
                "community": 0,
                "communityColor": "rgb(254,41,108)"
            },
            {
                "id": "Id8",
                "name": "Count",
                "group": 1,
                "layout": {
                    "angle": 0,
                    "children": [],
                    "displacement": {
                        "x": 0,
                        "y": 0,
                        "z": 0
                    },
                    "edges": [
                        {
                            "id1": "Id8",
                            "id2": "Id0",
                            "value": 2,
                            "layout": {
                                "length": -1,
                                "weight": 1,
                                "coeff": -1
                            },
                            "weight": 1
                        }
                    ],
                    "force": {
                        "x": 0,
                        "y": 0,
                        "z": 0
                    },
                    "hierarchy": False,
                    "lastPosition": {
                        "x": 923.598930856214,
                        "y": 1097.8513432479426,
                        "z": 0,
                        "r": 233.976806640625,
                        "a": 28.274585750725723
                    },
                    "level": 0,
                    "mass": 1.3333333333333333,
                    "metrics": {
                        "betweenness": -1,
                        "closeness": -1,
                        "degree": -1,
                        "eccentricity": -1
                    },
                    "neighbors": [
                        "Id0"
                    ],
                    "order": -1,
                    "parent": False,
                    "position": {
                        "x": 440.03726830365883,
                        "y": 328.6110621077945,
                        "z": 0
                    },
                    "prevPosition": {
                        "x": 0,
                        "y": 0,
                        "z": 0
                    },
                    "radius": 0,
                    "velocity": {
                        "x": 0,
                        "y": 0,
                        "z": 0
                    }
                },
                "nodeEdges": 1,
                "radius": 233.976806640625,
                "angle": 28.274585750725723,
                "x": 923.598930856214,
                "y": 1097.8513432479426,
                "z": 0,
                "community": 0,
                "communityColor": "rgb(254,41,108)"
            },
            {
                "id": "Id9",
                "name": "Old Man",
                "group": 1,
                "layout": {
                    "angle": 0,
                    "children": [],
                    "displacement": {
                        "x": 0,
                        "y": 0,
                        "z": 0
                    },
                    "edges": [
                        {
                            "id1": "Id9",
                            "id2": "Id0",
                            "value": 1,
                            "layout": {
                                "length": -1,
                                "weight": 1,
                                "coeff": -1
                            },
                            "weight": 1
                        }
                    ],
                    "force": {
                        "x": 0,
                        "y": 0,
                        "z": 0
                    },
                    "hierarchy": False,
                    "lastPosition": {
                        "x": 944.2842650064624,
                        "y": 1086.036800030528,
                        "z": 0,
                        "r": 233.976806640625,
                        "a": 31.191588498057207
                    },
                    "level": 0,
                    "mass": 1.3333333333333333,
                    "metrics": {
                        "betweenness": -1,
                        "closeness": -1,
                        "degree": -1,
                        "eccentricity": -1
                    },
                    "neighbors": [
                        "Id0"
                    ],
                    "order": -1,
                    "parent": False,
                    "position": {
                        "x": 434.1299966949515,
                        "y": 338.9537291829188,
                        "z": 0
                    },
                    "prevPosition": {
                        "x": 0,
                        "y": 0,
                        "z": 0
                    },
                    "radius": 0,
                    "velocity": {
                        "x": 0,
                        "y": 0,
                        "z": 0
                    }
                },
                "nodeEdges": 1,
                "radius": 233.976806640625,
                "angle": 31.191588498057207,
                "x": 944.2842650064624,
                "y": 1086.036800030528,
                "z": 0,
                "community": 0,
                "communityColor": "rgb(254,41,108)"
            },
            {
                "id": "Id10",
                "name": "Labarre",
                "group": 2,
                "layout": {
                    "angle": 0,
                    "children": [],
                    "displacement": {
                        "x": 0,
                        "y": 0,
                        "z": 0
                    },
                    "edges": [
                        {
                            "id1": "Id11",
                            "id2": "Id10",
                            "value": 1,
                            "layout": {
                                "length": -1,
                                "weight": 1,
                                "coeff": -1
                            },
                            "weight": 1
                        }
                    ],
                    "force": {
                        "x": 0,
                        "y": 0,
                        "z": 0
                    },
                    "hierarchy": False,
                    "lastPosition": {
                        "x": 964.3415631873077,
                        "y": 1073.1849025041602,
                        "z": 0,
                        "r": 233.976806640625,
                        "a": 34.108591245388695
                    },
                    "level": 0,
                    "mass": 1.3333333333333333,
                    "metrics": {
                        "betweenness": -1,
                        "closeness": -1,
                        "degree": -1,
                        "eccentricity": -1
                    },
                    "neighbors": [],
                    "order": -1,
                    "parent": False,
                    "position": {
                        "x": 427.70404793176755,
                        "y": 348.98237827334134,
                        "z": 0
                    },
                    "prevPosition": {
                        "x": 0,
                        "y": 0,
                        "z": 0
                    },
                    "radius": 0,
                    "velocity": {
                        "x": 0,
                        "y": 0,
                        "z": 0
                    }
                },
                "nodeEdges": 1,
                "radius": 233.976806640625,
                "angle": 34.108591245388695,
                "x": 964.3415631873077,
                "y": 1073.1849025041602,
                "z": 0,
                "community": 1,
                "communityColor": "rgb(72,126,182)"
            },
            {
                "id": "Id11",
                "name": "Valjean",
                "group": 2,
                "layout": {
                    "angle": 0,
                    "children": [],
                    "displacement": {
                        "x": 0,
                        "y": 0,
                        "z": 0
                    },
                    "edges": [
                        {
                            "id1": "Id11",
                            "id2": "Id10",
                            "value": 1,
                            "layout": {
                                "length": -1,
                                "weight": 1,
                                "coeff": -1
                            },
                            "weight": 1
                        },
                        {
                            "id1": "Id11",
                            "id2": "Id3",
                            "value": 3,
                            "layout": {
                                "length": -1,
                                "weight": 1,
                                "coeff": -1
                            },
                            "weight": 1
                        },
                        {
                            "id1": "Id11",
                            "id2": "Id2",
                            "value": 3,
                            "layout": {
                                "length": -1,
                                "weight": 1,
                                "coeff": -1
                            },
                            "weight": 1
                        },
                        {
                            "id1": "Id11",
                            "id2": "Id0",
                            "value": 5,
                            "layout": {
                                "length": -1,
                                "weight": 1,
                                "coeff": -1
                            },
                            "weight": 1
                        },
                        {
                            "id1": "Id12",
                            "id2": "Id11",
                            "value": 1,
                            "layout": {
                                "length": -1,
                                "weight": 1,
                                "coeff": -1
                            },
                            "weight": 1
                        },
                        {
                            "id1": "Id13",
                            "id2": "Id11",
                            "value": 1,
                            "layout": {
                                "length": -1,
                                "weight": 1,
                                "coeff": -1
                            },
                            "weight": 1
                        },
                        {
                            "id1": "Id14",
                            "id2": "Id11",
                            "value": 1,
                            "layout": {
                                "length": -1,
                                "weight": 1,
                                "coeff": -1
                            },
                            "weight": 1
                        },
                        {
                            "id1": "Id15",
                            "id2": "Id11",
                            "value": 1,
                            "layout": {
                                "length": -1,
                                "weight": 1,
                                "coeff": -1
                            },
                            "weight": 1
                        },
                        {
                            "id1": "Id23",
                            "id2": "Id11",
                            "value": 9,
                            "layout": {
                                "length": -1,
                                "weight": 1,
                                "coeff": -1
                            },
                            "weight": 1
                        },
                        {
                            "id1": "Id24",
                            "id2": "Id11",
                            "value": 7,
                            "layout": {
                                "length": -1,
                                "weight": 1,
                                "coeff": -1
                            },
                            "weight": 1
                        },
                        {
                            "id1": "Id25",
                            "id2": "Id11",
                            "value": 12,
                            "layout": {
                                "length": -1,
                                "weight": 1,
                                "coeff": -1
                            },
                            "weight": 1
                        },
                        {
                            "id1": "Id26",
                            "id2": "Id11",
                            "value": 31,
                            "layout": {
                                "length": -1,
                                "weight": 1,
                                "coeff": -1
                            },
                            "weight": 1
                        },
                        {
                            "id1": "Id27",
                            "id2": "Id11",
                            "value": 17,
                            "layout": {
                                "length": -1,
                                "weight": 1,
                                "coeff": -1
                            },
                            "weight": 1
                        },
                        {
                            "id1": "Id28",
                            "id2": "Id11",
                            "value": 8,
                            "layout": {
                                "length": -1,
                                "weight": 1,
                                "coeff": -1
                            },
                            "weight": 1
                        },
                        {
                            "id1": "Id29",
                            "id2": "Id11",
                            "value": 2,
                            "layout": {
                                "length": -1,
                                "weight": 1,
                                "coeff": -1
                            },
                            "weight": 1
                        },
                        {
                            "id1": "Id31",
                            "id2": "Id11",
                            "value": 3,
                            "layout": {
                                "length": -1,
                                "weight": 1,
                                "coeff": -1
                            },
                            "weight": 1
                        },
                        {
                            "id1": "Id32",
                            "id2": "Id11",
                            "value": 1,
                            "layout": {
                                "length": -1,
                                "weight": 1,
                                "coeff": -1
                            },
                            "weight": 1
                        },
                        {
                            "id1": "Id33",
                            "id2": "Id11",
                            "value": 2,
                            "layout": {
                                "length": -1,
                                "weight": 1,
                                "coeff": -1
                            },
                            "weight": 1
                        },
                        {
                            "id1": "Id34",
                            "id2": "Id11",
                            "value": 3,
                            "layout": {
                                "length": -1,
                                "weight": 1,
                                "coeff": -1
                            },
                            "weight": 1
                        },
                        {
                            "id1": "Id35",
                            "id2": "Id11",
                            "value": 3,
                            "layout": {
                                "length": -1,
                                "weight": 1,
                                "coeff": -1
                            },
                            "weight": 1
                        },
                        {
                            "id1": "Id36",
                            "id2": "Id11",
                            "value": 2,
                            "layout": {
                                "length": -1,
                                "weight": 1,
                                "coeff": -1
                            },
                            "weight": 1
                        },
                        {
                            "id1": "Id37",
                            "id2": "Id11",
                            "value": 2,
                            "layout": {
                                "length": -1,
                                "weight": 1,
                                "coeff": -1
                            },
                            "weight": 1
                        },
                        {
                            "id1": "Id38",
                            "id2": "Id11",
                            "value": 2,
                            "layout": {
                                "length": -1,
                                "weight": 1,
                                "coeff": -1
                            },
                            "weight": 1
                        },
                        {
                            "id1": "Id43",
                            "id2": "Id11",
                            "value": 3,
                            "layout": {
                                "length": -1,
                                "weight": 1,
                                "coeff": -1
                            },
                            "weight": 1
                        },
                        {
                            "id1": "Id44",
                            "id2": "Id11",
                            "value": 1,
                            "layout": {
                                "length": -1,
                                "weight": 1,
                                "coeff": -1
                            },
                            "weight": 1
                        },
                        {
                            "id1": "Id48",
                            "id2": "Id11",
                            "value": 1,
                            "layout": {
                                "length": -1,
                                "weight": 1,
                                "coeff": -1
                            },
                            "weight": 1
                        },
                        {
                            "id1": "Id49",
                            "id2": "Id11",
                            "value": 2,
                            "layout": {
                                "length": -1,
                                "weight": 1,
                                "coeff": -1
                            },
                            "weight": 1
                        },
                        {
                            "id1": "Id51",
                            "id2": "Id11",
                            "value": 2,
                            "layout": {
                                "length": -1,
                                "weight": 1,
                                "coeff": -1
                            },
                            "weight": 1
                        },
                        {
                            "id1": "Id55",
                            "id2": "Id11",
                            "value": 19,
                            "layout": {
                                "length": -1,
                                "weight": 1,
                                "coeff": -1
                            },
                            "weight": 1
                        },
                        {
                            "id1": "Id58",
                            "id2": "Id11",
                            "value": 4,
                            "layout": {
                                "length": -1,
                                "weight": 1,
                                "coeff": -1
                            },
                            "weight": 1
                        },
                        {
                            "id1": "Id64",
                            "id2": "Id11",
                            "value": 1,
                            "layout": {
                                "length": -1,
                                "weight": 1,
                                "coeff": -1
                            },
                            "weight": 1
                        },
                        {
                            "id1": "Id68",
                            "id2": "Id11",
                            "value": 1,
                            "layout": {
                                "length": -1,
                                "weight": 1,
                                "coeff": -1
                            },
                            "weight": 1
                        },
                        {
                            "id1": "Id69",
                            "id2": "Id11",
                            "value": 1,
                            "layout": {
                                "length": -1,
                                "weight": 1,
                                "coeff": -1
                            },
                            "weight": 1
                        },
                        {
                            "id1": "Id70",
                            "id2": "Id11",
                            "value": 1,
                            "layout": {
                                "length": -1,
                                "weight": 1,
                                "coeff": -1
                            },
                            "weight": 1
                        },
                        {
                            "id1": "Id71",
                            "id2": "Id11",
                            "value": 1,
                            "layout": {
                                "length": -1,
                                "weight": 1,
                                "coeff": -1
                            },
                            "weight": 1
                        },
                        {
                            "id1": "Id72",
                            "id2": "Id11",
                            "value": 1,
                            "layout": {
                                "length": -1,
                                "weight": 1,
                                "coeff": -1
                            },
                            "weight": 1
                        }
                    ],
                    "force": {
                        "x": 0,
                        "y": 0,
                        "z": 0
                    },
                    "hierarchy": False,
                    "lastPosition": {
                        "x": 1039.878570561451,
                        "y": 1009.4148830372185,
                        "z": 0,
                        "r": 233.976806640625,
                        "a": 46.235009437554496
                    },
                    "level": 0,
                    "mass": 13,
                    "metrics": {
                        "betweenness": -1,
                        "closeness": -1,
                        "degree": -1,
                        "eccentricity": -1
                    },
                    "neighbors": [
                        "Id10",
                        "Id3"
                    ],
                    "order": -1,
                    "parent": False,
                    "position": {
                        "x": 395.81903819829677,
                        "y": 386.75088196041304,
                        "z": 0
                    },
                    "prevPosition": {
                        "x": 0,
                        "y": 0,
                        "z": 0
                    },
                    "radius": 0,
                    "velocity": {
                        "x": 0,
                        "y": 0,
                        "z": 0
                    }
                },
                "nodeEdges": 36,
                "radius": 233.976806640625,
                "angle": 46.235009437554496,
                "x": 1039.878570561451,
                "y": 1009.4148830372185,
                "z": 0,
                "community": 1,
                "communityColor": "rgb(72,126,182)"
            },
            {
                "id": "Id12",
                "name": "Marguerite",
                "group": 3,
                "layout": {
                    "angle": 0,
                    "children": [],
                    "displacement": {
                        "x": 0,
                        "y": 0,
                        "z": 0
                    },
                    "edges": [
                        {
                            "id1": "Id12",
                            "id2": "Id11",
                            "value": 1,
                            "layout": {
                                "length": -1,
                                "weight": 1,
                                "coeff": -1
                            },
                            "weight": 1
                        },
                        {
                            "id1": "Id23",
                            "id2": "Id12",
                            "value": 2,
                            "layout": {
                                "length": -1,
                                "weight": 1,
                                "coeff": -1
                            },
                            "weight": 1
                        }
                    ],
                    "force": {
                        "x": 0,
                        "y": 0,
                        "z": 0
                    },
                    "hierarchy": False,
                    "lastPosition": {
                        "x": 1100.8729117688042,
                        "y": 930.3228817475423,
                        "z": 0,
                        "r": 233.976806640625,
                        "a": 58.487452761047656
                    },
                    "level": 0,
                    "mass": 1.6666666666666665,
                    "metrics": {
                        "betweenness": -1,
                        "closeness": -1,
                        "degree": -1,
                        "eccentricity": -1
                    },
                    "neighbors": [
                        "Id11"
                    ],
                    "order": -1,
                    "parent": False,
                    "position": {
                        "x": 356.27303755345866,
                        "y": 417.24805256408956,
                        "z": 0
                    },
                    "prevPosition": {
                        "x": 0,
                        "y": 0,
                        "z": 0
                    },
                    "radius": 0,
                    "velocity": {
                        "x": 0,
                        "y": 0,
                        "z": 0
                    }
                },
                "nodeEdges": 2,
                "radius": 233.976806640625,
                "angle": 58.487452761047656,
                "x": 1100.8729117688042,
                "y": 930.3228817475423,
                "z": 0,
                "community": 1,
                "communityColor": "rgb(72,126,182)"
            },
            {
                "id": "Id13",
                "name": "Mme. de R",
                "group": 2,
                "layout": {
                    "angle": 0,
                    "children": [],
                    "displacement": {
                        "x": 0,
                        "y": 0,
                        "z": 0
                    },
                    "edges": [
                        {
                            "id1": "Id13",
                            "id2": "Id11",
                            "value": 1,
                            "layout": {
                                "length": -1,
                                "weight": 1,
                                "coeff": -1
                            },
                            "weight": 1
                        }
                    ],
                    "force": {
                        "x": 0,
                        "y": 0,
                        "z": 0
                    },
                    "hierarchy": False,
                    "lastPosition": {
                        "x": 1113.2947915242546,
                        "y": 908.7997767577186,
                        "z": 0,
                        "r": 233.976806640625,
                        "a": 61.5304806397065
                    },
                    "level": 0,
                    "mass": 1.3333333333333333,
                    "metrics": {
                        "betweenness": -1,
                        "closeness": -1,
                        "degree": -1,
                        "eccentricity": -1
                    },
                    "neighbors": [
                        "Id11"
                    ],
                    "order": -1,
                    "parent": False,
                    "position": {
                        "x": 345.51148505854684,
                        "y": 423.45899244181487,
                        "z": 0
                    },
                    "prevPosition": {
                        "x": 0,
                        "y": 0,
                        "z": 0
                    },
                    "radius": 0,
                    "velocity": {
                        "x": 0,
                        "y": 0,
                        "z": 0
                    }
                },
                "nodeEdges": 1,
                "radius": 233.976806640625,
                "angle": 61.5304806397065,
                "x": 1113.2947915242546,
                "y": 908.7997767577186,
                "z": 0,
                "community": 1,
                "communityColor": "rgb(72,126,182)"
            },
            {
                "id": "Id14",
                "name": "Isabeau",
                "group": 2,
                "layout": {
                    "angle": 0,
                    "children": [],
                    "displacement": {
                        "x": 0,
                        "y": 0,
                        "z": 0
                    },
                    "edges": [
                        {
                            "id1": "Id14",
                            "id2": "Id11",
                            "value": 1,
                            "layout": {
                                "length": -1,
                                "weight": 1,
                                "coeff": -1
                            },
                            "weight": 1
                        }
                    ],
                    "force": {
                        "x": 0,
                        "y": 0,
                        "z": 0
                    },
                    "hierarchy": False,
                    "lastPosition": {
                        "x": 1124.113632563103,
                        "y": 887.5766959512071,
                        "z": 0,
                        "r": 233.976806640625,
                        "a": 64.44748338703798
                    },
                    "level": 0,
                    "mass": 1.3333333333333333,
                    "metrics": {
                        "betweenness": -1,
                        "closeness": -1,
                        "degree": -1,
                        "eccentricity": -1
                    },
                    "neighbors": [
                        "Id11"
                    ],
                    "order": -1,
                    "parent": False,
                    "position": {
                        "x": 334.899944655291,
                        "y": 428.868412961239,
                        "z": 0
                    },
                    "prevPosition": {
                        "x": 0,
                        "y": 0,
                        "z": 0
                    },
                    "radius": 0,
                    "velocity": {
                        "x": 0,
                        "y": 0,
                        "z": 0
                    }
                },
                "nodeEdges": 1,
                "radius": 233.976806640625,
                "angle": 64.44748338703798,
                "x": 1124.113632563103,
                "y": 887.5766959512071,
                "z": 0,
                "community": 1,
                "communityColor": "rgb(72,126,182)"
            },
            {
                "id": "Id15",
                "name": "Gervais",
                "group": 2,
                "layout": {
                    "angle": 0,
                    "children": [],
                    "displacement": {
                        "x": 0,
                        "y": 0,
                        "z": 0
                    },
                    "edges": [
                        {
                            "id1": "Id15",
                            "id2": "Id11",
                            "value": 1,
                            "layout": {
                                "length": -1,
                                "weight": 1,
                                "coeff": -1
                            },
                            "weight": 1
                        }
                    ],
                    "force": {
                        "x": 0,
                        "y": 0,
                        "z": 0
                    },
                    "hierarchy": False,
                    "lastPosition": {
                        "x": 1133.8384276497427,
                        "y": 865.8305505257194,
                        "z": 0,
                        "r": 233.976806640625,
                        "a": 67.36448613436944
                    },
                    "level": 0,
                    "mass": 1.3333333333333333,
                    "metrics": {
                        "betweenness": -1,
                        "closeness": -1,
                        "degree": -1,
                        "eccentricity": -1
                    },
                    "neighbors": [
                        "Id11"
                    ],
                    "order": -1,
                    "parent": False,
                    "position": {
                        "x": 324.02687194254725,
                        "y": 433.73081050455886,
                        "z": 0
                    },
                    "prevPosition": {
                        "x": 0,
                        "y": 0,
                        "z": 0
                    },
                    "radius": 0,
                    "velocity": {
                        "x": 0,
                        "y": 0,
                        "z": 0
                    }
                },
                "nodeEdges": 1,
                "radius": 233.976806640625,
                "angle": 67.36448613436944,
                "x": 1133.8384276497427,
                "y": 865.8305505257194,
                "z": 0,
                "community": 1,
                "communityColor": "rgb(72,126,182)"
            },
            {
                "id": "Id16",
                "name": "Tholomyes",
                "group": 3,
                "layout": {
                    "angle": 0,
                    "children": [],
                    "displacement": {
                        "x": 0,
                        "y": 0,
                        "z": 0
                    },
                    "edges": [
                        {
                            "id1": "Id17",
                            "id2": "Id16",
                            "value": 4,
                            "layout": {
                                "length": -1,
                                "weight": 1,
                                "coeff": -1
                            },
                            "weight": 1
                        },
                        {
                            "id1": "Id18",
                            "id2": "Id16",
                            "value": 4,
                            "layout": {
                                "length": -1,
                                "weight": 1,
                                "coeff": -1
                            },
                            "weight": 1
                        },
                        {
                            "id1": "Id19",
                            "id2": "Id16",
                            "value": 4,
                            "layout": {
                                "length": -1,
                                "weight": 1,
                                "coeff": -1
                            },
                            "weight": 1
                        },
                        {
                            "id1": "Id20",
                            "id2": "Id16",
                            "value": 3,
                            "layout": {
                                "length": -1,
                                "weight": 1,
                                "coeff": -1
                            },
                            "weight": 1
                        },
                        {
                            "id1": "Id21",
                            "id2": "Id16",
                            "value": 3,
                            "layout": {
                                "length": -1,
                                "weight": 1,
                                "coeff": -1
                            },
                            "weight": 1
                        },
                        {
                            "id1": "Id22",
                            "id2": "Id16",
                            "value": 3,
                            "layout": {
                                "length": -1,
                                "weight": 1,
                                "coeff": -1
                            },
                            "weight": 1
                        },
                        {
                            "id1": "Id23",
                            "id2": "Id16",
                            "value": 3,
                            "layout": {
                                "length": -1,
                                "weight": 1,
                                "coeff": -1
                            },
                            "weight": 1
                        },
                        {
                            "id1": "Id26",
                            "id2": "Id16",
                            "value": 1,
                            "layout": {
                                "length": -1,
                                "weight": 1,
                                "coeff": -1
                            },
                            "weight": 1
                        },
                        {
                            "id1": "Id55",
                            "id2": "Id16",
                            "value": 1,
                            "layout": {
                                "length": -1,
                                "weight": 1,
                                "coeff": -1
                            },
                            "weight": 1
                        }
                    ],
                    "force": {
                        "x": 0,
                        "y": 0,
                        "z": 0
                    },
                    "hierarchy": False,
                    "lastPosition": {
                        "x": 1145.369684777779,
                        "y": 835.2035030072022,
                        "z": 0,
                        "r": 233.976806640625,
                        "a": 71.37223270839385
                    },
                    "level": 0,
                    "mass": 4,
                    "metrics": {
                        "betweenness": -1,
                        "closeness": -1,
                        "degree": -1,
                        "eccentricity": -1
                    },
                    "neighbors": [],
                    "order": -1,
                    "parent": False,
                    "position": {
                        "x": 308.7133481832886,
                        "y": 439.496439068577,
                        "z": 0
                    },
                    "prevPosition": {
                        "x": 0,
                        "y": 0,
                        "z": 0
                    },
                    "radius": 0,
                    "velocity": {
                        "x": 0,
                        "y": 0,
                        "z": 0
                    }
                },
                "nodeEdges": 9,
                "radius": 233.976806640625,
                "angle": 71.37223270839385,
                "x": 1145.369684777779,
                "y": 835.2035030072022,
                "z": 0,
                "community": 2,
                "communityColor": "rgb(167,206,49)"
            },
            {
                "id": "Id17",
                "name": "Listolier",
                "group": 3,
                "layout": {
                    "angle": 0,
                    "children": [],
                    "displacement": {
                        "x": 0,
                        "y": 0,
                        "z": 0
                    },
                    "edges": [
                        {
                            "id1": "Id17",
                            "id2": "Id16",
                            "value": 4,
                            "layout": {
                                "length": -1,
                                "weight": 1,
                                "coeff": -1
                            },
                            "weight": 1
                        },
                        {
                            "id1": "Id18",
                            "id2": "Id17",
                            "value": 4,
                            "layout": {
                                "length": -1,
                                "weight": 1,
                                "coeff": -1
                            },
                            "weight": 1
                        },
                        {
                            "id1": "Id19",
                            "id2": "Id17",
                            "value": 4,
                            "layout": {
                                "length": -1,
                                "weight": 1,
                                "coeff": -1
                            },
                            "weight": 1
                        },
                        {
                            "id1": "Id20",
                            "id2": "Id17",
                            "value": 3,
                            "layout": {
                                "length": -1,
                                "weight": 1,
                                "coeff": -1
                            },
                            "weight": 1
                        },
                        {
                            "id1": "Id21",
                            "id2": "Id17",
                            "value": 3,
                            "layout": {
                                "length": -1,
                                "weight": 1,
                                "coeff": -1
                            },
                            "weight": 1
                        },
                        {
                            "id1": "Id22",
                            "id2": "Id17",
                            "value": 3,
                            "layout": {
                                "length": -1,
                                "weight": 1,
                                "coeff": -1
                            },
                            "weight": 1
                        },
                        {
                            "id1": "Id23",
                            "id2": "Id17",
                            "value": 3,
                            "layout": {
                                "length": -1,
                                "weight": 1,
                                "coeff": -1
                            },
                            "weight": 1
                        }
                    ],
                    "force": {
                        "x": 0,
                        "y": 0,
                        "z": 0
                    },
                    "hierarchy": False,
                    "lastPosition": {
                        "x": 1156.2644803136207,
                        "y": 797.806937314803,
                        "z": 0,
                        "r": 233.976806640625,
                        "a": 76.14276297203122
                    },
                    "level": 0,
                    "mass": 3.3333333333333335,
                    "metrics": {
                        "betweenness": -1,
                        "closeness": -1,
                        "degree": -1,
                        "eccentricity": -1
                    },
                    "neighbors": [
                        "Id16"
                    ],
                    "order": -1,
                    "parent": False,
                    "position": {
                        "x": 290.01506533708897,
                        "y": 444.9438368364979,
                        "z": 0
                    },
                    "prevPosition": {
                        "x": 0,
                        "y": 0,
                        "z": 0
                    },
                    "radius": 0,
                    "velocity": {
                        "x": 0,
                        "y": 0,
                        "z": 0
                    }
                },
                "nodeEdges": 7,
                "radius": 233.976806640625,
                "angle": 76.14276297203122,
                "x": 1156.2644803136207,
                "y": 797.806937314803,
                "z": 0,
                "community": 2,
                "communityColor": "rgb(167,206,49)"
            },
            {
                "id": "Id18",
                "name": "Fameuil",
                "group": 3,
                "layout": {
                    "angle": 0,
                    "children": [],
                    "displacement": {
                        "x": 0,
                        "y": 0,
                        "z": 0
                    },
                    "edges": [
                        {
                            "id1": "Id18",
                            "id2": "Id16",
                            "value": 4,
                            "layout": {
                                "length": -1,
                                "weight": 1,
                                "coeff": -1
                            },
                            "weight": 1
                        },
                        {
                            "id1": "Id18",
                            "id2": "Id17",
                            "value": 4,
                            "layout": {
                                "length": -1,
                                "weight": 1,
                                "coeff": -1
                            },
                            "weight": 1
                        },
                        {
                            "id1": "Id19",
                            "id2": "Id18",
                            "value": 4,
                            "layout": {
                                "length": -1,
                                "weight": 1,
                                "coeff": -1
                            },
                            "weight": 1
                        },
                        {
                            "id1": "Id20",
                            "id2": "Id18",
                            "value": 3,
                            "layout": {
                                "length": -1,
                                "weight": 1,
                                "coeff": -1
                            },
                            "weight": 1
                        },
                        {
                            "id1": "Id21",
                            "id2": "Id18",
                            "value": 3,
                            "layout": {
                                "length": -1,
                                "weight": 1,
                                "coeff": -1
                            },
                            "weight": 1
                        },
                        {
                            "id1": "Id22",
                            "id2": "Id18",
                            "value": 3,
                            "layout": {
                                "length": -1,
                                "weight": 1,
                                "coeff": -1
                            },
                            "weight": 1
                        },
                        {
                            "id1": "Id23",
                            "id2": "Id18",
                            "value": 3,
                            "layout": {
                                "length": -1,
                                "weight": 1,
                                "coeff": -1
                            },
                            "weight": 1
                        }
                    ],
                    "force": {
                        "x": 0,
                        "y": 0,
                        "z": 0
                    },
                    "hierarchy": False,
                    "lastPosition": {
                        "x": 1163.5808478564124,
                        "y": 762.2775725197093,
                        "z": 0,
                        "r": 233.976806640625,
                        "a": 80.5853330985886
                    },
                    "level": 0,
                    "mass": 3.3333333333333335,
                    "metrics": {
                        "betweenness": -1,
                        "closeness": -1,
                        "degree": -1,
                        "eccentricity": -1
                    },
                    "neighbors": [
                        "Id16",
                        "Id17"
                    ],
                    "order": -1,
                    "parent": False,
                    "position": {
                        "x": 272.2503829395422,
                        "y": 448.60202060789373,
                        "z": 0
                    },
                    "prevPosition": {
                        "x": 0,
                        "y": 0,
                        "z": 0
                    },
                    "radius": 0,
                    "velocity": {
                        "x": 0,
                        "y": 0,
                        "z": 0
                    }
                },
                "nodeEdges": 7,
                "radius": 233.976806640625,
                "angle": 80.5853330985886,
                "x": 1163.5808478564124,
                "y": 762.2775725197093,
                "z": 0,
                "community": 2,
                "communityColor": "rgb(167,206,49)"
            },
            {
                "id": "Id19",
                "name": "Blacheville",
                "group": 3,
                "layout": {
                    "angle": 0,
                    "children": [],
                    "displacement": {
                        "x": 0,
                        "y": 0,
                        "z": 0
                    },
                    "edges": [
                        {
                            "id1": "Id19",
                            "id2": "Id16",
                            "value": 4,
                            "layout": {
                                "length": -1,
                                "weight": 1,
                                "coeff": -1
                            },
                            "weight": 1
                        },
                        {
                            "id1": "Id19",
                            "id2": "Id17",
                            "value": 4,
                            "layout": {
                                "length": -1,
                                "weight": 1,
                                "coeff": -1
                            },
                            "weight": 1
                        },
                        {
                            "id1": "Id19",
                            "id2": "Id18",
                            "value": 4,
                            "layout": {
                                "length": -1,
                                "weight": 1,
                                "coeff": -1
                            },
                            "weight": 1
                        },
                        {
                            "id1": "Id20",
                            "id2": "Id19",
                            "value": 4,
                            "layout": {
                                "length": -1,
                                "weight": 1,
                                "coeff": -1
                            },
                            "weight": 1
                        },
                        {
                            "id1": "Id21",
                            "id2": "Id19",
                            "value": 3,
                            "layout": {
                                "length": -1,
                                "weight": 1,
                                "coeff": -1
                            },
                            "weight": 1
                        },
                        {
                            "id1": "Id22",
                            "id2": "Id19",
                            "value": 3,
                            "layout": {
                                "length": -1,
                                "weight": 1,
                                "coeff": -1
                            },
                            "weight": 1
                        },
                        {
                            "id1": "Id23",
                            "id2": "Id19",
                            "value": 3,
                            "layout": {
                                "length": -1,
                                "weight": 1,
                                "coeff": -1
                            },
                            "weight": 1
                        }
                    ],
                    "force": {
                        "x": 0,
                        "y": 0,
                        "z": 0
                    },
                    "hierarchy": False,
                    "lastPosition": {
                        "x": 1168.1231354910394,
                        "y": 726.288232156091,
                        "z": 0,
                        "r": 233.976806640625,
                        "a": 85.02790322514599
                    },
                    "level": 0,
                    "mass": 3.3333333333333335,
                    "metrics": {
                        "betweenness": -1,
                        "closeness": -1,
                        "degree": -1,
                        "eccentricity": -1
                    },
                    "neighbors": [
                        "Id16",
                        "Id17"
                    ],
                    "order": -1,
                    "parent": False,
                    "position": {
                        "x": 254.25571275773302,
                        "y": 450.87316442520716,
                        "z": 0
                    },
                    "prevPosition": {
                        "x": 0,
                        "y": 0,
                        "z": 0
                    },
                    "radius": 0,
                    "velocity": {
                        "x": 0,
                        "y": 0,
                        "z": 0
                    }
                },
                "nodeEdges": 7,
                "radius": 233.976806640625,
                "angle": 85.02790322514599,
                "x": 1168.1231354910394,
                "y": 726.288232156091,
                "z": 0,
                "community": 2,
                "communityColor": "rgb(167,206,49)"
            },
            {
                "id": "Id20",
                "name": "Favourite",
                "group": 3,
                "layout": {
                    "angle": 0,
                    "children": [],
                    "displacement": {
                        "x": 0,
                        "y": 0,
                        "z": 0
                    },
                    "edges": [
                        {
                            "id1": "Id20",
                            "id2": "Id16",
                            "value": 3,
                            "layout": {
                                "length": -1,
                                "weight": 1,
                                "coeff": -1
                            },
                            "weight": 1
                        },
                        {
                            "id1": "Id20",
                            "id2": "Id17",
                            "value": 3,
                            "layout": {
                                "length": -1,
                                "weight": 1,
                                "coeff": -1
                            },
                            "weight": 1
                        },
                        {
                            "id1": "Id20",
                            "id2": "Id18",
                            "value": 3,
                            "layout": {
                                "length": -1,
                                "weight": 1,
                                "coeff": -1
                            },
                            "weight": 1
                        },
                        {
                            "id1": "Id20",
                            "id2": "Id19",
                            "value": 4,
                            "layout": {
                                "length": -1,
                                "weight": 1,
                                "coeff": -1
                            },
                            "weight": 1
                        },
                        {
                            "id1": "Id21",
                            "id2": "Id20",
                            "value": 5,
                            "layout": {
                                "length": -1,
                                "weight": 1,
                                "coeff": -1
                            },
                            "weight": 1
                        },
                        {
                            "id1": "Id22",
                            "id2": "Id20",
                            "value": 4,
                            "layout": {
                                "length": -1,
                                "weight": 1,
                                "coeff": -1
                            },
                            "weight": 1
                        },
                        {
                            "id1": "Id23",
                            "id2": "Id20",
                            "value": 4,
                            "layout": {
                                "length": -1,
                                "weight": 1,
                                "coeff": -1
                            },
                            "weight": 1
                        }
                    ],
                    "force": {
                        "x": 0,
                        "y": 0,
                        "z": 0
                    },
                    "hierarchy": False,
                    "lastPosition": {
                        "x": 1169.864048389853,
                        "y": 690.0551779232113,
                        "z": 0,
                        "r": 233.976806640625,
                        "a": 89.47047335170338
                    },
                    "level": 0,
                    "mass": 3.3333333333333335,
                    "metrics": {
                        "betweenness": -1,
                        "closeness": -1,
                        "degree": -1,
                        "eccentricity": -1
                    },
                    "neighbors": [
                        "Id16",
                        "Id17"
                    ],
                    "order": -1,
                    "parent": False,
                    "position": {
                        "x": 236.13918564129327,
                        "y": 451.74362087461395,
                        "z": 0
                    },
                    "prevPosition": {
                        "x": 0,
                        "y": 0,
                        "z": 0
                    },
                    "radius": 0,
                    "velocity": {
                        "x": 0,
                        "y": 0,
                        "z": 0
                    }
                },
                "nodeEdges": 7,
                "radius": 233.976806640625,
                "angle": 89.47047335170338,
                "x": 1169.864048389853,
                "y": 690.0551779232113,
                "z": 0,
                "community": 2,
                "communityColor": "rgb(167,206,49)"
            },
            {
                "id": "Id21",
                "name": "Dahlia",
                "group": 3,
                "layout": {
                    "angle": 0,
                    "children": [],
                    "displacement": {
                        "x": 0,
                        "y": 0,
                        "z": 0
                    },
                    "edges": [
                        {
                            "id1": "Id21",
                            "id2": "Id16",
                            "value": 3,
                            "layout": {
                                "length": -1,
                                "weight": 1,
                                "coeff": -1
                            },
                            "weight": 1
                        },
                        {
                            "id1": "Id21",
                            "id2": "Id17",
                            "value": 3,
                            "layout": {
                                "length": -1,
                                "weight": 1,
                                "coeff": -1
                            },
                            "weight": 1
                        },
                        {
                            "id1": "Id21",
                            "id2": "Id18",
                            "value": 3,
                            "layout": {
                                "length": -1,
                                "weight": 1,
                                "coeff": -1
                            },
                            "weight": 1
                        },
                        {
                            "id1": "Id21",
                            "id2": "Id19",
                            "value": 3,
                            "layout": {
                                "length": -1,
                                "weight": 1,
                                "coeff": -1
                            },
                            "weight": 1
                        },
                        {
                            "id1": "Id21",
                            "id2": "Id20",
                            "value": 5,
                            "layout": {
                                "length": -1,
                                "weight": 1,
                                "coeff": -1
                            },
                            "weight": 1
                        },
                        {
                            "id1": "Id22",
                            "id2": "Id21",
                            "value": 4,
                            "layout": {
                                "length": -1,
                                "weight": 1,
                                "coeff": -1
                            },
                            "weight": 1
                        },
                        {
                            "id1": "Id23",
                            "id2": "Id21",
                            "value": 4,
                            "layout": {
                                "length": -1,
                                "weight": 1,
                                "coeff": -1
                            },
                            "weight": 1
                        }
                    ],
                    "force": {
                        "x": 0,
                        "y": 0,
                        "z": 0
                    },
                    "hierarchy": False,
                    "lastPosition": {
                        "x": 1168.7931253224453,
                        "y": 653.7961360088453,
                        "z": 0,
                        "r": 233.976806640625,
                        "a": 93.91304347826076
                    },
                    "level": 0,
                    "mass": 3.3333333333333335,
                    "metrics": {
                        "betweenness": -1,
                        "closeness": -1,
                        "degree": -1,
                        "eccentricity": -1
                    },
                    "neighbors": [
                        "Id16",
                        "Id17"
                    ],
                    "order": -1,
                    "parent": False,
                    "position": {
                        "x": 218.00966468411022,
                        "y": 451.2081593409102,
                        "z": 0
                    },
                    "prevPosition": {
                        "x": 0,
                        "y": 0,
                        "z": 0
                    },
                    "radius": 0,
                    "velocity": {
                        "x": 0,
                        "y": 0,
                        "z": 0
                    }
                },
                "nodeEdges": 7,
                "radius": 233.976806640625,
                "angle": 93.91304347826076,
                "x": 1168.7931253224453,
                "y": 653.7961360088453,
                "z": 0,
                "community": 2,
                "communityColor": "rgb(167,206,49)"
            },
            {
                "id": "Id22",
                "name": "Zephine",
                "group": 3,
                "layout": {
                    "angle": 0,
                    "children": [],
                    "displacement": {
                        "x": 0,
                        "y": 0,
                        "z": 0
                    },
                    "edges": [
                        {
                            "id1": "Id22",
                            "id2": "Id16",
                            "value": 3,
                            "layout": {
                                "length": -1,
                                "weight": 1,
                                "coeff": -1
                            },
                            "weight": 1
                        },
                        {
                            "id1": "Id22",
                            "id2": "Id17",
                            "value": 3,
                            "layout": {
                                "length": -1,
                                "weight": 1,
                                "coeff": -1
                            },
                            "weight": 1
                        },
                        {
                            "id1": "Id22",
                            "id2": "Id18",
                            "value": 3,
                            "layout": {
                                "length": -1,
                                "weight": 1,
                                "coeff": -1
                            },
                            "weight": 1
                        },
                        {
                            "id1": "Id22",
                            "id2": "Id19",
                            "value": 3,
                            "layout": {
                                "length": -1,
                                "weight": 1,
                                "coeff": -1
                            },
                            "weight": 1
                        },
                        {
                            "id1": "Id22",
                            "id2": "Id20",
                            "value": 4,
                            "layout": {
                                "length": -1,
                                "weight": 1,
                                "coeff": -1
                            },
                            "weight": 1
                        },
                        {
                            "id1": "Id22",
                            "id2": "Id21",
                            "value": 4,
                            "layout": {
                                "length": -1,
                                "weight": 1,
                                "coeff": -1
                            },
                            "weight": 1
                        },
                        {
                            "id1": "Id23",
                            "id2": "Id22",
                            "value": 4,
                            "layout": {
                                "length": -1,
                                "weight": 1,
                                "coeff": -1
                            },
                            "weight": 1
                        }
                    ],
                    "force": {
                        "x": 0,
                        "y": 0,
                        "z": 0
                    },
                    "hierarchy": False,
                    "lastPosition": {
                        "x": 1164.9168015176926,
                        "y": 617.728988762012,
                        "z": 0,
                        "r": 233.976806640625,
                        "a": 98.35561360481816
                    },
                    "level": 0,
                    "mass": 3.3333333333333335,
                    "metrics": {
                        "betweenness": -1,
                        "closeness": -1,
                        "degree": -1,
                        "eccentricity": -1
                    },
                    "neighbors": [
                        "Id16",
                        "Id17"
                    ],
                    "order": -1,
                    "parent": False,
                    "position": {
                        "x": 199.9760910606935,
                        "y": 449.26999743853384,
                        "z": 0
                    },
                    "prevPosition": {
                        "x": 0,
                        "y": 0,
                        "z": 0
                    },
                    "radius": 0,
                    "velocity": {
                        "x": 0,
                        "y": 0,
                        "z": 0
                    }
                },
                "nodeEdges": 7,
                "radius": 233.976806640625,
                "angle": 98.35561360481816,
                "x": 1164.9168015176926,
                "y": 617.728988762012,
                "z": 0,
                "community": 2,
                "communityColor": "rgb(167,206,49)"
            },
            {
                "id": "Id23",
                "name": "Fantine",
                "group": 3,
                "layout": {
                    "angle": 0,
                    "children": [],
                    "displacement": {
                        "x": 0,
                        "y": 0,
                        "z": 0
                    },
                    "edges": [
                        {
                            "id1": "Id23",
                            "id2": "Id16",
                            "value": 3,
                            "layout": {
                                "length": -1,
                                "weight": 1,
                                "coeff": -1
                            },
                            "weight": 1
                        },
                        {
                            "id1": "Id23",
                            "id2": "Id17",
                            "value": 3,
                            "layout": {
                                "length": -1,
                                "weight": 1,
                                "coeff": -1
                            },
                            "weight": 1
                        },
                        {
                            "id1": "Id23",
                            "id2": "Id18",
                            "value": 3,
                            "layout": {
                                "length": -1,
                                "weight": 1,
                                "coeff": -1
                            },
                            "weight": 1
                        },
                        {
                            "id1": "Id23",
                            "id2": "Id19",
                            "value": 3,
                            "layout": {
                                "length": -1,
                                "weight": 1,
                                "coeff": -1
                            },
                            "weight": 1
                        },
                        {
                            "id1": "Id23",
                            "id2": "Id20",
                            "value": 4,
                            "layout": {
                                "length": -1,
                                "weight": 1,
                                "coeff": -1
                            },
                            "weight": 1
                        },
                        {
                            "id1": "Id23",
                            "id2": "Id21",
                            "value": 4,
                            "layout": {
                                "length": -1,
                                "weight": 1,
                                "coeff": -1
                            },
                            "weight": 1
                        },
                        {
                            "id1": "Id23",
                            "id2": "Id22",
                            "value": 4,
                            "layout": {
                                "length": -1,
                                "weight": 1,
                                "coeff": -1
                            },
                            "weight": 1
                        },
                        {
                            "id1": "Id23",
                            "id2": "Id12",
                            "value": 2,
                            "layout": {
                                "length": -1,
                                "weight": 1,
                                "coeff": -1
                            },
                            "weight": 1
                        },
                        {
                            "id1": "Id23",
                            "id2": "Id11",
                            "value": 9,
                            "layout": {
                                "length": -1,
                                "weight": 1,
                                "coeff": -1
                            },
                            "weight": 1
                        },
                        {
                            "id1": "Id24",
                            "id2": "Id23",
                            "value": 2,
                            "layout": {
                                "length": -1,
                                "weight": 1,
                                "coeff": -1
                            },
                            "weight": 1
                        },
                        {
                            "id1": "Id25",
                            "id2": "Id23",
                            "value": 1,
                            "layout": {
                                "length": -1,
                                "weight": 1,
                                "coeff": -1
                            },
                            "weight": 1
                        },
                        {
                            "id1": "Id27",
                            "id2": "Id23",
                            "value": 5,
                            "layout": {
                                "length": -1,
                                "weight": 1,
                                "coeff": -1
                            },
                            "weight": 1
                        },
                        {
                            "id1": "Id29",
                            "id2": "Id23",
                            "value": 1,
                            "layout": {
                                "length": -1,
                                "weight": 1,
                                "coeff": -1
                            },
                            "weight": 1
                        },
                        {
                            "id1": "Id30",
                            "id2": "Id23",
                            "value": 1,
                            "layout": {
                                "length": -1,
                                "weight": 1,
                                "coeff": -1
                            },
                            "weight": 1
                        },
                        {
                            "id1": "Id31",
                            "id2": "Id23",
                            "value": 2,
                            "layout": {
                                "length": -1,
                                "weight": 1,
                                "coeff": -1
                            },
                            "weight": 1
                        }
                    ],
                    "force": {
                        "x": 0,
                        "y": 0,
                        "z": 0
                    },
                    "hierarchy": False,
                    "lastPosition": {
                        "x": 1155.3219847680111,
                        "y": 569.9000564183896,
                        "z": 0,
                        "r": 233.976806640625,
                        "a": 104.33112100132236
                    },
                    "level": 0,
                    "mass": 6,
                    "metrics": {
                        "betweenness": -1,
                        "closeness": -1,
                        "degree": -1,
                        "eccentricity": -1
                    },
                    "neighbors": [
                        "Id16",
                        "Id17"
                    ],
                    "order": -1,
                    "parent": False,
                    "position": {
                        "x": 176.0616248888823,
                        "y": 444.47258906369314,
                        "z": 0
                    },
                    "prevPosition": {
                        "x": 0,
                        "y": 0,
                        "z": 0
                    },
                    "radius": 0,
                    "velocity": {
                        "x": 0,
                        "y": 0,
                        "z": 0
                    }
                },
                "nodeEdges": 15,
                "radius": 233.976806640625,
                "angle": 104.33112100132236,
                "x": 1155.3219847680111,
                "y": 569.9000564183896,
                "z": 0,
                "community": 2,
                "communityColor": "rgb(167,206,49)"
            },
            {
                "id": "Id24",
                "name": "Mme. Thenardier",
                "group": 4,
                "layout": {
                    "angle": 0,
                    "children": [],
                    "displacement": {
                        "x": 0,
                        "y": 0,
                        "z": 0
                    },
                    "edges": [
                        {
                            "id1": "Id24",
                            "id2": "Id23",
                            "value": 2,
                            "layout": {
                                "length": -1,
                                "weight": 1,
                                "coeff": -1
                            },
                            "weight": 1
                        },
                        {
                            "id1": "Id24",
                            "id2": "Id11",
                            "value": 7,
                            "layout": {
                                "length": -1,
                                "weight": 1,
                                "coeff": -1
                            },
                            "weight": 1
                        },
                        {
                            "id1": "Id25",
                            "id2": "Id24",
                            "value": 13,
                            "layout": {
                                "length": -1,
                                "weight": 1,
                                "coeff": -1
                            },
                            "weight": 1
                        },
                        {
                            "id1": "Id26",
                            "id2": "Id24",
                            "value": 4,
                            "layout": {
                                "length": -1,
                                "weight": 1,
                                "coeff": -1
                            },
                            "weight": 1
                        },
                        {
                            "id1": "Id27",
                            "id2": "Id24",
                            "value": 1,
                            "layout": {
                                "length": -1,
                                "weight": 1,
                                "coeff": -1
                            },
                            "weight": 1
                        },
                        {
                            "id1": "Id41",
                            "id2": "Id24",
                            "value": 2,
                            "layout": {
                                "length": -1,
                                "weight": 1,
                                "coeff": -1
                            },
                            "weight": 1
                        },
                        {
                            "id1": "Id42",
                            "id2": "Id24",
                            "value": 1,
                            "layout": {
                                "length": -1,
                                "weight": 1,
                                "coeff": -1
                            },
                            "weight": 1
                        },
                        {
                            "id1": "Id50",
                            "id2": "Id24",
                            "value": 1,
                            "layout": {
                                "length": -1,
                                "weight": 1,
                                "coeff": -1
                            },
                            "weight": 1
                        },
                        {
                            "id1": "Id68",
                            "id2": "Id24",
                            "value": 1,
                            "layout": {
                                "length": -1,
                                "weight": 1,
                                "coeff": -1
                            },
                            "weight": 1
                        },
                        {
                            "id1": "Id69",
                            "id2": "Id24",
                            "value": 1,
                            "layout": {
                                "length": -1,
                                "weight": 1,
                                "coeff": -1
                            },
                            "weight": 1
                        },
                        {
                            "id1": "Id70",
                            "id2": "Id24",
                            "value": 1,
                            "layout": {
                                "length": -1,
                                "weight": 1,
                                "coeff": -1
                            },
                            "weight": 1
                        }
                    ],
                    "force": {
                        "x": 0,
                        "y": 0,
                        "z": 0
                    },
                    "hierarchy": False,
                    "lastPosition": {
                        "x": 1138.8045153978753,
                        "y": 518.035432265701,
                        "z": 0,
                        "r": 233.976806640625,
                        "a": 110.999398125591
                    },
                    "level": 0,
                    "mass": 4.666666666666666,
                    "metrics": {
                        "betweenness": -1,
                        "closeness": -1,
                        "degree": -1,
                        "eccentricity": -1
                    },
                    "neighbors": [
                        "Id23",
                        "Id11"
                    ],
                    "order": -1,
                    "parent": False,
                    "position": {
                        "x": 150.12931281253805,
                        "y": 436.2138543786251,
                        "z": 0
                    },
                    "prevPosition": {
                        "x": 0,
                        "y": 0,
                        "z": 0
                    },
                    "radius": 0,
                    "velocity": {
                        "x": 0,
                        "y": 0,
                        "z": 0
                    }
                },
                "nodeEdges": 11,
                "radius": 233.976806640625,
                "angle": 110.999398125591,
                "x": 1138.8045153978753,
                "y": 518.035432265701,
                "z": 0,
                "community": 3,
                "communityColor": "rgb(248,204,3)"
            },
            {
                "id": "Id25",
                "name": "Thenardier",
                "group": 4,
                "layout": {
                    "angle": 0,
                    "children": [],
                    "displacement": {
                        "x": 0,
                        "y": 0,
                        "z": 0
                    },
                    "edges": [
                        {
                            "id1": "Id25",
                            "id2": "Id24",
                            "value": 13,
                            "layout": {
                                "length": -1,
                                "weight": 1,
                                "coeff": -1
                            },
                            "weight": 1
                        },
                        {
                            "id1": "Id25",
                            "id2": "Id23",
                            "value": 1,
                            "layout": {
                                "length": -1,
                                "weight": 1,
                                "coeff": -1
                            },
                            "weight": 1
                        },
                        {
                            "id1": "Id25",
                            "id2": "Id11",
                            "value": 12,
                            "layout": {
                                "length": -1,
                                "weight": 1,
                                "coeff": -1
                            },
                            "weight": 1
                        },
                        {
                            "id1": "Id26",
                            "id2": "Id25",
                            "value": 1,
                            "layout": {
                                "length": -1,
                                "weight": 1,
                                "coeff": -1
                            },
                            "weight": 1
                        },
                        {
                            "id1": "Id27",
                            "id2": "Id25",
                            "value": 5,
                            "layout": {
                                "length": -1,
                                "weight": 1,
                                "coeff": -1
                            },
                            "weight": 1
                        },
                        {
                            "id1": "Id39",
                            "id2": "Id25",
                            "value": 1,
                            "layout": {
                                "length": -1,
                                "weight": 1,
                                "coeff": -1
                            },
                            "weight": 1
                        },
                        {
                            "id1": "Id40",
                            "id2": "Id25",
                            "value": 1,
                            "layout": {
                                "length": -1,
                                "weight": 1,
                                "coeff": -1
                            },
                            "weight": 1
                        },
                        {
                            "id1": "Id41",
                            "id2": "Id25",
                            "value": 3,
                            "layout": {
                                "length": -1,
                                "weight": 1,
                                "coeff": -1
                            },
                            "weight": 1
                        },
                        {
                            "id1": "Id42",
                            "id2": "Id25",
                            "value": 2,
                            "layout": {
                                "length": -1,
                                "weight": 1,
                                "coeff": -1
                            },
                            "weight": 1
                        },
                        {
                            "id1": "Id48",
                            "id2": "Id25",
                            "value": 1,
                            "layout": {
                                "length": -1,
                                "weight": 1,
                                "coeff": -1
                            },
                            "weight": 1
                        },
                        {
                            "id1": "Id55",
                            "id2": "Id25",
                            "value": 2,
                            "layout": {
                                "length": -1,
                                "weight": 1,
                                "coeff": -1
                            },
                            "weight": 1
                        },
                        {
                            "id1": "Id68",
                            "id2": "Id25",
                            "value": 5,
                            "layout": {
                                "length": -1,
                                "weight": 1,
                                "coeff": -1
                            },
                            "weight": 1
                        },
                        {
                            "id1": "Id69",
                            "id2": "Id25",
                            "value": 6,
                            "layout": {
                                "length": -1,
                                "weight": 1,
                                "coeff": -1
                            },
                            "weight": 1
                        },
                        {
                            "id1": "Id70",
                            "id2": "Id25",
                            "value": 4,
                            "layout": {
                                "length": -1,
                                "weight": 1,
                                "coeff": -1
                            },
                            "weight": 1
                        },
                        {
                            "id1": "Id71",
                            "id2": "Id25",
                            "value": 1,
                            "layout": {
                                "length": -1,
                                "weight": 1,
                                "coeff": -1
                            },
                            "weight": 1
                        },
                        {
                            "id1": "Id75",
                            "id2": "Id25",
                            "value": 3,
                            "layout": {
                                "length": -1,
                                "weight": 1,
                                "coeff": -1
                            },
                            "weight": 1
                        }
                    ],
                    "force": {
                        "x": 0,
                        "y": 0,
                        "z": 0
                    },
                    "hierarchy": False,
                    "lastPosition": {
                        "x": 1115.3063595483814,
                        "y": 466.41120799350654,
                        "z": 0,
                        "r": 233.976806640625,
                        "a": 117.94846808632587
                    },
                    "level": 0,
                    "mass": 6.333333333333333,
                    "metrics": {
                        "betweenness": -1,
                        "closeness": -1,
                        "degree": -1,
                        "eccentricity": -1
                    },
                    "neighbors": [
                        "Id24",
                        "Id23"
                    ],
                    "order": -1,
                    "parent": False,
                    "position": {
                        "x": 124.31720067644079,
                        "y": 424.46477645387824,
                        "z": 0
                    },
                    "prevPosition": {
                        "x": 0,
                        "y": 0,
                        "z": 0
                    },
                    "radius": 0,
                    "velocity": {
                        "x": 0,
                        "y": 0,
                        "z": 0
                    }
                },
                "nodeEdges": 16,
                "radius": 233.976806640625,
                "angle": 117.94846808632587,
                "x": 1115.3063595483814,
                "y": 466.41120799350654,
                "z": 0,
                "community": 3,
                "communityColor": "rgb(248,204,3)"
            },
            {
                "id": "Id26",
                "name": "Cosette",
                "group": 5,
                "layout": {
                    "angle": 0,
                    "children": [],
                    "displacement": {
                        "x": 0,
                        "y": 0,
                        "z": 0
                    },
                    "edges": [
                        {
                            "id1": "Id26",
                            "id2": "Id24",
                            "value": 4,
                            "layout": {
                                "length": -1,
                                "weight": 1,
                                "coeff": -1
                            },
                            "weight": 1
                        },
                        {
                            "id1": "Id26",
                            "id2": "Id11",
                            "value": 31,
                            "layout": {
                                "length": -1,
                                "weight": 1,
                                "coeff": -1
                            },
                            "weight": 1
                        },
                        {
                            "id1": "Id26",
                            "id2": "Id16",
                            "value": 1,
                            "layout": {
                                "length": -1,
                                "weight": 1,
                                "coeff": -1
                            },
                            "weight": 1
                        },
                        {
                            "id1": "Id26",
                            "id2": "Id25",
                            "value": 1,
                            "layout": {
                                "length": -1,
                                "weight": 1,
                                "coeff": -1
                            },
                            "weight": 1
                        },
                        {
                            "id1": "Id27",
                            "id2": "Id26",
                            "value": 1,
                            "layout": {
                                "length": -1,
                                "weight": 1,
                                "coeff": -1
                            },
                            "weight": 1
                        },
                        {
                            "id1": "Id43",
                            "id2": "Id26",
                            "value": 1,
                            "layout": {
                                "length": -1,
                                "weight": 1,
                                "coeff": -1
                            },
                            "weight": 1
                        },
                        {
                            "id1": "Id49",
                            "id2": "Id26",
                            "value": 3,
                            "layout": {
                                "length": -1,
                                "weight": 1,
                                "coeff": -1
                            },
                            "weight": 1
                        },
                        {
                            "id1": "Id51",
                            "id2": "Id26",
                            "value": 2,
                            "layout": {
                                "length": -1,
                                "weight": 1,
                                "coeff": -1
                            },
                            "weight": 1
                        },
                        {
                            "id1": "Id54",
                            "id2": "Id26",
                            "value": 1,
                            "layout": {
                                "length": -1,
                                "weight": 1,
                                "coeff": -1
                            },
                            "weight": 1
                        },
                        {
                            "id1": "Id55",
                            "id2": "Id26",
                            "value": 21,
                            "layout": {
                                "length": -1,
                                "weight": 1,
                                "coeff": -1
                            },
                            "weight": 1
                        },
                        {
                            "id1": "Id72",
                            "id2": "Id26",
                            "value": 2,
                            "layout": {
                                "length": -1,
                                "weight": 1,
                                "coeff": -1
                            },
                            "weight": 1
                        }
                    ],
                    "force": {
                        "x": 0,
                        "y": 0,
                        "z": 0
                    },
                    "hierarchy": False,
                    "lastPosition": {
                        "x": 1085.7349577940422,
                        "y": 418.0091826400525,
                        "z": 0,
                        "r": 233.976806640625,
                        "a": 124.89753804706073
                    },
                    "level": 0,
                    "mass": 4.666666666666666,
                    "metrics": {
                        "betweenness": -1,
                        "closeness": -1,
                        "degree": -1,
                        "eccentricity": -1
                    },
                    "neighbors": [
                        "Id24",
                        "Id11"
                    ],
                    "order": -1,
                    "parent": False,
                    "position": {
                        "x": 100.11618799971376,
                        "y": 409.67907557670856,
                        "z": 0
                    },
                    "prevPosition": {
                        "x": 0,
                        "y": 0,
                        "z": 0
                    },
                    "radius": 0,
                    "velocity": {
                        "x": 0,
                        "y": 0,
                        "z": 0
                    }
                },
                "nodeEdges": 11,
                "radius": 233.976806640625,
                "angle": 124.89753804706073,
                "x": 1085.7349577940422,
                "y": 418.0091826400525,
                "z": 0,
                "community": 4,
                "communityColor": "rgb(255,140,2)"
            },
            {
                "id": "Id27",
                "name": "Javert",
                "group": 4,
                "layout": {
                    "angle": 0,
                    "children": [],
                    "displacement": {
                        "x": 0,
                        "y": 0,
                        "z": 0
                    },
                    "edges": [
                        {
                            "id1": "Id27",
                            "id2": "Id11",
                            "value": 17,
                            "layout": {
                                "length": -1,
                                "weight": 1,
                                "coeff": -1
                            },
                            "weight": 1
                        },
                        {
                            "id1": "Id27",
                            "id2": "Id23",
                            "value": 5,
                            "layout": {
                                "length": -1,
                                "weight": 1,
                                "coeff": -1
                            },
                            "weight": 1
                        },
                        {
                            "id1": "Id27",
                            "id2": "Id25",
                            "value": 5,
                            "layout": {
                                "length": -1,
                                "weight": 1,
                                "coeff": -1
                            },
                            "weight": 1
                        },
                        {
                            "id1": "Id27",
                            "id2": "Id24",
                            "value": 1,
                            "layout": {
                                "length": -1,
                                "weight": 1,
                                "coeff": -1
                            },
                            "weight": 1
                        },
                        {
                            "id1": "Id27",
                            "id2": "Id26",
                            "value": 1,
                            "layout": {
                                "length": -1,
                                "weight": 1,
                                "coeff": -1
                            },
                            "weight": 1
                        },
                        {
                            "id1": "Id28",
                            "id2": "Id27",
                            "value": 1,
                            "layout": {
                                "length": -1,
                                "weight": 1,
                                "coeff": -1
                            },
                            "weight": 1
                        },
                        {
                            "id1": "Id29",
                            "id2": "Id27",
                            "value": 1,
                            "layout": {
                                "length": -1,
                                "weight": 1,
                                "coeff": -1
                            },
                            "weight": 1
                        },
                        {
                            "id1": "Id31",
                            "id2": "Id27",
                            "value": 1,
                            "layout": {
                                "length": -1,
                                "weight": 1,
                                "coeff": -1
                            },
                            "weight": 1
                        },
                        {
                            "id1": "Id33",
                            "id2": "Id27",
                            "value": 1,
                            "layout": {
                                "length": -1,
                                "weight": 1,
                                "coeff": -1
                            },
                            "weight": 1
                        },
                        {
                            "id1": "Id43",
                            "id2": "Id27",
                            "value": 1,
                            "layout": {
                                "length": -1,
                                "weight": 1,
                                "coeff": -1
                            },
                            "weight": 1
                        },
                        {
                            "id1": "Id48",
                            "id2": "Id27",
                            "value": 1,
                            "layout": {
                                "length": -1,
                                "weight": 1,
                                "coeff": -1
                            },
                            "weight": 1
                        },
                        {
                            "id1": "Id58",
                            "id2": "Id27",
                            "value": 6,
                            "layout": {
                                "length": -1,
                                "weight": 1,
                                "coeff": -1
                            },
                            "weight": 1
                        },
                        {
                            "id1": "Id68",
                            "id2": "Id27",
                            "value": 1,
                            "layout": {
                                "length": -1,
                                "weight": 1,
                                "coeff": -1
                            },
                            "weight": 1
                        },
                        {
                            "id1": "Id69",
                            "id2": "Id27",
                            "value": 2,
                            "layout": {
                                "length": -1,
                                "weight": 1,
                                "coeff": -1
                            },
                            "weight": 1
                        },
                        {
                            "id1": "Id70",
                            "id2": "Id27",
                            "value": 1,
                            "layout": {
                                "length": -1,
                                "weight": 1,
                                "coeff": -1
                            },
                            "weight": 1
                        },
                        {
                            "id1": "Id71",
                            "id2": "Id27",
                            "value": 1,
                            "layout": {
                                "length": -1,
                                "weight": 1,
                                "coeff": -1
                            },
                            "weight": 1
                        },
                        {
                            "id1": "Id72",
                            "id2": "Id27",
                            "value": 1,
                            "layout": {
                                "length": -1,
                                "weight": 1,
                                "coeff": -1
                            },
                            "weight": 1
                        }
                    ],
                    "force": {
                        "x": 0,
                        "y": 0,
                        "z": 0
                    },
                    "hierarchy": False,
                    "lastPosition": {
                        "x": 1049.4626248412021,
                        "y": 372.35851510766145,
                        "z": 0,
                        "r": 233.976806640625,
                        "a": 132.0411731228273
                    },
                    "level": 0,
                    "mass": 6.666666666666667,
                    "metrics": {
                        "betweenness": -1,
                        "closeness": -1,
                        "degree": -1,
                        "eccentricity": -1
                    },
                    "neighbors": [
                        "Id11",
                        "Id23"
                    ],
                    "order": -1,
                    "parent": False,
                    "position": {
                        "x": 77.29085423351825,
                        "y": 391.54290910028857,
                        "z": 0
                    },
                    "prevPosition": {
                        "x": 0,
                        "y": 0,
                        "z": 0
                    },
                    "radius": 0,
                    "velocity": {
                        "x": 0,
                        "y": 0,
                        "z": 0
                    }
                },
                "nodeEdges": 17,
                "radius": 233.976806640625,
                "angle": 132.0411731228273,
                "x": 1049.4626248412021,
                "y": 372.35851510766145,
                "z": 0,
                "community": 3,
                "communityColor": "rgb(248,204,3)"
            },
            {
                "id": "Id28",
                "name": "Fauchelevent",
                "group": 0,
                "layout": {
                    "angle": 0,
                    "children": [],
                    "displacement": {
                        "x": 0,
                        "y": 0,
                        "z": 0
                    },
                    "edges": [
                        {
                            "id1": "Id28",
                            "id2": "Id11",
                            "value": 8,
                            "layout": {
                                "length": -1,
                                "weight": 1,
                                "coeff": -1
                            },
                            "weight": 1
                        },
                        {
                            "id1": "Id28",
                            "id2": "Id27",
                            "value": 1,
                            "layout": {
                                "length": -1,
                                "weight": 1,
                                "coeff": -1
                            },
                            "weight": 1
                        },
                        {
                            "id1": "Id44",
                            "id2": "Id28",
                            "value": 3,
                            "layout": {
                                "length": -1,
                                "weight": 1,
                                "coeff": -1
                            },
                            "weight": 1
                        },
                        {
                            "id1": "Id45",
                            "id2": "Id28",
                            "value": 2,
                            "layout": {
                                "length": -1,
                                "weight": 1,
                                "coeff": -1
                            },
                            "weight": 1
                        }
                    ],
                    "force": {
                        "x": 0,
                        "y": 0,
                        "z": 0
                    },
                    "hierarchy": False,
                    "lastPosition": {
                        "x": 1014.4766787642891,
                        "y": 337.45549939702806,
                        "z": 0,
                        "r": 233.976806640625,
                        "a": 138.09480136097304
                    },
                    "level": 0,
                    "mass": 2.333333333333333,
                    "metrics": {
                        "betweenness": -1,
                        "closeness": -1,
                        "degree": -1,
                        "eccentricity": -1
                    },
                    "neighbors": [
                        "Id11",
                        "Id27"
                    ],
                    "order": -1,
                    "parent": False,
                    "position": {
                        "x": 59.83934637820164,
                        "y": 374.0499360618321,
                        "z": 0
                    },
                    "prevPosition": {
                        "x": 0,
                        "y": 0,
                        "z": 0
                    },
                    "radius": 0,
                    "velocity": {
                        "x": 0,
                        "y": 0,
                        "z": 0
                    }
                },
                "nodeEdges": 4,
                "radius": 233.976806640625,
                "angle": 138.09480136097304,
                "x": 1014.4766787642891,
                "y": 337.45549939702806,
                "z": 0,
                "community": 5,
                "communityColor": "rgb(105,150,150)"
            },
            {
                "id": "Id29",
                "name": "Bamatabois",
                "group": 2,
                "layout": {
                    "angle": 0,
                    "children": [],
                    "displacement": {
                        "x": 0,
                        "y": 0,
                        "z": 0
                    },
                    "edges": [
                        {
                            "id1": "Id29",
                            "id2": "Id23",
                            "value": 1,
                            "layout": {
                                "length": -1,
                                "weight": 1,
                                "coeff": -1
                            },
                            "weight": 1
                        },
                        {
                            "id1": "Id29",
                            "id2": "Id27",
                            "value": 1,
                            "layout": {
                                "length": -1,
                                "weight": 1,
                                "coeff": -1
                            },
                            "weight": 1
                        },
                        {
                            "id1": "Id29",
                            "id2": "Id11",
                            "value": 2,
                            "layout": {
                                "length": -1,
                                "weight": 1,
                                "coeff": -1
                            },
                            "weight": 1
                        },
                        {
                            "id1": "Id34",
                            "id2": "Id29",
                            "value": 2,
                            "layout": {
                                "length": -1,
                                "weight": 1,
                                "coeff": -1
                            },
                            "weight": 1
                        },
                        {
                            "id1": "Id35",
                            "id2": "Id29",
                            "value": 2,
                            "layout": {
                                "length": -1,
                                "weight": 1,
                                "coeff": -1
                            },
                            "weight": 1
                        },
                        {
                            "id1": "Id36",
                            "id2": "Id29",
                            "value": 1,
                            "layout": {
                                "length": -1,
                                "weight": 1,
                                "coeff": -1
                            },
                            "weight": 1
                        },
                        {
                            "id1": "Id37",
                            "id2": "Id29",
                            "value": 1,
                            "layout": {
                                "length": -1,
                                "weight": 1,
                                "coeff": -1
                            },
                            "weight": 1
                        },
                        {
                            "id1": "Id38",
                            "id2": "Id29",
                            "value": 1,
                            "layout": {
                                "length": -1,
                                "weight": 1,
                                "coeff": -1
                            },
                            "weight": 1
                        }
                    ],
                    "force": {
                        "x": 0,
                        "y": 0,
                        "z": 0
                    },
                    "hierarchy": False,
                    "lastPosition": {
                        "x": 987.8867151493182,
                        "y": 315.3123029205962,
                        "z": 0,
                        "r": 233.976806640625,
                        "a": 142.33248852548948
                    },
                    "level": 0,
                    "mass": 3.6666666666666665,
                    "metrics": {
                        "betweenness": -1,
                        "closeness": -1,
                        "degree": -1,
                        "eccentricity": -1
                    },
                    "neighbors": [
                        "Id23",
                        "Id27"
                    ],
                    "order": -1,
                    "parent": False,
                    "position": {
                        "x": 48.76774813998563,
                        "y": 360.7549542543466,
                        "z": 0
                    },
                    "prevPosition": {
                        "x": 0,
                        "y": 0,
                        "z": 0
                    },
                    "radius": 0,
                    "velocity": {
                        "x": 0,
                        "y": 0,
                        "z": 0
                    }
                },
                "nodeEdges": 8,
                "radius": 233.976806640625,
                "angle": 142.33248852548948,
                "x": 987.8867151493182,
                "y": 315.3123029205962,
                "z": 0,
                "community": 6,
                "communityColor": "rgb(183,120,68)"
            },
            {
                "id": "Id30",
                "name": "Perpetue",
                "group": 3,
                "layout": {
                    "angle": 0,
                    "children": [],
                    "displacement": {
                        "x": 0,
                        "y": 0,
                        "z": 0
                    },
                    "edges": [
                        {
                            "id1": "Id30",
                            "id2": "Id23",
                            "value": 1,
                            "layout": {
                                "length": -1,
                                "weight": 1,
                                "coeff": -1
                            },
                            "weight": 1
                        },
                        {
                            "id1": "Id31",
                            "id2": "Id30",
                            "value": 2,
                            "layout": {
                                "length": -1,
                                "weight": 1,
                                "coeff": -1
                            },
                            "weight": 1
                        }
                    ],
                    "force": {
                        "x": 0,
                        "y": 0,
                        "z": 0
                    },
                    "hierarchy": False,
                    "lastPosition": {
                        "x": 961.3635465864278,
                        "y": 296.275625405192,
                        "z": 0,
                        "r": 233.976806640625,
                        "a": 146.33065424157672
                    },
                    "level": 0,
                    "mass": 1.6666666666666665,
                    "metrics": {
                        "betweenness": -1,
                        "closeness": -1,
                        "degree": -1,
                        "eccentricity": -1
                    },
                    "neighbors": [
                        "Id23"
                    ],
                    "order": -1,
                    "parent": False,
                    "position": {
                        "x": 39.24940938228352,
                        "y": 347.4933699729014,
                        "z": 0
                    },
                    "prevPosition": {
                        "x": 0,
                        "y": 0,
                        "z": 0
                    },
                    "radius": 0,
                    "velocity": {
                        "x": 0,
                        "y": 0,
                        "z": 0
                    }
                },
                "nodeEdges": 2,
                "radius": 233.976806640625,
                "angle": 146.33065424157672,
                "x": 961.3635465864278,
                "y": 296.275625405192,
                "z": 0,
                "community": 7,
                "communityColor": "rgb(131,172,208)"
            },
            {
                "id": "Id31",
                "name": "Simplice",
                "group": 2,
                "layout": {
                    "angle": 0,
                    "children": [],
                    "displacement": {
                        "x": 0,
                        "y": 0,
                        "z": 0
                    },
                    "edges": [
                        {
                            "id1": "Id31",
                            "id2": "Id30",
                            "value": 2,
                            "layout": {
                                "length": -1,
                                "weight": 1,
                                "coeff": -1
                            },
                            "weight": 1
                        },
                        {
                            "id1": "Id31",
                            "id2": "Id11",
                            "value": 3,
                            "layout": {
                                "length": -1,
                                "weight": 1,
                                "coeff": -1
                            },
                            "weight": 1
                        },
                        {
                            "id1": "Id31",
                            "id2": "Id23",
                            "value": 2,
                            "layout": {
                                "length": -1,
                                "weight": 1,
                                "coeff": -1
                            },
                            "weight": 1
                        },
                        {
                            "id1": "Id31",
                            "id2": "Id27",
                            "value": 1,
                            "layout": {
                                "length": -1,
                                "weight": 1,
                                "coeff": -1
                            },
                            "weight": 1
                        }
                    ],
                    "force": {
                        "x": 0,
                        "y": 0,
                        "z": 0
                    },
                    "hierarchy": False,
                    "lastPosition": {
                        "x": 937.749262598259,
                        "y": 281.53979951889164,
                        "z": 0,
                        "r": 233.976806640625,
                        "a": 149.73922869999208
                    },
                    "level": 0,
                    "mass": 2.333333333333333,
                    "metrics": {
                        "betweenness": -1,
                        "closeness": -1,
                        "degree": -1,
                        "eccentricity": -1
                    },
                    "neighbors": [
                        "Id30",
                        "Id11"
                    ],
                    "order": -1,
                    "parent": False,
                    "position": {
                        "x": 31.881496439133343,
                        "y": 335.686227978817,
                        "z": 0
                    },
                    "prevPosition": {
                        "x": 0,
                        "y": 0,
                        "z": 0
                    },
                    "radius": 0,
                    "velocity": {
                        "x": 0,
                        "y": 0,
                        "z": 0
                    }
                },
                "nodeEdges": 4,
                "radius": 233.976806640625,
                "angle": 149.73922869999208,
                "x": 937.749262598259,
                "y": 281.53979951889164,
                "z": 0,
                "community": 7,
                "communityColor": "rgb(131,172,208)"
            },
            {
                "id": "Id32",
                "name": "Scaufflaire",
                "group": 2,
                "layout": {
                    "angle": 0,
                    "children": [],
                    "displacement": {
                        "x": 0,
                        "y": 0,
                        "z": 0
                    },
                    "edges": [
                        {
                            "id1": "Id32",
                            "id2": "Id11",
                            "value": 1,
                            "layout": {
                                "length": -1,
                                "weight": 1,
                                "coeff": -1
                            },
                            "weight": 1
                        }
                    ],
                    "force": {
                        "x": 0,
                        "y": 0,
                        "z": 0
                    },
                    "hierarchy": False,
                    "lastPosition": {
                        "x": 914.2184174564444,
                        "y": 268.6999770454102,
                        "z": 0,
                        "r": 233.976806640625,
                        "a": 153.02177802708016
                    },
                    "level": 0,
                    "mass": 1.3333333333333333,
                    "metrics": {
                        "betweenness": -1,
                        "closeness": -1,
                        "degree": -1,
                        "eccentricity": -1
                    },
                    "neighbors": [
                        "Id11"
                    ],
                    "order": -1,
                    "parent": False,
                    "position": {
                        "x": 25.461585202392598,
                        "y": 323.92080540790965,
                        "z": 0
                    },
                    "prevPosition": {
                        "x": 0,
                        "y": 0,
                        "z": 0
                    },
                    "radius": 0,
                    "velocity": {
                        "x": 0,
                        "y": 0,
                        "z": 0
                    }
                },
                "nodeEdges": 1,
                "radius": 233.976806640625,
                "angle": 153.02177802708016,
                "x": 914.2184174564444,
                "y": 268.6999770454102,
                "z": 0,
                "community": 1,
                "communityColor": "rgb(72,126,182)"
            },
            {
                "id": "Id33",
                "name": "Woman 1",
                "group": 2,
                "layout": {
                    "angle": 0,
                    "children": [],
                    "displacement": {
                        "x": 0,
                        "y": 0,
                        "z": 0
                    },
                    "edges": [
                        {
                            "id1": "Id33",
                            "id2": "Id11",
                            "value": 2,
                            "layout": {
                                "length": -1,
                                "weight": 1,
                                "coeff": -1
                            },
                            "weight": 1
                        },
                        {
                            "id1": "Id33",
                            "id2": "Id27",
                            "value": 1,
                            "layout": {
                                "length": -1,
                                "weight": 1,
                                "coeff": -1
                            },
                            "weight": 1
                        }
                    ],
                    "force": {
                        "x": 0,
                        "y": 0,
                        "z": 0
                    },
                    "hierarchy": False,
                    "lastPosition": {
                        "x": 891.7806483909519,
                        "y": 258.0185134553645,
                        "z": 0,
                        "r": 233.976806640625,
                        "a": 156.06480590573898
                    },
                    "level": 0,
                    "mass": 1.6666666666666665,
                    "metrics": {
                        "betweenness": -1,
                        "closeness": -1,
                        "degree": -1,
                        "eccentricity": -1
                    },
                    "neighbors": [
                        "Id11",
                        "Id27"
                    ],
                    "order": -1,
                    "parent": False,
                    "position": {
                        "x": 20.120853407369765,
                        "y": 312.70192087516347,
                        "z": 0
                    },
                    "prevPosition": {
                        "x": 0,
                        "y": 0,
                        "z": 0
                    },
                    "radius": 0,
                    "velocity": {
                        "x": 0,
                        "y": 0,
                        "z": 0
                    }
                },
                "nodeEdges": 2,
                "radius": 233.976806640625,
                "angle": 156.06480590573898,
                "x": 891.7806483909519,
                "y": 258.0185134553645,
                "z": 0,
                "community": 1,
                "communityColor": "rgb(72,126,182)"
            },
            {
                "id": "Id34",
                "name": "Judge",
                "group": 2,
                "layout": {
                    "angle": 0,
                    "children": [],
                    "displacement": {
                        "x": 0,
                        "y": 0,
                        "z": 0
                    },
                    "edges": [
                        {
                            "id1": "Id34",
                            "id2": "Id11",
                            "value": 3,
                            "layout": {
                                "length": -1,
                                "weight": 1,
                                "coeff": -1
                            },
                            "weight": 1
                        },
                        {
                            "id1": "Id34",
                            "id2": "Id29",
                            "value": 2,
                            "layout": {
                                "length": -1,
                                "weight": 1,
                                "coeff": -1
                            },
                            "weight": 1
                        },
                        {
                            "id1": "Id35",
                            "id2": "Id34",
                            "value": 3,
                            "layout": {
                                "length": -1,
                                "weight": 1,
                                "coeff": -1
                            },
                            "weight": 1
                        },
                        {
                            "id1": "Id36",
                            "id2": "Id34",
                            "value": 2,
                            "layout": {
                                "length": -1,
                                "weight": 1,
                                "coeff": -1
                            },
                            "weight": 1
                        },
                        {
                            "id1": "Id37",
                            "id2": "Id34",
                            "value": 2,
                            "layout": {
                                "length": -1,
                                "weight": 1,
                                "coeff": -1
                            },
                            "weight": 1
                        },
                        {
                            "id1": "Id38",
                            "id2": "Id34",
                            "value": 2,
                            "layout": {
                                "length": -1,
                                "weight": 1,
                                "coeff": -1
                            },
                            "weight": 1
                        }
                    ],
                    "force": {
                        "x": 0,
                        "y": 0,
                        "z": 0
                    },
                    "hierarchy": False,
                    "lastPosition": {
                        "x": 863.8990533257092,
                        "y": 246.70109746576378,
                        "z": 0,
                        "r": 233.976806640625,
                        "a": 159.74975126618804
                    },
                    "level": 0,
                    "mass": 3,
                    "metrics": {
                        "betweenness": -1,
                        "closeness": -1,
                        "degree": -1,
                        "eccentricity": -1
                    },
                    "neighbors": [
                        "Id11",
                        "Id29"
                    ],
                    "order": -1,
                    "parent": False,
                    "position": {
                        "x": 14.462145412569413,
                        "y": 298.7611233425421,
                        "z": 0
                    },
                    "prevPosition": {
                        "x": 0,
                        "y": 0,
                        "z": 0
                    },
                    "radius": 0,
                    "velocity": {
                        "x": 0,
                        "y": 0,
                        "z": 0
                    }
                },
                "nodeEdges": 6,
                "radius": 233.976806640625,
                "angle": 159.74975126618804,
                "x": 863.8990533257092,
                "y": 246.70109746576378,
                "z": 0,
                "community": 6,
                "communityColor": "rgb(183,120,68)"
            },
            {
                "id": "Id35",
                "name": "Champmathieu",
                "group": 2,
                "layout": {
                    "angle": 0,
                    "children": [],
                    "displacement": {
                        "x": 0,
                        "y": 0,
                        "z": 0
                    },
                    "edges": [
                        {
                            "id1": "Id35",
                            "id2": "Id11",
                            "value": 3,
                            "layout": {
                                "length": -1,
                                "weight": 1,
                                "coeff": -1
                            },
                            "weight": 1
                        },
                        {
                            "id1": "Id35",
                            "id2": "Id34",
                            "value": 3,
                            "layout": {
                                "length": -1,
                                "weight": 1,
                                "coeff": -1
                            },
                            "weight": 1
                        },
                        {
                            "id1": "Id35",
                            "id2": "Id29",
                            "value": 2,
                            "layout": {
                                "length": -1,
                                "weight": 1,
                                "coeff": -1
                            },
                            "weight": 1
                        },
                        {
                            "id1": "Id36",
                            "id2": "Id35",
                            "value": 2,
                            "layout": {
                                "length": -1,
                                "weight": 1,
                                "coeff": -1
                            },
                            "weight": 1
                        },
                        {
                            "id1": "Id37",
                            "id2": "Id35",
                            "value": 2,
                            "layout": {
                                "length": -1,
                                "weight": 1,
                                "coeff": -1
                            },
                            "weight": 1
                        },
                        {
                            "id1": "Id38",
                            "id2": "Id35",
                            "value": 2,
                            "layout": {
                                "length": -1,
                                "weight": 1,
                                "coeff": -1
                            },
                            "weight": 1
                        }
                    ],
                    "force": {
                        "x": 0,
                        "y": 0,
                        "z": 0
                    },
                    "hierarchy": False,
                    "lastPosition": {
                        "x": 831.3037916311523,
                        "y": 236.01593841660832,
                        "z": 0,
                        "r": 233.976806640625,
                        "a": 163.9505889771
                    },
                    "level": 0,
                    "mass": 3,
                    "metrics": {
                        "betweenness": -1,
                        "closeness": -1,
                        "degree": -1,
                        "eccentricity": -1
                    },
                    "neighbors": [
                        "Id11",
                        "Id34"
                    ],
                    "order": -1,
                    "parent": False,
                    "position": {
                        "x": 9.119565887991627,
                        "y": 282.4634924952636,
                        "z": 0
                    },
                    "prevPosition": {
                        "x": 0,
                        "y": 0,
                        "z": 0
                    },
                    "radius": 0,
                    "velocity": {
                        "x": 0,
                        "y": 0,
                        "z": 0
                    }
                },
                "nodeEdges": 6,
                "radius": 233.976806640625,
                "angle": 163.9505889771,
                "x": 831.3037916311523,
                "y": 236.01593841660832,
                "z": 0,
                "community": 6,
                "communityColor": "rgb(183,120,68)"
            },
            {
                "id": "Id36",
                "name": "Brevet",
                "group": 2,
                "layout": {
                    "angle": 0,
                    "children": [],
                    "displacement": {
                        "x": 0,
                        "y": 0,
                        "z": 0
                    },
                    "edges": [
                        {
                            "id1": "Id36",
                            "id2": "Id34",
                            "value": 2,
                            "layout": {
                                "length": -1,
                                "weight": 1,
                                "coeff": -1
                            },
                            "weight": 1
                        },
                        {
                            "id1": "Id36",
                            "id2": "Id35",
                            "value": 2,
                            "layout": {
                                "length": -1,
                                "weight": 1,
                                "coeff": -1
                            },
                            "weight": 1
                        },
                        {
                            "id1": "Id36",
                            "id2": "Id11",
                            "value": 2,
                            "layout": {
                                "length": -1,
                                "weight": 1,
                                "coeff": -1
                            },
                            "weight": 1
                        },
                        {
                            "id1": "Id36",
                            "id2": "Id29",
                            "value": 1,
                            "layout": {
                                "length": -1,
                                "weight": 1,
                                "coeff": -1
                            },
                            "weight": 1
                        },
                        {
                            "id1": "Id37",
                            "id2": "Id36",
                            "value": 2,
                            "layout": {
                                "length": -1,
                                "weight": 1,
                                "coeff": -1
                            },
                            "weight": 1
                        },
                        {
                            "id1": "Id38",
                            "id2": "Id36",
                            "value": 2,
                            "layout": {
                                "length": -1,
                                "weight": 1,
                                "coeff": -1
                            },
                            "weight": 1
                        }
                    ],
                    "force": {
                        "x": 0,
                        "y": 0,
                        "z": 0
                    },
                    "hierarchy": False,
                    "lastPosition": {
                        "x": 798.0133825699285,
                        "y": 227.74717953883385,
                        "z": 0,
                        "r": 233.976806640625,
                        "a": 168.15142668801195
                    },
                    "level": 0,
                    "mass": 3,
                    "metrics": {
                        "betweenness": -1,
                        "closeness": -1,
                        "degree": -1,
                        "eccentricity": -1
                    },
                    "neighbors": [
                        "Id34",
                        "Id35"
                    ],
                    "order": -1,
                    "parent": False,
                    "position": {
                        "x": 4.985186449104447,
                        "y": 265.81828796465174,
                        "z": 0
                    },
                    "prevPosition": {
                        "x": 0,
                        "y": 0,
                        "z": 0
                    },
                    "radius": 0,
                    "velocity": {
                        "x": 0,
                        "y": 0,
                        "z": 0
                    }
                },
                "nodeEdges": 6,
                "radius": 233.976806640625,
                "angle": 168.15142668801195,
                "x": 798.0133825699285,
                "y": 227.74717953883385,
                "z": 0,
                "community": 6,
                "communityColor": "rgb(183,120,68)"
            },
            {
                "id": "Id37",
                "name": "Chenildieu",
                "group": 2,
                "layout": {
                    "angle": 0,
                    "children": [],
                    "displacement": {
                        "x": 0,
                        "y": 0,
                        "z": 0
                    },
                    "edges": [
                        {
                            "id1": "Id37",
                            "id2": "Id34",
                            "value": 2,
                            "layout": {
                                "length": -1,
                                "weight": 1,
                                "coeff": -1
                            },
                            "weight": 1
                        },
                        {
                            "id1": "Id37",
                            "id2": "Id35",
                            "value": 2,
                            "layout": {
                                "length": -1,
                                "weight": 1,
                                "coeff": -1
                            },
                            "weight": 1
                        },
                        {
                            "id1": "Id37",
                            "id2": "Id36",
                            "value": 2,
                            "layout": {
                                "length": -1,
                                "weight": 1,
                                "coeff": -1
                            },
                            "weight": 1
                        },
                        {
                            "id1": "Id37",
                            "id2": "Id11",
                            "value": 2,
                            "layout": {
                                "length": -1,
                                "weight": 1,
                                "coeff": -1
                            },
                            "weight": 1
                        },
                        {
                            "id1": "Id37",
                            "id2": "Id29",
                            "value": 1,
                            "layout": {
                                "length": -1,
                                "weight": 1,
                                "coeff": -1
                            },
                            "weight": 1
                        },
                        {
                            "id1": "Id38",
                            "id2": "Id37",
                            "value": 2,
                            "layout": {
                                "length": -1,
                                "weight": 1,
                                "coeff": -1
                            },
                            "weight": 1
                        }
                    ],
                    "force": {
                        "x": 0,
                        "y": 0,
                        "z": 0
                    },
                    "hierarchy": False,
                    "lastPosition": {
                        "x": 764.2067017474919,
                        "y": 221.9392504231942,
                        "z": 0,
                        "r": 233.976806640625,
                        "a": 172.3522643989239
                    },
                    "level": 0,
                    "mass": 3,
                    "metrics": {
                        "betweenness": -1,
                        "closeness": -1,
                        "degree": -1,
                        "eccentricity": -1
                    },
                    "neighbors": [
                        "Id34",
                        "Id35"
                    ],
                    "order": -1,
                    "parent": False,
                    "position": {
                        "x": 2.0812218912846276,
                        "y": 248.91494755343348,
                        "z": 0
                    },
                    "prevPosition": {
                        "x": 0,
                        "y": 0,
                        "z": 0
                    },
                    "radius": 0,
                    "velocity": {
                        "x": 0,
                        "y": 0,
                        "z": 0
                    }
                },
                "nodeEdges": 6,
                "radius": 233.976806640625,
                "angle": 172.3522643989239,
                "x": 764.2067017474919,
                "y": 221.9392504231942,
                "z": 0,
                "community": 6,
                "communityColor": "rgb(183,120,68)"
            },
            {
                "id": "Id38",
                "name": "Cochepaille",
                "group": 2,
                "layout": {
                    "angle": 0,
                    "children": [],
                    "displacement": {
                        "x": 0,
                        "y": 0,
                        "z": 0
                    },
                    "edges": [
                        {
                            "id1": "Id38",
                            "id2": "Id34",
                            "value": 2,
                            "layout": {
                                "length": -1,
                                "weight": 1,
                                "coeff": -1
                            },
                            "weight": 1
                        },
                        {
                            "id1": "Id38",
                            "id2": "Id35",
                            "value": 2,
                            "layout": {
                                "length": -1,
                                "weight": 1,
                                "coeff": -1
                            },
                            "weight": 1
                        },
                        {
                            "id1": "Id38",
                            "id2": "Id36",
                            "value": 2,
                            "layout": {
                                "length": -1,
                                "weight": 1,
                                "coeff": -1
                            },
                            "weight": 1
                        },
                        {
                            "id1": "Id38",
                            "id2": "Id37",
                            "value": 2,
                            "layout": {
                                "length": -1,
                                "weight": 1,
                                "coeff": -1
                            },
                            "weight": 1
                        },
                        {
                            "id1": "Id38",
                            "id2": "Id11",
                            "value": 2,
                            "layout": {
                                "length": -1,
                                "weight": 1,
                                "coeff": -1
                            },
                            "weight": 1
                        },
                        {
                            "id1": "Id38",
                            "id2": "Id29",
                            "value": 1,
                            "layout": {
                                "length": -1,
                                "weight": 1,
                                "coeff": -1
                            },
                            "weight": 1
                        }
                    ],
                    "force": {
                        "x": 0,
                        "y": 0,
                        "z": 0
                    },
                    "hierarchy": False,
                    "lastPosition": {
                        "x": 730.0653987942031,
                        "y": 218.6233581610498,
                        "z": 0,
                        "r": 233.976806640625,
                        "a": 176.55310210983586
                    },
                    "level": 0,
                    "mass": 3,
                    "metrics": {
                        "betweenness": -1,
                        "closeness": -1,
                        "degree": -1,
                        "eccentricity": -1
                    },
                    "neighbors": [
                        "Id34",
                        "Id35"
                    ],
                    "order": -1,
                    "parent": False,
                    "position": {
                        "x": 0.4232757602124195,
                        "y": 231.84429607678908,
                        "z": 0
                    },
                    "prevPosition": {
                        "x": 0,
                        "y": 0,
                        "z": 0
                    },
                    "radius": 0,
                    "velocity": {
                        "x": 0,
                        "y": 0,
                        "z": 0
                    }
                },
                "nodeEdges": 6,
                "radius": 233.976806640625,
                "angle": 176.55310210983586,
                "x": 730.0653987942031,
                "y": 218.6233581610498,
                "z": 0,
                "community": 6,
                "communityColor": "rgb(183,120,68)"
            },
            {
                "id": "Id39",
                "name": "Pontmercy",
                "group": 4,
                "layout": {
                    "angle": 0,
                    "children": [],
                    "displacement": {
                        "x": 0,
                        "y": 0,
                        "z": 0
                    },
                    "edges": [
                        {
                            "id1": "Id39",
                            "id2": "Id25",
                            "value": 1,
                            "layout": {
                                "length": -1,
                                "weight": 1,
                                "coeff": -1
                            },
                            "weight": 1
                        },
                        {
                            "id1": "Id52",
                            "id2": "Id39",
                            "value": 1,
                            "layout": {
                                "length": -1,
                                "weight": 1,
                                "coeff": -1
                            },
                            "weight": 1
                        },
                        {
                            "id1": "Id55",
                            "id2": "Id39",
                            "value": 1,
                            "layout": {
                                "length": -1,
                                "weight": 1,
                                "coeff": -1
                            },
                            "weight": 1
                        }
                    ],
                    "force": {
                        "x": 0,
                        "y": 0,
                        "z": 0
                    },
                    "hierarchy": False,
                    "lastPosition": {
                        "x": 699.2398371866508,
                        "y": 217.78454169713558,
                        "z": 0,
                        "r": 233.976806640625,
                        "a": 180.32943411522405
                    },
                    "level": 0,
                    "mass": 2,
                    "metrics": {
                        "betweenness": -1,
                        "closeness": -1,
                        "degree": -1,
                        "eccentricity": -1
                    },
                    "neighbors": [
                        "Id25"
                    ],
                    "order": -1,
                    "parent": False,
                    "position": {
                        "x": 0.003867528255312891,
                        "y": 216.43151527301302,
                        "z": 0
                    },
                    "prevPosition": {
                        "x": 0,
                        "y": 0,
                        "z": 0
                    },
                    "radius": 0,
                    "velocity": {
                        "x": 0,
                        "y": 0,
                        "z": 0
                    }
                },
                "nodeEdges": 3,
                "radius": 233.976806640625,
                "angle": 180.32943411522405,
                "x": 699.2398371866508,
                "y": 217.78454169713558,
                "z": 0,
                "community": 8,
                "communityColor": "rgb(194,224,118)"
            },
            {
                "id": "Id40",
                "name": "BoulaTruelle",
                "group": 6,
                "layout": {
                    "angle": 0,
                    "children": [],
                    "displacement": {
                        "x": 0,
                        "y": 0,
                        "z": 0
                    },
                    "edges": [
                        {
                            "id1": "Id40",
                            "id2": "Id25",
                            "value": 1,
                            "layout": {
                                "length": -1,
                                "weight": 1,
                                "coeff": -1
                            },
                            "weight": 1
                        }
                    ],
                    "force": {
                        "x": 0,
                        "y": 0,
                        "z": 0
                    },
                    "hierarchy": False,
                    "lastPosition": {
                        "x": 673.6572503519749,
                        "y": 218.63170223422242,
                        "z": 0,
                        "r": 233.976806640625,
                        "a": 183.46384863882207
                    },
                    "level": 0,
                    "mass": 1.3333333333333333,
                    "metrics": {
                        "betweenness": -1,
                        "closeness": -1,
                        "degree": -1,
                        "eccentricity": -1
                    },
                    "neighbors": [
                        "Id25"
                    ],
                    "order": -1,
                    "parent": False,
                    "position": {
                        "x": 0.4274477967987309,
                        "y": 203.64022185567492,
                        "z": 0
                    },
                    "prevPosition": {
                        "x": 0,
                        "y": 0,
                        "z": 0
                    },
                    "radius": 0,
                    "velocity": {
                        "x": 0,
                        "y": 0,
                        "z": 0
                    }
                },
                "nodeEdges": 1,
                "radius": 233.976806640625,
                "angle": 183.46384863882207,
                "x": 673.6572503519749,
                "y": 218.63170223422242,
                "z": 0,
                "community": 3,
                "communityColor": "rgb(248,204,3)"
            },
            {
                "id": "Id41",
                "name": "Eponine",
                "group": 4,
                "layout": {
                    "angle": 0,
                    "children": [],
                    "displacement": {
                        "x": 0,
                        "y": 0,
                        "z": 0
                    },
                    "edges": [
                        {
                            "id1": "Id41",
                            "id2": "Id24",
                            "value": 2,
                            "layout": {
                                "length": -1,
                                "weight": 1,
                                "coeff": -1
                            },
                            "weight": 1
                        },
                        {
                            "id1": "Id41",
                            "id2": "Id25",
                            "value": 3,
                            "layout": {
                                "length": -1,
                                "weight": 1,
                                "coeff": -1
                            },
                            "weight": 1
                        },
                        {
                            "id1": "Id42",
                            "id2": "Id41",
                            "value": 2,
                            "layout": {
                                "length": -1,
                                "weight": 1,
                                "coeff": -1
                            },
                            "weight": 1
                        },
                        {
                            "id1": "Id55",
                            "id2": "Id41",
                            "value": 5,
                            "layout": {
                                "length": -1,
                                "weight": 1,
                                "coeff": -1
                            },
                            "weight": 1
                        },
                        {
                            "id1": "Id57",
                            "id2": "Id41",
                            "value": 1,
                            "layout": {
                                "length": -1,
                                "weight": 1,
                                "coeff": -1
                            },
                            "weight": 1
                        },
                        {
                            "id1": "Id62",
                            "id2": "Id41",
                            "value": 1,
                            "layout": {
                                "length": -1,
                                "weight": 1,
                                "coeff": -1
                            },
                            "weight": 1
                        },
                        {
                            "id1": "Id68",
                            "id2": "Id41",
                            "value": 1,
                            "layout": {
                                "length": -1,
                                "weight": 1,
                                "coeff": -1
                            },
                            "weight": 1
                        },
                        {
                            "id1": "Id69",
                            "id2": "Id41",
                            "value": 1,
                            "layout": {
                                "length": -1,
                                "weight": 1,
                                "coeff": -1
                            },
                            "weight": 1
                        },
                        {
                            "id1": "Id70",
                            "id2": "Id41",
                            "value": 1,
                            "layout": {
                                "length": -1,
                                "weight": 1,
                                "coeff": -1
                            },
                            "weight": 1
                        },
                        {
                            "id1": "Id71",
                            "id2": "Id41",
                            "value": 1,
                            "layout": {
                                "length": -1,
                                "weight": 1,
                                "coeff": -1
                            },
                            "weight": 1
                        },
                        {
                            "id1": "Id75",
                            "id2": "Id41",
                            "value": 1,
                            "layout": {
                                "length": -1,
                                "weight": 1,
                                "coeff": -1
                            },
                            "weight": 1
                        }
                    ],
                    "force": {
                        "x": 0,
                        "y": 0,
                        "z": 0
                    },
                    "hierarchy": False,
                    "lastPosition": {
                        "x": 638.1272611162819,
                        "y": 222.14683402888204,
                        "z": 0,
                        "r": 233.976806640625,
                        "a": 187.83640480353094
                    },
                    "level": 0,
                    "mass": 4.666666666666666,
                    "metrics": {
                        "betweenness": -1,
                        "closeness": -1,
                        "degree": -1,
                        "eccentricity": -1
                    },
                    "neighbors": [
                        "Id24",
                        "Id25"
                    ],
                    "order": -1,
                    "parent": False,
                    "position": {
                        "x": 2.1850136941285427,
                        "y": 185.87522723782845,
                        "z": 0
                    },
                    "prevPosition": {
                        "x": 0,
                        "y": 0,
                        "z": 0
                    },
                    "radius": 0,
                    "velocity": {
                        "x": 0,
                        "y": 0,
                        "z": 0
                    }
                },
                "nodeEdges": 11,
                "radius": 233.976806640625,
                "angle": 187.83640480353094,
                "x": 638.1272611162819,
                "y": 222.14683402888204,
                "z": 0,
                "community": 3,
                "communityColor": "rgb(248,204,3)"
            },
            {
                "id": "Id42",
                "name": "Anzelma",
                "group": 4,
                "layout": {
                    "angle": 0,
                    "children": [],
                    "displacement": {
                        "x": 0,
                        "y": 0,
                        "z": 0
                    },
                    "edges": [
                        {
                            "id1": "Id42",
                            "id2": "Id41",
                            "value": 2,
                            "layout": {
                                "length": -1,
                                "weight": 1,
                                "coeff": -1
                            },
                            "weight": 1
                        },
                        {
                            "id1": "Id42",
                            "id2": "Id25",
                            "value": 2,
                            "layout": {
                                "length": -1,
                                "weight": 1,
                                "coeff": -1
                            },
                            "weight": 1
                        },
                        {
                            "id1": "Id42",
                            "id2": "Id24",
                            "value": 1,
                            "layout": {
                                "length": -1,
                                "weight": 1,
                                "coeff": -1
                            },
                            "weight": 1
                        }
                    ],
                    "force": {
                        "x": 0,
                        "y": 0,
                        "z": 0
                    },
                    "hierarchy": False,
                    "lastPosition": {
                        "x": 601.2338880588641,
                        "y": 228.7393996011915,
                        "z": 0,
                        "r": 233.976806640625,
                        "a": 192.42637274450632
                    },
                    "level": 0,
                    "mass": 2,
                    "metrics": {
                        "betweenness": -1,
                        "closeness": -1,
                        "degree": -1,
                        "eccentricity": -1
                    },
                    "neighbors": [
                        "Id41",
                        "Id25"
                    ],
                    "order": -1,
                    "parent": False,
                    "position": {
                        "x": 5.481296480283305,
                        "y": 167.42854070911943,
                        "z": 0
                    },
                    "prevPosition": {
                        "x": 0,
                        "y": 0,
                        "z": 0
                    },
                    "radius": 0,
                    "velocity": {
                        "x": 0,
                        "y": 0,
                        "z": 0
                    }
                },
                "nodeEdges": 3,
                "radius": 233.976806640625,
                "angle": 192.42637274450632,
                "x": 601.2338880588641,
                "y": 228.7393996011915,
                "z": 0,
                "community": 3,
                "communityColor": "rgb(248,204,3)"
            },
            {
                "id": "Id43",
                "name": "Woman 2",
                "group": 5,
                "layout": {
                    "angle": 0,
                    "children": [],
                    "displacement": {
                        "x": 0,
                        "y": 0,
                        "z": 0
                    },
                    "edges": [
                        {
                            "id1": "Id43",
                            "id2": "Id11",
                            "value": 3,
                            "layout": {
                                "length": -1,
                                "weight": 1,
                                "coeff": -1
                            },
                            "weight": 1
                        },
                        {
                            "id1": "Id43",
                            "id2": "Id26",
                            "value": 1,
                            "layout": {
                                "length": -1,
                                "weight": 1,
                                "coeff": -1
                            },
                            "weight": 1
                        },
                        {
                            "id1": "Id43",
                            "id2": "Id27",
                            "value": 1,
                            "layout": {
                                "length": -1,
                                "weight": 1,
                                "coeff": -1
                            },
                            "weight": 1
                        }
                    ],
                    "force": {
                        "x": 0,
                        "y": 0,
                        "z": 0
                    },
                    "hierarchy": False,
                    "lastPosition": {
                        "x": 574.6872320418554,
                        "y": 235.40858465168986,
                        "z": 0,
                        "r": 233.976806640625,
                        "a": 195.77819904437075
                    },
                    "level": 0,
                    "mass": 2,
                    "metrics": {
                        "betweenness": -1,
                        "closeness": -1,
                        "degree": -1,
                        "eccentricity": -1
                    },
                    "neighbors": [
                        "Id11",
                        "Id26"
                    ],
                    "order": -1,
                    "parent": False,
                    "position": {
                        "x": 8.815889005532455,
                        "y": 154.1552127006152,
                        "z": 0
                    },
                    "prevPosition": {
                        "x": 0,
                        "y": 0,
                        "z": 0
                    },
                    "radius": 0,
                    "velocity": {
                        "x": 0,
                        "y": 0,
                        "z": 0
                    }
                },
                "nodeEdges": 3,
                "radius": 233.976806640625,
                "angle": 195.77819904437075,
                "x": 574.6872320418554,
                "y": 235.40858465168986,
                "z": 0,
                "community": 4,
                "communityColor": "rgb(255,140,2)"
            },
            {
                "id": "Id44",
                "name": "Mother Innocent",
                "group": 0,
                "layout": {
                    "angle": 0,
                    "children": [],
                    "displacement": {
                        "x": 0,
                        "y": 0,
                        "z": 0
                    },
                    "edges": [
                        {
                            "id1": "Id44",
                            "id2": "Id28",
                            "value": 3,
                            "layout": {
                                "length": -1,
                                "weight": 1,
                                "coeff": -1
                            },
                            "weight": 1
                        },
                        {
                            "id1": "Id44",
                            "id2": "Id11",
                            "value": 1,
                            "layout": {
                                "length": -1,
                                "weight": 1,
                                "coeff": -1
                            },
                            "weight": 1
                        }
                    ],
                    "force": {
                        "x": 0,
                        "y": 0,
                        "z": 0
                    },
                    "hierarchy": False,
                    "lastPosition": {
                        "x": 549.281278260454,
                        "y": 243.374427837435,
                        "z": 0,
                        "r": 233.976806640625,
                        "a": 199.0386386992961
                    },
                    "level": 0,
                    "mass": 1.6666666666666665,
                    "metrics": {
                        "betweenness": -1,
                        "closeness": -1,
                        "degree": -1,
                        "eccentricity": -1
                    },
                    "neighbors": [
                        "Id28",
                        "Id11"
                    ],
                    "order": -1,
                    "parent": False,
                    "position": {
                        "x": 12.798810598405026,
                        "y": 141.4522358099145,
                        "z": 0
                    },
                    "prevPosition": {
                        "x": 0,
                        "y": 0,
                        "z": 0
                    },
                    "radius": 0,
                    "velocity": {
                        "x": 0,
                        "y": 0,
                        "z": 0
                    }
                },
                "nodeEdges": 2,
                "radius": 233.976806640625,
                "angle": 199.0386386992961,
                "x": 549.281278260454,
                "y": 243.374427837435,
                "z": 0,
                "community": 5,
                "communityColor": "rgb(105,150,150)"
            },
            {
                "id": "Id45",
                "name": "Gribier",
                "group": 0,
                "layout": {
                    "angle": 0,
                    "children": [],
                    "displacement": {
                        "x": 0,
                        "y": 0,
                        "z": 0
                    },
                    "edges": [
                        {
                            "id1": "Id45",
                            "id2": "Id28",
                            "value": 2,
                            "layout": {
                                "length": -1,
                                "weight": 1,
                                "coeff": -1
                            },
                            "weight": 1
                        }
                    ],
                    "force": {
                        "x": 0,
                        "y": 0,
                        "z": 0
                    },
                    "hierarchy": False,
                    "lastPosition": {
                        "x": 526.0136594787447,
                        "y": 252.1016875041857,
                        "z": 0,
                        "r": 233.976806640625,
                        "a": 202.0816665779549
                    },
                    "level": 0,
                    "mass": 1.3333333333333333,
                    "metrics": {
                        "betweenness": -1,
                        "closeness": -1,
                        "degree": -1,
                        "eccentricity": -1
                    },
                    "neighbors": [
                        "Id28"
                    ],
                    "order": -1,
                    "parent": False,
                    "position": {
                        "x": 17.162440431780368,
                        "y": 129.81842641905985,
                        "z": 0
                    },
                    "prevPosition": {
                        "x": 0,
                        "y": 0,
                        "z": 0
                    },
                    "radius": 0,
                    "velocity": {
                        "x": 0,
                        "y": 0,
                        "z": 0
                    }
                },
                "nodeEdges": 1,
                "radius": 233.976806640625,
                "angle": 202.0816665779549,
                "x": 526.0136594787447,
                "y": 252.1016875041857,
                "z": 0,
                "community": 5,
                "communityColor": "rgb(105,150,150)"
            },
            {
                "id": "Id46",
                "name": "Jondrette",
                "group": 7,
                "layout": {
                    "angle": 0,
                    "children": [],
                    "displacement": {
                        "x": 0,
                        "y": 0,
                        "z": 0
                    },
                    "edges": [
                        {
                            "id1": "Id47",
                            "id2": "Id46",
                            "value": 1,
                            "layout": {
                                "length": -1,
                                "weight": 1,
                                "coeff": -1
                            },
                            "weight": 1
                        }
                    ],
                    "force": {
                        "x": 0,
                        "y": 0,
                        "z": 0
                    },
                    "hierarchy": False,
                    "lastPosition": {
                        "x": 504.17452716353705,
                        "y": 261.6158233063724,
                        "z": 0,
                        "r": 233.976806640625,
                        "a": 204.99866932528644
                    },
                    "level": 0,
                    "mass": 1.3333333333333333,
                    "metrics": {
                        "betweenness": -1,
                        "closeness": -1,
                        "degree": -1,
                        "eccentricity": -1
                    },
                    "neighbors": [],
                    "order": -1,
                    "parent": False,
                    "position": {
                        "x": 21.919508332873733,
                        "y": 118.89886026145602,
                        "z": 0
                    },
                    "prevPosition": {
                        "x": 0,
                        "y": 0,
                        "z": 0
                    },
                    "radius": 0,
                    "velocity": {
                        "x": 0,
                        "y": 0,
                        "z": 0
                    }
                },
                "nodeEdges": 1,
                "radius": 233.976806640625,
                "angle": 204.99866932528644,
                "x": 504.17452716353705,
                "y": 261.6158233063724,
                "z": 0,
                "community": 9,
                "communityColor": "rgb(250,220,90)"
            },
            {
                "id": "Id47",
                "name": "Mme. Burgon",
                "group": 7,
                "layout": {
                    "angle": 0,
                    "children": [],
                    "displacement": {
                        "x": 0,
                        "y": 0,
                        "z": 0
                    },
                    "edges": [
                        {
                            "id1": "Id47",
                            "id2": "Id46",
                            "value": 1,
                            "layout": {
                                "length": -1,
                                "weight": 1,
                                "coeff": -1
                            },
                            "weight": 1
                        },
                        {
                            "id1": "Id48",
                            "id2": "Id47",
                            "value": 2,
                            "layout": {
                                "length": -1,
                                "weight": 1,
                                "coeff": -1
                            },
                            "weight": 1
                        }
                    ],
                    "force": {
                        "x": 0,
                        "y": 0,
                        "z": 0
                    },
                    "hierarchy": False,
                    "lastPosition": {
                        "x": 481.9388718763742,
                        "y": 272.7118937374896,
                        "z": 0,
                        "r": 233.976806640625,
                        "a": 208.04169720394526
                    },
                    "level": 0,
                    "mass": 1.6666666666666665,
                    "metrics": {
                        "betweenness": -1,
                        "closeness": -1,
                        "degree": -1,
                        "eccentricity": -1
                    },
                    "neighbors": [
                        "Id46"
                    ],
                    "order": -1,
                    "parent": False,
                    "position": {
                        "x": 27.46754354843233,
                        "y": 107.78103261787462,
                        "z": 0
                    },
                    "prevPosition": {
                        "x": 0,
                        "y": 0,
                        "z": 0
                    },
                    "radius": 0,
                    "velocity": {
                        "x": 0,
                        "y": 0,
                        "z": 0
                    }
                },
                "nodeEdges": 2,
                "radius": 233.976806640625,
                "angle": 208.04169720394526,
                "x": 481.9388718763742,
                "y": 272.7118937374896,
                "z": 0,
                "community": 9,
                "communityColor": "rgb(250,220,90)"
            },
            {
                "id": "Id48",
                "name": "Gavroche",
                "group": 8,
                "layout": {
                    "angle": 0,
                    "children": [],
                    "displacement": {
                        "x": 0,
                        "y": 0,
                        "z": 0
                    },
                    "edges": [
                        {
                            "id1": "Id48",
                            "id2": "Id47",
                            "value": 2,
                            "layout": {
                                "length": -1,
                                "weight": 1,
                                "coeff": -1
                            },
                            "weight": 1
                        },
                        {
                            "id1": "Id48",
                            "id2": "Id25",
                            "value": 1,
                            "layout": {
                                "length": -1,
                                "weight": 1,
                                "coeff": -1
                            },
                            "weight": 1
                        },
                        {
                            "id1": "Id48",
                            "id2": "Id27",
                            "value": 1,
                            "layout": {
                                "length": -1,
                                "weight": 1,
                                "coeff": -1
                            },
                            "weight": 1
                        },
                        {
                            "id1": "Id48",
                            "id2": "Id11",
                            "value": 1,
                            "layout": {
                                "length": -1,
                                "weight": 1,
                                "coeff": -1
                            },
                            "weight": 1
                        },
                        {
                            "id1": "Id55",
                            "id2": "Id48",
                            "value": 4,
                            "layout": {
                                "length": -1,
                                "weight": 1,
                                "coeff": -1
                            },
                            "weight": 1
                        },
                        {
                            "id1": "Id57",
                            "id2": "Id48",
                            "value": 1,
                            "layout": {
                                "length": -1,
                                "weight": 1,
                                "coeff": -1
                            },
                            "weight": 1
                        },
                        {
                            "id1": "Id58",
                            "id2": "Id48",
                            "value": 7,
                            "layout": {
                                "length": -1,
                                "weight": 1,
                                "coeff": -1
                            },
                            "weight": 1
                        },
                        {
                            "id1": "Id59",
                            "id2": "Id48",
                            "value": 6,
                            "layout": {
                                "length": -1,
                                "weight": 1,
                                "coeff": -1
                            },
                            "weight": 1
                        },
                        {
                            "id1": "Id60",
                            "id2": "Id48",
                            "value": 1,
                            "layout": {
                                "length": -1,
                                "weight": 1,
                                "coeff": -1
                            },
                            "weight": 1
                        },
                        {
                            "id1": "Id61",
                            "id2": "Id48",
                            "value": 2,
                            "layout": {
                                "length": -1,
                                "weight": 1,
                                "coeff": -1
                            },
                            "weight": 1
                        },
                        {
                            "id1": "Id62",
                            "id2": "Id48",
                            "value": 7,
                            "layout": {
                                "length": -1,
                                "weight": 1,
                                "coeff": -1
                            },
                            "weight": 1
                        },
                        {
                            "id1": "Id63",
                            "id2": "Id48",
                            "value": 5,
                            "layout": {
                                "length": -1,
                                "weight": 1,
                                "coeff": -1
                            },
                            "weight": 1
                        },
                        {
                            "id1": "Id64",
                            "id2": "Id48",
                            "value": 5,
                            "layout": {
                                "length": -1,
                                "weight": 1,
                                "coeff": -1
                            },
                            "weight": 1
                        },
                        {
                            "id1": "Id65",
                            "id2": "Id48",
                            "value": 3,
                            "layout": {
                                "length": -1,
                                "weight": 1,
                                "coeff": -1
                            },
                            "weight": 1
                        },
                        {
                            "id1": "Id66",
                            "id2": "Id48",
                            "value": 1,
                            "layout": {
                                "length": -1,
                                "weight": 1,
                                "coeff": -1
                            },
                            "weight": 1
                        },
                        {
                            "id1": "Id68",
                            "id2": "Id48",
                            "value": 1,
                            "layout": {
                                "length": -1,
                                "weight": 1,
                                "coeff": -1
                            },
                            "weight": 1
                        },
                        {
                            "id1": "Id69",
                            "id2": "Id48",
                            "value": 1,
                            "layout": {
                                "length": -1,
                                "weight": 1,
                                "coeff": -1
                            },
                            "weight": 1
                        },
                        {
                            "id1": "Id71",
                            "id2": "Id48",
                            "value": 1,
                            "layout": {
                                "length": -1,
                                "weight": 1,
                                "coeff": -1
                            },
                            "weight": 1
                        },
                        {
                            "id1": "Id73",
                            "id2": "Id48",
                            "value": 2,
                            "layout": {
                                "length": -1,
                                "weight": 1,
                                "coeff": -1
                            },
                            "weight": 1
                        },
                        {
                            "id1": "Id74",
                            "id2": "Id48",
                            "value": 2,
                            "layout": {
                                "length": -1,
                                "weight": 1,
                                "coeff": -1
                            },
                            "weight": 1
                        },
                        {
                            "id1": "Id75",
                            "id2": "Id48",
                            "value": 1,
                            "layout": {
                                "length": -1,
                                "weight": 1,
                                "coeff": -1
                            },
                            "weight": 1
                        },
                        {
                            "id1": "Id76",
                            "id2": "Id48",
                            "value": 1,
                            "layout": {
                                "length": -1,
                                "weight": 1,
                                "coeff": -1
                            },
                            "weight": 1
                        }
                    ],
                    "force": {
                        "x": 0,
                        "y": 0,
                        "z": 0
                    },
                    "hierarchy": False,
                    "lastPosition": {
                        "x": 431.7586061949779,
                        "y": 303.6469535817355,
                        "z": 0,
                        "r": 233.976806640625,
                        "a": 215.26419011042543
                    },
                    "level": 0,
                    "mass": 8.333333333333332,
                    "metrics": {
                        "betweenness": -1,
                        "closeness": -1,
                        "degree": -1,
                        "eccentricity": -1
                    },
                    "neighbors": [
                        "Id47",
                        "Id25"
                    ],
                    "order": -1,
                    "parent": False,
                    "position": {
                        "x": 42.935073470555324,
                        "y": 82.69089977717638,
                        "z": 0
                    },
                    "prevPosition": {
                        "x": 0,
                        "y": 0,
                        "z": 0
                    },
                    "radius": 0,
                    "velocity": {
                        "x": 0,
                        "y": 0,
                        "z": 0
                    }
                },
                "nodeEdges": 22,
                "radius": 233.976806640625,
                "angle": 215.26419011042543,
                "x": 431.7586061949779,
                "y": 303.6469535817355,
                "z": 0,
                "community": 10,
                "communityColor": "rgb(255,84,159)"
            },
            {
                "id": "Id49",
                "name": "Gillenormand",
                "group": 5,
                "layout": {
                    "angle": 0,
                    "children": [],
                    "displacement": {
                        "x": 0,
                        "y": 0,
                        "z": 0
                    },
                    "edges": [
                        {
                            "id1": "Id49",
                            "id2": "Id26",
                            "value": 3,
                            "layout": {
                                "length": -1,
                                "weight": 1,
                                "coeff": -1
                            },
                            "weight": 1
                        },
                        {
                            "id1": "Id49",
                            "id2": "Id11",
                            "value": 2,
                            "layout": {
                                "length": -1,
                                "weight": 1,
                                "coeff": -1
                            },
                            "weight": 1
                        },
                        {
                            "id1": "Id50",
                            "id2": "Id49",
                            "value": 1,
                            "layout": {
                                "length": -1,
                                "weight": 1,
                                "coeff": -1
                            },
                            "weight": 1
                        },
                        {
                            "id1": "Id51",
                            "id2": "Id49",
                            "value": 9,
                            "layout": {
                                "length": -1,
                                "weight": 1,
                                "coeff": -1
                            },
                            "weight": 1
                        },
                        {
                            "id1": "Id54",
                            "id2": "Id49",
                            "value": 1,
                            "layout": {
                                "length": -1,
                                "weight": 1,
                                "coeff": -1
                            },
                            "weight": 1
                        },
                        {
                            "id1": "Id55",
                            "id2": "Id49",
                            "value": 12,
                            "layout": {
                                "length": -1,
                                "weight": 1,
                                "coeff": -1
                            },
                            "weight": 1
                        },
                        {
                            "id1": "Id56",
                            "id2": "Id49",
                            "value": 1,
                            "layout": {
                                "length": -1,
                                "weight": 1,
                                "coeff": -1
                            },
                            "weight": 1
                        }
                    ],
                    "force": {
                        "x": 0,
                        "y": 0,
                        "z": 0
                    },
                    "hierarchy": False,
                    "lastPosition": {
                        "x": 382.0502221326017,
                        "y": 344.1791891448903,
                        "z": 0,
                        "r": 233.976806640625,
                        "a": 223.1234415751912
                    },
                    "level": 0,
                    "mass": 3.3333333333333335,
                    "metrics": {
                        "betweenness": -1,
                        "closeness": -1,
                        "degree": -1,
                        "eccentricity": -1
                    },
                    "neighbors": [
                        "Id26",
                        "Id11"
                    ],
                    "order": -1,
                    "parent": False,
                    "position": {
                        "x": 63.20119125213267,
                        "y": 57.83670774598835,
                        "z": 0
                    },
                    "prevPosition": {
                        "x": 0,
                        "y": 0,
                        "z": 0
                    },
                    "radius": 0,
                    "velocity": {
                        "x": 0,
                        "y": 0,
                        "z": 0
                    }
                },
                "nodeEdges": 7,
                "radius": 233.976806640625,
                "angle": 223.1234415751912,
                "x": 382.0502221326017,
                "y": 344.1791891448903,
                "z": 0,
                "community": 4,
                "communityColor": "rgb(255,140,2)"
            },
            {
                "id": "Id50",
                "name": "Magnon",
                "group": 5,
                "layout": {
                    "angle": 0,
                    "children": [],
                    "displacement": {
                        "x": 0,
                        "y": 0,
                        "z": 0
                    },
                    "edges": [
                        {
                            "id1": "Id50",
                            "id2": "Id49",
                            "value": 1,
                            "layout": {
                                "length": -1,
                                "weight": 1,
                                "coeff": -1
                            },
                            "weight": 1
                        },
                        {
                            "id1": "Id50",
                            "id2": "Id24",
                            "value": 1,
                            "layout": {
                                "length": -1,
                                "weight": 1,
                                "coeff": -1
                            },
                            "weight": 1
                        }
                    ],
                    "force": {
                        "x": 0,
                        "y": 0,
                        "z": 0
                    },
                    "hierarchy": False,
                    "lastPosition": {
                        "x": 360.08514098862963,
                        "y": 366.1644807887606,
                        "z": 0,
                        "r": 233.976806640625,
                        "a": 226.92925314346297
                    },
                    "level": 0,
                    "mass": 1.6666666666666665,
                    "metrics": {
                        "betweenness": -1,
                        "closeness": -1,
                        "degree": -1,
                        "eccentricity": -1
                    },
                    "neighbors": [
                        "Id49",
                        "Id24"
                    ],
                    "order": -1,
                    "parent": False,
                    "position": {
                        "x": 74.19383707406783,
                        "y": 46.85416717400233,
                        "z": 0
                    },
                    "prevPosition": {
                        "x": 0,
                        "y": 0,
                        "z": 0
                    },
                    "radius": 0,
                    "velocity": {
                        "x": 0,
                        "y": 0,
                        "z": 0
                    }
                },
                "nodeEdges": 2,
                "radius": 233.976806640625,
                "angle": 226.92925314346297,
                "x": 360.08514098862963,
                "y": 366.1644807887606,
                "z": 0,
                "community": 4,
                "communityColor": "rgb(255,140,2)"
            },
            {
                "id": "Id51",
                "name": "Mlle. Gillenormand",
                "group": 5,
                "layout": {
                    "angle": 0,
                    "children": [],
                    "displacement": {
                        "x": 0,
                        "y": 0,
                        "z": 0
                    },
                    "edges": [
                        {
                            "id1": "Id51",
                            "id2": "Id49",
                            "value": 9,
                            "layout": {
                                "length": -1,
                                "weight": 1,
                                "coeff": -1
                            },
                            "weight": 1
                        },
                        {
                            "id1": "Id51",
                            "id2": "Id26",
                            "value": 2,
                            "layout": {
                                "length": -1,
                                "weight": 1,
                                "coeff": -1
                            },
                            "weight": 1
                        },
                        {
                            "id1": "Id51",
                            "id2": "Id11",
                            "value": 2,
                            "layout": {
                                "length": -1,
                                "weight": 1,
                                "coeff": -1
                            },
                            "weight": 1
                        },
                        {
                            "id1": "Id52",
                            "id2": "Id51",
                            "value": 1,
                            "layout": {
                                "length": -1,
                                "weight": 1,
                                "coeff": -1
                            },
                            "weight": 1
                        },
                        {
                            "id1": "Id53",
                            "id2": "Id51",
                            "value": 1,
                            "layout": {
                                "length": -1,
                                "weight": 1,
                                "coeff": -1
                            },
                            "weight": 1
                        },
                        {
                            "id1": "Id54",
                            "id2": "Id51",
                            "value": 2,
                            "layout": {
                                "length": -1,
                                "weight": 1,
                                "coeff": -1
                            },
                            "weight": 1
                        },
                        {
                            "id1": "Id55",
                            "id2": "Id51",
                            "value": 6,
                            "layout": {
                                "length": -1,
                                "weight": 1,
                                "coeff": -1
                            },
                            "weight": 1
                        }
                    ],
                    "force": {
                        "x": 0,
                        "y": 0,
                        "z": 0
                    },
                    "hierarchy": False,
                    "lastPosition": {
                        "x": 339.62777464765486,
                        "y": 389.5592238033457,
                        "z": 0,
                        "r": 233.976806640625,
                        "a": 230.73506471173476
                    },
                    "level": 0,
                    "mass": 3.3333333333333335,
                    "metrics": {
                        "betweenness": -1,
                        "closeness": -1,
                        "degree": -1,
                        "eccentricity": -1
                    },
                    "neighbors": [
                        "Id49",
                        "Id26"
                    ],
                    "order": -1,
                    "parent": False,
                    "position": {
                        "x": 85.89120858136036,
                        "y": 36.62548400351494,
                        "z": 0
                    },
                    "prevPosition": {
                        "x": 0,
                        "y": 0,
                        "z": 0
                    },
                    "radius": 0,
                    "velocity": {
                        "x": 0,
                        "y": 0,
                        "z": 0
                    }
                },
                "nodeEdges": 7,
                "radius": 233.976806640625,
                "angle": 230.73506471173476,
                "x": 339.62777464765486,
                "y": 389.5592238033457,
                "z": 0,
                "community": 4,
                "communityColor": "rgb(255,140,2)"
            },
            {
                "id": "Id52",
                "name": "Mme. Pontmercy",
                "group": 5,
                "layout": {
                    "angle": 0,
                    "children": [],
                    "displacement": {
                        "x": 0,
                        "y": 0,
                        "z": 0
                    },
                    "edges": [
                        {
                            "id1": "Id52",
                            "id2": "Id51",
                            "value": 1,
                            "layout": {
                                "length": -1,
                                "weight": 1,
                                "coeff": -1
                            },
                            "weight": 1
                        },
                        {
                            "id1": "Id52",
                            "id2": "Id39",
                            "value": 1,
                            "layout": {
                                "length": -1,
                                "weight": 1,
                                "coeff": -1
                            },
                            "weight": 1
                        }
                    ],
                    "force": {
                        "x": 0,
                        "y": 0,
                        "z": 0
                    },
                    "hierarchy": False,
                    "lastPosition": {
                        "x": 320.7683506949726,
                        "y": 414.2602352502545,
                        "z": 0,
                        "r": 233.976806640625,
                        "a": 234.5408762800066
                    },
                    "level": 0,
                    "mass": 1.6666666666666665,
                    "metrics": {
                        "betweenness": -1,
                        "closeness": -1,
                        "degree": -1,
                        "eccentricity": -1
                    },
                    "neighbors": [
                        "Id51",
                        "Id39"
                    ],
                    "order": -1,
                    "parent": False,
                    "position": {
                        "x": 98.24171430481476,
                        "y": 27.195772027173803,
                        "z": 0
                    },
                    "prevPosition": {
                        "x": 0,
                        "y": 0,
                        "z": 0
                    },
                    "radius": 0,
                    "velocity": {
                        "x": 0,
                        "y": 0,
                        "z": 0
                    }
                },
                "nodeEdges": 2,
                "radius": 233.976806640625,
                "angle": 234.5408762800066,
                "x": 320.7683506949726,
                "y": 414.2602352502545,
                "z": 0,
                "community": 8,
                "communityColor": "rgb(194,224,118)"
            },
            {
                "id": "Id53",
                "name": "Mlle. Vaubois",
                "group": 5,
                "layout": {
                    "angle": 0,
                    "children": [],
                    "displacement": {
                        "x": 0,
                        "y": 0,
                        "z": 0
                    },
                    "edges": [
                        {
                            "id1": "Id53",
                            "id2": "Id51",
                            "value": 1,
                            "layout": {
                                "length": -1,
                                "weight": 1,
                                "coeff": -1
                            },
                            "weight": 1
                        }
                    ],
                    "force": {
                        "x": 0,
                        "y": 0,
                        "z": 0
                    },
                    "hierarchy": False,
                    "lastPosition": {
                        "x": 306.8945718060167,
                        "y": 434.87734960707456,
                        "z": 0,
                        "r": 233.976806640625,
                        "a": 237.5839041586654
                    },
                    "level": 0,
                    "mass": 1.3333333333333333,
                    "metrics": {
                        "betweenness": -1,
                        "closeness": -1,
                        "degree": -1,
                        "eccentricity": -1
                    },
                    "neighbors": [
                        "Id51"
                    ],
                    "order": -1,
                    "parent": False,
                    "position": {
                        "x": 108.5502714832248,
                        "y": 20.25888258269586,
                        "z": 0
                    },
                    "prevPosition": {
                        "x": 0,
                        "y": 0,
                        "z": 0
                    },
                    "radius": 0,
                    "velocity": {
                        "x": 0,
                        "y": 0,
                        "z": 0
                    }
                },
                "nodeEdges": 1,
                "radius": 233.976806640625,
                "angle": 237.5839041586654,
                "x": 306.8945718060167,
                "y": 434.87734960707456,
                "z": 0,
                "community": 4,
                "communityColor": "rgb(255,140,2)"
            },
            {
                "id": "Id54",
                "name": "Lt. Gillenormand",
                "group": 5,
                "layout": {
                    "angle": 0,
                    "children": [],
                    "displacement": {
                        "x": 0,
                        "y": 0,
                        "z": 0
                    },
                    "edges": [
                        {
                            "id1": "Id54",
                            "id2": "Id51",
                            "value": 2,
                            "layout": {
                                "length": -1,
                                "weight": 1,
                                "coeff": -1
                            },
                            "weight": 1
                        },
                        {
                            "id1": "Id54",
                            "id2": "Id49",
                            "value": 1,
                            "layout": {
                                "length": -1,
                                "weight": 1,
                                "coeff": -1
                            },
                            "weight": 1
                        },
                        {
                            "id1": "Id54",
                            "id2": "Id26",
                            "value": 1,
                            "layout": {
                                "length": -1,
                                "weight": 1,
                                "coeff": -1
                            },
                            "weight": 1
                        },
                        {
                            "id1": "Id55",
                            "id2": "Id54",
                            "value": 1,
                            "layout": {
                                "length": -1,
                                "weight": 1,
                                "coeff": -1
                            },
                            "weight": 1
                        }
                    ],
                    "force": {
                        "x": 0,
                        "y": 0,
                        "z": 0
                    },
                    "hierarchy": False,
                    "lastPosition": {
                        "x": 293.1788698846073,
                        "y": 457.9086594925676,
                        "z": 0,
                        "r": 233.976806640625,
                        "a": 240.86645348575342
                    },
                    "level": 0,
                    "mass": 2.333333333333333,
                    "metrics": {
                        "betweenness": -1,
                        "closeness": -1,
                        "degree": -1,
                        "eccentricity": -1
                    },
                    "neighbors": [
                        "Id51",
                        "Id49"
                    ],
                    "order": -1,
                    "parent": False,
                    "position": {
                        "x": 120.06592642597131,
                        "y": 13.401031621991166,
                        "z": 0
                    },
                    "prevPosition": {
                        "x": 0,
                        "y": 0,
                        "z": 0
                    },
                    "radius": 0,
                    "velocity": {
                        "x": 0,
                        "y": 0,
                        "z": 0
                    }
                },
                "nodeEdges": 4,
                "radius": 233.976806640625,
                "angle": 240.86645348575342,
                "x": 293.1788698846073,
                "y": 457.9086594925676,
                "z": 0,
                "community": 4,
                "communityColor": "rgb(255,140,2)"
            },
            {
                "id": "Id55",
                "name": "Marius",
                "group": 8,
                "layout": {
                    "angle": 0,
                    "children": [],
                    "displacement": {
                        "x": 0,
                        "y": 0,
                        "z": 0
                    },
                    "edges": [
                        {
                            "id1": "Id55",
                            "id2": "Id51",
                            "value": 6,
                            "layout": {
                                "length": -1,
                                "weight": 1,
                                "coeff": -1
                            },
                            "weight": 1
                        },
                        {
                            "id1": "Id55",
                            "id2": "Id49",
                            "value": 12,
                            "layout": {
                                "length": -1,
                                "weight": 1,
                                "coeff": -1
                            },
                            "weight": 1
                        },
                        {
                            "id1": "Id55",
                            "id2": "Id39",
                            "value": 1,
                            "layout": {
                                "length": -1,
                                "weight": 1,
                                "coeff": -1
                            },
                            "weight": 1
                        },
                        {
                            "id1": "Id55",
                            "id2": "Id54",
                            "value": 1,
                            "layout": {
                                "length": -1,
                                "weight": 1,
                                "coeff": -1
                            },
                            "weight": 1
                        },
                        {
                            "id1": "Id55",
                            "id2": "Id26",
                            "value": 21,
                            "layout": {
                                "length": -1,
                                "weight": 1,
                                "coeff": -1
                            },
                            "weight": 1
                        },
                        {
                            "id1": "Id55",
                            "id2": "Id11",
                            "value": 19,
                            "layout": {
                                "length": -1,
                                "weight": 1,
                                "coeff": -1
                            },
                            "weight": 1
                        },
                        {
                            "id1": "Id55",
                            "id2": "Id16",
                            "value": 1,
                            "layout": {
                                "length": -1,
                                "weight": 1,
                                "coeff": -1
                            },
                            "weight": 1
                        },
                        {
                            "id1": "Id55",
                            "id2": "Id25",
                            "value": 2,
                            "layout": {
                                "length": -1,
                                "weight": 1,
                                "coeff": -1
                            },
                            "weight": 1
                        },
                        {
                            "id1": "Id55",
                            "id2": "Id41",
                            "value": 5,
                            "layout": {
                                "length": -1,
                                "weight": 1,
                                "coeff": -1
                            },
                            "weight": 1
                        },
                        {
                            "id1": "Id55",
                            "id2": "Id48",
                            "value": 4,
                            "layout": {
                                "length": -1,
                                "weight": 1,
                                "coeff": -1
                            },
                            "weight": 1
                        },
                        {
                            "id1": "Id56",
                            "id2": "Id55",
                            "value": 1,
                            "layout": {
                                "length": -1,
                                "weight": 1,
                                "coeff": -1
                            },
                            "weight": 1
                        },
                        {
                            "id1": "Id57",
                            "id2": "Id55",
                            "value": 1,
                            "layout": {
                                "length": -1,
                                "weight": 1,
                                "coeff": -1
                            },
                            "weight": 1
                        },
                        {
                            "id1": "Id58",
                            "id2": "Id55",
                            "value": 7,
                            "layout": {
                                "length": -1,
                                "weight": 1,
                                "coeff": -1
                            },
                            "weight": 1
                        },
                        {
                            "id1": "Id59",
                            "id2": "Id55",
                            "value": 5,
                            "layout": {
                                "length": -1,
                                "weight": 1,
                                "coeff": -1
                            },
                            "weight": 1
                        },
                        {
                            "id1": "Id61",
                            "id2": "Id55",
                            "value": 1,
                            "layout": {
                                "length": -1,
                                "weight": 1,
                                "coeff": -1
                            },
                            "weight": 1
                        },
                        {
                            "id1": "Id62",
                            "id2": "Id55",
                            "value": 9,
                            "layout": {
                                "length": -1,
                                "weight": 1,
                                "coeff": -1
                            },
                            "weight": 1
                        },
                        {
                            "id1": "Id63",
                            "id2": "Id55",
                            "value": 1,
                            "layout": {
                                "length": -1,
                                "weight": 1,
                                "coeff": -1
                            },
                            "weight": 1
                        },
                        {
                            "id1": "Id64",
                            "id2": "Id55",
                            "value": 5,
                            "layout": {
                                "length": -1,
                                "weight": 1,
                                "coeff": -1
                            },
                            "weight": 1
                        },
                        {
                            "id1": "Id65",
                            "id2": "Id55",
                            "value": 2,
                            "layout": {
                                "length": -1,
                                "weight": 1,
                                "coeff": -1
                            },
                            "weight": 1
                        }
                    ],
                    "force": {
                        "x": 0,
                        "y": 0,
                        "z": 0
                    },
                    "hierarchy": False,
                    "lastPosition": {
                        "x": 269.80958678303847,
                        "y": 506.1415289782103,
                        "z": 0,
                        "r": 233.976806640625,
                        "a": 247.43228912900156
                    },
                    "level": 0,
                    "mass": 7.333333333333333,
                    "metrics": {
                        "betweenness": -1,
                        "closeness": -1,
                        "degree": -1,
                        "eccentricity": -1
                    },
                    "neighbors": [
                        "Id51",
                        "Id49"
                    ],
                    "order": -1,
                    "parent": False,
                    "position": {
                        "x": 144.18236116879268,
                        "y": 1.716390071206746,
                        "z": 0
                    },
                    "prevPosition": {
                        "x": 0,
                        "y": 0,
                        "z": 0
                    },
                    "radius": 0,
                    "velocity": {
                        "x": 0,
                        "y": 0,
                        "z": 0
                    }
                },
                "nodeEdges": 19,
                "radius": 233.976806640625,
                "angle": 247.43228912900156,
                "x": 269.80958678303847,
                "y": 506.1415289782103,
                "z": 0,
                "community": 4,
                "communityColor": "rgb(255,140,2)"
            },
            {
                "id": "Id56",
                "name": "Baroness T",
                "group": 5,
                "layout": {
                    "angle": 0,
                    "children": [],
                    "displacement": {
                        "x": 0,
                        "y": 0,
                        "z": 0
                    },
                    "edges": [
                        {
                            "id1": "Id56",
                            "id2": "Id49",
                            "value": 1,
                            "layout": {
                                "length": -1,
                                "weight": 1,
                                "coeff": -1
                            },
                            "weight": 1
                        },
                        {
                            "id1": "Id56",
                            "id2": "Id55",
                            "value": 1,
                            "layout": {
                                "length": -1,
                                "weight": 1,
                                "coeff": -1
                            },
                            "weight": 1
                        }
                    ],
                    "force": {
                        "x": 0,
                        "y": 0,
                        "z": 0
                    },
                    "hierarchy": False,
                    "lastPosition": {
                        "x": 252.65196417629642,
                        "y": 554.8508822322658,
                        "z": 0,
                        "r": 233.976806640625,
                        "a": 253.7586033238205
                    },
                    "level": 0,
                    "mass": 1.6666666666666665,
                    "metrics": {
                        "betweenness": -1,
                        "closeness": -1,
                        "degree": -1,
                        "eccentricity": -1
                    },
                    "neighbors": [
                        "Id49",
                        "Id55"
                    ],
                    "order": -1,
                    "parent": False,
                    "position": {
                        "x": 168.53703779582042,
                        "y": -6.86242123216428,
                        "z": 0
                    },
                    "prevPosition": {
                        "x": 0,
                        "y": 0,
                        "z": 0
                    },
                    "radius": 0,
                    "velocity": {
                        "x": 0,
                        "y": 0,
                        "z": 0
                    }
                },
                "nodeEdges": 2,
                "radius": 233.976806640625,
                "angle": 253.7586033238205,
                "x": 252.65196417629642,
                "y": 554.8508822322658,
                "z": 0,
                "community": 4,
                "communityColor": "rgb(255,140,2)"
            },
            {
                "id": "Id57",
                "name": "Mabeuf",
                "group": 8,
                "layout": {
                    "angle": 0,
                    "children": [],
                    "displacement": {
                        "x": 0,
                        "y": 0,
                        "z": 0
                    },
                    "edges": [
                        {
                            "id1": "Id57",
                            "id2": "Id55",
                            "value": 1,
                            "layout": {
                                "length": -1,
                                "weight": 1,
                                "coeff": -1
                            },
                            "weight": 1
                        },
                        {
                            "id1": "Id57",
                            "id2": "Id41",
                            "value": 1,
                            "layout": {
                                "length": -1,
                                "weight": 1,
                                "coeff": -1
                            },
                            "weight": 1
                        },
                        {
                            "id1": "Id57",
                            "id2": "Id48",
                            "value": 1,
                            "layout": {
                                "length": -1,
                                "weight": 1,
                                "coeff": -1
                            },
                            "weight": 1
                        },
                        {
                            "id1": "Id58",
                            "id2": "Id57",
                            "value": 1,
                            "layout": {
                                "length": -1,
                                "weight": 1,
                                "coeff": -1
                            },
                            "weight": 1
                        },
                        {
                            "id1": "Id59",
                            "id2": "Id57",
                            "value": 2,
                            "layout": {
                                "length": -1,
                                "weight": 1,
                                "coeff": -1
                            },
                            "weight": 1
                        },
                        {
                            "id1": "Id61",
                            "id2": "Id57",
                            "value": 1,
                            "layout": {
                                "length": -1,
                                "weight": 1,
                                "coeff": -1
                            },
                            "weight": 1
                        },
                        {
                            "id1": "Id62",
                            "id2": "Id57",
                            "value": 2,
                            "layout": {
                                "length": -1,
                                "weight": 1,
                                "coeff": -1
                            },
                            "weight": 1
                        },
                        {
                            "id1": "Id63",
                            "id2": "Id57",
                            "value": 2,
                            "layout": {
                                "length": -1,
                                "weight": 1,
                                "coeff": -1
                            },
                            "weight": 1
                        },
                        {
                            "id1": "Id64",
                            "id2": "Id57",
                            "value": 1,
                            "layout": {
                                "length": -1,
                                "weight": 1,
                                "coeff": -1
                            },
                            "weight": 1
                        },
                        {
                            "id1": "Id65",
                            "id2": "Id57",
                            "value": 1,
                            "layout": {
                                "length": -1,
                                "weight": 1,
                                "coeff": -1
                            },
                            "weight": 1
                        },
                        {
                            "id1": "Id67",
                            "id2": "Id57",
                            "value": 3,
                            "layout": {
                                "length": -1,
                                "weight": 1,
                                "coeff": -1
                            },
                            "weight": 1
                        }
                    ],
                    "force": {
                        "x": 0,
                        "y": 0,
                        "z": 0
                    },
                    "hierarchy": False,
                    "lastPosition": {
                        "x": 243.77060757898835,
                        "y": 590.4929769862914,
                        "z": 0,
                        "r": 233.976806640625,
                        "a": 258.2571846198567
                    },
                    "level": 0,
                    "mass": 4.666666666666666,
                    "metrics": {
                        "betweenness": -1,
                        "closeness": -1,
                        "degree": -1,
                        "eccentricity": -1
                    },
                    "neighbors": [
                        "Id55",
                        "Id41"
                    ],
                    "order": -1,
                    "parent": False,
                    "position": {
                        "x": 186.35808517283326,
                        "y": -11.303099530818315,
                        "z": 0
                    },
                    "prevPosition": {
                        "x": 0,
                        "y": 0,
                        "z": 0
                    },
                    "radius": 0,
                    "velocity": {
                        "x": 0,
                        "y": 0,
                        "z": 0
                    }
                },
                "nodeEdges": 11,
                "radius": 233.976806640625,
                "angle": 258.2571846198567,
                "x": 243.77060757898835,
                "y": 590.4929769862914,
                "z": 0,
                "community": 10,
                "communityColor": "rgb(255,84,159)"
            },
            {
                "id": "Id58",
                "name": "Enjolras",
                "group": 8,
                "layout": {
                    "angle": 0,
                    "children": [],
                    "displacement": {
                        "x": 0,
                        "y": 0,
                        "z": 0
                    },
                    "edges": [
                        {
                            "id1": "Id58",
                            "id2": "Id55",
                            "value": 7,
                            "layout": {
                                "length": -1,
                                "weight": 1,
                                "coeff": -1
                            },
                            "weight": 1
                        },
                        {
                            "id1": "Id58",
                            "id2": "Id48",
                            "value": 7,
                            "layout": {
                                "length": -1,
                                "weight": 1,
                                "coeff": -1
                            },
                            "weight": 1
                        },
                        {
                            "id1": "Id58",
                            "id2": "Id27",
                            "value": 6,
                            "layout": {
                                "length": -1,
                                "weight": 1,
                                "coeff": -1
                            },
                            "weight": 1
                        },
                        {
                            "id1": "Id58",
                            "id2": "Id57",
                            "value": 1,
                            "layout": {
                                "length": -1,
                                "weight": 1,
                                "coeff": -1
                            },
                            "weight": 1
                        },
                        {
                            "id1": "Id58",
                            "id2": "Id11",
                            "value": 4,
                            "layout": {
                                "length": -1,
                                "weight": 1,
                                "coeff": -1
                            },
                            "weight": 1
                        },
                        {
                            "id1": "Id59",
                            "id2": "Id58",
                            "value": 15,
                            "layout": {
                                "length": -1,
                                "weight": 1,
                                "coeff": -1
                            },
                            "weight": 1
                        },
                        {
                            "id1": "Id60",
                            "id2": "Id58",
                            "value": 4,
                            "layout": {
                                "length": -1,
                                "weight": 1,
                                "coeff": -1
                            },
                            "weight": 1
                        },
                        {
                            "id1": "Id61",
                            "id2": "Id58",
                            "value": 6,
                            "layout": {
                                "length": -1,
                                "weight": 1,
                                "coeff": -1
                            },
                            "weight": 1
                        },
                        {
                            "id1": "Id62",
                            "id2": "Id58",
                            "value": 17,
                            "layout": {
                                "length": -1,
                                "weight": 1,
                                "coeff": -1
                            },
                            "weight": 1
                        },
                        {
                            "id1": "Id63",
                            "id2": "Id58",
                            "value": 4,
                            "layout": {
                                "length": -1,
                                "weight": 1,
                                "coeff": -1
                            },
                            "weight": 1
                        },
                        {
                            "id1": "Id64",
                            "id2": "Id58",
                            "value": 10,
                            "layout": {
                                "length": -1,
                                "weight": 1,
                                "coeff": -1
                            },
                            "weight": 1
                        },
                        {
                            "id1": "Id65",
                            "id2": "Id58",
                            "value": 5,
                            "layout": {
                                "length": -1,
                                "weight": 1,
                                "coeff": -1
                            },
                            "weight": 1
                        },
                        {
                            "id1": "Id66",
                            "id2": "Id58",
                            "value": 3,
                            "layout": {
                                "length": -1,
                                "weight": 1,
                                "coeff": -1
                            },
                            "weight": 1
                        },
                        {
                            "id1": "Id70",
                            "id2": "Id58",
                            "value": 1,
                            "layout": {
                                "length": -1,
                                "weight": 1,
                                "coeff": -1
                            },
                            "weight": 1
                        },
                        {
                            "id1": "Id76",
                            "id2": "Id58",
                            "value": 1,
                            "layout": {
                                "length": -1,
                                "weight": 1,
                                "coeff": -1
                            },
                            "weight": 1
                        }
                    ],
                    "force": {
                        "x": 0,
                        "y": 0,
                        "z": 0
                    },
                    "hierarchy": False,
                    "lastPosition": {
                        "x": 235.81096444162876,
                        "y": 644.3391478252553,
                        "z": 0,
                        "r": 233.976806640625,
                        "a": 264.92546174412536
                    },
                    "level": 0,
                    "mass": 6,
                    "metrics": {
                        "betweenness": -1,
                        "closeness": -1,
                        "degree": -1,
                        "eccentricity": -1
                    },
                    "neighbors": [
                        "Id55",
                        "Id48"
                    ],
                    "order": -1,
                    "parent": False,
                    "position": {
                        "x": 213.28117059231536,
                        "y": -15.282921099498111,
                        "z": 0
                    },
                    "prevPosition": {
                        "x": 0,
                        "y": 0,
                        "z": 0
                    },
                    "radius": 0,
                    "velocity": {
                        "x": 0,
                        "y": 0,
                        "z": 0
                    }
                },
                "nodeEdges": 15,
                "radius": 233.976806640625,
                "angle": 264.92546174412536,
                "x": 235.81096444162876,
                "y": 644.3391478252553,
                "z": 0,
                "community": 10,
                "communityColor": "rgb(255,84,159)"
            },
            {
                "id": "Id59",
                "name": "Combeferre",
                "group": 8,
                "layout": {
                    "angle": 0,
                    "children": [],
                    "displacement": {
                        "x": 0,
                        "y": 0,
                        "z": 0
                    },
                    "edges": [
                        {
                            "id1": "Id59",
                            "id2": "Id58",
                            "value": 15,
                            "layout": {
                                "length": -1,
                                "weight": 1,
                                "coeff": -1
                            },
                            "weight": 1
                        },
                        {
                            "id1": "Id59",
                            "id2": "Id55",
                            "value": 5,
                            "layout": {
                                "length": -1,
                                "weight": 1,
                                "coeff": -1
                            },
                            "weight": 1
                        },
                        {
                            "id1": "Id59",
                            "id2": "Id48",
                            "value": 6,
                            "layout": {
                                "length": -1,
                                "weight": 1,
                                "coeff": -1
                            },
                            "weight": 1
                        },
                        {
                            "id1": "Id59",
                            "id2": "Id57",
                            "value": 2,
                            "layout": {
                                "length": -1,
                                "weight": 1,
                                "coeff": -1
                            },
                            "weight": 1
                        },
                        {
                            "id1": "Id60",
                            "id2": "Id59",
                            "value": 2,
                            "layout": {
                                "length": -1,
                                "weight": 1,
                                "coeff": -1
                            },
                            "weight": 1
                        },
                        {
                            "id1": "Id61",
                            "id2": "Id59",
                            "value": 5,
                            "layout": {
                                "length": -1,
                                "weight": 1,
                                "coeff": -1
                            },
                            "weight": 1
                        },
                        {
                            "id1": "Id62",
                            "id2": "Id59",
                            "value": 13,
                            "layout": {
                                "length": -1,
                                "weight": 1,
                                "coeff": -1
                            },
                            "weight": 1
                        },
                        {
                            "id1": "Id63",
                            "id2": "Id59",
                            "value": 5,
                            "layout": {
                                "length": -1,
                                "weight": 1,
                                "coeff": -1
                            },
                            "weight": 1
                        },
                        {
                            "id1": "Id64",
                            "id2": "Id59",
                            "value": 9,
                            "layout": {
                                "length": -1,
                                "weight": 1,
                                "coeff": -1
                            },
                            "weight": 1
                        },
                        {
                            "id1": "Id65",
                            "id2": "Id59",
                            "value": 5,
                            "layout": {
                                "length": -1,
                                "weight": 1,
                                "coeff": -1
                            },
                            "weight": 1
                        },
                        {
                            "id1": "Id66",
                            "id2": "Id59",
                            "value": 1,
                            "layout": {
                                "length": -1,
                                "weight": 1,
                                "coeff": -1
                            },
                            "weight": 1
                        }
                    ],
                    "force": {
                        "x": 0,
                        "y": 0,
                        "z": 0
                    },
                    "hierarchy": False,
                    "lastPosition": {
                        "x": 234.1578296877408,
                        "y": 698.745334774705,
                        "z": 0,
                        "r": 233.976806640625,
                        "a": 271.5937388683939
                    },
                    "level": 0,
                    "mass": 4.666666666666666,
                    "metrics": {
                        "betweenness": -1,
                        "closeness": -1,
                        "degree": -1,
                        "eccentricity": -1
                    },
                    "neighbors": [
                        "Id58",
                        "Id55"
                    ],
                    "order": -1,
                    "parent": False,
                    "position": {
                        "x": 240.48426406704004,
                        "y": -16.109488476442095,
                        "z": 0
                    },
                    "prevPosition": {
                        "x": 0,
                        "y": 0,
                        "z": 0
                    },
                    "radius": 0,
                    "velocity": {
                        "x": 0,
                        "y": 0,
                        "z": 0
                    }
                },
                "nodeEdges": 11,
                "radius": 233.976806640625,
                "angle": 271.5937388683939,
                "x": 234.1578296877408,
                "y": 698.745334774705,
                "z": 0,
                "community": 10,
                "communityColor": "rgb(255,84,159)"
            },
            {
                "id": "Id60",
                "name": "Prouvaire",
                "group": 8,
                "layout": {
                    "angle": 0,
                    "children": [],
                    "displacement": {
                        "x": 0,
                        "y": 0,
                        "z": 0
                    },
                    "edges": [
                        {
                            "id1": "Id60",
                            "id2": "Id48",
                            "value": 1,
                            "layout": {
                                "length": -1,
                                "weight": 1,
                                "coeff": -1
                            },
                            "weight": 1
                        },
                        {
                            "id1": "Id60",
                            "id2": "Id58",
                            "value": 4,
                            "layout": {
                                "length": -1,
                                "weight": 1,
                                "coeff": -1
                            },
                            "weight": 1
                        },
                        {
                            "id1": "Id60",
                            "id2": "Id59",
                            "value": 2,
                            "layout": {
                                "length": -1,
                                "weight": 1,
                                "coeff": -1
                            },
                            "weight": 1
                        },
                        {
                            "id1": "Id61",
                            "id2": "Id60",
                            "value": 2,
                            "layout": {
                                "length": -1,
                                "weight": 1,
                                "coeff": -1
                            },
                            "weight": 1
                        },
                        {
                            "id1": "Id62",
                            "id2": "Id60",
                            "value": 3,
                            "layout": {
                                "length": -1,
                                "weight": 1,
                                "coeff": -1
                            },
                            "weight": 1
                        },
                        {
                            "id1": "Id63",
                            "id2": "Id60",
                            "value": 2,
                            "layout": {
                                "length": -1,
                                "weight": 1,
                                "coeff": -1
                            },
                            "weight": 1
                        },
                        {
                            "id1": "Id64",
                            "id2": "Id60",
                            "value": 2,
                            "layout": {
                                "length": -1,
                                "weight": 1,
                                "coeff": -1
                            },
                            "weight": 1
                        },
                        {
                            "id1": "Id65",
                            "id2": "Id60",
                            "value": 2,
                            "layout": {
                                "length": -1,
                                "weight": 1,
                                "coeff": -1
                            },
                            "weight": 1
                        },
                        {
                            "id1": "Id66",
                            "id2": "Id60",
                            "value": 1,
                            "layout": {
                                "length": -1,
                                "weight": 1,
                                "coeff": -1
                            },
                            "weight": 1
                        }
                    ],
                    "force": {
                        "x": 0,
                        "y": 0,
                        "z": 0
                    },
                    "hierarchy": False,
                    "lastPosition": {
                        "x": 237.52186553351004,
                        "y": 743.2219740310376,
                        "z": 0,
                        "r": 233.976806640625,
                        "a": 277.0570388597957
                    },
                    "level": 0,
                    "mass": 4,
                    "metrics": {
                        "betweenness": -1,
                        "closeness": -1,
                        "degree": -1,
                        "eccentricity": -1
                    },
                    "neighbors": [
                        "Id48",
                        "Id58"
                    ],
                    "order": -1,
                    "parent": False,
                    "position": {
                        "x": 262.7225836952063,
                        "y": -14.42747055355747,
                        "z": 0
                    },
                    "prevPosition": {
                        "x": 0,
                        "y": 0,
                        "z": 0
                    },
                    "radius": 0,
                    "velocity": {
                        "x": 0,
                        "y": 0,
                        "z": 0
                    }
                },
                "nodeEdges": 9,
                "radius": 233.976806640625,
                "angle": 277.0570388597957,
                "x": 237.52186553351004,
                "y": 743.2219740310376,
                "z": 0,
                "community": 10,
                "communityColor": "rgb(255,84,159)"
            },
            {
                "id": "Id61",
                "name": "Feuilly",
                "group": 8,
                "layout": {
                    "angle": 0,
                    "children": [],
                    "displacement": {
                        "x": 0,
                        "y": 0,
                        "z": 0
                    },
                    "edges": [
                        {
                            "id1": "Id61",
                            "id2": "Id48",
                            "value": 2,
                            "layout": {
                                "length": -1,
                                "weight": 1,
                                "coeff": -1
                            },
                            "weight": 1
                        },
                        {
                            "id1": "Id61",
                            "id2": "Id58",
                            "value": 6,
                            "layout": {
                                "length": -1,
                                "weight": 1,
                                "coeff": -1
                            },
                            "weight": 1
                        },
                        {
                            "id1": "Id61",
                            "id2": "Id60",
                            "value": 2,
                            "layout": {
                                "length": -1,
                                "weight": 1,
                                "coeff": -1
                            },
                            "weight": 1
                        },
                        {
                            "id1": "Id61",
                            "id2": "Id59",
                            "value": 5,
                            "layout": {
                                "length": -1,
                                "weight": 1,
                                "coeff": -1
                            },
                            "weight": 1
                        },
                        {
                            "id1": "Id61",
                            "id2": "Id57",
                            "value": 1,
                            "layout": {
                                "length": -1,
                                "weight": 1,
                                "coeff": -1
                            },
                            "weight": 1
                        },
                        {
                            "id1": "Id61",
                            "id2": "Id55",
                            "value": 1,
                            "layout": {
                                "length": -1,
                                "weight": 1,
                                "coeff": -1
                            },
                            "weight": 1
                        },
                        {
                            "id1": "Id62",
                            "id2": "Id61",
                            "value": 6,
                            "layout": {
                                "length": -1,
                                "weight": 1,
                                "coeff": -1
                            },
                            "weight": 1
                        },
                        {
                            "id1": "Id63",
                            "id2": "Id61",
                            "value": 3,
                            "layout": {
                                "length": -1,
                                "weight": 1,
                                "coeff": -1
                            },
                            "weight": 1
                        },
                        {
                            "id1": "Id64",
                            "id2": "Id61",
                            "value": 6,
                            "layout": {
                                "length": -1,
                                "weight": 1,
                                "coeff": -1
                            },
                            "weight": 1
                        },
                        {
                            "id1": "Id65",
                            "id2": "Id61",
                            "value": 5,
                            "layout": {
                                "length": -1,
                                "weight": 1,
                                "coeff": -1
                            },
                            "weight": 1
                        },
                        {
                            "id1": "Id66",
                            "id2": "Id61",
                            "value": 1,
                            "layout": {
                                "length": -1,
                                "weight": 1,
                                "coeff": -1
                            },
                            "weight": 1
                        }
                    ],
                    "force": {
                        "x": 0,
                        "y": 0,
                        "z": 0
                    },
                    "hierarchy": False,
                    "lastPosition": {
                        "x": 245.10515822145857,
                        "y": 787.1762895042475,
                        "z": 0,
                        "r": 233.976806640625,
                        "a": 282.52033885119744
                    },
                    "level": 0,
                    "mass": 4.666666666666666,
                    "metrics": {
                        "betweenness": -1,
                        "closeness": -1,
                        "degree": -1,
                        "eccentricity": -1
                    },
                    "neighbors": [
                        "Id48",
                        "Id58"
                    ],
                    "order": -1,
                    "parent": False,
                    "position": {
                        "x": 284.6997414318113,
                        "y": -10.635824209583205,
                        "z": 0
                    },
                    "prevPosition": {
                        "x": 0,
                        "y": 0,
                        "z": 0
                    },
                    "radius": 0,
                    "velocity": {
                        "x": 0,
                        "y": 0,
                        "z": 0
                    }
                },
                "nodeEdges": 11,
                "radius": 233.976806640625,
                "angle": 282.52033885119744,
                "x": 245.10515822145857,
                "y": 787.1762895042475,
                "z": 0,
                "community": 10,
                "communityColor": "rgb(255,84,159)"
            },
            {
                "id": "Id62",
                "name": "Courfeyrac",
                "group": 8,
                "layout": {
                    "angle": 0,
                    "children": [],
                    "displacement": {
                        "x": 0,
                        "y": 0,
                        "z": 0
                    },
                    "edges": [
                        {
                            "id1": "Id62",
                            "id2": "Id55",
                            "value": 9,
                            "layout": {
                                "length": -1,
                                "weight": 1,
                                "coeff": -1
                            },
                            "weight": 1
                        },
                        {
                            "id1": "Id62",
                            "id2": "Id58",
                            "value": 17,
                            "layout": {
                                "length": -1,
                                "weight": 1,
                                "coeff": -1
                            },
                            "weight": 1
                        },
                        {
                            "id1": "Id62",
                            "id2": "Id59",
                            "value": 13,
                            "layout": {
                                "length": -1,
                                "weight": 1,
                                "coeff": -1
                            },
                            "weight": 1
                        },
                        {
                            "id1": "Id62",
                            "id2": "Id48",
                            "value": 7,
                            "layout": {
                                "length": -1,
                                "weight": 1,
                                "coeff": -1
                            },
                            "weight": 1
                        },
                        {
                            "id1": "Id62",
                            "id2": "Id57",
                            "value": 2,
                            "layout": {
                                "length": -1,
                                "weight": 1,
                                "coeff": -1
                            },
                            "weight": 1
                        },
                        {
                            "id1": "Id62",
                            "id2": "Id41",
                            "value": 1,
                            "layout": {
                                "length": -1,
                                "weight": 1,
                                "coeff": -1
                            },
                            "weight": 1
                        },
                        {
                            "id1": "Id62",
                            "id2": "Id61",
                            "value": 6,
                            "layout": {
                                "length": -1,
                                "weight": 1,
                                "coeff": -1
                            },
                            "weight": 1
                        },
                        {
                            "id1": "Id62",
                            "id2": "Id60",
                            "value": 3,
                            "layout": {
                                "length": -1,
                                "weight": 1,
                                "coeff": -1
                            },
                            "weight": 1
                        },
                        {
                            "id1": "Id63",
                            "id2": "Id62",
                            "value": 6,
                            "layout": {
                                "length": -1,
                                "weight": 1,
                                "coeff": -1
                            },
                            "weight": 1
                        },
                        {
                            "id1": "Id64",
                            "id2": "Id62",
                            "value": 12,
                            "layout": {
                                "length": -1,
                                "weight": 1,
                                "coeff": -1
                            },
                            "weight": 1
                        },
                        {
                            "id1": "Id65",
                            "id2": "Id62",
                            "value": 5,
                            "layout": {
                                "length": -1,
                                "weight": 1,
                                "coeff": -1
                            },
                            "weight": 1
                        },
                        {
                            "id1": "Id66",
                            "id2": "Id62",
                            "value": 2,
                            "layout": {
                                "length": -1,
                                "weight": 1,
                                "coeff": -1
                            },
                            "weight": 1
                        },
                        {
                            "id1": "Id76",
                            "id2": "Id62",
                            "value": 1,
                            "layout": {
                                "length": -1,
                                "weight": 1,
                                "coeff": -1
                            },
                            "weight": 1
                        }
                    ],
                    "force": {
                        "x": 0,
                        "y": 0,
                        "z": 0
                    },
                    "hierarchy": False,
                    "lastPosition": {
                        "x": 258.8113264616894,
                        "y": 836.150010381366,
                        "z": 0,
                        "r": 233.976806640625,
                        "a": 288.7501074775726
                    },
                    "level": 0,
                    "mass": 5.333333333333333,
                    "metrics": {
                        "betweenness": -1,
                        "closeness": -1,
                        "degree": -1,
                        "eccentricity": -1
                    },
                    "neighbors": [
                        "Id55",
                        "Id58"
                    ],
                    "order": -1,
                    "parent": False,
                    "position": {
                        "x": 309.1866018703703,
                        "y": -3.7827400894678647,
                        "z": 0
                    },
                    "prevPosition": {
                        "x": 0,
                        "y": 0,
                        "z": 0
                    },
                    "radius": 0,
                    "velocity": {
                        "x": 0,
                        "y": 0,
                        "z": 0
                    }
                },
                "nodeEdges": 13,
                "radius": 233.976806640625,
                "angle": 288.7501074775726,
                "x": 258.8113264616894,
                "y": 836.150010381366,
                "z": 0,
                "community": 10,
                "communityColor": "rgb(255,84,159)"
            },
            {
                "id": "Id63",
                "name": "Bahorel",
                "group": 8,
                "layout": {
                    "angle": 0,
                    "children": [],
                    "displacement": {
                        "x": 0,
                        "y": 0,
                        "z": 0
                    },
                    "edges": [
                        {
                            "id1": "Id63",
                            "id2": "Id59",
                            "value": 5,
                            "layout": {
                                "length": -1,
                                "weight": 1,
                                "coeff": -1
                            },
                            "weight": 1
                        },
                        {
                            "id1": "Id63",
                            "id2": "Id48",
                            "value": 5,
                            "layout": {
                                "length": -1,
                                "weight": 1,
                                "coeff": -1
                            },
                            "weight": 1
                        },
                        {
                            "id1": "Id63",
                            "id2": "Id62",
                            "value": 6,
                            "layout": {
                                "length": -1,
                                "weight": 1,
                                "coeff": -1
                            },
                            "weight": 1
                        },
                        {
                            "id1": "Id63",
                            "id2": "Id57",
                            "value": 2,
                            "layout": {
                                "length": -1,
                                "weight": 1,
                                "coeff": -1
                            },
                            "weight": 1
                        },
                        {
                            "id1": "Id63",
                            "id2": "Id58",
                            "value": 4,
                            "layout": {
                                "length": -1,
                                "weight": 1,
                                "coeff": -1
                            },
                            "weight": 1
                        },
                        {
                            "id1": "Id63",
                            "id2": "Id61",
                            "value": 3,
                            "layout": {
                                "length": -1,
                                "weight": 1,
                                "coeff": -1
                            },
                            "weight": 1
                        },
                        {
                            "id1": "Id63",
                            "id2": "Id60",
                            "value": 2,
                            "layout": {
                                "length": -1,
                                "weight": 1,
                                "coeff": -1
                            },
                            "weight": 1
                        },
                        {
                            "id1": "Id63",
                            "id2": "Id55",
                            "value": 1,
                            "layout": {
                                "length": -1,
                                "weight": 1,
                                "coeff": -1
                            },
                            "weight": 1
                        },
                        {
                            "id1": "Id64",
                            "id2": "Id63",
                            "value": 4,
                            "layout": {
                                "length": -1,
                                "weight": 1,
                                "coeff": -1
                            },
                            "weight": 1
                        },
                        {
                            "id1": "Id65",
                            "id2": "Id63",
                            "value": 5,
                            "layout": {
                                "length": -1,
                                "weight": 1,
                                "coeff": -1
                            },
                            "weight": 1
                        },
                        {
                            "id1": "Id66",
                            "id2": "Id63",
                            "value": 1,
                            "layout": {
                                "length": -1,
                                "weight": 1,
                                "coeff": -1
                            },
                            "weight": 1
                        },
                        {
                            "id1": "Id76",
                            "id2": "Id63",
                            "value": 1,
                            "layout": {
                                "length": -1,
                                "weight": 1,
                                "coeff": -1
                            },
                            "weight": 1
                        }
                    ],
                    "force": {
                        "x": 0,
                        "y": 0,
                        "z": 0
                    },
                    "hierarchy": False,
                    "lastPosition": {
                        "x": 278.57055192551394,
                        "y": 885.0969325389176,
                        "z": 0,
                        "r": 233.976806640625,
                        "a": 295.2164495960887
                    },
                    "level": 0,
                    "mass": 5,
                    "metrics": {
                        "betweenness": -1,
                        "closeness": -1,
                        "degree": -1,
                        "eccentricity": -1
                    },
                    "neighbors": [
                        "Id59",
                        "Id48"
                    ],
                    "order": -1,
                    "parent": False,
                    "position": {
                        "x": 333.6600629491463,
                        "y": 6.096872642444481,
                        "z": 0
                    },
                    "prevPosition": {
                        "x": 0,
                        "y": 0,
                        "z": 0
                    },
                    "radius": 0,
                    "velocity": {
                        "x": 0,
                        "y": 0,
                        "z": 0
                    }
                },
                "nodeEdges": 12,
                "radius": 233.976806640625,
                "angle": 295.2164495960887,
                "x": 278.57055192551394,
                "y": 885.0969325389176,
                "z": 0,
                "community": 10,
                "communityColor": "rgb(255,84,159)"
            },
            {
                "id": "Id64",
                "name": "Bossuet",
                "group": 8,
                "layout": {
                    "angle": 0,
                    "children": [],
                    "displacement": {
                        "x": 0,
                        "y": 0,
                        "z": 0
                    },
                    "edges": [
                        {
                            "id1": "Id64",
                            "id2": "Id55",
                            "value": 5,
                            "layout": {
                                "length": -1,
                                "weight": 1,
                                "coeff": -1
                            },
                            "weight": 1
                        },
                        {
                            "id1": "Id64",
                            "id2": "Id62",
                            "value": 12,
                            "layout": {
                                "length": -1,
                                "weight": 1,
                                "coeff": -1
                            },
                            "weight": 1
                        },
                        {
                            "id1": "Id64",
                            "id2": "Id48",
                            "value": 5,
                            "layout": {
                                "length": -1,
                                "weight": 1,
                                "coeff": -1
                            },
                            "weight": 1
                        },
                        {
                            "id1": "Id64",
                            "id2": "Id63",
                            "value": 4,
                            "layout": {
                                "length": -1,
                                "weight": 1,
                                "coeff": -1
                            },
                            "weight": 1
                        },
                        {
                            "id1": "Id64",
                            "id2": "Id58",
                            "value": 10,
                            "layout": {
                                "length": -1,
                                "weight": 1,
                                "coeff": -1
                            },
                            "weight": 1
                        },
                        {
                            "id1": "Id64",
                            "id2": "Id61",
                            "value": 6,
                            "layout": {
                                "length": -1,
                                "weight": 1,
                                "coeff": -1
                            },
                            "weight": 1
                        },
                        {
                            "id1": "Id64",
                            "id2": "Id60",
                            "value": 2,
                            "layout": {
                                "length": -1,
                                "weight": 1,
                                "coeff": -1
                            },
                            "weight": 1
                        },
                        {
                            "id1": "Id64",
                            "id2": "Id59",
                            "value": 9,
                            "layout": {
                                "length": -1,
                                "weight": 1,
                                "coeff": -1
                            },
                            "weight": 1
                        },
                        {
                            "id1": "Id64",
                            "id2": "Id57",
                            "value": 1,
                            "layout": {
                                "length": -1,
                                "weight": 1,
                                "coeff": -1
                            },
                            "weight": 1
                        },
                        {
                            "id1": "Id64",
                            "id2": "Id11",
                            "value": 1,
                            "layout": {
                                "length": -1,
                                "weight": 1,
                                "coeff": -1
                            },
                            "weight": 1
                        },
                        {
                            "id1": "Id65",
                            "id2": "Id64",
                            "value": 7,
                            "layout": {
                                "length": -1,
                                "weight": 1,
                                "coeff": -1
                            },
                            "weight": 1
                        },
                        {
                            "id1": "Id66",
                            "id2": "Id64",
                            "value": 3,
                            "layout": {
                                "length": -1,
                                "weight": 1,
                                "coeff": -1
                            },
                            "weight": 1
                        },
                        {
                            "id1": "Id76",
                            "id2": "Id64",
                            "value": 1,
                            "layout": {
                                "length": -1,
                                "weight": 1,
                                "coeff": -1
                            },
                            "weight": 1
                        }
                    ],
                    "force": {
                        "x": 0,
                        "y": 0,
                        "z": 0
                    },
                    "hierarchy": False,
                    "lastPosition": {
                        "x": 303.71645218854934,
                        "y": 931.5071887285699,
                        "z": 0,
                        "r": 233.976806640625,
                        "a": 301.6827917146048
                    },
                    "level": 0,
                    "mass": 5.333333333333333,
                    "metrics": {
                        "betweenness": -1,
                        "closeness": -1,
                        "degree": -1,
                        "eccentricity": -1
                    },
                    "neighbors": [
                        "Id55",
                        "Id62"
                    ],
                    "order": -1,
                    "parent": False,
                    "position": {
                        "x": 356.86519104397246,
                        "y": 18.66982277396218,
                        "z": 0
                    },
                    "prevPosition": {
                        "x": 0,
                        "y": 0,
                        "z": 0
                    },
                    "radius": 0,
                    "velocity": {
                        "x": 0,
                        "y": 0,
                        "z": 0
                    }
                },
                "nodeEdges": 13,
                "radius": 233.976806640625,
                "angle": 301.6827917146048,
                "x": 303.71645218854934,
                "y": 931.5071887285699,
                "z": 0,
                "community": 10,
                "communityColor": "rgb(255,84,159)"
            },
            {
                "id": "Id65",
                "name": "Joly",
                "group": 8,
                "layout": {
                    "angle": 0,
                    "children": [],
                    "displacement": {
                        "x": 0,
                        "y": 0,
                        "z": 0
                    },
                    "edges": [
                        {
                            "id1": "Id65",
                            "id2": "Id63",
                            "value": 5,
                            "layout": {
                                "length": -1,
                                "weight": 1,
                                "coeff": -1
                            },
                            "weight": 1
                        },
                        {
                            "id1": "Id65",
                            "id2": "Id64",
                            "value": 7,
                            "layout": {
                                "length": -1,
                                "weight": 1,
                                "coeff": -1
                            },
                            "weight": 1
                        },
                        {
                            "id1": "Id65",
                            "id2": "Id48",
                            "value": 3,
                            "layout": {
                                "length": -1,
                                "weight": 1,
                                "coeff": -1
                            },
                            "weight": 1
                        },
                        {
                            "id1": "Id65",
                            "id2": "Id62",
                            "value": 5,
                            "layout": {
                                "length": -1,
                                "weight": 1,
                                "coeff": -1
                            },
                            "weight": 1
                        },
                        {
                            "id1": "Id65",
                            "id2": "Id58",
                            "value": 5,
                            "layout": {
                                "length": -1,
                                "weight": 1,
                                "coeff": -1
                            },
                            "weight": 1
                        },
                        {
                            "id1": "Id65",
                            "id2": "Id61",
                            "value": 5,
                            "layout": {
                                "length": -1,
                                "weight": 1,
                                "coeff": -1
                            },
                            "weight": 1
                        },
                        {
                            "id1": "Id65",
                            "id2": "Id60",
                            "value": 2,
                            "layout": {
                                "length": -1,
                                "weight": 1,
                                "coeff": -1
                            },
                            "weight": 1
                        },
                        {
                            "id1": "Id65",
                            "id2": "Id59",
                            "value": 5,
                            "layout": {
                                "length": -1,
                                "weight": 1,
                                "coeff": -1
                            },
                            "weight": 1
                        },
                        {
                            "id1": "Id65",
                            "id2": "Id57",
                            "value": 1,
                            "layout": {
                                "length": -1,
                                "weight": 1,
                                "coeff": -1
                            },
                            "weight": 1
                        },
                        {
                            "id1": "Id65",
                            "id2": "Id55",
                            "value": 2,
                            "layout": {
                                "length": -1,
                                "weight": 1,
                                "coeff": -1
                            },
                            "weight": 1
                        },
                        {
                            "id1": "Id66",
                            "id2": "Id65",
                            "value": 2,
                            "layout": {
                                "length": -1,
                                "weight": 1,
                                "coeff": -1
                            },
                            "weight": 1
                        },
                        {
                            "id1": "Id76",
                            "id2": "Id65",
                            "value": 1,
                            "layout": {
                                "length": -1,
                                "weight": 1,
                                "coeff": -1
                            },
                            "weight": 1
                        }
                    ],
                    "force": {
                        "x": 0,
                        "y": 0,
                        "z": 0
                    },
                    "hierarchy": False,
                    "lastPosition": {
                        "x": 333.92908009120436,
                        "y": 974.7902719695244,
                        "z": 0,
                        "r": 233.976806640625,
                        "a": 308.14913383312086
                    },
                    "level": 0,
                    "mass": 5,
                    "metrics": {
                        "betweenness": -1,
                        "closeness": -1,
                        "degree": -1,
                        "eccentricity": -1
                    },
                    "neighbors": [
                        "Id63",
                        "Id64"
                    ],
                    "order": -1,
                    "parent": False,
                    "position": {
                        "x": 378.5067326644497,
                        "y": 33.77613672528969,
                        "z": 0
                    },
                    "prevPosition": {
                        "x": 0,
                        "y": 0,
                        "z": 0
                    },
                    "radius": 0,
                    "velocity": {
                        "x": 0,
                        "y": 0,
                        "z": 0
                    }
                },
                "nodeEdges": 12,
                "radius": 233.976806640625,
                "angle": 308.14913383312086,
                "x": 333.92908009120436,
                "y": 974.7902719695244,
                "z": 0,
                "community": 10,
                "communityColor": "rgb(255,84,159)"
            },
            {
                "id": "Id66",
                "name": "Grantaire",
                "group": 8,
                "layout": {
                    "angle": 0,
                    "children": [],
                    "displacement": {
                        "x": 0,
                        "y": 0,
                        "z": 0
                    },
                    "edges": [
                        {
                            "id1": "Id66",
                            "id2": "Id64",
                            "value": 3,
                            "layout": {
                                "length": -1,
                                "weight": 1,
                                "coeff": -1
                            },
                            "weight": 1
                        },
                        {
                            "id1": "Id66",
                            "id2": "Id58",
                            "value": 3,
                            "layout": {
                                "length": -1,
                                "weight": 1,
                                "coeff": -1
                            },
                            "weight": 1
                        },
                        {
                            "id1": "Id66",
                            "id2": "Id59",
                            "value": 1,
                            "layout": {
                                "length": -1,
                                "weight": 1,
                                "coeff": -1
                            },
                            "weight": 1
                        },
                        {
                            "id1": "Id66",
                            "id2": "Id62",
                            "value": 2,
                            "layout": {
                                "length": -1,
                                "weight": 1,
                                "coeff": -1
                            },
                            "weight": 1
                        },
                        {
                            "id1": "Id66",
                            "id2": "Id65",
                            "value": 2,
                            "layout": {
                                "length": -1,
                                "weight": 1,
                                "coeff": -1
                            },
                            "weight": 1
                        },
                        {
                            "id1": "Id66",
                            "id2": "Id48",
                            "value": 1,
                            "layout": {
                                "length": -1,
                                "weight": 1,
                                "coeff": -1
                            },
                            "weight": 1
                        },
                        {
                            "id1": "Id66",
                            "id2": "Id63",
                            "value": 1,
                            "layout": {
                                "length": -1,
                                "weight": 1,
                                "coeff": -1
                            },
                            "weight": 1
                        },
                        {
                            "id1": "Id66",
                            "id2": "Id61",
                            "value": 1,
                            "layout": {
                                "length": -1,
                                "weight": 1,
                                "coeff": -1
                            },
                            "weight": 1
                        },
                        {
                            "id1": "Id66",
                            "id2": "Id60",
                            "value": 1,
                            "layout": {
                                "length": -1,
                                "weight": 1,
                                "coeff": -1
                            },
                            "weight": 1
                        },
                        {
                            "id1": "Id76",
                            "id2": "Id66",
                            "value": 1,
                            "layout": {
                                "length": -1,
                                "weight": 1,
                                "coeff": -1
                            },
                            "weight": 1
                        }
                    ],
                    "force": {
                        "x": 0,
                        "y": 0,
                        "z": 0
                    },
                    "hierarchy": False,
                    "lastPosition": {
                        "x": 365.6730714617903,
                        "y": 1011.1710132558517,
                        "z": 0,
                        "r": 233.976806640625,
                        "a": 314.06347113664157
                    },
                    "level": 0,
                    "mass": 4.333333333333334,
                    "metrics": {
                        "betweenness": -1,
                        "closeness": -1,
                        "degree": -1,
                        "eccentricity": -1
                    },
                    "neighbors": [
                        "Id64",
                        "Id58"
                    ],
                    "order": -1,
                    "parent": False,
                    "position": {
                        "x": 396.69710330761325,
                        "y": 49.64813241058249,
                        "z": 0
                    },
                    "prevPosition": {
                        "x": 0,
                        "y": 0,
                        "z": 0
                    },
                    "radius": 0,
                    "velocity": {
                        "x": 0,
                        "y": 0,
                        "z": 0
                    }
                },
                "nodeEdges": 10,
                "radius": 233.976806640625,
                "angle": 314.06347113664157,
                "x": 365.6730714617903,
                "y": 1011.1710132558517,
                "z": 0,
                "community": 10,
                "communityColor": "rgb(255,84,159)"
            },
            {
                "id": "Id67",
                "name": "Mother Plutarch",
                "group": 9,
                "layout": {
                    "angle": 0,
                    "children": [],
                    "displacement": {
                        "x": 0,
                        "y": 0,
                        "z": 0
                    },
                    "edges": [
                        {
                            "id1": "Id67",
                            "id2": "Id57",
                            "value": 3,
                            "layout": {
                                "length": -1,
                                "weight": 1,
                                "coeff": -1
                            },
                            "weight": 1
                        }
                    ],
                    "force": {
                        "x": 0,
                        "y": 0,
                        "z": 0
                    },
                    "hierarchy": False,
                    "lastPosition": {
                        "x": 390.54616689966036,
                        "y": 1035.0446497390626,
                        "z": 0,
                        "r": 233.976806640625,
                        "a": 318.2856815306441
                    },
                    "level": 0,
                    "mass": 1.3333333333333333,
                    "metrics": {
                        "betweenness": -1,
                        "closeness": -1,
                        "degree": -1,
                        "eccentricity": -1
                    },
                    "neighbors": [
                        "Id57"
                    ],
                    "order": -1,
                    "parent": False,
                    "position": {
                        "x": 408.63392154921905,
                        "y": 62.084680129517835,
                        "z": 0
                    },
                    "prevPosition": {
                        "x": 0,
                        "y": 0,
                        "z": 0
                    },
                    "radius": 0,
                    "velocity": {
                        "x": 0,
                        "y": 0,
                        "z": 0
                    }
                },
                "nodeEdges": 1,
                "radius": 233.976806640625,
                "angle": 318.2856815306441,
                "x": 390.54616689966036,
                "y": 1035.0446497390626,
                "z": 0,
                "community": 10,
                "communityColor": "rgb(255,84,159)"
            },
            {
                "id": "Id68",
                "name": "Gueulemer",
                "group": 4,
                "layout": {
                    "angle": 0,
                    "children": [],
                    "displacement": {
                        "x": 0,
                        "y": 0,
                        "z": 0
                    },
                    "edges": [
                        {
                            "id1": "Id68",
                            "id2": "Id25",
                            "value": 5,
                            "layout": {
                                "length": -1,
                                "weight": 1,
                                "coeff": -1
                            },
                            "weight": 1
                        },
                        {
                            "id1": "Id68",
                            "id2": "Id11",
                            "value": 1,
                            "layout": {
                                "length": -1,
                                "weight": 1,
                                "coeff": -1
                            },
                            "weight": 1
                        },
                        {
                            "id1": "Id68",
                            "id2": "Id24",
                            "value": 1,
                            "layout": {
                                "length": -1,
                                "weight": 1,
                                "coeff": -1
                            },
                            "weight": 1
                        },
                        {
                            "id1": "Id68",
                            "id2": "Id27",
                            "value": 1,
                            "layout": {
                                "length": -1,
                                "weight": 1,
                                "coeff": -1
                            },
                            "weight": 1
                        },
                        {
                            "id1": "Id68",
                            "id2": "Id48",
                            "value": 1,
                            "layout": {
                                "length": -1,
                                "weight": 1,
                                "coeff": -1
                            },
                            "weight": 1
                        },
                        {
                            "id1": "Id68",
                            "id2": "Id41",
                            "value": 1,
                            "layout": {
                                "length": -1,
                                "weight": 1,
                                "coeff": -1
                            },
                            "weight": 1
                        },
                        {
                            "id1": "Id69",
                            "id2": "Id68",
                            "value": 6,
                            "layout": {
                                "length": -1,
                                "weight": 1,
                                "coeff": -1
                            },
                            "weight": 1
                        },
                        {
                            "id1": "Id70",
                            "id2": "Id68",
                            "value": 4,
                            "layout": {
                                "length": -1,
                                "weight": 1,
                                "coeff": -1
                            },
                            "weight": 1
                        },
                        {
                            "id1": "Id71",
                            "id2": "Id68",
                            "value": 2,
                            "layout": {
                                "length": -1,
                                "weight": 1,
                                "coeff": -1
                            },
                            "weight": 1
                        },
                        {
                            "id1": "Id75",
                            "id2": "Id68",
                            "value": 3,
                            "layout": {
                                "length": -1,
                                "weight": 1,
                                "coeff": -1
                            },
                            "weight": 1
                        }
                    ],
                    "force": {
                        "x": 0,
                        "y": 0,
                        "z": 0
                    },
                    "hierarchy": False,
                    "lastPosition": {
                        "x": 417.1094486468516,
                        "y": 1057.0222169022688,
                        "z": 0,
                        "r": 233.976806640625,
                        "a": 322.50789192464663
                    },
                    "level": 0,
                    "mass": 4.333333333333334,
                    "metrics": {
                        "betweenness": -1,
                        "closeness": -1,
                        "degree": -1,
                        "eccentricity": -1
                    },
                    "neighbors": [
                        "Id25",
                        "Id11"
                    ],
                    "order": -1,
                    "parent": False,
                    "position": {
                        "x": 419.62270513082194,
                        "y": 75.36632100311331,
                        "z": 0
                    },
                    "prevPosition": {
                        "x": 0,
                        "y": 0,
                        "z": 0
                    },
                    "radius": 0,
                    "velocity": {
                        "x": 0,
                        "y": 0,
                        "z": 0
                    }
                },
                "nodeEdges": 10,
                "radius": 233.976806640625,
                "angle": 322.50789192464663,
                "x": 417.1094486468516,
                "y": 1057.0222169022688,
                "z": 0,
                "community": 3,
                "communityColor": "rgb(248,204,3)"
            },
            {
                "id": "Id69",
                "name": "Babet",
                "group": 4,
                "layout": {
                    "angle": 0,
                    "children": [],
                    "displacement": {
                        "x": 0,
                        "y": 0,
                        "z": 0
                    },
                    "edges": [
                        {
                            "id1": "Id69",
                            "id2": "Id25",
                            "value": 6,
                            "layout": {
                                "length": -1,
                                "weight": 1,
                                "coeff": -1
                            },
                            "weight": 1
                        },
                        {
                            "id1": "Id69",
                            "id2": "Id68",
                            "value": 6,
                            "layout": {
                                "length": -1,
                                "weight": 1,
                                "coeff": -1
                            },
                            "weight": 1
                        },
                        {
                            "id1": "Id69",
                            "id2": "Id11",
                            "value": 1,
                            "layout": {
                                "length": -1,
                                "weight": 1,
                                "coeff": -1
                            },
                            "weight": 1
                        },
                        {
                            "id1": "Id69",
                            "id2": "Id24",
                            "value": 1,
                            "layout": {
                                "length": -1,
                                "weight": 1,
                                "coeff": -1
                            },
                            "weight": 1
                        },
                        {
                            "id1": "Id69",
                            "id2": "Id27",
                            "value": 2,
                            "layout": {
                                "length": -1,
                                "weight": 1,
                                "coeff": -1
                            },
                            "weight": 1
                        },
                        {
                            "id1": "Id69",
                            "id2": "Id48",
                            "value": 1,
                            "layout": {
                                "length": -1,
                                "weight": 1,
                                "coeff": -1
                            },
                            "weight": 1
                        },
                        {
                            "id1": "Id69",
                            "id2": "Id41",
                            "value": 1,
                            "layout": {
                                "length": -1,
                                "weight": 1,
                                "coeff": -1
                            },
                            "weight": 1
                        },
                        {
                            "id1": "Id70",
                            "id2": "Id69",
                            "value": 4,
                            "layout": {
                                "length": -1,
                                "weight": 1,
                                "coeff": -1
                            },
                            "weight": 1
                        },
                        {
                            "id1": "Id71",
                            "id2": "Id69",
                            "value": 2,
                            "layout": {
                                "length": -1,
                                "weight": 1,
                                "coeff": -1
                            },
                            "weight": 1
                        },
                        {
                            "id1": "Id75",
                            "id2": "Id69",
                            "value": 3,
                            "layout": {
                                "length": -1,
                                "weight": 1,
                                "coeff": -1
                            },
                            "weight": 1
                        }
                    ],
                    "force": {
                        "x": 0,
                        "y": 0,
                        "z": 0
                    },
                    "hierarchy": False,
                    "lastPosition": {
                        "x": 454.1973996026252,
                        "y": 1082.7303378393474,
                        "z": 0,
                        "r": 233.976806640625,
                        "a": 328.0353099653202
                    },
                    "level": 0,
                    "mass": 4.333333333333334,
                    "metrics": {
                        "betweenness": -1,
                        "closeness": -1,
                        "degree": -1,
                        "eccentricity": -1
                    },
                    "neighbors": [
                        "Id25",
                        "Id68"
                    ],
                    "order": -1,
                    "parent": False,
                    "position": {
                        "x": 432.4767655993612,
                        "y": 93.9102964810001,
                        "z": 0
                    },
                    "prevPosition": {
                        "x": 0,
                        "y": 0,
                        "z": 0
                    },
                    "radius": 0,
                    "velocity": {
                        "x": 0,
                        "y": 0,
                        "z": 0
                    }
                },
                "nodeEdges": 10,
                "radius": 233.976806640625,
                "angle": 328.0353099653202,
                "x": 454.1973996026252,
                "y": 1082.7303378393474,
                "z": 0,
                "community": 3,
                "communityColor": "rgb(248,204,3)"
            },
            {
                "id": "Id70",
                "name": "Claquesous",
                "group": 4,
                "layout": {
                    "angle": 0,
                    "children": [],
                    "displacement": {
                        "x": 0,
                        "y": 0,
                        "z": 0
                    },
                    "edges": [
                        {
                            "id1": "Id70",
                            "id2": "Id25",
                            "value": 4,
                            "layout": {
                                "length": -1,
                                "weight": 1,
                                "coeff": -1
                            },
                            "weight": 1
                        },
                        {
                            "id1": "Id70",
                            "id2": "Id69",
                            "value": 4,
                            "layout": {
                                "length": -1,
                                "weight": 1,
                                "coeff": -1
                            },
                            "weight": 1
                        },
                        {
                            "id1": "Id70",
                            "id2": "Id68",
                            "value": 4,
                            "layout": {
                                "length": -1,
                                "weight": 1,
                                "coeff": -1
                            },
                            "weight": 1
                        },
                        {
                            "id1": "Id70",
                            "id2": "Id11",
                            "value": 1,
                            "layout": {
                                "length": -1,
                                "weight": 1,
                                "coeff": -1
                            },
                            "weight": 1
                        },
                        {
                            "id1": "Id70",
                            "id2": "Id24",
                            "value": 1,
                            "layout": {
                                "length": -1,
                                "weight": 1,
                                "coeff": -1
                            },
                            "weight": 1
                        },
                        {
                            "id1": "Id70",
                            "id2": "Id27",
                            "value": 1,
                            "layout": {
                                "length": -1,
                                "weight": 1,
                                "coeff": -1
                            },
                            "weight": 1
                        },
                        {
                            "id1": "Id70",
                            "id2": "Id41",
                            "value": 1,
                            "layout": {
                                "length": -1,
                                "weight": 1,
                                "coeff": -1
                            },
                            "weight": 1
                        },
                        {
                            "id1": "Id70",
                            "id2": "Id58",
                            "value": 1,
                            "layout": {
                                "length": -1,
                                "weight": 1,
                                "coeff": -1
                            },
                            "weight": 1
                        },
                        {
                            "id1": "Id71",
                            "id2": "Id70",
                            "value": 2,
                            "layout": {
                                "length": -1,
                                "weight": 1,
                                "coeff": -1
                            },
                            "weight": 1
                        },
                        {
                            "id1": "Id75",
                            "id2": "Id70",
                            "value": 1,
                            "layout": {
                                "length": -1,
                                "weight": 1,
                                "coeff": -1
                            },
                            "weight": 1
                        }
                    ],
                    "force": {
                        "x": 0,
                        "y": 0,
                        "z": 0
                    },
                    "hierarchy": False,
                    "lastPosition": {
                        "x": 493.58915921814685,
                        "y": 1104.7465333010132,
                        "z": 0,
                        "r": 233.976806640625,
                        "a": 333.5627280059938
                    },
                    "level": 0,
                    "mass": 4.333333333333334,
                    "metrics": {
                        "betweenness": -1,
                        "closeness": -1,
                        "degree": -1,
                        "eccentricity": -1
                    },
                    "neighbors": [
                        "Id25",
                        "Id69"
                    ],
                    "order": -1,
                    "parent": False,
                    "position": {
                        "x": 443.4848633301941,
                        "y": 113.60617628876095,
                        "z": 0
                    },
                    "prevPosition": {
                        "x": 0,
                        "y": 0,
                        "z": 0
                    },
                    "radius": 0,
                    "velocity": {
                        "x": 0,
                        "y": 0,
                        "z": 0
                    }
                },
                "nodeEdges": 10,
                "radius": 233.976806640625,
                "angle": 333.5627280059938,
                "x": 493.58915921814685,
                "y": 1104.7465333010132,
                "z": 0,
                "community": 3,
                "communityColor": "rgb(248,204,3)"
            },
            {
                "id": "Id71",
                "name": "Montparnasse",
                "group": 4,
                "layout": {
                    "angle": 0,
                    "children": [],
                    "displacement": {
                        "x": 0,
                        "y": 0,
                        "z": 0
                    },
                    "edges": [
                        {
                            "id1": "Id71",
                            "id2": "Id27",
                            "value": 1,
                            "layout": {
                                "length": -1,
                                "weight": 1,
                                "coeff": -1
                            },
                            "weight": 1
                        },
                        {
                            "id1": "Id71",
                            "id2": "Id69",
                            "value": 2,
                            "layout": {
                                "length": -1,
                                "weight": 1,
                                "coeff": -1
                            },
                            "weight": 1
                        },
                        {
                            "id1": "Id71",
                            "id2": "Id68",
                            "value": 2,
                            "layout": {
                                "length": -1,
                                "weight": 1,
                                "coeff": -1
                            },
                            "weight": 1
                        },
                        {
                            "id1": "Id71",
                            "id2": "Id70",
                            "value": 2,
                            "layout": {
                                "length": -1,
                                "weight": 1,
                                "coeff": -1
                            },
                            "weight": 1
                        },
                        {
                            "id1": "Id71",
                            "id2": "Id11",
                            "value": 1,
                            "layout": {
                                "length": -1,
                                "weight": 1,
                                "coeff": -1
                            },
                            "weight": 1
                        },
                        {
                            "id1": "Id71",
                            "id2": "Id48",
                            "value": 1,
                            "layout": {
                                "length": -1,
                                "weight": 1,
                                "coeff": -1
                            },
                            "weight": 1
                        },
                        {
                            "id1": "Id71",
                            "id2": "Id41",
                            "value": 1,
                            "layout": {
                                "length": -1,
                                "weight": 1,
                                "coeff": -1
                            },
                            "weight": 1
                        },
                        {
                            "id1": "Id71",
                            "id2": "Id25",
                            "value": 1,
                            "layout": {
                                "length": -1,
                                "weight": 1,
                                "coeff": -1
                            },
                            "weight": 1
                        },
                        {
                            "id1": "Id75",
                            "id2": "Id71",
                            "value": 1,
                            "layout": {
                                "length": -1,
                                "weight": 1,
                                "coeff": -1
                            },
                            "weight": 1
                        }
                    ],
                    "force": {
                        "x": 0,
                        "y": 0,
                        "z": 0
                    },
                    "hierarchy": False,
                    "lastPosition": {
                        "x": 533.283332846308,
                        "y": 1122.2378588091221,
                        "z": 0,
                        "r": 233.976806640625,
                        "a": 338.87568222668915
                    },
                    "level": 0,
                    "mass": 4,
                    "metrics": {
                        "betweenness": -1,
                        "closeness": -1,
                        "degree": -1,
                        "eccentricity": -1
                    },
                    "neighbors": [
                        "Id27",
                        "Id69"
                    ],
                    "order": -1,
                    "parent": False,
                    "position": {
                        "x": 452.2305260842485,
                        "y": 133.45326310284128,
                        "z": 0
                    },
                    "prevPosition": {
                        "x": 0,
                        "y": 0,
                        "z": 0
                    },
                    "radius": 0,
                    "velocity": {
                        "x": 0,
                        "y": 0,
                        "z": 0
                    }
                },
                "nodeEdges": 9,
                "radius": 233.976806640625,
                "angle": 338.87568222668915,
                "x": 533.283332846308,
                "y": 1122.2378588091221,
                "z": 0,
                "community": 3,
                "communityColor": "rgb(248,204,3)"
            },
            {
                "id": "Id72",
                "name": "Toussaint",
                "group": 5,
                "layout": {
                    "angle": 0,
                    "children": [],
                    "displacement": {
                        "x": 0,
                        "y": 0,
                        "z": 0
                    },
                    "edges": [
                        {
                            "id1": "Id72",
                            "id2": "Id26",
                            "value": 2,
                            "layout": {
                                "length": -1,
                                "weight": 1,
                                "coeff": -1
                            },
                            "weight": 1
                        },
                        {
                            "id1": "Id72",
                            "id2": "Id27",
                            "value": 1,
                            "layout": {
                                "length": -1,
                                "weight": 1,
                                "coeff": -1
                            },
                            "weight": 1
                        },
                        {
                            "id1": "Id72",
                            "id2": "Id11",
                            "value": 1,
                            "layout": {
                                "length": -1,
                                "weight": 1,
                                "coeff": -1
                            },
                            "weight": 1
                        }
                    ],
                    "force": {
                        "x": 0,
                        "y": 0,
                        "z": 0
                    },
                    "hierarchy": False,
                    "lastPosition": {
                        "x": 565.9018468376697,
                        "y": 1133.4767895192763,
                        "z": 0,
                        "r": 233.976806640625,
                        "a": 343.1008405769801
                    },
                    "level": 0,
                    "mass": 2,
                    "metrics": {
                        "betweenness": -1,
                        "closeness": -1,
                        "degree": -1,
                        "eccentricity": -1
                    },
                    "neighbors": [
                        "Id26",
                        "Id27"
                    ],
                    "order": -1,
                    "parent": False,
                    "position": {
                        "x": 457.84999143932566,
                        "y": 149.76252009852237,
                        "z": 0
                    },
                    "prevPosition": {
                        "x": 0,
                        "y": 0,
                        "z": 0
                    },
                    "radius": 0,
                    "velocity": {
                        "x": 0,
                        "y": 0,
                        "z": 0
                    }
                },
                "nodeEdges": 3,
                "radius": 233.976806640625,
                "angle": 343.1008405769801,
                "x": 565.9018468376697,
                "y": 1133.4767895192763,
                "z": 0,
                "community": 1,
                "communityColor": "rgb(72,126,182)"
            },
            {
                "id": "Id73",
                "name": "Child 1",
                "group": 10,
                "layout": {
                    "angle": 0,
                    "children": [],
                    "displacement": {
                        "x": 0,
                        "y": 0,
                        "z": 0
                    },
                    "edges": [
                        {
                            "id1": "Id73",
                            "id2": "Id48",
                            "value": 2,
                            "layout": {
                                "length": -1,
                                "weight": 1,
                                "coeff": -1
                            },
                            "weight": 1
                        },
                        {
                            "id1": "Id74",
                            "id2": "Id73",
                            "value": 3,
                            "layout": {
                                "length": -1,
                                "weight": 1,
                                "coeff": -1
                            },
                            "weight": 1
                        }
                    ],
                    "force": {
                        "x": 0,
                        "y": 0,
                        "z": 0
                    },
                    "hierarchy": False,
                    "lastPosition": {
                        "x": 591.5874734104398,
                        "y": 1140.488617580974,
                        "z": 0,
                        "r": 233.976806640625,
                        "a": 346.3612802319055
                    },
                    "level": 0,
                    "mass": 1.6666666666666665,
                    "metrics": {
                        "betweenness": -1,
                        "closeness": -1,
                        "degree": -1,
                        "eccentricity": -1
                    },
                    "neighbors": [
                        "Id48"
                    ],
                    "order": -1,
                    "parent": False,
                    "position": {
                        "x": 461.35590547017455,
                        "y": 162.60533338490737,
                        "z": 0
                    },
                    "prevPosition": {
                        "x": 0,
                        "y": 0,
                        "z": 0
                    },
                    "radius": 0,
                    "velocity": {
                        "x": 0,
                        "y": 0,
                        "z": 0
                    }
                },
                "nodeEdges": 2,
                "radius": 233.976806640625,
                "angle": 346.3612802319055,
                "x": 591.5874734104398,
                "y": 1140.488617580974,
                "z": 0,
                "community": 11,
                "communityColor": "rgb(255,175,84)"
            },
            {
                "id": "Id74",
                "name": "Child 2",
                "group": 10,
                "layout": {
                    "angle": 0,
                    "children": [],
                    "displacement": {
                        "x": 0,
                        "y": 0,
                        "z": 0
                    },
                    "edges": [
                        {
                            "id1": "Id74",
                            "id2": "Id48",
                            "value": 2,
                            "layout": {
                                "length": -1,
                                "weight": 1,
                                "coeff": -1
                            },
                            "weight": 1
                        },
                        {
                            "id1": "Id74",
                            "id2": "Id73",
                            "value": 3,
                            "layout": {
                                "length": -1,
                                "weight": 1,
                                "coeff": -1
                            },
                            "weight": 1
                        }
                    ],
                    "force": {
                        "x": 0,
                        "y": 0,
                        "z": 0
                    },
                    "hierarchy": False,
                    "lastPosition": {
                        "x": 616.8962524183618,
                        "y": 1145.8931895371081,
                        "z": 0,
                        "r": 233.976806640625,
                        "a": 349.5303332418916
                    },
                    "level": 0,
                    "mass": 1.6666666666666665,
                    "metrics": {
                        "betweenness": -1,
                        "closeness": -1,
                        "degree": -1,
                        "eccentricity": -1
                    },
                    "neighbors": [
                        "Id48",
                        "Id73"
                    ],
                    "order": -1,
                    "parent": False,
                    "position": {
                        "x": 464.0581914482416,
                        "y": 175.25972288886842,
                        "z": 0
                    },
                    "prevPosition": {
                        "x": 0,
                        "y": 0,
                        "z": 0
                    },
                    "radius": 0,
                    "velocity": {
                        "x": 0,
                        "y": 0,
                        "z": 0
                    }
                },
                "nodeEdges": 2,
                "radius": 233.976806640625,
                "angle": 349.5303332418916,
                "x": 616.8962524183618,
                "y": 1145.8931895371081,
                "z": 0,
                "community": 11,
                "communityColor": "rgb(255,175,84)"
            },
            {
                "id": "Id75",
                "name": "Brujon",
                "group": 4,
                "layout": {
                    "angle": 0,
                    "children": [],
                    "displacement": {
                        "x": 0,
                        "y": 0,
                        "z": 0
                    },
                    "edges": [
                        {
                            "id1": "Id75",
                            "id2": "Id69",
                            "value": 3,
                            "layout": {
                                "length": -1,
                                "weight": 1,
                                "coeff": -1
                            },
                            "weight": 1
                        },
                        {
                            "id1": "Id75",
                            "id2": "Id68",
                            "value": 3,
                            "layout": {
                                "length": -1,
                                "weight": 1,
                                "coeff": -1
                            },
                            "weight": 1
                        },
                        {
                            "id1": "Id75",
                            "id2": "Id25",
                            "value": 3,
                            "layout": {
                                "length": -1,
                                "weight": 1,
                                "coeff": -1
                            },
                            "weight": 1
                        },
                        {
                            "id1": "Id75",
                            "id2": "Id48",
                            "value": 1,
                            "layout": {
                                "length": -1,
                                "weight": 1,
                                "coeff": -1
                            },
                            "weight": 1
                        },
                        {
                            "id1": "Id75",
                            "id2": "Id41",
                            "value": 1,
                            "layout": {
                                "length": -1,
                                "weight": 1,
                                "coeff": -1
                            },
                            "weight": 1
                        },
                        {
                            "id1": "Id75",
                            "id2": "Id70",
                            "value": 1,
                            "layout": {
                                "length": -1,
                                "weight": 1,
                                "coeff": -1
                            },
                            "weight": 1
                        },
                        {
                            "id1": "Id75",
                            "id2": "Id71",
                            "value": 1,
                            "layout": {
                                "length": -1,
                                "weight": 1,
                                "coeff": -1
                            },
                            "weight": 1
                        }
                    ],
                    "force": {
                        "x": 0,
                        "y": 0,
                        "z": 0
                    },
                    "hierarchy": False,
                    "lastPosition": {
                        "x": 647.6271283461213,
                        "y": 1150.5225634731794,
                        "z": 0,
                        "r": 233.976806640625,
                        "a": 353.33614481016343
                    },
                    "level": 0,
                    "mass": 3.3333333333333335,
                    "metrics": {
                        "betweenness": -1,
                        "closeness": -1,
                        "degree": -1,
                        "eccentricity": -1
                    },
                    "neighbors": [
                        "Id69",
                        "Id68"
                    ],
                    "order": -1,
                    "parent": False,
                    "position": {
                        "x": 466.3728784162772,
                        "y": 190.62516085274817,
                        "z": 0
                    },
                    "prevPosition": {
                        "x": 0,
                        "y": 0,
                        "z": 0
                    },
                    "radius": 0,
                    "velocity": {
                        "x": 0,
                        "y": 0,
                        "z": 0
                    }
                },
                "nodeEdges": 7,
                "radius": 233.976806640625,
                "angle": 353.33614481016343,
                "x": 647.6271283461213,
                "y": 1150.5225634731794,
                "z": 0,
                "community": 3,
                "communityColor": "rgb(248,204,3)"
            },
            {
                "id": "Id76",
                "name": "Mme. Hucheloup",
                "group": 8,
                "layout": {
                    "angle": 0,
                    "children": [],
                    "displacement": {
                        "x": 0,
                        "y": 0,
                        "z": 0
                    },
                    "edges": [
                        {
                            "id1": "Id76",
                            "id2": "Id64",
                            "value": 1,
                            "layout": {
                                "length": -1,
                                "weight": 1,
                                "coeff": -1
                            },
                            "weight": 1
                        },
                        {
                            "id1": "Id76",
                            "id2": "Id65",
                            "value": 1,
                            "layout": {
                                "length": -1,
                                "weight": 1,
                                "coeff": -1
                            },
                            "weight": 1
                        },
                        {
                            "id1": "Id76",
                            "id2": "Id66",
                            "value": 1,
                            "layout": {
                                "length": -1,
                                "weight": 1,
                                "coeff": -1
                            },
                            "weight": 1
                        },
                        {
                            "id1": "Id76",
                            "id2": "Id63",
                            "value": 1,
                            "layout": {
                                "length": -1,
                                "weight": 1,
                                "coeff": -1
                            },
                            "weight": 1
                        },
                        {
                            "id1": "Id76",
                            "id2": "Id62",
                            "value": 1,
                            "layout": {
                                "length": -1,
                                "weight": 1,
                                "coeff": -1
                            },
                            "weight": 1
                        },
                        {
                            "id1": "Id76",
                            "id2": "Id48",
                            "value": 1,
                            "layout": {
                                "length": -1,
                                "weight": 1,
                                "coeff": -1
                            },
                            "weight": 1
                        },
                        {
                            "id1": "Id76",
                            "id2": "Id58",
                            "value": 1,
                            "layout": {
                                "length": -1,
                                "weight": 1,
                                "coeff": -1
                            },
                            "weight": 1
                        }
                    ],
                    "force": {
                        "x": 0,
                        "y": 0,
                        "z": 0
                    },
                    "hierarchy": False,
                    "lastPosition": {
                        "x": 683.7929931696825,
                        "y": 1153.3324065876573,
                        "z": 0,
                        "r": 233.976806640625,
                        "a": 357.77871493672086
                    },
                    "level": 0,
                    "mass": 3.3333333333333335,
                    "metrics": {
                        "betweenness": -1,
                        "closeness": -1,
                        "degree": -1,
                        "eccentricity": -1
                    },
                    "neighbors": [
                        "Id64",
                        "Id65"
                    ],
                    "order": -1,
                    "parent": False,
                    "position": {
                        "x": 467.77779997351615,
                        "y": 208.70809326452857,
                        "z": 0
                    },
                    "prevPosition": {
                        "x": 0,
                        "y": 0,
                        "z": 0
                    },
                    "radius": 0,
                    "velocity": {
                        "x": 0,
                        "y": 0,
                        "z": 0
                    }
                },
                "nodeEdges": 7,
                "radius": 233.976806640625,
                "angle": 357.77871493672086,
                "x": 683.7929931696825,
                "y": 1153.3324065876573,
                "z": 0,
                "community": 10,
                "communityColor": "rgb(255,84,159)"
            }
        ],
        "edges": [
            {
                "id1": "Id1",
                "id2": "Id0",
                "value": 1
            },
            {
                "id1": "Id2",
                "id2": "Id0",
                "value": 8
            },
            {
                "id1": "Id3",
                "id2": "Id0",
                "value": 10
            },
            {
                "id1": "Id3",
                "id2": "Id2",
                "value": 6
            },
            {
                "id1": "Id4",
                "id2": "Id0",
                "value": 1
            },
            {
                "id1": "Id5",
                "id2": "Id0",
                "value": 1
            },
            {
                "id1": "Id6",
                "id2": "Id0",
                "value": 1
            },
            {
                "id1": "Id7",
                "id2": "Id0",
                "value": 1
            },
            {
                "id1": "Id8",
                "id2": "Id0",
                "value": 2
            },
            {
                "id1": "Id9",
                "id2": "Id0",
                "value": 1
            },
            {
                "id1": "Id11",
                "id2": "Id10",
                "value": 1
            },
            {
                "id1": "Id11",
                "id2": "Id3",
                "value": 3
            },
            {
                "id1": "Id11",
                "id2": "Id2",
                "value": 3
            },
            {
                "id1": "Id11",
                "id2": "Id0",
                "value": 5
            },
            {
                "id1": "Id12",
                "id2": "Id11",
                "value": 1
            },
            {
                "id1": "Id13",
                "id2": "Id11",
                "value": 1
            },
            {
                "id1": "Id14",
                "id2": "Id11",
                "value": 1
            },
            {
                "id1": "Id15",
                "id2": "Id11",
                "value": 1
            },
            {
                "id1": "Id17",
                "id2": "Id16",
                "value": 4
            },
            {
                "id1": "Id18",
                "id2": "Id16",
                "value": 4
            },
            {
                "id1": "Id18",
                "id2": "Id17",
                "value": 4
            },
            {
                "id1": "Id19",
                "id2": "Id16",
                "value": 4
            },
            {
                "id1": "Id19",
                "id2": "Id17",
                "value": 4
            },
            {
                "id1": "Id19",
                "id2": "Id18",
                "value": 4
            },
            {
                "id1": "Id20",
                "id2": "Id16",
                "value": 3
            },
            {
                "id1": "Id20",
                "id2": "Id17",
                "value": 3
            },
            {
                "id1": "Id20",
                "id2": "Id18",
                "value": 3
            },
            {
                "id1": "Id20",
                "id2": "Id19",
                "value": 4
            },
            {
                "id1": "Id21",
                "id2": "Id16",
                "value": 3
            },
            {
                "id1": "Id21",
                "id2": "Id17",
                "value": 3
            },
            {
                "id1": "Id21",
                "id2": "Id18",
                "value": 3
            },
            {
                "id1": "Id21",
                "id2": "Id19",
                "value": 3
            },
            {
                "id1": "Id21",
                "id2": "Id20",
                "value": 5
            },
            {
                "id1": "Id22",
                "id2": "Id16",
                "value": 3
            },
            {
                "id1": "Id22",
                "id2": "Id17",
                "value": 3
            },
            {
                "id1": "Id22",
                "id2": "Id18",
                "value": 3
            },
            {
                "id1": "Id22",
                "id2": "Id19",
                "value": 3
            },
            {
                "id1": "Id22",
                "id2": "Id20",
                "value": 4
            },
            {
                "id1": "Id22",
                "id2": "Id21",
                "value": 4
            },
            {
                "id1": "Id23",
                "id2": "Id16",
                "value": 3
            },
            {
                "id1": "Id23",
                "id2": "Id17",
                "value": 3
            },
            {
                "id1": "Id23",
                "id2": "Id18",
                "value": 3
            },
            {
                "id1": "Id23",
                "id2": "Id19",
                "value": 3
            },
            {
                "id1": "Id23",
                "id2": "Id20",
                "value": 4
            },
            {
                "id1": "Id23",
                "id2": "Id21",
                "value": 4
            },
            {
                "id1": "Id23",
                "id2": "Id22",
                "value": 4
            },
            {
                "id1": "Id23",
                "id2": "Id12",
                "value": 2
            },
            {
                "id1": "Id23",
                "id2": "Id11",
                "value": 9
            },
            {
                "id1": "Id24",
                "id2": "Id23",
                "value": 2
            },
            {
                "id1": "Id24",
                "id2": "Id11",
                "value": 7
            },
            {
                "id1": "Id25",
                "id2": "Id24",
                "value": 13
            },
            {
                "id1": "Id25",
                "id2": "Id23",
                "value": 1
            },
            {
                "id1": "Id25",
                "id2": "Id11",
                "value": 12
            },
            {
                "id1": "Id26",
                "id2": "Id24",
                "value": 4
            },
            {
                "id1": "Id26",
                "id2": "Id11",
                "value": 31
            },
            {
                "id1": "Id26",
                "id2": "Id16",
                "value": 1
            },
            {
                "id1": "Id26",
                "id2": "Id25",
                "value": 1
            },
            {
                "id1": "Id27",
                "id2": "Id11",
                "value": 17
            },
            {
                "id1": "Id27",
                "id2": "Id23",
                "value": 5
            },
            {
                "id1": "Id27",
                "id2": "Id25",
                "value": 5
            },
            {
                "id1": "Id27",
                "id2": "Id24",
                "value": 1
            },
            {
                "id1": "Id27",
                "id2": "Id26",
                "value": 1
            },
            {
                "id1": "Id28",
                "id2": "Id11",
                "value": 8
            },
            {
                "id1": "Id28",
                "id2": "Id27",
                "value": 1
            },
            {
                "id1": "Id29",
                "id2": "Id23",
                "value": 1
            },
            {
                "id1": "Id29",
                "id2": "Id27",
                "value": 1
            },
            {
                "id1": "Id29",
                "id2": "Id11",
                "value": 2
            },
            {
                "id1": "Id30",
                "id2": "Id23",
                "value": 1
            },
            {
                "id1": "Id31",
                "id2": "Id30",
                "value": 2
            },
            {
                "id1": "Id31",
                "id2": "Id11",
                "value": 3
            },
            {
                "id1": "Id31",
                "id2": "Id23",
                "value": 2
            },
            {
                "id1": "Id31",
                "id2": "Id27",
                "value": 1
            },
            {
                "id1": "Id32",
                "id2": "Id11",
                "value": 1
            },
            {
                "id1": "Id33",
                "id2": "Id11",
                "value": 2
            },
            {
                "id1": "Id33",
                "id2": "Id27",
                "value": 1
            },
            {
                "id1": "Id34",
                "id2": "Id11",
                "value": 3
            },
            {
                "id1": "Id34",
                "id2": "Id29",
                "value": 2
            },
            {
                "id1": "Id35",
                "id2": "Id11",
                "value": 3
            },
            {
                "id1": "Id35",
                "id2": "Id34",
                "value": 3
            },
            {
                "id1": "Id35",
                "id2": "Id29",
                "value": 2
            },
            {
                "id1": "Id36",
                "id2": "Id34",
                "value": 2
            },
            {
                "id1": "Id36",
                "id2": "Id35",
                "value": 2
            },
            {
                "id1": "Id36",
                "id2": "Id11",
                "value": 2
            },
            {
                "id1": "Id36",
                "id2": "Id29",
                "value": 1
            },
            {
                "id1": "Id37",
                "id2": "Id34",
                "value": 2
            },
            {
                "id1": "Id37",
                "id2": "Id35",
                "value": 2
            },
            {
                "id1": "Id37",
                "id2": "Id36",
                "value": 2
            },
            {
                "id1": "Id37",
                "id2": "Id11",
                "value": 2
            },
            {
                "id1": "Id37",
                "id2": "Id29",
                "value": 1
            },
            {
                "id1": "Id38",
                "id2": "Id34",
                "value": 2
            },
            {
                "id1": "Id38",
                "id2": "Id35",
                "value": 2
            },
            {
                "id1": "Id38",
                "id2": "Id36",
                "value": 2
            },
            {
                "id1": "Id38",
                "id2": "Id37",
                "value": 2
            },
            {
                "id1": "Id38",
                "id2": "Id11",
                "value": 2
            },
            {
                "id1": "Id38",
                "id2": "Id29",
                "value": 1
            },
            {
                "id1": "Id39",
                "id2": "Id25",
                "value": 1
            },
            {
                "id1": "Id40",
                "id2": "Id25",
                "value": 1
            },
            {
                "id1": "Id41",
                "id2": "Id24",
                "value": 2
            },
            {
                "id1": "Id41",
                "id2": "Id25",
                "value": 3
            },
            {
                "id1": "Id42",
                "id2": "Id41",
                "value": 2
            },
            {
                "id1": "Id42",
                "id2": "Id25",
                "value": 2
            },
            {
                "id1": "Id42",
                "id2": "Id24",
                "value": 1
            },
            {
                "id1": "Id43",
                "id2": "Id11",
                "value": 3
            },
            {
                "id1": "Id43",
                "id2": "Id26",
                "value": 1
            },
            {
                "id1": "Id43",
                "id2": "Id27",
                "value": 1
            },
            {
                "id1": "Id44",
                "id2": "Id28",
                "value": 3
            },
            {
                "id1": "Id44",
                "id2": "Id11",
                "value": 1
            },
            {
                "id1": "Id45",
                "id2": "Id28",
                "value": 2
            },
            {
                "id1": "Id47",
                "id2": "Id46",
                "value": 1
            },
            {
                "id1": "Id48",
                "id2": "Id47",
                "value": 2
            },
            {
                "id1": "Id48",
                "id2": "Id25",
                "value": 1
            },
            {
                "id1": "Id48",
                "id2": "Id27",
                "value": 1
            },
            {
                "id1": "Id48",
                "id2": "Id11",
                "value": 1
            },
            {
                "id1": "Id49",
                "id2": "Id26",
                "value": 3
            },
            {
                "id1": "Id49",
                "id2": "Id11",
                "value": 2
            },
            {
                "id1": "Id50",
                "id2": "Id49",
                "value": 1
            },
            {
                "id1": "Id50",
                "id2": "Id24",
                "value": 1
            },
            {
                "id1": "Id51",
                "id2": "Id49",
                "value": 9
            },
            {
                "id1": "Id51",
                "id2": "Id26",
                "value": 2
            },
            {
                "id1": "Id51",
                "id2": "Id11",
                "value": 2
            },
            {
                "id1": "Id52",
                "id2": "Id51",
                "value": 1
            },
            {
                "id1": "Id52",
                "id2": "Id39",
                "value": 1
            },
            {
                "id1": "Id53",
                "id2": "Id51",
                "value": 1
            },
            {
                "id1": "Id54",
                "id2": "Id51",
                "value": 2
            },
            {
                "id1": "Id54",
                "id2": "Id49",
                "value": 1
            },
            {
                "id1": "Id54",
                "id2": "Id26",
                "value": 1
            },
            {
                "id1": "Id55",
                "id2": "Id51",
                "value": 6
            },
            {
                "id1": "Id55",
                "id2": "Id49",
                "value": 12
            },
            {
                "id1": "Id55",
                "id2": "Id39",
                "value": 1
            },
            {
                "id1": "Id55",
                "id2": "Id54",
                "value": 1
            },
            {
                "id1": "Id55",
                "id2": "Id26",
                "value": 21
            },
            {
                "id1": "Id55",
                "id2": "Id11",
                "value": 19
            },
            {
                "id1": "Id55",
                "id2": "Id16",
                "value": 1
            },
            {
                "id1": "Id55",
                "id2": "Id25",
                "value": 2
            },
            {
                "id1": "Id55",
                "id2": "Id41",
                "value": 5
            },
            {
                "id1": "Id55",
                "id2": "Id48",
                "value": 4
            },
            {
                "id1": "Id56",
                "id2": "Id49",
                "value": 1
            },
            {
                "id1": "Id56",
                "id2": "Id55",
                "value": 1
            },
            {
                "id1": "Id57",
                "id2": "Id55",
                "value": 1
            },
            {
                "id1": "Id57",
                "id2": "Id41",
                "value": 1
            },
            {
                "id1": "Id57",
                "id2": "Id48",
                "value": 1
            },
            {
                "id1": "Id58",
                "id2": "Id55",
                "value": 7
            },
            {
                "id1": "Id58",
                "id2": "Id48",
                "value": 7
            },
            {
                "id1": "Id58",
                "id2": "Id27",
                "value": 6
            },
            {
                "id1": "Id58",
                "id2": "Id57",
                "value": 1
            },
            {
                "id1": "Id58",
                "id2": "Id11",
                "value": 4
            },
            {
                "id1": "Id59",
                "id2": "Id58",
                "value": 15
            },
            {
                "id1": "Id59",
                "id2": "Id55",
                "value": 5
            },
            {
                "id1": "Id59",
                "id2": "Id48",
                "value": 6
            },
            {
                "id1": "Id59",
                "id2": "Id57",
                "value": 2
            },
            {
                "id1": "Id60",
                "id2": "Id48",
                "value": 1
            },
            {
                "id1": "Id60",
                "id2": "Id58",
                "value": 4
            },
            {
                "id1": "Id60",
                "id2": "Id59",
                "value": 2
            },
            {
                "id1": "Id61",
                "id2": "Id48",
                "value": 2
            },
            {
                "id1": "Id61",
                "id2": "Id58",
                "value": 6
            },
            {
                "id1": "Id61",
                "id2": "Id60",
                "value": 2
            },
            {
                "id1": "Id61",
                "id2": "Id59",
                "value": 5
            },
            {
                "id1": "Id61",
                "id2": "Id57",
                "value": 1
            },
            {
                "id1": "Id61",
                "id2": "Id55",
                "value": 1
            },
            {
                "id1": "Id62",
                "id2": "Id55",
                "value": 9
            },
            {
                "id1": "Id62",
                "id2": "Id58",
                "value": 17
            },
            {
                "id1": "Id62",
                "id2": "Id59",
                "value": 13
            },
            {
                "id1": "Id62",
                "id2": "Id48",
                "value": 7
            },
            {
                "id1": "Id62",
                "id2": "Id57",
                "value": 2
            },
            {
                "id1": "Id62",
                "id2": "Id41",
                "value": 1
            },
            {
                "id1": "Id62",
                "id2": "Id61",
                "value": 6
            },
            {
                "id1": "Id62",
                "id2": "Id60",
                "value": 3
            },
            {
                "id1": "Id63",
                "id2": "Id59",
                "value": 5
            },
            {
                "id1": "Id63",
                "id2": "Id48",
                "value": 5
            },
            {
                "id1": "Id63",
                "id2": "Id62",
                "value": 6
            },
            {
                "id1": "Id63",
                "id2": "Id57",
                "value": 2
            },
            {
                "id1": "Id63",
                "id2": "Id58",
                "value": 4
            },
            {
                "id1": "Id63",
                "id2": "Id61",
                "value": 3
            },
            {
                "id1": "Id63",
                "id2": "Id60",
                "value": 2
            },
            {
                "id1": "Id63",
                "id2": "Id55",
                "value": 1
            },
            {
                "id1": "Id64",
                "id2": "Id55",
                "value": 5
            },
            {
                "id1": "Id64",
                "id2": "Id62",
                "value": 12
            },
            {
                "id1": "Id64",
                "id2": "Id48",
                "value": 5
            },
            {
                "id1": "Id64",
                "id2": "Id63",
                "value": 4
            },
            {
                "id1": "Id64",
                "id2": "Id58",
                "value": 10
            },
            {
                "id1": "Id64",
                "id2": "Id61",
                "value": 6
            },
            {
                "id1": "Id64",
                "id2": "Id60",
                "value": 2
            },
            {
                "id1": "Id64",
                "id2": "Id59",
                "value": 9
            },
            {
                "id1": "Id64",
                "id2": "Id57",
                "value": 1
            },
            {
                "id1": "Id64",
                "id2": "Id11",
                "value": 1
            },
            {
                "id1": "Id65",
                "id2": "Id63",
                "value": 5
            },
            {
                "id1": "Id65",
                "id2": "Id64",
                "value": 7
            },
            {
                "id1": "Id65",
                "id2": "Id48",
                "value": 3
            },
            {
                "id1": "Id65",
                "id2": "Id62",
                "value": 5
            },
            {
                "id1": "Id65",
                "id2": "Id58",
                "value": 5
            },
            {
                "id1": "Id65",
                "id2": "Id61",
                "value": 5
            },
            {
                "id1": "Id65",
                "id2": "Id60",
                "value": 2
            },
            {
                "id1": "Id65",
                "id2": "Id59",
                "value": 5
            },
            {
                "id1": "Id65",
                "id2": "Id57",
                "value": 1
            },
            {
                "id1": "Id65",
                "id2": "Id55",
                "value": 2
            },
            {
                "id1": "Id66",
                "id2": "Id64",
                "value": 3
            },
            {
                "id1": "Id66",
                "id2": "Id58",
                "value": 3
            },
            {
                "id1": "Id66",
                "id2": "Id59",
                "value": 1
            },
            {
                "id1": "Id66",
                "id2": "Id62",
                "value": 2
            },
            {
                "id1": "Id66",
                "id2": "Id65",
                "value": 2
            },
            {
                "id1": "Id66",
                "id2": "Id48",
                "value": 1
            },
            {
                "id1": "Id66",
                "id2": "Id63",
                "value": 1
            },
            {
                "id1": "Id66",
                "id2": "Id61",
                "value": 1
            },
            {
                "id1": "Id66",
                "id2": "Id60",
                "value": 1
            },
            {
                "id1": "Id67",
                "id2": "Id57",
                "value": 3
            },
            {
                "id1": "Id68",
                "id2": "Id25",
                "value": 5
            },
            {
                "id1": "Id68",
                "id2": "Id11",
                "value": 1
            },
            {
                "id1": "Id68",
                "id2": "Id24",
                "value": 1
            },
            {
                "id1": "Id68",
                "id2": "Id27",
                "value": 1
            },
            {
                "id1": "Id68",
                "id2": "Id48",
                "value": 1
            },
            {
                "id1": "Id68",
                "id2": "Id41",
                "value": 1
            },
            {
                "id1": "Id69",
                "id2": "Id25",
                "value": 6
            },
            {
                "id1": "Id69",
                "id2": "Id68",
                "value": 6
            },
            {
                "id1": "Id69",
                "id2": "Id11",
                "value": 1
            },
            {
                "id1": "Id69",
                "id2": "Id24",
                "value": 1
            },
            {
                "id1": "Id69",
                "id2": "Id27",
                "value": 2
            },
            {
                "id1": "Id69",
                "id2": "Id48",
                "value": 1
            },
            {
                "id1": "Id69",
                "id2": "Id41",
                "value": 1
            },
            {
                "id1": "Id70",
                "id2": "Id25",
                "value": 4
            },
            {
                "id1": "Id70",
                "id2": "Id69",
                "value": 4
            },
            {
                "id1": "Id70",
                "id2": "Id68",
                "value": 4
            },
            {
                "id1": "Id70",
                "id2": "Id11",
                "value": 1
            },
            {
                "id1": "Id70",
                "id2": "Id24",
                "value": 1
            },
            {
                "id1": "Id70",
                "id2": "Id27",
                "value": 1
            },
            {
                "id1": "Id70",
                "id2": "Id41",
                "value": 1
            },
            {
                "id1": "Id70",
                "id2": "Id58",
                "value": 1
            },
            {
                "id1": "Id71",
                "id2": "Id27",
                "value": 1
            },
            {
                "id1": "Id71",
                "id2": "Id69",
                "value": 2
            },
            {
                "id1": "Id71",
                "id2": "Id68",
                "value": 2
            },
            {
                "id1": "Id71",
                "id2": "Id70",
                "value": 2
            },
            {
                "id1": "Id71",
                "id2": "Id11",
                "value": 1
            },
            {
                "id1": "Id71",
                "id2": "Id48",
                "value": 1
            },
            {
                "id1": "Id71",
                "id2": "Id41",
                "value": 1
            },
            {
                "id1": "Id71",
                "id2": "Id25",
                "value": 1
            },
            {
                "id1": "Id72",
                "id2": "Id26",
                "value": 2
            },
            {
                "id1": "Id72",
                "id2": "Id27",
                "value": 1
            },
            {
                "id1": "Id72",
                "id2": "Id11",
                "value": 1
            },
            {
                "id1": "Id73",
                "id2": "Id48",
                "value": 2
            },
            {
                "id1": "Id74",
                "id2": "Id48",
                "value": 2
            },
            {
                "id1": "Id74",
                "id2": "Id73",
                "value": 3
            },
            {
                "id1": "Id75",
                "id2": "Id69",
                "value": 3
            },
            {
                "id1": "Id75",
                "id2": "Id68",
                "value": 3
            },
            {
                "id1": "Id75",
                "id2": "Id25",
                "value": 3
            },
            {
                "id1": "Id75",
                "id2": "Id48",
                "value": 1
            },
            {
                "id1": "Id75",
                "id2": "Id41",
                "value": 1
            },
            {
                "id1": "Id75",
                "id2": "Id70",
                "value": 1
            },
            {
                "id1": "Id75",
                "id2": "Id71",
                "value": 1
            },
            {
                "id1": "Id76",
                "id2": "Id64",
                "value": 1
            },
            {
                "id1": "Id76",
                "id2": "Id65",
                "value": 1
            },
            {
                "id1": "Id76",
                "id2": "Id66",
                "value": 1
            },
            {
                "id1": "Id76",
                "id2": "Id63",
                "value": 1
            },
            {
                "id1": "Id76",
                "id2": "Id62",
                "value": 1
            },
            {
                "id1": "Id76",
                "id2": "Id48",
                "value": 1
            },
            {
                "id1": "Id76",
                "id2": "Id58",
                "value": 1
            }
        ],
        "m": {
            "Name": "Les Miserables",
            "Description": "Coappearance network of characters in the novel Les Miserables",
            "Reference": "D. E. Knuth, The Stanford GraphBase: A Platform for Combinatorial Computing, Addison-Wesley, Reading, MA (1993)."
        },
        "nodeIndices": {
            "Id0": 0,
            "Id1": 1,
            "Id2": 2,
            "Id3": 3,
            "Id4": 4,
            "Id5": 5,
            "Id6": 6,
            "Id7": 7,
            "Id8": 8,
            "Id9": 9,
            "Id10": 10,
            "Id11": 11,
            "Id12": 12,
            "Id13": 13,
            "Id14": 14,
            "Id15": 15,
            "Id16": 16,
            "Id17": 17,
            "Id18": 18,
            "Id19": 19,
            "Id20": 20,
            "Id21": 21,
            "Id22": 22,
            "Id23": 23,
            "Id24": 24,
            "Id25": 25,
            "Id26": 26,
            "Id27": 27,
            "Id28": 28,
            "Id29": 29,
            "Id30": 30,
            "Id31": 31,
            "Id32": 32,
            "Id33": 33,
            "Id34": 34,
            "Id35": 35,
            "Id36": 36,
            "Id37": 37,
            "Id38": 38,
            "Id39": 39,
            "Id40": 40,
            "Id41": 41,
            "Id42": 42,
            "Id43": 43,
            "Id44": 44,
            "Id45": 45,
            "Id46": 46,
            "Id47": 47,
            "Id48": 48,
            "Id49": 49,
            "Id50": 50,
            "Id51": 51,
            "Id52": 52,
            "Id53": 53,
            "Id54": 54,
            "Id55": 55,
            "Id56": 56,
            "Id57": 57,
            "Id58": 58,
            "Id59": 59,
            "Id60": 60,
            "Id61": 61,
            "Id62": 62,
            "Id63": 63,
            "Id64": 64,
            "Id65": 65,
            "Id66": 66,
            "Id67": 67,
            "Id68": 68,
            "Id69": 69,
            "Id70": 70,
            "Id71": 71,
            "Id72": 72,
            "Id73": 73,
            "Id74": 74,
            "Id75": 75,
            "Id76": 76
        }
    },
    config={
        "background": "rgb(245,245,245)",
        "colorNodeBy": "group",
        "graphType": "Network",
        "networkLayoutType": "circular",
        "nodeScaleFontFactor": 1.8,
        "showAnimation": True,
        "showLegend": False,
        "showNodeNameSizeThreshold": 25,
        "showNodeNameThreshold": 100,
        "sizeNodeBy": "nodeEdges",
        "title": "Les Miserable",
        "useBarnesHutSimulation": True,
        "calculateLayout": False
    },
    width=500,
    height=500,
    events=CXEvents(),
    after_render=[
        [
            "setDimensions",
            [
                613,
                613,
                True
            ]
        ]
    ],
    other_init_params={
        "version": 35,
        "events": False,
        "info": False,
        "afterRenderInit": False,
        "noValidate": True
    }
)

display = CXNoteBook(cx) 
display.render() 
"
   ]
  }
 ],
 "metadata": {
  "kernelspec": {
   "display_name": "Python 3",
   "language": "python",
   "name": "python3"
  },
  "language_info": {
   "codemirror_mode": {
    "name": "ipython",
    "version": 3
   },
   "file_extension": ".py",
   "mimetype": "text/x-python",
   "name": "python",
   "nbconvert_exporter": "python",
   "pygments_lexer": "ipython3",
   "version": "3.8.5"
  }
 },
 "nbformat": 4,
 "nbformat_minor": 4
}
