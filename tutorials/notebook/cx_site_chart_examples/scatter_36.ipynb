{
 "cells": [
  {
   "cell_type": "markdown",
   "metadata": {
    "tags": []
   },
   "source": [
    "# Example: CanvasXpress scatter Chart No. 36\n",
    "\n",
    "This example page demonstrates how to, using the Python package, create a chart that matches the CanvasXpress online example located at:\n",
    "\n",
    "https://www.canvasxpress.org/examples/scatter-36.html\n",
    "\n",
    "This example is generated using the reproducible JSON obtained from the above page and the `canvasxpress.util.generator.generate_canvasxpress_code_from_json_file()` function.\n",
    "\n",
    "Everything required for the chart to render is included in the code below.  Simply run the code block."
   ]
  },
  {
   "cell_type": "code",
   "execution_count": null,
   "metadata": {},
   "outputs": [],
   "source": [
    "from canvasxpress.canvas import CanvasXpress 
from canvasxpress.js.collection import CXEvents 
from canvasxpress.render.jupyter import CXNoteBook 

cx = CanvasXpress(
    render_to="scatter3d6",
    data={
        "z": {
            "Annt1": [
                "Desc:1",
                "Desc:2",
                "Desc:3",
                "Desc:4",
                "Desc:5",
                "Desc:6",
                "Desc:7",
                "Desc:8"
            ],
            "Annt2": [
                "Desc:A",
                "Desc:B",
                "Desc:A",
                "Desc:B",
                "Desc:A",
                "Desc:B",
                "Desc:A",
                "Desc:B"
            ],
            "Annt3": [
                "Desc:X",
                "Desc:X",
                "Desc:Y",
                "Desc:Y",
                "Desc:X",
                "Desc:X",
                "Desc:Y",
                "Desc:Y"
            ]
        },
        "x": {
            "Factor1": [
                "Lev:1",
                "Lev:2",
                "Lev:3",
                "Lev:1",
                "Lev:2",
                "Lev:3"
            ],
            "Factor2": [
                "Lev:A",
                "Lev:B",
                "Lev:A",
                "Lev:B",
                "Lev:A",
                "Lev:B"
            ],
            "Factor3": [
                "Lev:X",
                "Lev:X",
                "Lev:Y",
                "Lev:Y",
                "Lev:Z",
                "Lev:Z"
            ]
        },
        "y": {
            "vars": [
                "V1",
                "V2",
                "V3",
                "V4",
                "V5",
                "V6",
                "V7",
                "V8"
            ],
            "smps": [
                "S1",
                "S2",
                "S3",
                "S4",
                "S5",
                "S6"
            ],
            "data": [
                [
                    5,
                    10,
                    25,
                    40,
                    45,
                    50
                ],
                [
                    95,
                    80,
                    75,
                    70,
                    55,
                    40
                ],
                [
                    25,
                    30,
                    45,
                    60,
                    65,
                    70
                ],
                [
                    55,
                    40,
                    35,
                    30,
                    15,
                    1
                ],
                [
                    10,
                    20,
                    35,
                    50,
                    55,
                    65
                ],
                [
                    80,
                    70,
                    65,
                    60,
                    45,
                    35
                ],
                [
                    30,
                    40,
                    55,
                    70,
                    75,
                    85
                ],
                [
                    60,
                    50,
                    45,
                    40,
                    25,
                    15
                ]
            ]
        }
    },
    config={
        "colorBy": "Annt1",
        "graphType": "Scatter3D",
        "shapeBy": "Annt2",
        "sizeBy": "Annt3",
        "theme": "CanvasXpress",
        "xAxis": [
            "S1"
        ],
        "yAxis": [
            "S2"
        ],
        "zAxis": [
            "S3"
        ]
    },
    width=500,
    height=500,
    events=CXEvents(),
    after_render=[
        [
            "setDimensions",
            [
                613,
                613,
                True
            ]
        ]
    ],
    other_init_params={
        "version": 35,
        "events": False,
        "info": False,
        "afterRenderInit": False,
        "noValidate": True
    }
)

display = CXNoteBook(cx) 
display.render("scatter_36") 
"
   ]
  }
 ],
 "metadata": {
  "kernelspec": {
   "display_name": "Python 3",
   "language": "python",
   "name": "python3"
  },
  "language_info": {
   "codemirror_mode": {
    "name": "ipython",
    "version": 3
   },
   "file_extension": ".py",
   "mimetype": "text/x-python",
   "name": "python",
   "nbconvert_exporter": "python",
   "pygments_lexer": "ipython3",
   "version": "3.8.5"
  }
 },
 "nbformat": 4,
 "nbformat_minor": 4
}
