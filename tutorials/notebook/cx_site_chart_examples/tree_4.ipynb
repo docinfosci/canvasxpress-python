{
 "cells": [
  {
   "cell_type": "markdown",
   "metadata": {
    "tags": []
   },
   "source": [
    "# Example: CanvasXpress tree Chart No. 4\n",
    "\n",
    "This example page demonstrates how to, using the Python package, create a chart that matches the CanvasXpress online example located at:\n",
    "\n",
    "https://www.canvasxpress.org/examples/tree-4.html\n",
    "\n",
    "This example is generated using the reproducible JSON obtained from the above page and the `canvasxpress.util.generator.generate_canvasxpress_code_from_json_file()` function.\n",
    "\n",
    "Everything required for the chart to render is included in the code below.  Simply run the code block."
   ]
  },
  {
   "cell_type": "code",
   "execution_count": null,
   "metadata": {},
   "outputs": [],
   "source": [
    "from canvasxpress.canvas import CanvasXpress 
from canvasxpress.js.collection import CXEvents 
from canvasxpress.render.jupyter import CXNoteBook 

cx = CanvasXpress(
    render_to="tree4",
    data={
        "y": {
            "vars": [
                "Order"
            ],
            "smps": [
                "A",
                "B",
                "C",
                "D",
                "E",
                "F",
                "G",
                "H",
                "I",
                "J",
                "K",
                "L",
                "M",
                "N",
                "O",
                "P"
            ],
            "data": [
                [
                    1,
                    2,
                    3,
                    4,
                    5,
                    6,
                    7,
                    8,
                    9,
                    10,
                    11,
                    12,
                    13,
                    14,
                    15,
                    16
                ]
            ]
        },
        "x": {
            "Level1": [
                "L1.1",
                "L1.1",
                "L1.1",
                "L1.1",
                "L1.2",
                "L1.2",
                "L1.2",
                "L1.2",
                "L1.3",
                "L1.3",
                "L1.3",
                "L1.3",
                "L1.4",
                "L1.4",
                "L1.4",
                "L1.4"
            ],
            "Level2": [
                "L2.1",
                "L2.1",
                "L2.2",
                "L2.2",
                "L2.1",
                "L2.1",
                "L2.2",
                "L2.2",
                "L2.1",
                "L2.1",
                "L2.2",
                "L2.2",
                "L2.1",
                "L2.1",
                "L2.2",
                "L2.2"
            ],
            "Level3": [
                "L3.1",
                "L3.2",
                "L3.1",
                "L3.2",
                "L3.1",
                "L3.2",
                "L3.1",
                "L3.2",
                "L3.1",
                "L3.2",
                "L3.1",
                "L3.2",
                "L3.1",
                "L3.2",
                "L3.1",
                "L3.2"
            ],
            "Annot1": [
                "A",
                "B",
                "C",
                "A",
                "B",
                "C",
                "A",
                "B",
                "C",
                "A",
                "B",
                "C",
                "A",
                "B",
                "C",
                "A"
            ],
            "Annot2": [
                5,
                10,
                15,
                20,
                25,
                30,
                35,
                40,
                40,
                35,
                30,
                25,
                20,
                15,
                10,
                5
            ]
        }
    },
    config={
        "colorBy": "Annot2",
        "graphType": "Tree",
        "hierarchy": [
            "Level1",
            "Level2",
            "Level3"
        ],
        "showTransition": True,
        "title": "Collapsible Tree"
    },
    width=500,
    height=500,
    events=CXEvents(),
    after_render=[
        [
            "setDimensions",
            [
                613,
                613,
                True
            ]
        ]
    ],
    other_init_params={
        "version": 35,
        "events": False,
        "info": False,
        "afterRenderInit": False,
        "noValidate": True
    }
)

display = CXNoteBook(cx) 
display.render("tree_4") 
"
   ]
  }
 ],
 "metadata": {
  "kernelspec": {
   "display_name": "Python 3",
   "language": "python",
   "name": "python3"
  },
  "language_info": {
   "codemirror_mode": {
    "name": "ipython",
    "version": 3
   },
   "file_extension": ".py",
   "mimetype": "text/x-python",
   "name": "python",
   "nbconvert_exporter": "python",
   "pygments_lexer": "ipython3",
   "version": "3.8.5"
  }
 },
 "nbformat": 4,
 "nbformat_minor": 4
}
