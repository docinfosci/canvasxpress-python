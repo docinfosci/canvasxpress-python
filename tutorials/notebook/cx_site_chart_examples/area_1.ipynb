{
 "cells": [
  {
   "cell_type": "markdown",
   "metadata": {
    "tags": []
   },
   "source": [
    "# Example: CanvasXpress area Chart No. 1\n",
    "\n",
    "This example page demonstrates how to, using the Python package, create a chart that matches the CanvasXpress online example located at:\n",
    "\n",
    "https://www.canvasxpress.org/examples/area-1.html\n",
    "\n",
    "This example is generated using the reproducible JSON obtained from the above page and the `canvasxpress.util.generator.generate_canvasxpress_code_from_json_file()` function.\n",
    "\n",
    "Everything required for the chart to render is included in the code below.  Simply run the code block."
   ]
  },
  {
   "cell_type": "code",
   "execution_count": null,
   "metadata": {},
   "outputs": [],
   "source": [
    "from canvasxpress.canvas import CanvasXpress 
from canvasxpress.js.collection import CXEvents 
from canvasxpress.render.jupyter import CXNoteBook 

cx = CanvasXpress(
    render_to="area1",
    data={
        "y": {
            "data": [
                [
                    10,
                    100,
                    70,
                    130,
                    60
                ]
            ],
            "vars": [
                "A"
            ],
            "smps": [
                "S1",
                "S2",
                "S3",
                "S4",
                "S5"
            ]
        }
    },
    config={
        "colorScheme": "GGPlot",
        "graphOrientation": "vertical",
        "graphType": "Area",
        "lineType": "rect",
        "objectBorderColor": False,
        "showLegend": False,
        "showSampleNames": True,
        "showTransition": False,
        "smpLabelRotate": 90,
        "smpTitle": "time"
    },
    width=500,
    height=500,
    events=CXEvents(),
    after_render=[
        [
            "setDimensions",
            [
                613,
                613,
                True
            ]
        ],
        [
            "userEventsClick",
            [
                {
                    "x": {},
                    "y": {
                        "vars": [
                            "A"
                        ],
                        "smps": [
                            "S1"
                        ],
                        "data": [
                            [
                                10
                            ]
                        ]
                    },
                    "z": {}
                },
                {
                    "srcElement": "area1-events",
                    "target": "area1-events",
                    "ac": {
                        "x": 31.015625,
                        "y": 581
                    },
                    "altKey": False,
                    "bubbles": True,
                    "button": 0,
                    "buttons": 0,
                    "cancelBubble": False,
                    "cancelable": True,
                    "clientX": 502,
                    "clientY": 935,
                    "ctrlKey": False,
                    "defaultPrevented": False,
                    "detail": 1,
                    "eventPhase": 0,
                    "isTrusted": True,
                    "layerX": 32,
                    "layerY": 582,
                    "metaKey": False,
                    "movementX": 0,
                    "movementY": 0,
                    "offsetX": 31,
                    "offsetY": 581,
                    "pageX": 502,
                    "pageY": 935,
                    "returnValue": True,
                    "screenX": 502,
                    "screenY": 935,
                    "shiftKey": False,
                    "timeStamp": 20564.300000000047,
                    "type": "click",
                    "which": 1,
                    "x": 502,
                    "y": 935,
                    "xMouseDown": False,
                    "yMouseDown": False
                },
                False,
                [
                    0,
                    0
                ]
            ]
        ]
    ],
    other_init_params={
        "version": 35,
        "events": False,
        "info": False,
        "afterRenderInit": False,
        "noValidate": True
    }
)

display = CXNoteBook(cx) 
display.render("area_1") 
"
   ]
  }
 ],
 "metadata": {
  "kernelspec": {
   "display_name": "Python 3",
   "language": "python",
   "name": "python3"
  },
  "language_info": {
   "codemirror_mode": {
    "name": "ipython",
    "version": 3
   },
   "file_extension": ".py",
   "mimetype": "text/x-python",
   "name": "python",
   "nbconvert_exporter": "python",
   "pygments_lexer": "ipython3",
   "version": "3.8.5"
  }
 },
 "nbformat": 4,
 "nbformat_minor": 4
}
