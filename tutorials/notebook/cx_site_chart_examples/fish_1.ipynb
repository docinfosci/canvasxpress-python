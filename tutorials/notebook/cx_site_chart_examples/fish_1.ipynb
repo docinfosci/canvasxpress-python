{
 "cells": [
  {
   "cell_type": "markdown",
   "metadata": {
    "tags": []
   },
   "source": [
    "# Example: CanvasXpress fish Chart No. 1\n",
    "\n",
    "This example page demonstrates how to, using the Python package, create a chart that matches the CanvasXpress online example located at:\n",
    "\n",
    "https://www.canvasxpress.org/examples/fish-1.html\n",
    "\n",
    "This example is generated using the reproducible JSON obtained from the above page and the `canvasxpress.util.generator.generate_canvasxpress_code_from_json_file()` function.\n",
    "\n",
    "Everything required for the chart to render is included in the code below.  Simply run the code block."
   ]
  },
  {
   "cell_type": "code",
   "execution_count": null,
   "metadata": {},
   "outputs": [],
   "source": [
    "from canvasxpress.canvas import CanvasXpress 
from canvasxpress.js.collection import CXEvents 
from canvasxpress.render.jupyter import CXNoteBook 

cx = CanvasXpress(
    render_to="fish1",
    data={
        "y": {
            "vars": [
                "Founding",
                "Subclone 1",
                "Subclone 2",
                "Subclone 3"
            ],
            "smps": [
                0,
                30,
                75,
                150
            ],
            "data": [
                [
                    100,
                    2,
                    2,
                    98
                ],
                [
                    45,
                    0,
                    0,
                    0
                ],
                [
                    0,
                    0,
                    2,
                    95
                ],
                [
                    0,
                    0,
                    1,
                    40
                ]
            ]
        }
    },
    config={
        "backgroundType": "window",
        "backgroundWindow": "#ffe4c4",
        "colors": [
            "rgb(136,136,136)",
            "rgb(239,0,0)",
            "rgb(255,96,0)",
            "rgb(255,207,0)",
            "rgb(191,255,64)",
            "rgb(80,255,175)",
            "rgb(0,223,255)",
            "rgb(0,112,255)",
            "rgb(0,0,255)",
            "rgb(0,0,143)"
        ],
        "fishAxis": [
            0,
            150
        ],
        "fishParents": [
            0,
            1,
            1,
            3
        ],
        "fishShape": "spline",
        "fishTimepoints": [
            0,
            30,
            75,
            150
        ],
        "graphType": "Fish",
        "legendColumns": 4,
        "legendPosition": "bottom",
        "title": "Sample1"
    },
    width=500,
    height=500,
    events=CXEvents(),
    after_render=[
        [
            "setDimensions",
            [
                613,
                413,
                True
            ]
        ]
    ],
    other_init_params={
        "version": 35,
        "events": False,
        "info": False,
        "afterRenderInit": False,
        "noValidate": True
    }
)

display = CXNoteBook(cx) 
display.render("fish_1") 
"
   ]
  }
 ],
 "metadata": {
  "kernelspec": {
   "display_name": "Python 3",
   "language": "python",
   "name": "python3"
  },
  "language_info": {
   "codemirror_mode": {
    "name": "ipython",
    "version": 3
   },
   "file_extension": ".py",
   "mimetype": "text/x-python",
   "name": "python",
   "nbconvert_exporter": "python",
   "pygments_lexer": "ipython3",
   "version": "3.8.5"
  }
 },
 "nbformat": 4,
 "nbformat_minor": 4
}
