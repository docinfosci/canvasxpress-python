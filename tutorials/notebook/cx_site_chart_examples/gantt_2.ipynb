{
 "cells": [
  {
   "cell_type": "markdown",
   "metadata": {
    "tags": []
   },
   "source": [
    "# Example: CanvasXpress gantt Chart No. 2\n",
    "\n",
    "This example page demonstrates how to, using the Python package, create a chart that matches the CanvasXpress online example located at:\n",
    "\n",
    "https://www.canvasxpress.org/examples/gantt-2.html\n",
    "\n",
    "This example is generated using the reproducible JSON obtained from the above page and the `canvasxpress.util.generator.generate_canvasxpress_code_from_json_file()` function.\n",
    "\n",
    "Everything required for the chart to render is included in the code below.  Simply run the code block."
   ]
  },
  {
   "cell_type": "code",
   "execution_count": null,
   "metadata": {},
   "outputs": [],
   "source": [
    "from canvasxpress.canvas import CanvasXpress 
from canvasxpress.js.collection import CXEvents 
from canvasxpress.render.jupyter import CXNoteBook 

cx = CanvasXpress(
    render_to="gantt2",
    data={
        "y": {
            "vars": [
                "Start",
                "End"
            ],
            "smps": [
                "S01",
                "S02",
                "S03",
                "S04",
                "S05",
                "S06",
                "S07",
                "S08",
                "S09",
                "S10",
                "S11",
                "S12"
            ],
            "data": [
                [
                    20140221,
                    20140521,
                    20140821,
                    20141121,
                    20150221,
                    20150521,
                    20140821,
                    20141121,
                    20150221,
                    20150521,
                    20150821,
                    20151121
                ],
                [
                    20140520,
                    20140820,
                    20141120,
                    20150220,
                    20150520,
                    20150820,
                    20141120,
                    20150220,
                    20150520,
                    20150820,
                    20151120,
                    20160220
                ]
            ]
        },
        "x": {
            "Clinical Trial": [
                "CT001",
                "CT002",
                "CT003",
                "CT004",
                "CT005",
                "CT006",
                "CT001",
                "CT002",
                "CT003",
                "CT004",
                "CT005",
                "CT006"
            ],
            "Indication": [
                "Lung",
                "Liver",
                "Breast",
                "Skin",
                "Lung",
                "Lung",
                "Breast",
                "Pancreas",
                "Stomach",
                "Breast",
                "Skin",
                "Lung"
            ],
            "Completion": [
                0.2,
                0.6,
                1,
                0.4,
                0.3,
                0.4,
                0.25,
                1,
                0.8,
                0.9,
                0.6,
                0.3
            ],
            "Dependencies": [
                null,
                null,
                null,
                null,
                null,
                null,
                "S01",
                "S02",
                "S03",
                null,
                null,
                null
            ]
        }
    },
    config={
        "ganttCompletion": "Completion",
        "ganttEnd": "End",
        "ganttStart": "Start",
        "graphType": "Gantt",
        "theme": "CanvasXpress"
    },
    width=500,
    height=500,
    events=CXEvents(),
    after_render=[
        [
            "setDimensions",
            [
                613,
                613,
                True
            ]
        ]
    ],
    other_init_params={
        "version": 35,
        "events": False,
        "info": False,
        "afterRenderInit": False,
        "noValidate": True
    }
)

display = CXNoteBook(cx) 
display.render("gantt_2") 
"
   ]
  }
 ],
 "metadata": {
  "kernelspec": {
   "display_name": "Python 3",
   "language": "python",
   "name": "python3"
  },
  "language_info": {
   "codemirror_mode": {
    "name": "ipython",
    "version": 3
   },
   "file_extension": ".py",
   "mimetype": "text/x-python",
   "name": "python",
   "nbconvert_exporter": "python",
   "pygments_lexer": "ipython3",
   "version": "3.8.5"
  }
 },
 "nbformat": 4,
 "nbformat_minor": 4
}
