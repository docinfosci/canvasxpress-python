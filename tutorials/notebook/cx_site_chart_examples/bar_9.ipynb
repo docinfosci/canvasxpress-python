{
 "cells": [
  {
   "cell_type": "markdown",
   "metadata": {
    "tags": []
   },
   "source": [
    "# Example: CanvasXpress bar Chart No. 9\n",
    "\n",
    "This example page demonstrates how to, using the Python package, create a chart that matches the CanvasXpress online example located at:\n",
    "\n",
    "https://www.canvasxpress.org/examples/bar-9.html\n",
    "\n",
    "This example is generated using the reproducible JSON obtained from the above page and the `canvasxpress.util.generator.generate_canvasxpress_code_from_json_file()` function.\n",
    "\n",
    "Everything required for the chart to render is included in the code below.  Simply run the code block."
   ]
  },
  {
   "cell_type": "code",
   "execution_count": null,
   "metadata": {},
   "outputs": [],
   "source": [
    "from canvasxpress.canvas import CanvasXpress 
from canvasxpress.js.collection import CXEvents 
from canvasxpress.render.jupyter import CXNoteBook 

cx = CanvasXpress(
    render_to="bar9",
    data={
        "x": {
            "Drug Sensitivity": [
                "Sensitive",
                "Sensitive",
                "Sensitive",
                "Sensitive",
                "Sensitive",
                "Resistant",
                "Resistant",
                "Resistant"
            ],
            "IC50": [
                0.08,
                0.07,
                0.06,
                0.05,
                0.04,
                0.03,
                0.02,
                0.01
            ]
        },
        "y": {
            "vars": [
                "V1"
            ],
            "smps": [
                "S1",
                "S2",
                "S3",
                "S4",
                "S5",
                "S6",
                "S7",
                "S8"
            ],
            "data": [
                [
                    10,
                    15,
                    20,
                    30,
                    40,
                    70,
                    80,
                    90
                ]
            ]
        }
    },
    config={
        "axisTitleFontStyle": "italic",
        "colorBy": "IC50",
        "decorationScaleFontFactor": 1.3,
        "decorations": {
            "line": [
                {
                    "align": "left",
                    "width": 2,
                    "value": 50,
                    "label": "Cutoff",
                    "color": "rgb(255,0,0)"
                }
            ]
        },
        "graphOrientation": "vertical",
        "graphType": "Bar",
        "smpOverlays": [
            "Drug Sensitivity"
        ],
        "smpTitle": "Cell Lines",
        "smpTitleFontStyle": "bold",
        "theme": "CanvasXpress",
        "title": "Random data set",
        "xAxis2Show": False
    },
    width=500,
    height=500,
    events=CXEvents(),
    after_render=[
        [
            "setDimensions",
            [
                613,
                613,
                True
            ]
        ]
    ],
    other_init_params={
        "version": 35,
        "events": False,
        "info": False,
        "afterRenderInit": False,
        "noValidate": True
    }
)

display = CXNoteBook(cx) 
display.render() 
"
   ]
  }
 ],
 "metadata": {
  "kernelspec": {
   "display_name": "Python 3",
   "language": "python",
   "name": "python3"
  },
  "language_info": {
   "codemirror_mode": {
    "name": "ipython",
    "version": 3
   },
   "file_extension": ".py",
   "mimetype": "text/x-python",
   "name": "python",
   "nbconvert_exporter": "python",
   "pygments_lexer": "ipython3",
   "version": "3.8.5"
  }
 },
 "nbformat": 4,
 "nbformat_minor": 4
}
