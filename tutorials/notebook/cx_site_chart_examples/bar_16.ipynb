{
 "cells": [
  {
   "cell_type": "markdown",
   "metadata": {
    "tags": []
   },
   "source": [
    "# Example: CanvasXpress bar Chart No. 16\n",
    "\n",
    "This example page demonstrates how to, using the Python package, create a chart that matches the CanvasXpress online example located at:\n",
    "\n",
    "https://www.canvasxpress.org/examples/bar-16.html\n",
    "\n",
    "This example is generated using the reproducible JSON obtained from the above page and the `canvasxpress.util.generator.generate_canvasxpress_code_from_json_file()` function.\n",
    "\n",
    "Everything required for the chart to render is included in the code below.  Simply run the code block."
   ]
  },
  {
   "cell_type": "code",
   "execution_count": null,
   "metadata": {},
   "outputs": [],
   "source": [
    "from canvasxpress.canvas import CanvasXpress 
from canvasxpress.js.collection import CXEvents 
from canvasxpress.render.jupyter import CXNoteBook 

cx = CanvasXpress(
    render_to="bar16",
    data={
        "y": {
            "vars": [
                "Topic"
            ],
            "smps": [
                "Birth",
                "Puberty",
                "Death",
                "Family",
                "Frienship",
                "Love",
                "Work",
                "Passion",
                "Environment"
            ],
            "data": [
                [
                    10,
                    12,
                    22,
                    31,
                    42,
                    27,
                    15,
                    15,
                    5
                ]
            ]
        },
        "x": {
            "Color": [
                "A",
                "A",
                "A",
                "B",
                "B",
                "B",
                "C",
                "C",
                "C"
            ]
        }
    },
    config={
        "background": "rgb(48,114,148)",
        "backgroundType": "solid",
        "barPath": True,
        "barPathColor": "rgb(48,126,164)",
        "barPathTransparency": 1,
        "colorBy": "Color",
        "colors": [
            "rgb(250,165,44)",
            "rgb(254,225,60)",
            "rgb(253,243,169)"
        ],
        "fontName": "Waltograph",
        "fontsExternal": [
            {
                "name": "Waltograph",
                "url": "https://www.canvasxpress.org/assets/fonts/waltograph42.otf"
            }
        ],
        "graphType": "Bar",
        "marginBottom": 50,
        "marginLeft": 50,
        "marginRight": 50,
        "marginTop": 50,
        "maxTextSize": 80,
        "objectBorderColor": "rgba(0,0,0,0.0)",
        "showLegend": False,
        "smpLabelFontColor": "rgb(255,255,255)",
        "smpLabelScaleFontFactor": 3,
        "title": "Friendship, Love, Family",
        "titleColor": "rgb(254,225,60)",
        "titleScaleFontFactor": 2.5,
        "widthFactor": 1.1,
        "xAxis2Show": False,
        "xAxisMajorTicks": False,
        "xAxisMinorTicks": False,
        "xAxisShow": False
    },
    width=500,
    height=500,
    events=CXEvents(),
    after_render=[
        [
            "setDimensions",
            [
                613,
                613,
                True
            ]
        ]
    ],
    other_init_params={
        "version": 35,
        "events": False,
        "info": False,
        "afterRenderInit": False,
        "noValidate": True
    }
)

display = CXNoteBook(cx) 
display.render("bar_16") 
"
   ]
  }
 ],
 "metadata": {
  "kernelspec": {
   "display_name": "Python 3",
   "language": "python",
   "name": "python3"
  },
  "language_info": {
   "codemirror_mode": {
    "name": "ipython",
    "version": 3
   },
   "file_extension": ".py",
   "mimetype": "text/x-python",
   "name": "python",
   "nbconvert_exporter": "python",
   "pygments_lexer": "ipython3",
   "version": "3.8.5"
  }
 },
 "nbformat": 4,
 "nbformat_minor": 4
}
