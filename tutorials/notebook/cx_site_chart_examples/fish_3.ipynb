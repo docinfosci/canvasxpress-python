{
 "cells": [
  {
   "cell_type": "markdown",
   "metadata": {
    "tags": []
   },
   "source": [
    "# Example: CanvasXpress fish Chart No. 3\n",
    "\n",
    "This example page demonstrates how to, using the Python package, create a chart that matches the CanvasXpress online example located at:\n",
    "\n",
    "https://www.canvasxpress.org/examples/fish-3.html\n",
    "\n",
    "This example is generated using the reproducible JSON obtained from the above page and the `canvasxpress.util.generator.generate_canvasxpress_code_from_json_file()` function.\n",
    "\n",
    "Everything required for the chart to render is included in the code below.  Simply run the code block."
   ]
  },
  {
   "cell_type": "code",
   "execution_count": null,
   "metadata": {},
   "outputs": [],
   "source": [
    "from canvasxpress.canvas import CanvasXpress 
from canvasxpress.js.collection import CXEvents 
from canvasxpress.render.jupyter import CXNoteBook 

cx = CanvasXpress(
    render_to="fish3",
    data={
        "y": {
            "vars": [
                "S1",
                "S2",
                "S3",
                "S4"
            ],
            "smps": [
                "Primary",
                "Post-AI"
            ],
            "data": [
                [
                    100,
                    100
                ],
                [
                    98,
                    44
                ],
                [
                    46,
                    1
                ],
                [
                    1,
                    55
                ]
            ]
        }
    },
    config={
        "backgroundType": "windowSolidGradient",
        "colorSpectrum": [
            "#ffe4c4",
            "#ffb90f",
            "#cd6600"
        ],
        "colors": [
            "#1B9E77",
            "#D95F02",
            "#7570B3",
            "#E7298A"
        ],
        "fishAxis": [
            0,
            120
        ],
        "fishAxisLabels": [
            "Primary",
            "Post-AI"
        ],
        "fishParents": "rgba(0,1,2,1)",
        "fishShape": "polygon",
        "fishTimepoints": [
            0,
            120
        ],
        "gradientOrientation": "horizontal",
        "graphType": "Fish",
        "title": "BRC32"
    },
    width=500,
    height=500,
    events=CXEvents(),
    after_render=[
        [
            "setDimensions",
            [
                613,
                413,
                True
            ]
        ]
    ],
    other_init_params={
        "version": 35,
        "events": False,
        "info": False,
        "afterRenderInit": False,
        "noValidate": True
    }
)

display = CXNoteBook(cx) 
display.render("fish_3") 
"
   ]
  }
 ],
 "metadata": {
  "kernelspec": {
   "display_name": "Python 3",
   "language": "python",
   "name": "python3"
  },
  "language_info": {
   "codemirror_mode": {
    "name": "ipython",
    "version": 3
   },
   "file_extension": ".py",
   "mimetype": "text/x-python",
   "name": "python",
   "nbconvert_exporter": "python",
   "pygments_lexer": "ipython3",
   "version": "3.8.5"
  }
 },
 "nbformat": 4,
 "nbformat_minor": 4
}
