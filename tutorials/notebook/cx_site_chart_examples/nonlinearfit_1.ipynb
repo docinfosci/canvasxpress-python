{
 "cells": [
  {
   "cell_type": "markdown",
   "metadata": {
    "tags": []
   },
   "source": [
    "# Example: CanvasXpress nonlinearfit Chart No. 1\n",
    "\n",
    "This example page demonstrates how to, using the Python package, create a chart that matches the CanvasXpress online example located at:\n",
    "\n",
    "https://www.canvasxpress.org/examples/nonlinearfit-1.html\n",
    "\n",
    "This example is generated using the reproducible JSON obtained from the above page and the `canvasxpress.util.generator.generate_canvasxpress_code_from_json_file()` function.\n",
    "\n",
    "Everything required for the chart to render is included in the code below.  Simply run the code block."
   ]
  },
  {
   "cell_type": "code",
   "execution_count": null,
   "metadata": {},
   "outputs": [],
   "source": [
    "from canvasxpress.canvas import CanvasXpress 
from canvasxpress.js.collection import CXEvents 
from canvasxpress.render.jupyter import CXNoteBook 

cx = CanvasXpress(
    render_to="nonlinearfit1",
    data={
        "y": {
            "vars": [
                "S1",
                "S2",
                "S3",
                "S4",
                "S5",
                "S6",
                "S7",
                "S8",
                "S9",
                "S10",
                "S11",
                "S12"
            ],
            "smps": [
                "Concentration",
                "V1"
            ],
            "data": [
                [
                    0.0009,
                    172
                ],
                [
                    0.0018,
                    177
                ],
                [
                    0.0037,
                    160
                ],
                [
                    0.0073,
                    166
                ],
                [
                    0.0146,
                    211
                ],
                [
                    0.0293,
                    248
                ],
                [
                    0.0586,
                    269
                ],
                [
                    0.117,
                    283
                ],
                [
                    0.234,
                    298
                ],
                [
                    0.469,
                    314
                ],
                [
                    0.938,
                    328
                ],
                [
                    1.88,
                    316
                ]
            ]
        }
    },
    config={
        "decorations": {
            "nlfit": [
                {
                    "param": [
                        "164",
                        "313",
                        0.031,
                        -1.5,
                        1.2e-06,
                        1.9
                    ],
                    "type": "cst",
                    "label": "Custom Fit"
                },
                {
                    "type": "reg",
                    "param": [
                        "164",
                        "313",
                        0.031,
                        1.5,
                        1.2e-06,
                        1.9
                    ],
                    "label": "Regular Fit"
                }
            ]
        },
        "graphType": "Scatter2D",
        "setMaxY": 350,
        "setMinY": 100,
        "showDecorations": True,
        "theme": "CanvasXpress",
        "xAxisTransform": "log10",
        "xAxisTransformTicks": False,
        "yAxisExact": True
    },
    width=500,
    height=500,
    events=CXEvents(),
    after_render=[
        [
            "setDimensions",
            [
                613,
                613,
                True
            ]
        ]
    ],
    other_init_params={
        "version": 35,
        "events": False,
        "info": False,
        "afterRenderInit": False,
        "noValidate": True
    }
)

display = CXNoteBook(cx) 
display.render("nonlinearfit_1") 
"
   ]
  }
 ],
 "metadata": {
  "kernelspec": {
   "display_name": "Python 3",
   "language": "python",
   "name": "python3"
  },
  "language_info": {
   "codemirror_mode": {
    "name": "ipython",
    "version": 3
   },
   "file_extension": ".py",
   "mimetype": "text/x-python",
   "name": "python",
   "nbconvert_exporter": "python",
   "pygments_lexer": "ipython3",
   "version": "3.8.5"
  }
 },
 "nbformat": 4,
 "nbformat_minor": 4
}
