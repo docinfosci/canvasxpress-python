{
 "cells": [
  {
   "cell_type": "markdown",
   "metadata": {
    "tags": []
   },
   "source": [
    "# Example: CanvasXpress kaplanmeier Chart No. 2\n",
    "\n",
    "This example page demonstrates how to, using the Python package, create a chart that matches the CanvasXpress online example located at:\n",
    "\n",
    "https://www.canvasxpress.org/examples/kaplanmeier-2.html\n",
    "\n",
    "This example is generated using the reproducible JSON obtained from the above page and the `canvasxpress.util.generator.generate_canvasxpress_code_from_json_file()` function.\n",
    "\n",
    "Everything required for the chart to render is included in the code below.  Simply run the code block."
   ]
  },
  {
   "cell_type": "code",
   "execution_count": null,
   "metadata": {},
   "outputs": [],
   "source": [
    "from canvasxpress.canvas import CanvasXpress 
from canvasxpress.js.collection import CXEvents 
from canvasxpress.render.jupyter import CXNoteBook 

cx = CanvasXpress(
    render_to="kaplanmeier2",
    data={
        "y": {
            "vars": [
                "p1",
                "p2",
                "p3",
                "p4",
                "p5",
                "p6",
                "p7",
                "p8",
                "p9",
                "p10",
                "p11",
                "p12",
                "p13",
                "p14",
                "p15",
                "p16",
                "p17",
                "p18",
                "p19",
                "p20"
            ],
            "smps": [
                "Time",
                "Censor",
                "Censor1"
            ],
            "data": [
                [
                    24,
                    0,
                    1
                ],
                [
                    3,
                    1,
                    0
                ],
                [
                    11,
                    0,
                    1
                ],
                [
                    19,
                    0,
                    1
                ],
                [
                    24,
                    0,
                    1
                ],
                [
                    13,
                    0,
                    1
                ],
                [
                    14,
                    1,
                    0
                ],
                [
                    2,
                    0,
                    1
                ],
                [
                    18,
                    0,
                    1
                ],
                [
                    17,
                    0,
                    1
                ],
                [
                    24,
                    0,
                    1
                ],
                [
                    21,
                    0,
                    1
                ],
                [
                    12,
                    0,
                    1
                ],
                [
                    1,
                    1,
                    0
                ],
                [
                    10,
                    0,
                    1
                ],
                [
                    23,
                    1,
                    0
                ],
                [
                    6,
                    0,
                    1
                ],
                [
                    5,
                    1,
                    0
                ],
                [
                    9,
                    0,
                    1
                ],
                [
                    17,
                    1,
                    0
                ]
            ]
        }
    },
    config={
        "graphType": "Scatter2D",
        "showConfidenceIntervals": True,
        "showDecorations": True,
        "showLegend": False,
        "showTransition": False,
        "title": "Kaplan-Meier Plot"
    },
    width=500,
    height=500,
    events=CXEvents(),
    after_render=[
        [
            "setDimensions",
            [
                613,
                613,
                True
            ]
        ],
        [
            "addKaplanMeierCurve",
            [
                "Time",
                "Censor",
                null,
                null,
                null
            ]
        ]
    ],
    other_init_params={
        "version": 35,
        "events": False,
        "info": False,
        "afterRenderInit": False,
        "noValidate": True
    }
)

display = CXNoteBook(cx) 
display.render() 
"
   ]
  }
 ],
 "metadata": {
  "kernelspec": {
   "display_name": "Python 3",
   "language": "python",
   "name": "python3"
  },
  "language_info": {
   "codemirror_mode": {
    "name": "ipython",
    "version": 3
   },
   "file_extension": ".py",
   "mimetype": "text/x-python",
   "name": "python",
   "nbconvert_exporter": "python",
   "pygments_lexer": "ipython3",
   "version": "3.8.5"
  }
 },
 "nbformat": 4,
 "nbformat_minor": 4
}
