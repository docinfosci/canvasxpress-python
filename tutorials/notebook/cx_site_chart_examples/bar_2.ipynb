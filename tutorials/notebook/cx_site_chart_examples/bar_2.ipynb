{
 "cells": [
  {
   "cell_type": "markdown",
   "metadata": {
    "tags": []
   },
   "source": [
    "# Example: CanvasXpress bar Chart No. 2\n",
    "\n",
    "This example page demonstrates how to, using the Python package, create a chart that matches the CanvasXpress online example located at:\n",
    "\n",
    "https://www.canvasxpress.org/examples/bar-2.html\n",
    "\n",
    "This example is generated using the reproducible JSON obtained from the above page and the `canvasxpress.util.generator.generate_canvasxpress_code_from_json_file()` function.\n",
    "\n",
    "Everything required for the chart to render is included in the code below.  Simply run the code block."
   ]
  },
  {
   "cell_type": "code",
   "execution_count": null,
   "metadata": {},
   "outputs": [],
   "source": [
    "from canvasxpress.canvas import CanvasXpress 
from canvasxpress.js.collection import CXEvents 
from canvasxpress.render.jupyter import CXNoteBook 

cx = CanvasXpress(
    render_to="bar2",
    data={
        "y": {
            "vars": [
                "V1"
            ],
            "smps": [
                "S1",
                "S2",
                "S3"
            ],
            "data": [
                [
                    33,
                    44,
                    55
                ]
            ]
        }
    },
    config={
        "decorations": {
            "marker": [
                {
                    "fontSize": 12,
                    "text": "p < 0.01 ***",
                    "type": "annotation",
                    "variable": [
                        "V1"
                    ],
                    "sample": [
                        "S1"
                    ],
                    "id": "bar2-marker-0",
                    "vi": [
                        0
                    ],
                    "si": [
                        0
                    ],
                    "vi2": False,
                    "si2": False,
                    "b": [
                        53.8845703125,
                        39.800000000000004,
                        520.230859375,
                        528.4
                    ],
                    "len": 61.048828125,
                    "width": 12,
                    "tx": 140.5845703125,
                    "ty": 497.9205882352941,
                    "tx2": False,
                    "ty2": False,
                    "curX": 140.5845703125,
                    "curY": 494.2205882352941
                },
                {
                    "fontSize": 12,
                    "text": "p < 0.05 **",
                    "variable": [
                        "V1"
                    ],
                    "type": "annotation",
                    "sample": [
                        "S2"
                    ],
                    "id": "bar2-marker-1",
                    "vi": [
                        0
                    ],
                    "si": [
                        1
                    ],
                    "vi2": False,
                    "si2": False,
                    "b": [
                        53.8845703125,
                        39.800000000000004,
                        520.230859375,
                        528.4
                    ],
                    "len": 56.37890625,
                    "width": 12,
                    "tx": 313.98457031250007,
                    "ty": 284.2294117647059,
                    "tx2": False,
                    "ty2": False,
                    "curX": 313.98457031250007,
                    "curY": 280.5294117647059
                },
                {
                    "sample2": [
                        "S3"
                    ],
                    "text": "p < 0.01 ***",
                    "fontSize": 12,
                    "variable": [
                        "V1"
                    ],
                    "type": "comparison",
                    "sample": [
                        "S2"
                    ],
                    "variable2": [
                        "V1"
                    ],
                    "id": "bar2-marker-2",
                    "vi": [
                        0
                    ],
                    "si": [
                        1
                    ],
                    "vi2": [
                        0
                    ],
                    "si2": [
                        2
                    ],
                    "b": [
                        53.8845703125,
                        39.800000000000004,
                        520.230859375,
                        528.4
                    ],
                    "len": 61.048828125,
                    "width": 12,
                    "tx": 313.98457031250007,
                    "ty": 284.2294117647059,
                    "tx2": 487.38457031250005,
                    "ty2": 70.5382352941177,
                    "curX": 313.98457031250007,
                    "curY": 54.838235294117695
                }
            ]
        },
        "graphOrientation": "vertical",
        "graphType": "Bar",
        "showLegend": False,
        "smpLabelRotate": 90,
        "smpTitle": "Samples",
        "theme": "CanvasXpress",
        "title": "Simple Bar graph with annotations",
        "xAxisTitle": "Value"
    },
    width=500,
    height=500,
    events=CXEvents(),
    after_render=[
        [
            "setDimensions",
            [
                613,
                613,
                True
            ]
        ]
    ],
    other_init_params={
        "version": 35,
        "events": False,
        "info": False,
        "afterRenderInit": False,
        "noValidate": True
    }
)

display = CXNoteBook(cx) 
display.render() 
"
   ]
  }
 ],
 "metadata": {
  "kernelspec": {
   "display_name": "Python 3",
   "language": "python",
   "name": "python3"
  },
  "language_info": {
   "codemirror_mode": {
    "name": "ipython",
    "version": 3
   },
   "file_extension": ".py",
   "mimetype": "text/x-python",
   "name": "python",
   "nbconvert_exporter": "python",
   "pygments_lexer": "ipython3",
   "version": "3.8.5"
  }
 },
 "nbformat": 4,
 "nbformat_minor": 4
}
