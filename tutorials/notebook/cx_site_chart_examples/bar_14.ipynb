{
 "cells": [
  {
   "cell_type": "markdown",
   "metadata": {
    "tags": []
   },
   "source": [
    "# Example: CanvasXpress bar Chart No. 14\n",
    "\n",
    "This example page demonstrates how to, using the Python package, create a chart that matches the CanvasXpress online example located at:\n",
    "\n",
    "https://www.canvasxpress.org/examples/bar-14.html\n",
    "\n",
    "This example is generated using the reproducible JSON obtained from the above page and the `canvasxpress.util.generator.generate_canvasxpress_code_from_json_file()` function.\n",
    "\n",
    "Everything required for the chart to render is included in the code below.  Simply run the code block."
   ]
  },
  {
   "cell_type": "code",
   "execution_count": null,
   "metadata": {},
   "outputs": [],
   "source": [
    "from canvasxpress.canvas import CanvasXpress 
from canvasxpress.js.collection import CXEvents 
from canvasxpress.render.jupyter import CXNoteBook 

cx = CanvasXpress(
    render_to="bar14",
    data={
        "y": {
            "vars": [
                "Year"
            ],
            "smps": [
                "R1",
                "R2",
                "R3",
                "R4",
                "R5",
                "R6",
                "R7",
                "R8",
                "R9",
                "R10",
                "R11",
                "R12",
                "R13",
                "R14",
                "R15",
                "R16",
                "R17",
                "R18",
                "R19",
                "R20",
                "R21",
                "R22",
                "R23",
                "R24",
                "R25",
                "R26",
                "R27",
                "R28",
                "R29",
                "R30",
                "R31",
                "R32",
                "R33"
            ],
            "data": [
                [
                    1953,
                    1954,
                    1954,
                    1954,
                    1954,
                    1955,
                    1955,
                    1955,
                    1955,
                    1957,
                    1957,
                    1957,
                    1958,
                    1959,
                    1960,
                    1960,
                    1960,
                    1962,
                    1962,
                    1964,
                    1964,
                    1965,
                    1965,
                    1968,
                    1968,
                    1968,
                    1968,
                    1968,
                    1990,
                    1993,
                    1993,
                    1993,
                    1994
                ]
            ]
        },
        "x": {
            "Work": [
                "Roman Holiday",
                "Roman Holiday",
                "Roman Holiday",
                "Roman Holiday",
                "Ondine",
                "Sabrina",
                "Sabrina",
                "Henrietta Award for World Film Favorite",
                "Sabrina",
                "War and Peace",
                "War and Peace",
                "Love in the Afternoon",
                "Love in the Afternoon",
                "The Nun's Story",
                "The Nun's Story",
                "The Nun's Story",
                "The Nun's Story",
                "Breakfast at Tiffany's",
                "Breakfast at Tiffany's",
                "Charade",
                "My Fair Lady",
                "Charade",
                "My Fair Lady",
                "Wait Until Dark",
                "Two for the Road",
                "Wait Until Dark",
                "Wait Until Dark",
                "Special Tony Award",
                "Cecil B. DeMille Award",
                "Jean Hersholt Humanitarian Award",
                "Gardens of the World with Audrey Hepburn",
                "Life Achievement Award",
                "Audrey Hepburn's Enchanted Tales"
            ],
            "Result": [
                "Awarded",
                "Awarded",
                "Awarded",
                "Awarded",
                "Awarded",
                "Nominated",
                "Nominated",
                "Awarded",
                "Nominated",
                "Nominated",
                "Nominated",
                "Nominated",
                "Nominated",
                "Awarded",
                "Nominated",
                "Awarded",
                "Nominated",
                "Nominated",
                "Nominated",
                "Nominated",
                "Nominated",
                "Awarded",
                "Nominated",
                "Nominated",
                "Nominated",
                "Nominated",
                "Nominated",
                "Awarded",
                "Awarded",
                "Nominated",
                "Awarded",
                "Awarded",
                "Awarded"
            ],
            "Award": [
                "New York Film Critics Circle Awards",
                "Academy Awards",
                "Bafta",
                "Golden Globe Awards",
                "Tony Awards",
                "Academy Awards",
                "Bafta",
                "Golden Globe Awards",
                "New York Film Critics Circle Awards",
                "Bafta",
                "Golden Globe Awards",
                "New York Film Critics Circle Awards",
                "Golden Globe Awards",
                "New York Film Critics Circle Awards",
                "Academy Awards",
                "Bafta",
                "Golden Globe Awards",
                "Academy Awards",
                "Golden Globe Awards",
                "Golden Globe Awards",
                "New York Film Critics Circle Awards",
                "Bafta",
                "Golden Globe Awards",
                "Academy Awards",
                "Golden Globe Awards",
                "Golden Globe Awards",
                "New York Film Critics Circle Awards",
                "Tony Awards",
                "Golden Globe Awards",
                "Academy Awards",
                "Emmy Awards",
                "Screen Actors Guild Awards",
                "Grammy Awards"
            ]
        }
    },
    config={
        "colorBy": "Result",
        "colorScheme": "Greens",
        "graphType": "Bar",
        "groupingFactors": [
            "Award"
        ],
        "legendColumns": 2,
        "legendPosition": "top",
        "legendScaleFontFactor": 2,
        "maxSmpStringLen": 50,
        "showLegendTitle": False,
        "smpLabelScaleFontFactor": 2,
        "stackBy": "Result",
        "summaryType": "count",
        "title": "The Awards of Audrey Hepburn",
        "xAxisShow": False
    },
    width=500,
    height=500,
    events=CXEvents(),
    after_render=[
        [
            "setDimensions",
            [
                996,
                524,
                null,
                null,
                null,
                null
            ]
        ]
    ],
    other_init_params={
        "version": 35,
        "events": False,
        "info": False,
        "afterRenderInit": False,
        "noValidate": True
    }
)

display = CXNoteBook(cx) 
display.render("bar_14") 
"
   ]
  }
 ],
 "metadata": {
  "kernelspec": {
   "display_name": "Python 3",
   "language": "python",
   "name": "python3"
  },
  "language_info": {
   "codemirror_mode": {
    "name": "ipython",
    "version": 3
   },
   "file_extension": ".py",
   "mimetype": "text/x-python",
   "name": "python",
   "nbconvert_exporter": "python",
   "pygments_lexer": "ipython3",
   "version": "3.8.5"
  }
 },
 "nbformat": 4,
 "nbformat_minor": 4
}
