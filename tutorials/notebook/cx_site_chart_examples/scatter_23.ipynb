{
 "cells": [
  {
   "cell_type": "markdown",
   "metadata": {
    "tags": []
   },
   "source": [
    "# Example: CanvasXpress scatter Chart No. 23\n",
    "\n",
    "This example page demonstrates how to, using the Python package, create a chart that matches the CanvasXpress online example located at:\n",
    "\n",
    "https://www.canvasxpress.org/examples/scatter-23.html\n",
    "\n",
    "This example is generated using the reproducible JSON obtained from the above page and the `canvasxpress.util.generator.generate_canvasxpress_code_from_json_file()` function.\n",
    "\n",
    "Everything required for the chart to render is included in the code below.  Simply run the code block."
   ]
  },
  {
   "cell_type": "code",
   "execution_count": null,
   "metadata": {},
   "outputs": [],
   "source": [
    "from canvasxpress.canvas import CanvasXpress 
from canvasxpress.js.collection import CXEvents 
from canvasxpress.render.jupyter import CXNoteBook 

cx = CanvasXpress(
    render_to="scatter2d3",
    data={
        "y": {
            "vars": [
                "V1",
                "V2",
                "V3",
                "V4",
                "V5",
                "V6",
                "V7",
                "V8",
                "V9",
                "V10",
                "V11",
                "V12",
                "V13",
                "V14",
                "V15",
                "V16",
                "V17",
                "V18",
                "V19",
                "V20",
                "V21",
                "V22"
            ],
            "smps": [
                "E",
                "NOx"
            ],
            "data": [
                [
                    0.665,
                    1.561
                ],
                [
                    0.701,
                    1.99
                ],
                [
                    0.71,
                    2.118
                ],
                [
                    0.767,
                    3.834
                ],
                [
                    0.801,
                    4.602
                ],
                [
                    0.807,
                    5.199
                ],
                [
                    0.825,
                    4.255
                ],
                [
                    0.831,
                    4.818
                ],
                [
                    0.891,
                    5.064
                ],
                [
                    0.902,
                    5.283
                ],
                [
                    0.928,
                    5.344
                ],
                [
                    0.97,
                    4.691
                ],
                [
                    0.973,
                    5.055
                ],
                [
                    0.98,
                    4.937
                ],
                [
                    0.997,
                    3.752
                ],
                [
                    1,
                    3.965
                ],
                [
                    1.021,
                    3.275
                ],
                [
                    1.045,
                    2.849
                ],
                [
                    1.074,
                    2.286
                ],
                [
                    1.089,
                    1.64
                ],
                [
                    1.148,
                    0.97
                ],
                [
                    1.224,
                    0.537
                ]
            ]
        }
    },
    config={
        "graphType": "Scatter2D",
        "showConfidenceIntervals": True,
        "showLoessFit": True,
        "theme": "CanvasXpress",
        "title": "Loess Fit",
        "xAxis": [
            "E"
        ],
        "yAxis": [
            "NOx"
        ]
    },
    width=500,
    height=500,
    events=CXEvents(),
    after_render=[
        [
            "setDimensions",
            [
                613,
                613,
                True
            ]
        ]
    ],
    other_init_params={
        "version": 35,
        "events": False,
        "info": False,
        "afterRenderInit": False,
        "noValidate": True
    }
)

display = CXNoteBook(cx) 
display.render("scatter_23") 
"
   ]
  }
 ],
 "metadata": {
  "kernelspec": {
   "display_name": "Python 3",
   "language": "python",
   "name": "python3"
  },
  "language_info": {
   "codemirror_mode": {
    "name": "ipython",
    "version": 3
   },
   "file_extension": ".py",
   "mimetype": "text/x-python",
   "name": "python",
   "nbconvert_exporter": "python",
   "pygments_lexer": "ipython3",
   "version": "3.8.5"
  }
 },
 "nbformat": 4,
 "nbformat_minor": 4
}
