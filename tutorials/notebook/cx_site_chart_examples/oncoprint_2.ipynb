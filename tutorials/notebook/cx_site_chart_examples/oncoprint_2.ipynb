{
 "cells": [
  {
   "cell_type": "markdown",
   "metadata": {
    "tags": []
   },
   "source": [
    "# Example: CanvasXpress oncoprint Chart No. 2\n",
    "\n",
    "This example page demonstrates how to, using the Python package, create a chart that matches the CanvasXpress online example located at:\n",
    "\n",
    "https://www.canvasxpress.org/examples/oncoprint-2.html\n",
    "\n",
    "This example is generated using the reproducible JSON obtained from the above page and the `canvasxpress.util.generator.generate_canvasxpress_code_from_json_file()` function.\n",
    "\n",
    "Everything required for the chart to render is included in the code below.  Simply run the code block."
   ]
  },
  {
   "cell_type": "code",
   "execution_count": null,
   "metadata": {},
   "outputs": [],
   "source": [
    "from canvasxpress.canvas import CanvasXpress 
from canvasxpress.js.collection import CXEvents 
from canvasxpress.render.jupyter import CXNoteBook 

cx = CanvasXpress(
    render_to="oncoprint2",
    data={
        "y": {
            "smps": [
                "V1",
                "V2",
                "V3"
            ],
            "vars": [
                "S1",
                "S2",
                "S3",
                "S4",
                "S5",
                "S6",
                "S7",
                "S8",
                "S9"
            ],
            "data": [
                [
                    3.1,
                    3.5,
                    4
                ],
                [
                    3,
                    7.4,
                    4.1
                ],
                [
                    2.8,
                    3.1,
                    3.3
                ],
                [
                    2.3,
                    2.4,
                    2.1
                ],
                [
                    4.9,
                    6.1,
                    6.1
                ],
                [
                    1.9,
                    2.1,
                    0.1
                ],
                [
                    2.2,
                    1.9,
                    2.1
                ],
                [
                    1.7,
                    2.1,
                    0.2
                ],
                [
                    0.2,
                    4.9,
                    3.9
                ]
            ],
            "data2": [
                [
                    "",
                    "",
                    "Amplification"
                ],
                [
                    "",
                    "Amplification",
                    ""
                ],
                [
                    "",
                    "",
                    ""
                ],
                [
                    "",
                    "",
                    ""
                ],
                [
                    "",
                    "Amplification",
                    "Amplification"
                ],
                [
                    "",
                    "",
                    ""
                ],
                [
                    "",
                    "",
                    ""
                ],
                [
                    "",
                    "",
                    "Deletion"
                ],
                [
                    "Deletion",
                    "Amplification",
                    ""
                ]
            ],
            "data3": [
                [
                    "",
                    "",
                    "Missence"
                ],
                [
                    "",
                    "",
                    "Truncating"
                ],
                [
                    "Nonsense",
                    "",
                    ""
                ],
                [
                    "",
                    "Missence",
                    ""
                ],
                [
                    "",
                    "Truncating",
                    ""
                ],
                [
                    "",
                    "Nonsense",
                    ""
                ],
                [
                    "",
                    "",
                    ""
                ],
                [
                    "Missence",
                    "",
                    ""
                ],
                [
                    "",
                    "",
                    ""
                ]
            ],
            "data4": [
                [
                    "",
                    "A",
                    ""
                ],
                [
                    "",
                    "A",
                    ""
                ],
                [
                    "",
                    "A",
                    ""
                ],
                [
                    "",
                    "A",
                    ""
                ],
                [
                    "",
                    "B",
                    ""
                ],
                [
                    "",
                    "B",
                    ""
                ],
                [
                    "",
                    "",
                    "B"
                ],
                [
                    "",
                    "",
                    "B"
                ],
                [
                    "B",
                    "",
                    ""
                ]
            ]
        },
        "z": {
            "Factor": [
                "Lev:1",
                "Lev:2",
                "Lev:1",
                "Lev:2",
                "Lev:1",
                "Lev:2",
                "Lev:1",
                "Lev:2",
                "Lev:1"
            ]
        },
        "x": {
            "Annt1": [
                "Desc:1",
                "Desc:2",
                "Desc:1"
            ],
            "Annt2": [
                23,
                34,
                52
            ],
            "Annt3": [
                12,
                14,
                34
            ],
            "Annt4": [
                8,
                14,
                14
            ],
            "Annt5": [
                17,
                9,
                18
            ]
        }
    },
    config={
        "graphType": "Heatmap",
        "oncoprintCNA": "data2",
        "oncoprintMUT": "data3",
        "showTransition": False,
        "smpOverlayProperties": {
            "Annt4": {
                "type": "Stacked",
                "color": "rgb(255,140,2)",
                "spectrum": [
                    "rgb(69,117,180)",
                    "rgb(145,191,219)",
                    "rgb(224,243,248)",
                    "rgb(255,255,191)",
                    "rgb(254,224,144)",
                    "rgb(252,141,89)",
                    "rgb(215,48,39)"
                ],
                "scheme": "User",
                "showLegend": True,
                "showName": True,
                "showBox": True,
                "rotate": False,
                "position": "left"
            },
            "Annt2": {
                "position": "right",
                "type": "Bar",
                "color": "rgb(167,206,49)",
                "spectrum": [
                    "rgb(69,117,180)",
                    "rgb(145,191,219)",
                    "rgb(224,243,248)",
                    "rgb(255,255,191)",
                    "rgb(254,224,144)",
                    "rgb(252,141,89)",
                    "rgb(215,48,39)"
                ],
                "scheme": "User",
                "showLegend": True,
                "showName": True,
                "showBox": True,
                "rotate": False
            },
            "Annt3": {
                "type": "Stacked",
                "color": "rgb(248,204,3)",
                "spectrum": [
                    "rgb(69,117,180)",
                    "rgb(145,191,219)",
                    "rgb(224,243,248)",
                    "rgb(255,255,191)",
                    "rgb(254,224,144)",
                    "rgb(252,141,89)",
                    "rgb(215,48,39)"
                ],
                "scheme": "User",
                "showLegend": True,
                "showName": True,
                "showBox": True,
                "rotate": False,
                "position": "left"
            },
            "Annt5": {
                "type": "Stacked",
                "color": "rgb(105,150,150)",
                "spectrum": [
                    "rgb(69,117,180)",
                    "rgb(145,191,219)",
                    "rgb(224,243,248)",
                    "rgb(255,255,191)",
                    "rgb(254,224,144)",
                    "rgb(252,141,89)",
                    "rgb(215,48,39)"
                ],
                "scheme": "User",
                "showLegend": True,
                "showName": True,
                "showBox": True,
                "rotate": False,
                "position": "left"
            },
            "": {
                "type": "Stacked",
                "position": "right",
                "thickness": 80,
                "color": "#edf8e9",
                "showName": False,
                "showBox": False
            },
            "Amplification": {
                "type": "Stacked",
                "position": "right",
                "thickness": 80,
                "color": "rgb(255,0,0)",
                "showName": False,
                "showBox": False
            },
            "Deletion": {
                "type": "Stacked",
                "position": "right",
                "thickness": 80,
                "color": "rgb(0,0,255)",
                "showName": False,
                "showBox": False
            },
            "Missence": {
                "type": "Stacked",
                "position": "right",
                "thickness": 80,
                "color": "#bae4b3",
                "showName": False,
                "showBox": False
            },
            "Nonsense": {
                "type": "Stacked",
                "position": "right",
                "thickness": 80,
                "color": "#74c476",
                "showName": False,
                "showBox": False
            },
            "Truncating": {
                "type": "Stacked",
                "position": "right",
                "thickness": 80,
                "color": "#238b45",
                "showName": False,
                "showBox": False
            },
            "% Altered-Smps": {
                "type": "Text",
                "position": "left",
                "thickness": 35,
                "showName": False,
                "rotate": True
            },
            "Annt1": {
                "type": "Default",
                "color": "rgb(254,41,108)",
                "spectrum": [
                    "rgb(69,117,180)",
                    "rgb(145,191,219)",
                    "rgb(224,243,248)",
                    "rgb(255,255,191)",
                    "rgb(254,224,144)",
                    "rgb(252,141,89)",
                    "rgb(215,48,39)"
                ],
                "scheme": "User",
                "showLegend": True,
                "showName": True,
                "showBox": True,
                "rotate": False,
                "position": "left"
            }
        },
        "smpOverlays": [
            "Annt1",
            "-",
            "Annt2",
            "Annt3",
            "Annt4",
            "Annt5"
        ]
    },
    width=500,
    height=500,
    events=CXEvents(),
    after_render=[
        [
            "setDimensions",
            [
                613,
                613,
                True
            ]
        ]
    ],
    other_init_params={
        "version": 35,
        "events": False,
        "info": False,
        "afterRenderInit": False,
        "noValidate": True
    }
)

display = CXNoteBook(cx) 
display.render("oncoprint_2") 
"
   ]
  }
 ],
 "metadata": {
  "kernelspec": {
   "display_name": "Python 3",
   "language": "python",
   "name": "python3"
  },
  "language_info": {
   "codemirror_mode": {
    "name": "ipython",
    "version": 3
   },
   "file_extension": ".py",
   "mimetype": "text/x-python",
   "name": "python",
   "nbconvert_exporter": "python",
   "pygments_lexer": "ipython3",
   "version": "3.8.5"
  }
 },
 "nbformat": 4,
 "nbformat_minor": 4
}
