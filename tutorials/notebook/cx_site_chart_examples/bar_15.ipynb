{
 "cells": [
  {
   "cell_type": "markdown",
   "metadata": {
    "tags": []
   },
   "source": [
    "# Example: CanvasXpress bar Chart No. 15\n",
    "\n",
    "This example page demonstrates how to, using the Python package, create a chart that matches the CanvasXpress online example located at:\n",
    "\n",
    "https://www.canvasxpress.org/examples/bar-15.html\n",
    "\n",
    "This example is generated using the reproducible JSON obtained from the above page and the `canvasxpress.util.generator.generate_canvasxpress_code_from_json_file()` function.\n",
    "\n",
    "Everything required for the chart to render is included in the code below.  Simply run the code block."
   ]
  },
  {
   "cell_type": "code",
   "execution_count": null,
   "metadata": {},
   "outputs": [],
   "source": [
    "from canvasxpress.canvas import CanvasXpress 
from canvasxpress.js.collection import CXEvents 
from canvasxpress.render.jupyter import CXNoteBook 

cx = CanvasXpress(
    render_to="bar15",
    data={
        "y": {
            "vars": [
                "Total"
            ],
            "smps": [
                "30s",
                "40s",
                "50s",
                "60s",
                "70s",
                "80s",
                "90s",
                "00s",
                "10s",
                "20s"
            ],
            "data": [
                [
                    1,
                    3,
                    5,
                    3,
                    3,
                    4,
                    10,
                    17,
                    11,
                    3
                ]
            ]
        }
    },
    config={
        "background": "rgb(48,114,148)",
        "backgroundType": "solid",
        "colorScheme": "Blues",
        "colors": [
            "rgb(75,179,216)"
        ],
        "fontName": "Waltograph",
        "fontsExternal": [
            {
                "url": "https://www.canvasxpress.org/assets/fonts/waltograph42.otf",
                "name": "Waltograph"
            }
        ],
        "graphOrientation": "vertical",
        "graphType": "Bar",
        "marginBottom": 50,
        "marginLeft": 50,
        "marginRight": 50,
        "marginTop": 50,
        "maxTextSize": 80,
        "objectBorderColor": "rgba(0,0,0,0.0)",
        "showLegend": False,
        "smpLabelFontColor": "rgb(255,255,255)",
        "smpLabelRotate": 90,
        "smpLabelScaleFontFactor": 1.5,
        "title": "Animation Movies",
        "titleColor": "rgb(255,255,255)",
        "titleScaleFontFactor": 2.5,
        "widthFactor": 1.1,
        "xAxis2Show": False,
        "xAxisMajorTicks": False,
        "xAxisMinorTicks": False,
        "xAxisShow": False
    },
    width=500,
    height=500,
    events=CXEvents(),
    after_render=[
        [
            "setDimensions",
            [
                613,
                400,
                True
            ]
        ]
    ],
    other_init_params={
        "version": 35,
        "events": False,
        "info": False,
        "afterRenderInit": False,
        "noValidate": True
    }
)

display = CXNoteBook(cx) 
display.render() 
"
   ]
  }
 ],
 "metadata": {
  "kernelspec": {
   "display_name": "Python 3",
   "language": "python",
   "name": "python3"
  },
  "language_info": {
   "codemirror_mode": {
    "name": "ipython",
    "version": 3
   },
   "file_extension": ".py",
   "mimetype": "text/x-python",
   "name": "python",
   "nbconvert_exporter": "python",
   "pygments_lexer": "ipython3",
   "version": "3.8.5"
  }
 },
 "nbformat": 4,
 "nbformat_minor": 4
}
