{
 "cells": [
  {
   "cell_type": "markdown",
   "metadata": {
    "tags": []
   },
   "source": [
    "# Example: CanvasXpress heatmap Chart No. 10\n",
    "\n",
    "This example page demonstrates how to, using the Python package, create a chart that matches the CanvasXpress online example located at:\n",
    "\n",
    "https://www.canvasxpress.org/examples/heatmap-10.html\n",
    "\n",
    "This example is generated using the reproducible JSON obtained from the above page and the `canvasxpress.util.generator.generate_canvasxpress_code_from_json_file()` function.\n",
    "\n",
    "Everything required for the chart to render is included in the code below.  Simply run the code block."
   ]
  },
  {
   "cell_type": "code",
   "execution_count": null,
   "metadata": {},
   "outputs": [],
   "source": [
    "from canvasxpress.canvas import CanvasXpress 
from canvasxpress.js.collection import CXEvents 
from canvasxpress.render.jupyter import CXNoteBook 

cx = CanvasXpress(
    render_to="heatmap10",
    data={
        "y": {
            "vars": [
                "V1",
                "V2",
                "V3",
                "V4",
                "V5"
            ],
            "smps": [
                "S1",
                "S2",
                "S3",
                "S4",
                "S5",
                "S6",
                "S7",
                "S8",
                "S9",
                "S10"
            ],
            "data": [
                [
                    1,
                    2,
                    3,
                    4,
                    5,
                    6,
                    7,
                    8,
                    9,
                    10
                ],
                [
                    10,
                    9,
                    8,
                    7,
                    6,
                    5,
                    4,
                    3,
                    2,
                    1
                ],
                [
                    1,
                    2,
                    3,
                    4,
                    5,
                    6,
                    7,
                    8,
                    9,
                    10
                ],
                [
                    10,
                    9,
                    8,
                    7,
                    6,
                    5,
                    4,
                    3,
                    2,
                    1
                ],
                [
                    1,
                    2,
                    3,
                    4,
                    5,
                    6,
                    7,
                    8,
                    9,
                    10
                ]
            ],
            "data2": [
                [
                    1,
                    1,
                    2,
                    2,
                    3,
                    3,
                    4,
                    4,
                    5,
                    5
                ],
                [
                    6,
                    6,
                    7,
                    7,
                    8,
                    8,
                    9,
                    9,
                    10,
                    10
                ],
                [
                    10,
                    10,
                    9,
                    9,
                    8,
                    8,
                    7,
                    7,
                    6,
                    6
                ],
                [
                    5,
                    5,
                    4,
                    4,
                    3,
                    3,
                    2,
                    2,
                    1,
                    1
                ],
                [
                    3,
                    3,
                    4,
                    4,
                    5,
                    5,
                    6,
                    6,
                    7,
                    7
                ]
            ],
            "data3": [
                [
                    "A",
                    "A",
                    "B",
                    "B",
                    "C",
                    "C",
                    "D",
                    "D",
                    "E",
                    "E"
                ],
                [
                    "E",
                    "E",
                    "D",
                    "D",
                    "C",
                    "C",
                    "B",
                    "B",
                    "A",
                    "A"
                ],
                [
                    "A",
                    "A",
                    "B",
                    "B",
                    "C",
                    "C",
                    "D",
                    "D",
                    "E",
                    "E"
                ],
                [
                    "E",
                    "E",
                    "D",
                    "D",
                    "C",
                    "C",
                    "B",
                    "B",
                    "A",
                    "A"
                ],
                [
                    "A",
                    "A",
                    "B",
                    "B",
                    "C",
                    "C",
                    "D",
                    "D",
                    "E",
                    "E"
                ]
            ],
            "data4": [
                [
                    "A",
                    "A",
                    "B",
                    "B",
                    "A",
                    "A",
                    "B",
                    "B",
                    "A",
                    "A"
                ],
                [
                    "B",
                    "B",
                    "A",
                    "A",
                    "B",
                    "B",
                    "A",
                    "A",
                    "B",
                    "B"
                ],
                [
                    "A",
                    "A",
                    "B",
                    "B",
                    "A",
                    "A",
                    "B",
                    "B",
                    "A",
                    "A"
                ],
                [
                    "B",
                    "B",
                    "A",
                    "A",
                    "B",
                    "B",
                    "A",
                    "A",
                    "B",
                    "B"
                ],
                [
                    "A",
                    "A",
                    "B",
                    "B",
                    "A",
                    "A",
                    "B",
                    "B",
                    "A",
                    "A"
                ]
            ]
        },
        "x": {
            "Factor": [
                "Lev:1",
                "Lev:2",
                "Lev:1",
                "Lev:2",
                "Lev:1",
                "Lev:2",
                "Lev:1",
                "Lev:2",
                "Lev:1",
                "Lev:2"
            ]
        },
        "z": {
            "Annt": [
                "Desc:1",
                "Desc:2",
                "Desc:1",
                "Desc:2",
                "Desc:1",
                "Desc:2",
                "Desc:1",
                "Desc:2",
                "Desc:1",
                "Desc:2"
            ]
        }
    },
    config={
        "graphType": "Heatmap",
        "guides": True,
        "outlineBy": "Outline",
        "outlineByData": "data2",
        "shapeBy": "Shape",
        "shapeByData": "data3",
        "sizeBy": "Size",
        "sizeByData": "data4"
    },
    width=500,
    height=500,
    events=CXEvents(),
    after_render=[
        [
            "setDimensions",
            [
                613,
                613,
                True
            ]
        ],
        [
            "clusterSamples",
            [
                null,
                null
            ]
        ]
    ],
    other_init_params={
        "version": 35,
        "events": False,
        "info": False,
        "afterRenderInit": False,
        "noValidate": True
    }
)

display = CXNoteBook(cx) 
display.render() 
"
   ]
  }
 ],
 "metadata": {
  "kernelspec": {
   "display_name": "Python 3",
   "language": "python",
   "name": "python3"
  },
  "language_info": {
   "codemirror_mode": {
    "name": "ipython",
    "version": 3
   },
   "file_extension": ".py",
   "mimetype": "text/x-python",
   "name": "python",
   "nbconvert_exporter": "python",
   "pygments_lexer": "ipython3",
   "version": "3.8.5"
  }
 },
 "nbformat": 4,
 "nbformat_minor": 4
}
