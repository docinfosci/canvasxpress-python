{
 "cells": [
  {
   "cell_type": "markdown",
   "metadata": {
    "tags": []
   },
   "source": [
    "# Example: CanvasXpress ridgeline Chart No. 7\n",
    "\n",
    "This example page demonstrates how to, using the Python package, create a chart that matches the CanvasXpress online example located at:\n",
    "\n",
    "https://www.canvasxpress.org/examples/ridgeline-7.html\n",
    "\n",
    "This example is generated using the reproducible JSON obtained from the above page and the `canvasxpress.util.generator.generate_canvasxpress_code_from_json_file()` function.\n",
    "\n",
    "Everything required for the chart to render is included in the code below.  Simply run the code block."
   ]
  },
  {
   "cell_type": "code",
   "execution_count": null,
   "metadata": {},
   "outputs": [],
   "source": [
    "from canvasxpress.canvas import CanvasXpress 
from canvasxpress.js.collection import CXEvents 
from canvasxpress.render.jupyter import CXNoteBook 

cx = CanvasXpress(
    render_to="ridgeline7",
    data={
        "y": {
            "vars": [
                "0",
                "1",
                "2",
                "3",
                "4",
                "5",
                "6",
                "7",
                "8",
                "9",
                "10",
                "11",
                "12",
                "13",
                "14",
                "15",
                "16",
                "17",
                "18",
                "19",
                "20",
                "21",
                "22",
                "23",
                "24",
                "25",
                "26",
                "27",
                "28",
                "29",
                "30",
                "31",
                "32",
                "33",
                "34",
                "35",
                "36",
                "37",
                "38",
                "39",
                "40",
                "41",
                "42",
                "43"
            ],
            "smps": [
                "x",
                "y"
            ],
            "data": [
                [
                    10,
                    8.04
                ],
                [
                    8,
                    6.95
                ],
                [
                    13,
                    7.58
                ],
                [
                    9,
                    8.81
                ],
                [
                    11,
                    8.33
                ],
                [
                    14,
                    9.96
                ],
                [
                    6,
                    7.24
                ],
                [
                    4,
                    4.26
                ],
                [
                    12,
                    10.84
                ],
                [
                    7,
                    4.82
                ],
                [
                    5,
                    5.68
                ],
                [
                    10,
                    9.14
                ],
                [
                    8,
                    8.14
                ],
                [
                    13,
                    8.74
                ],
                [
                    9,
                    8.77
                ],
                [
                    11,
                    9.26
                ],
                [
                    14,
                    8.1
                ],
                [
                    6,
                    6.13
                ],
                [
                    4,
                    3.1
                ],
                [
                    12,
                    9.13
                ],
                [
                    7,
                    7.26
                ],
                [
                    5,
                    4.74
                ],
                [
                    10,
                    7.46
                ],
                [
                    8,
                    6.77
                ],
                [
                    13,
                    12.74
                ],
                [
                    9,
                    7.11
                ],
                [
                    11,
                    7.81
                ],
                [
                    14,
                    8.84
                ],
                [
                    6,
                    6.08
                ],
                [
                    4,
                    5.39
                ],
                [
                    12,
                    8.15
                ],
                [
                    7,
                    6.42
                ],
                [
                    5,
                    5.73
                ],
                [
                    8,
                    6.58
                ],
                [
                    8,
                    5.76
                ],
                [
                    8,
                    7.71
                ],
                [
                    8,
                    8.84
                ],
                [
                    8,
                    8.47
                ],
                [
                    8,
                    7.04
                ],
                [
                    8,
                    5.25
                ],
                [
                    19,
                    12.5
                ],
                [
                    8,
                    5.56
                ],
                [
                    8,
                    7.91
                ],
                [
                    8,
                    6.89
                ]
            ]
        },
        "z": {
            "dataset": [
                "I",
                "I",
                "I",
                "I",
                "I",
                "I",
                "I",
                "I",
                "I",
                "I",
                "I",
                "II",
                "II",
                "II",
                "II",
                "II",
                "II",
                "II",
                "II",
                "II",
                "II",
                "II",
                "III",
                "III",
                "III",
                "III",
                "III",
                "III",
                "III",
                "III",
                "III",
                "III",
                "III",
                "IV",
                "IV",
                "IV",
                "IV",
                "IV",
                "IV",
                "IV",
                "IV",
                "IV",
                "IV",
                "IV"
            ]
        }
    },
    config={
        "graphType": "Scatter2D",
        "hideHistogram": True,
        "ridgeBy": "dataset",
        "showFilledHistogramDensity": True,
        "showHistogramDensity": True
    },
    width=500,
    height=500,
    events=CXEvents(),
    after_render=[
        [
            "setDimensions",
            [
                613,
                613,
                True
            ]
        ],
        [
            "createHistogram",
            [
                "dataset",
                null,
                null
            ]
        ]
    ],
    other_init_params={
        "version": 35,
        "events": False,
        "info": False,
        "afterRenderInit": False,
        "noValidate": True
    }
)

display = CXNoteBook(cx) 
display.render() 
"
   ]
  }
 ],
 "metadata": {
  "kernelspec": {
   "display_name": "Python 3",
   "language": "python",
   "name": "python3"
  },
  "language_info": {
   "codemirror_mode": {
    "name": "ipython",
    "version": 3
   },
   "file_extension": ".py",
   "mimetype": "text/x-python",
   "name": "python",
   "nbconvert_exporter": "python",
   "pygments_lexer": "ipython3",
   "version": "3.8.5"
  }
 },
 "nbformat": 4,
 "nbformat_minor": 4
}
