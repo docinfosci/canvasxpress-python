{
 "cells": [
  {
   "cell_type": "markdown",
   "metadata": {
    "tags": []
   },
   "source": [
    "# Example: CanvasXpress contour Chart No. 4\n",
    "\n",
    "This example page demonstrates how to, using the Python package, create a chart that matches the CanvasXpress online example located at:\n",
    "\n",
    "https://www.canvasxpress.org/examples/contour-4.html\n",
    "\n",
    "This example is generated using the reproducible JSON obtained from the above page and the `canvasxpress.util.generator.generate_canvasxpress_code_from_json_file()` function.\n",
    "\n",
    "Everything required for the chart to render is included in the code below.  Simply run the code block."
   ]
  },
  {
   "cell_type": "code",
   "execution_count": null,
   "metadata": {},
   "outputs": [],
   "source": [
    "from canvasxpress.canvas import CanvasXpress 
from canvasxpress.js.collection import CXEvents 
from canvasxpress.render.jupyter import CXNoteBook 

cx = CanvasXpress(
    render_to="contour4",
    data={
        "y": {
            "smps": [
                "s1",
                "s2",
                "s3"
            ],
            "vars": [
                "v1",
                "v2",
                "v3",
                "v4",
                "v5",
                "v6",
                "v7",
                "v8",
                "v9",
                "v10",
                "v11",
                "v12",
                "v13",
                "v14",
                "v15",
                "v16",
                "v17",
                "v18",
                "v19",
                "v20",
                "v21",
                "v22",
                "v23",
                "v24",
                "v25"
            ],
            "data": [
                [
                    -9,
                    0,
                    10
                ],
                [
                    -9,
                    1,
                    10.625
                ],
                [
                    -9,
                    4,
                    12.5
                ],
                [
                    -9,
                    5,
                    15.625
                ],
                [
                    -9,
                    7,
                    20
                ],
                [
                    -6,
                    0,
                    5.625
                ],
                [
                    -6,
                    1,
                    6.25
                ],
                [
                    -6,
                    4,
                    8.125
                ],
                [
                    -6,
                    5,
                    11.25
                ],
                [
                    -6,
                    7,
                    15.625
                ],
                [
                    -5,
                    0,
                    2.5
                ],
                [
                    -5,
                    1,
                    3.125
                ],
                [
                    -5,
                    4,
                    5
                ],
                [
                    -5,
                    5,
                    8.125
                ],
                [
                    -5,
                    7,
                    12.5
                ],
                [
                    -3,
                    0,
                    0.625
                ],
                [
                    -3,
                    1,
                    1.25
                ],
                [
                    -3,
                    4,
                    3.125
                ],
                [
                    -3,
                    5,
                    6.25
                ],
                [
                    -3,
                    7,
                    10.625
                ],
                [
                    -1,
                    0,
                    0
                ],
                [
                    -1,
                    1,
                    0.625
                ],
                [
                    -1,
                    4,
                    2.5
                ],
                [
                    -1,
                    5,
                    6.625
                ],
                [
                    -1,
                    7,
                    10
                ]
            ]
        }
    },
    config={
        "contourType": "color",
        "graphType": "ScatterBubble2D",
        "title": "Custom Contour Plot"
    },
    width=500,
    height=500,
    events=CXEvents(),
    after_render=[
        [
            "setDimensions",
            [
                613,
                613,
                True
            ]
        ],
        [
            "createContour",
            []
        ]
    ],
    other_init_params={
        "version": 35,
        "events": False,
        "info": False,
        "afterRenderInit": False,
        "noValidate": True
    }
)

display = CXNoteBook(cx) 
display.render("contour_4") 
"
   ]
  }
 ],
 "metadata": {
  "kernelspec": {
   "display_name": "Python 3",
   "language": "python",
   "name": "python3"
  },
  "language_info": {
   "codemirror_mode": {
    "name": "ipython",
    "version": 3
   },
   "file_extension": ".py",
   "mimetype": "text/x-python",
   "name": "python",
   "nbconvert_exporter": "python",
   "pygments_lexer": "ipython3",
   "version": "3.8.5"
  }
 },
 "nbformat": 4,
 "nbformat_minor": 4
}
