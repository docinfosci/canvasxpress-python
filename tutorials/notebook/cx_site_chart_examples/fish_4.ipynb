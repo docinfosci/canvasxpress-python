{
 "cells": [
  {
   "cell_type": "markdown",
   "metadata": {
    "tags": []
   },
   "source": [
    "# Example: CanvasXpress fish Chart No. 4\n",
    "\n",
    "This example page demonstrates how to, using the Python package, create a chart that matches the CanvasXpress online example located at:\n",
    "\n",
    "https://www.canvasxpress.org/examples/fish-4.html\n",
    "\n",
    "This example is generated using the reproducible JSON obtained from the above page and the `canvasxpress.util.generator.generate_canvasxpress_code_from_json_file()` function.\n",
    "\n",
    "Everything required for the chart to render is included in the code below.  Simply run the code block."
   ]
  },
  {
   "cell_type": "code",
   "execution_count": null,
   "metadata": {},
   "outputs": [],
   "source": [
    "from canvasxpress.canvas import CanvasXpress 
from canvasxpress.js.collection import CXEvents 
from canvasxpress.render.jupyter import CXNoteBook 

cx = CanvasXpress(
    render_to="fish4",
    data={
        "y": {
            "vars": [
                "C1",
                "C2",
                "C3",
                "C4",
                "C5",
                "C6",
                "C7"
            ],
            "smps": [
                0,
                34,
                69,
                187,
                334,
                505,
                530
            ],
            "data": [
                [
                    99,
                    1,
                    3,
                    1,
                    3,
                    80,
                    0.1
                ],
                [
                    30,
                    0,
                    0,
                    0,
                    0,
                    0,
                    0
                ],
                [
                    2,
                    0.1,
                    2.5,
                    0.9,
                    0.9,
                    76,
                    0.005
                ],
                [
                    60,
                    0,
                    0,
                    0,
                    0,
                    0,
                    0
                ],
                [
                    0,
                    0,
                    0,
                    0,
                    0.1,
                    60,
                    0.001
                ],
                [
                    2,
                    0,
                    0,
                    0,
                    0,
                    0,
                    0
                ],
                [
                    1,
                    1,
                    1,
                    10,
                    20,
                    15,
                    0
                ]
            ]
        }
    },
    config={
        "backgroundType": "windowSolidGradient",
        "colorSpectrum": [
            "#ffe4c4",
            "#ffb90f",
            "#cd6600"
        ],
        "colors": [
            "#888888",
            "#EF0000",
            "#8FFF40",
            "#FF6000",
            "#50FFAF",
            "#FFCF00",
            "#0070FF"
        ],
        "fishAxis": [
            0,
            34,
            69,
            187,
            334,
            505,
            530,
            650,
            750
        ],
        "fishParents": [
            0,
            1,
            1,
            1,
            3,
            4,
            0
        ],
        "fishSeparateIndependentClones": True,
        "fishShape": "spline",
        "fishTimepoints": [
            0,
            34,
            69,
            187,
            334,
            505,
            530
        ],
        "gradientOrientation": "horizontal",
        "graphType": "Fish"
    },
    width=500,
    height=500,
    events=CXEvents(),
    after_render=[
        [
            "setDimensions",
            [
                613,
                413,
                True
            ]
        ]
    ],
    other_init_params={
        "version": 35,
        "events": False,
        "info": False,
        "afterRenderInit": False,
        "noValidate": True
    }
)

display = CXNoteBook(cx) 
display.render("fish_4") 
"
   ]
  }
 ],
 "metadata": {
  "kernelspec": {
   "display_name": "Python 3",
   "language": "python",
   "name": "python3"
  },
  "language_info": {
   "codemirror_mode": {
    "name": "ipython",
    "version": 3
   },
   "file_extension": ".py",
   "mimetype": "text/x-python",
   "name": "python",
   "nbconvert_exporter": "python",
   "pygments_lexer": "ipython3",
   "version": "3.8.5"
  }
 },
 "nbformat": 4,
 "nbformat_minor": 4
}
